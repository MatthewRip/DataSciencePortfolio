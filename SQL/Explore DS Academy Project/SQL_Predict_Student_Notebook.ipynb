{
 "cells": [
  {
   "cell_type": "markdown",
   "metadata": {
    "id": "kJ9OEzDBgwvw"
   },
   "source": [
    "# SQL 4 Data Science: Predict Project\n",
    "## Bhejane Online Trading Store\n",
    "\n",
    "### Student Starter Notebook\n",
    "\n",
    "© Explore Data Science Academy\n",
    "\n",
    "### Honour Code\n",
    "\n",
    "I {**YOUR NAME**, **YOUR SURNAME**}, confirm - by submitting this document - that the solutions in this notebook are a result of my own work and that I abide by the EDSA honour code (https://drive.google.com/file/d/1QDCjGZJ8-FmJE3bZdIQNwnJyQKPhHZBn/view?usp=sharing).\n",
    "\n",
    "Non-compliance with the honour code constitutes a material breach of contract."
   ]
  },
  {
   "cell_type": "markdown",
   "metadata": {
    "id": "p40FILKTgwvy"
   },
   "source": [
    "<a id='Context'></a>\n",
    "### 1. Context\n",
    "\n",
    "<div align=\"center\" style=\"width: 600px; font-size: 80%; text-align: center; margin: 0 auto\">\n",
    "<img src=\"https://raw.githubusercontent.com/Explore-AI/Pictures/master/Bhejane_large.jpg\"\n",
    "     alt=\"The Black Rhino\"\n",
    "     style=\"float: center; padding-bottom=0.5em\"\n",
    "     width=600px/>\n",
    "     Bhejane, or the Black Rhino. Image by <a href=\"https://commons.wikimedia.org/wiki/File:Black_Rhino_(Diceros_bicornis)_browsing_..._(46584052962).jpg\">Wikimedia Commons</a>\n",
    "</div>\n",
    "\n",
    "\n",
    "The Bhejane trading store is an online retailer specialising in Covid essesstial items. The store has recently be struggling with the management of its database-related inventory system. Luckily for them, you've been hired as a consultant to fix the problem. \n",
    "\n",
    "Its time to flex your Ninja SQL skills! \n",
    " \n",
    "**Your mission, should you choose to accept it:**\n",
    "\n",
    "You will receive a denormalised database consisting of two tables. Your task is to transform the database such that is in third normal form (3NF). To ensure that a consistent normalisation process is followed by each student, we have attached an Entity Relationship Diagram (ERD) which is a guideline on what tables need to be produced. Once you have normalised the databasse, you will be required to complete an MCQ test found under the 'Predict' tab of Athena.  "
   ]
  },
  {
   "cell_type": "markdown",
   "metadata": {
    "id": "4hrluJ8Fgwvz"
   },
   "source": [
    "<a id='Imports'></a>\n",
    "### 2. Imports\n",
    "Please use the below command to install sql_magic, this is the package that will assist you with SQL syntax hightlighting.\n",
    "* pip install sql_magic\n",
    "\n",
    "Remember to start each new cell with \" %%read_sql \""
   ]
  },
  {
   "cell_type": "code",
   "execution_count": 1,
   "metadata": {
    "id": "v_6LpuJDgwvz"
   },
   "outputs": [
    {
     "data": {
      "application/javascript": [
       "\n",
       "    require(['notebook/js/codecell'], function(codecell) {\n",
       "      // https://github.com/jupyter/notebook/issues/2453\n",
       "      codecell.CodeCell.options_default.highlight_modes['magic_text/x-sql'] = {'reg':[/^%read_sql/, /.*=\\s*%read_sql/,\n",
       "                                                                                      /^%%read_sql/]};\n",
       "      Jupyter.notebook.events.one('kernel_ready.Kernel', function(){\n",
       "          console.log('BBBBB');\n",
       "          Jupyter.notebook.get_cells().map(function(cell){\n",
       "              if (cell.cell_type == 'code'){ cell.auto_highlight(); } }) ;\n",
       "      });\n",
       "    });\n",
       "    "
      ]
     },
     "metadata": {},
     "output_type": "display_data"
    }
   ],
   "source": [
    "# DO NOT EDIT THIS CELL\n",
    "import sqlite3\n",
    "import csv\n",
    "from sqlalchemy import create_engine\n",
    "%load_ext sql_magic\n",
    "\n",
    "# Load SQLite database\n",
    "engine  = create_engine(\"sqlite:///bhejane.db\")\n",
    "%config SQL.conn_name ='engine'"
   ]
  },
  {
   "cell_type": "markdown",
   "metadata": {
    "id": "tI8p4seXgwv3"
   },
   "source": [
    "<a id='Data_description'></a>\n",
    "### 3. Data description\n",
    "\n",
    "The original database consist of 2 tables. \n",
    "* Product Table\n",
    "* Transaction Table"
   ]
  },
  {
   "cell_type": "code",
   "execution_count": 2,
   "metadata": {
    "id": "oTb59N4Dgwv4",
    "outputId": "694a9594-2141-47a1-ad6e-f85c2571c355"
   },
   "outputs": [
    {
     "data": {
      "text/html": [
       "<div>\n",
       "<style scoped>\n",
       "    .dataframe tbody tr th:only-of-type {\n",
       "        vertical-align: middle;\n",
       "    }\n",
       "\n",
       "    .dataframe tbody tr th {\n",
       "        vertical-align: top;\n",
       "    }\n",
       "\n",
       "    .dataframe thead th {\n",
       "        text-align: right;\n",
       "    }\n",
       "</style>\n",
       "<table border=\"1\" class=\"dataframe\">\n",
       "  <thead>\n",
       "    <tr style=\"text-align: right;\">\n",
       "      <th></th>\n",
       "      <th>Table Name</th>\n",
       "      <th>Column Name</th>\n",
       "      <th>Desciption</th>\n",
       "    </tr>\n",
       "  </thead>\n",
       "  <tbody>\n",
       "    <tr>\n",
       "      <th>0</th>\n",
       "      <td>Products</td>\n",
       "      <td>Width</td>\n",
       "      <td>Width of the product once assembled</td>\n",
       "    </tr>\n",
       "    <tr>\n",
       "      <th>1</th>\n",
       "      <td>Products</td>\n",
       "      <td>Length</td>\n",
       "      <td>Length of the product once assembled</td>\n",
       "    </tr>\n",
       "    <tr>\n",
       "      <th>2</th>\n",
       "      <td>Products</td>\n",
       "      <td>Height</td>\n",
       "      <td>Height of the product once assembled</td>\n",
       "    </tr>\n",
       "    <tr>\n",
       "      <th>3</th>\n",
       "      <td>Products</td>\n",
       "      <td>Barcode</td>\n",
       "      <td>The unique product identifier</td>\n",
       "    </tr>\n",
       "    <tr>\n",
       "      <th>4</th>\n",
       "      <td>Products</td>\n",
       "      <td>Quantity</td>\n",
       "      <td>Number of goods in stock</td>\n",
       "    </tr>\n",
       "    <tr>\n",
       "      <th>5</th>\n",
       "      <td>Products</td>\n",
       "      <td>Brand</td>\n",
       "      <td>Product brand name relating to product company</td>\n",
       "    </tr>\n",
       "    <tr>\n",
       "      <th>6</th>\n",
       "      <td>Products</td>\n",
       "      <td>NavigationPath</td>\n",
       "      <td>Navigation path to specific product</td>\n",
       "    </tr>\n",
       "    <tr>\n",
       "      <th>7</th>\n",
       "      <td>Products</td>\n",
       "      <td>Colour</td>\n",
       "      <td>Name default colour for the product</td>\n",
       "    </tr>\n",
       "    <tr>\n",
       "      <th>8</th>\n",
       "      <td>Products</td>\n",
       "      <td>StockCountry</td>\n",
       "      <td>Country where the stock was bought from</td>\n",
       "    </tr>\n",
       "    <tr>\n",
       "      <th>9</th>\n",
       "      <td>Products</td>\n",
       "      <td>ProductDescription</td>\n",
       "      <td>Descriptive product name</td>\n",
       "    </tr>\n",
       "    <tr>\n",
       "      <th>10</th>\n",
       "      <td>Products</td>\n",
       "      <td>PackType</td>\n",
       "      <td>The way in which the product is packaged</td>\n",
       "    </tr>\n",
       "    <tr>\n",
       "      <th>11</th>\n",
       "      <td>Products</td>\n",
       "      <td>Volume_litre</td>\n",
       "      <td>The quantity of liquid based products</td>\n",
       "    </tr>\n",
       "    <tr>\n",
       "      <th>12</th>\n",
       "      <td>Products</td>\n",
       "      <td>Warranty</td>\n",
       "      <td>Product warranty type</td>\n",
       "    </tr>\n",
       "    <tr>\n",
       "      <th>13</th>\n",
       "      <td>Products</td>\n",
       "      <td>Weight_kg</td>\n",
       "      <td>Weight of the product</td>\n",
       "    </tr>\n",
       "    <tr>\n",
       "      <th>14</th>\n",
       "      <td>Products</td>\n",
       "      <td>ItemDescription</td>\n",
       "      <td>Description of contents of the package</td>\n",
       "    </tr>\n",
       "    <tr>\n",
       "      <th>15</th>\n",
       "      <td>Products</td>\n",
       "      <td>Price</td>\n",
       "      <td>The cost of the product in Rands</td>\n",
       "    </tr>\n",
       "    <tr>\n",
       "      <th>16</th>\n",
       "      <td>Transactions</td>\n",
       "      <td>CartID</td>\n",
       "      <td>Identifies an individual basket from a user pu...</td>\n",
       "    </tr>\n",
       "    <tr>\n",
       "      <th>17</th>\n",
       "      <td>Transactions</td>\n",
       "      <td>Barcode</td>\n",
       "      <td>Barcode for item that user purchased</td>\n",
       "    </tr>\n",
       "    <tr>\n",
       "      <th>18</th>\n",
       "      <td>Transactions</td>\n",
       "      <td>Total</td>\n",
       "      <td>Total value of a transaction</td>\n",
       "    </tr>\n",
       "    <tr>\n",
       "      <th>19</th>\n",
       "      <td>Transactions</td>\n",
       "      <td>UserName</td>\n",
       "      <td>Name of customer purchasing stock</td>\n",
       "    </tr>\n",
       "    <tr>\n",
       "      <th>20</th>\n",
       "      <td>Transactions</td>\n",
       "      <td>InvoiceDate</td>\n",
       "      <td>Date on which the product was bought</td>\n",
       "    </tr>\n",
       "  </tbody>\n",
       "</table>\n",
       "</div>"
      ],
      "text/plain": [
       "      Table Name         Column Name  \\\n",
       "0       Products               Width   \n",
       "1       Products              Length   \n",
       "2       Products              Height   \n",
       "3       Products             Barcode   \n",
       "4       Products            Quantity   \n",
       "5       Products               Brand   \n",
       "6       Products      NavigationPath   \n",
       "7       Products              Colour   \n",
       "8       Products        StockCountry   \n",
       "9       Products  ProductDescription   \n",
       "10      Products            PackType   \n",
       "11      Products        Volume_litre   \n",
       "12      Products            Warranty   \n",
       "13      Products           Weight_kg   \n",
       "14      Products     ItemDescription   \n",
       "15      Products               Price   \n",
       "16  Transactions              CartID   \n",
       "17  Transactions             Barcode   \n",
       "18  Transactions               Total   \n",
       "19  Transactions            UserName   \n",
       "20  Transactions         InvoiceDate   \n",
       "\n",
       "                                          Desciption   \n",
       "0                 Width of the product once assembled  \n",
       "1                Length of the product once assembled  \n",
       "2                Height of the product once assembled  \n",
       "3                      The unique product identifier   \n",
       "4                            Number of goods in stock  \n",
       "5      Product brand name relating to product company  \n",
       "6                 Navigation path to specific product  \n",
       "7                 Name default colour for the product  \n",
       "8             Country where the stock was bought from  \n",
       "9                            Descriptive product name  \n",
       "10           The way in which the product is packaged  \n",
       "11              The quantity of liquid based products  \n",
       "12                              Product warranty type  \n",
       "13                              Weight of the product  \n",
       "14            Description of contents of the package   \n",
       "15                   The cost of the product in Rands  \n",
       "16  Identifies an individual basket from a user pu...  \n",
       "17               Barcode for item that user purchased  \n",
       "18                      Total value of a transaction   \n",
       "19                  Name of customer purchasing stock  \n",
       "20               Date on which the product was bought  "
      ]
     },
     "execution_count": 2,
     "metadata": {},
     "output_type": "execute_result"
    }
   ],
   "source": [
    "# DO NOT EDIT THIS CELL\n",
    "import pandas as pd\n",
    "data_description = pd.read_excel('Data Description.xlsx')\n",
    "data_description"
   ]
  },
  {
   "cell_type": "markdown",
   "metadata": {
    "id": "bZd01SEagwv7"
   },
   "source": [
    "<a id='Setting_up'></a>\n",
    "### 4. Setting up the database"
   ]
  },
  {
   "cell_type": "code",
   "execution_count": 3,
   "metadata": {},
   "outputs": [],
   "source": [
    "#DO NOT EDIT THIS CELL\n",
    "conn = sqlite3.connect('bhejane.db')\n",
    "cursor = conn.cursor()"
   ]
  },
  {
   "cell_type": "markdown",
   "metadata": {
    "id": "G-WGBpmDgwv-"
   },
   "source": [
    "#### Creating both Products and Transaction Tables"
   ]
  },
  {
   "cell_type": "code",
   "execution_count": 4,
   "metadata": {
    "id": "qp-DQik7gwv-",
    "outputId": "16d1c6b9-fd74-40b1-c8a9-11807656b122"
   },
   "outputs": [
    {
     "name": "stdout",
     "output_type": "stream",
     "text": [
      "Query started at 02:48:32 PM South Africa Standard Time; Query executed in 0.00 m"
     ]
    },
    {
     "data": {
      "text/plain": [
       "<sql_magic.exceptions.EmptyResult at 0x1b3fd141f10>"
      ]
     },
     "execution_count": 4,
     "metadata": {},
     "output_type": "execute_result"
    }
   ],
   "source": [
    "%%read_sql\n",
    "--DO NOT EDIT THIS CELL\n",
    "DROP TABLE IF EXISTS \"Products\";\n",
    "DROP TABLE IF EXISTS \"Transactions\";\n",
    "\n",
    "CREATE TABLE \"Products\" (\n",
    "    \"Width\"   REAL,\n",
    "    \"Length\"  REAL,\n",
    "    \"Height\"  REAL,\n",
    "    \"Barcode\" VARCHAR(150) NOT NULL,\n",
    "    \"Quantity\" INTEGER NOT NULL,\n",
    "    \"Brand\" VARCHAR(150), \n",
    "    \"NavigationPath\" VARCHAR(150),\n",
    "    \"Colour\" VARCHAR(150),\n",
    "    \"StockCountry\" VARCHAR(150),\n",
    "    \"ProductDescription\" VARCHAR(150) NOT NULL,\n",
    "    \"PackType\" VARCHAR(150), \n",
    "    \"Volume_litre\" REAL, \n",
    "    \"Warranty\" VARCHAR(150), \n",
    "    \"Weight_kg\" REAL,\n",
    "    \"ItemDescription\" VARCHAR(150), \n",
    "    \"Price\" REAL\n",
    ");\n",
    "\n",
    "\n",
    "CREATE TABLE \"Transactions\" (\n",
    "    \"CartID\" INTEGER,\n",
    "    \"Barcode\" VARCHAR(150), \n",
    "    \"Total\" REAL,\n",
    "    \"UserName\" VARCHAR(150), \n",
    "    \"InvoiceDate\" DATETIME\n",
    ");"
   ]
  },
  {
   "cell_type": "markdown",
   "metadata": {
    "id": "m3W5ah4PgwwG"
   },
   "source": [
    "#### Load Data into Product and Transaction tables"
   ]
  },
  {
   "cell_type": "code",
   "execution_count": 5,
   "metadata": {
    "id": "VW_oEkizgwwH"
   },
   "outputs": [],
   "source": [
    "# DO NOT EDIT CELL\n",
    "# Load data into Product table\n",
    "with open('bhejane_covid_essentials_Products.csv','r') as fin: # `with` statement available in 2.5+\n",
    "    # csv.DictReader uses first line in file for column headings by default\n",
    "    dr = csv.DictReader(fin) # comma is default delimiter\n",
    "    to_db = [(i['Width'],i['Length'],i['Height'], i['Barcode'], i['Quantity'], i['Brand'], i['NavigationPath'], i['Colour'], i['StockCountry'], i['ProductDescription'],i['PackType'],i['Volume_litre'],i['Warranty'],i['Weight_kg'],i[\"ItemDescription\"],i['Price']) for i in dr]\n",
    "\n",
    "cursor.executemany(\"INSERT INTO Products VALUES (?, ?, ?, ?, ?, ?, ?, ?, ?, ?, ?, ?, ?, ?, ?, ?);\", to_db)\n",
    "conn.commit()\n",
    "\n",
    "with open('bhejane_covid_essentials_Transactions.csv','r') as fin: # `with` statement available in 2.5+\n",
    "    # csv.DictReader uses first line in file for column headings by default\n",
    "    dr = csv.DictReader(fin) # comma is default delimiter\n",
    "    to_db = [(i['CartID'],i['Barcode'], i['Total'], i['UserName'], i['InvoiceDate']) for i in dr]\n",
    "\n",
    "cursor.executemany(\"INSERT INTO Transactions VALUES (?, ?, ?, ?, ?);\", to_db)\n",
    "conn.commit()"
   ]
  },
  {
   "cell_type": "markdown",
   "metadata": {
    "id": "uo9PWlZtgwwO"
   },
   "source": [
    "<a id='ERD'></a>\n",
    "### 5. Denormalized Database Tables\n",
    "\n",
    "\n",
    "<br>\n",
    "\n",
    "<img src=\"https://raw.githubusercontent.com/Explore-AI/Pictures/master/SQL4DS/SQL_Predict/Denormalized_Tables.png\" alt=\"Denormalized Tables\" border=\"0\">"
   ]
  },
  {
   "cell_type": "markdown",
   "metadata": {},
   "source": [
    "#### 5.1 Explore the Denormalized Tables\n",
    "Familiarize yourself with the data given in the two tables by writing your own SQL queries to explore properties of the dataset.i.e Look for data inconsistencies, anormalies, redundancies etc to guide your normalization process. \n",
    "\n",
    "This section will not be graded - think of it as your own scratch pad.\n",
    "\n"
   ]
  },
  {
   "cell_type": "code",
   "execution_count": null,
   "metadata": {
    "scrolled": true
   },
   "outputs": [],
   "source": []
  },
  {
   "cell_type": "code",
   "execution_count": 6,
   "metadata": {},
   "outputs": [
    {
     "name": "stdout",
     "output_type": "stream",
     "text": [
      "Query started at 02:48:32 PM South Africa Standard Time; Query executed in 0.00 m"
     ]
    },
    {
     "data": {
      "text/plain": [
       "<sql_magic.exceptions.EmptyResult at 0x1b3fd13c910>"
      ]
     },
     "execution_count": 6,
     "metadata": {},
     "output_type": "execute_result"
    }
   ],
   "source": [
    "%%read_sql\n",
    "\n",
    "DROP TABLE IF EXISTS \"Products_1NF\";\n",
    "DROP TABLE IF EXISTS \"Pransactions_1NF\";\n",
    "\n",
    "DROP TABLE IF EXISTS \"Products_2NF\";\n",
    "DROP TABLE IF EXISTS \"Transactions_2NF\";\n",
    "DROP TABLE IF EXISTS \"Navigation_2NF\";\n",
    "DROP TABLE IF EXISTS \"PackageContents_2NF\";\n",
    "DROP TABLE IF EXISTS \"Colours_2NF\";\n",
    "\n",
    "DROP TABLE IF EXISTS \"Colours_3NF\";\n",
    "DROP TABLE IF EXISTS \"Products_3NF\";\n",
    "DROP TABLE IF EXISTS \"Transactions_3NF\";\n",
    "DROP TABLE IF EXISTS \"Navigation_3NF\";\n",
    "DROP TABLE IF EXISTS \"PackageContents_3NF\";\n",
    "DROP TABLE IF EXISTS \"Users_3NF\";\n",
    "DROP TABLE IF EXISTS \"Brands_3NF\";\n",
    "DROP TABLE IF EXISTS \"Locations_3NF\";"
   ]
  },
  {
   "cell_type": "code",
   "execution_count": 7,
   "metadata": {},
   "outputs": [
    {
     "name": "stdout",
     "output_type": "stream",
     "text": [
      "Query started at 02:48:32 PM South Africa Standard Time; Query executed in 0.00 m"
     ]
    },
    {
     "data": {
      "text/html": [
       "<div>\n",
       "<style scoped>\n",
       "    .dataframe tbody tr th:only-of-type {\n",
       "        vertical-align: middle;\n",
       "    }\n",
       "\n",
       "    .dataframe tbody tr th {\n",
       "        vertical-align: top;\n",
       "    }\n",
       "\n",
       "    .dataframe thead th {\n",
       "        text-align: right;\n",
       "    }\n",
       "</style>\n",
       "<table border=\"1\" class=\"dataframe\">\n",
       "  <thead>\n",
       "    <tr style=\"text-align: right;\">\n",
       "      <th></th>\n",
       "      <th>type</th>\n",
       "      <th>name</th>\n",
       "      <th>tbl_name</th>\n",
       "      <th>rootpage</th>\n",
       "      <th>sql</th>\n",
       "    </tr>\n",
       "  </thead>\n",
       "  <tbody>\n",
       "    <tr>\n",
       "      <th>0</th>\n",
       "      <td>table</td>\n",
       "      <td>sqlite_sequence</td>\n",
       "      <td>sqlite_sequence</td>\n",
       "      <td>5</td>\n",
       "      <td>CREATE TABLE sqlite_sequence(name,seq)</td>\n",
       "    </tr>\n",
       "    <tr>\n",
       "      <th>1</th>\n",
       "      <td>table</td>\n",
       "      <td>Products</td>\n",
       "      <td>Products</td>\n",
       "      <td>7</td>\n",
       "      <td>CREATE TABLE \"Products\" (\\n    \"Width\"   REAL,...</td>\n",
       "    </tr>\n",
       "    <tr>\n",
       "      <th>2</th>\n",
       "      <td>table</td>\n",
       "      <td>Transactions</td>\n",
       "      <td>Transactions</td>\n",
       "      <td>8</td>\n",
       "      <td>CREATE TABLE \"Transactions\" (\\n    \"CartID\" IN...</td>\n",
       "    </tr>\n",
       "  </tbody>\n",
       "</table>\n",
       "</div>"
      ],
      "text/plain": [
       "    type             name         tbl_name  rootpage  \\\n",
       "0  table  sqlite_sequence  sqlite_sequence         5   \n",
       "1  table         Products         Products         7   \n",
       "2  table     Transactions     Transactions         8   \n",
       "\n",
       "                                                 sql  \n",
       "0             CREATE TABLE sqlite_sequence(name,seq)  \n",
       "1  CREATE TABLE \"Products\" (\\n    \"Width\"   REAL,...  \n",
       "2  CREATE TABLE \"Transactions\" (\\n    \"CartID\" IN...  "
      ]
     },
     "execution_count": 7,
     "metadata": {},
     "output_type": "execute_result"
    }
   ],
   "source": [
    "%%read_sql\n",
    "-- #Use this section to explore the database by writing your own queries\n",
    "SELECT * FROM sqlite_master"
   ]
  },
  {
   "cell_type": "code",
   "execution_count": 8,
   "metadata": {
    "scrolled": false
   },
   "outputs": [
    {
     "name": "stderr",
     "output_type": "stream",
     "text": [
      "Warning: using box for unknown shape plain\r\n"
     ]
    },
    {
     "data": {
      "image/svg+xml": [
       "<?xml version=\"1.0\" encoding=\"UTF-8\" standalone=\"no\"?>\r\n",
       "<!DOCTYPE svg PUBLIC \"-//W3C//DTD SVG 1.1//EN\"\r\n",
       " \"http://www.w3.org/Graphics/SVG/1.1/DTD/svg11.dtd\">\r\n",
       "<!-- Generated by graphviz version 2.38.0 (20140413.2041)\r\n",
       " -->\r\n",
       "<!-- Title: %3 Pages: 1 -->\r\n",
       "<svg width=\"272pt\" height=\"728pt\"\r\n",
       " viewBox=\"0.00 0.00 272.00 728.00\" xmlns=\"http://www.w3.org/2000/svg\" xmlns:xlink=\"http://www.w3.org/1999/xlink\">\r\n",
       "<g id=\"graph0\" class=\"graph\" transform=\"scale(1 1) rotate(0) translate(4 724)\">\r\n",
       "<title>%3</title>\r\n",
       "<polygon fill=\"white\" stroke=\"none\" points=\"-4,4 -4,-724 268,-724 268,4 -4,4\"/>\r\n",
       "<!-- Products -->\r\n",
       "<g id=\"node1\" class=\"node\"><title>Products</title>\r\n",
       "<polygon fill=\"none\" stroke=\"black\" points=\"264,-436 0,-436 0,-0 264,-0 264,-436\"/>\r\n",
       "<polygon fill=\"none\" stroke=\"black\" points=\"8,-404 8,-432 256,-432 256,-404 8,-404\"/>\r\n",
       "<text text-anchor=\"start\" x=\"97\" y=\"-415.2\" font-family=\"Helvetica,sans-Serif\" font-weight=\"bold\" font-size=\"16.00\">Products</text>\r\n",
       "<polygon fill=\"none\" stroke=\"black\" points=\"8,-379 8,-404 256,-404 256,-379 8,-379\"/>\r\n",
       "<text text-anchor=\"start\" x=\"13\" y=\"-388.8\" font-family=\"Helvetica,sans-Serif\" font-size=\"14.00\">Width</text>\r\n",
       "<text text-anchor=\"start\" x=\"50\" y=\"-388.8\" font-family=\"Helvetica,sans-Serif\" font-size=\"14.00\"> [REAL]</text>\r\n",
       "<polygon fill=\"none\" stroke=\"black\" points=\"8,-354 8,-379 256,-379 256,-354 8,-354\"/>\r\n",
       "<text text-anchor=\"start\" x=\"13\" y=\"-363.8\" font-family=\"Helvetica,sans-Serif\" font-size=\"14.00\">Length</text>\r\n",
       "<text text-anchor=\"start\" x=\"57\" y=\"-363.8\" font-family=\"Helvetica,sans-Serif\" font-size=\"14.00\"> [REAL]</text>\r\n",
       "<polygon fill=\"none\" stroke=\"black\" points=\"8,-329 8,-354 256,-354 256,-329 8,-329\"/>\r\n",
       "<text text-anchor=\"start\" x=\"13\" y=\"-338.8\" font-family=\"Helvetica,sans-Serif\" font-size=\"14.00\">Height</text>\r\n",
       "<text text-anchor=\"start\" x=\"54\" y=\"-338.8\" font-family=\"Helvetica,sans-Serif\" font-size=\"14.00\"> [REAL]</text>\r\n",
       "<polygon fill=\"none\" stroke=\"black\" points=\"8,-304 8,-329 256,-329 256,-304 8,-304\"/>\r\n",
       "<text text-anchor=\"start\" x=\"13\" y=\"-313.8\" font-family=\"Helvetica,sans-Serif\" font-size=\"14.00\">Barcode</text>\r\n",
       "<text text-anchor=\"start\" x=\"68\" y=\"-313.8\" font-family=\"Helvetica,sans-Serif\" font-size=\"14.00\"> [VARCHAR(150)]</text>\r\n",
       "<polygon fill=\"none\" stroke=\"black\" points=\"8,-279 8,-304 256,-304 256,-279 8,-279\"/>\r\n",
       "<text text-anchor=\"start\" x=\"13\" y=\"-288.8\" font-family=\"Helvetica,sans-Serif\" font-size=\"14.00\">Quantity</text>\r\n",
       "<text text-anchor=\"start\" x=\"65\" y=\"-288.8\" font-family=\"Helvetica,sans-Serif\" font-size=\"14.00\"> [INTEGER]</text>\r\n",
       "<polygon fill=\"none\" stroke=\"black\" points=\"8,-254 8,-279 256,-279 256,-254 8,-254\"/>\r\n",
       "<text text-anchor=\"start\" x=\"13\" y=\"-263.8\" font-family=\"Helvetica,sans-Serif\" font-size=\"14.00\">Brand</text>\r\n",
       "<text text-anchor=\"start\" x=\"51\" y=\"-263.8\" font-family=\"Helvetica,sans-Serif\" font-size=\"14.00\"> [VARCHAR(150)]</text>\r\n",
       "<polygon fill=\"none\" stroke=\"black\" points=\"8,-229 8,-254 256,-254 256,-229 8,-229\"/>\r\n",
       "<text text-anchor=\"start\" x=\"13\" y=\"-238.8\" font-family=\"Helvetica,sans-Serif\" font-size=\"14.00\">NavigationPath</text>\r\n",
       "<text text-anchor=\"start\" x=\"107\" y=\"-238.8\" font-family=\"Helvetica,sans-Serif\" font-size=\"14.00\"> [VARCHAR(150)]</text>\r\n",
       "<polygon fill=\"none\" stroke=\"black\" points=\"8,-204 8,-229 256,-229 256,-204 8,-204\"/>\r\n",
       "<text text-anchor=\"start\" x=\"13\" y=\"-213.8\" font-family=\"Helvetica,sans-Serif\" font-size=\"14.00\">Colour</text>\r\n",
       "<text text-anchor=\"start\" x=\"56\" y=\"-213.8\" font-family=\"Helvetica,sans-Serif\" font-size=\"14.00\"> [VARCHAR(150)]</text>\r\n",
       "<polygon fill=\"none\" stroke=\"black\" points=\"8,-179 8,-204 256,-204 256,-179 8,-179\"/>\r\n",
       "<text text-anchor=\"start\" x=\"13\" y=\"-188.8\" font-family=\"Helvetica,sans-Serif\" font-size=\"14.00\">StockCountry</text>\r\n",
       "<text text-anchor=\"start\" x=\"98\" y=\"-188.8\" font-family=\"Helvetica,sans-Serif\" font-size=\"14.00\"> [VARCHAR(150)]</text>\r\n",
       "<polygon fill=\"none\" stroke=\"black\" points=\"8,-154 8,-179 256,-179 256,-154 8,-154\"/>\r\n",
       "<text text-anchor=\"start\" x=\"13\" y=\"-163.8\" font-family=\"Helvetica,sans-Serif\" font-size=\"14.00\">ProductDescription</text>\r\n",
       "<text text-anchor=\"start\" x=\"135\" y=\"-163.8\" font-family=\"Helvetica,sans-Serif\" font-size=\"14.00\"> [VARCHAR(150)]</text>\r\n",
       "<polygon fill=\"none\" stroke=\"black\" points=\"8,-129 8,-154 256,-154 256,-129 8,-129\"/>\r\n",
       "<text text-anchor=\"start\" x=\"13\" y=\"-138.8\" font-family=\"Helvetica,sans-Serif\" font-size=\"14.00\">PackType</text>\r\n",
       "<text text-anchor=\"start\" x=\"77\" y=\"-138.8\" font-family=\"Helvetica,sans-Serif\" font-size=\"14.00\"> [VARCHAR(150)]</text>\r\n",
       "<polygon fill=\"none\" stroke=\"black\" points=\"8,-104 8,-129 256,-129 256,-104 8,-104\"/>\r\n",
       "<text text-anchor=\"start\" x=\"13\" y=\"-113.8\" font-family=\"Helvetica,sans-Serif\" font-size=\"14.00\">Volume_litre</text>\r\n",
       "<text text-anchor=\"start\" x=\"93\" y=\"-113.8\" font-family=\"Helvetica,sans-Serif\" font-size=\"14.00\"> [REAL]</text>\r\n",
       "<polygon fill=\"none\" stroke=\"black\" points=\"8,-79 8,-104 256,-104 256,-79 8,-79\"/>\r\n",
       "<text text-anchor=\"start\" x=\"13\" y=\"-88.8\" font-family=\"Helvetica,sans-Serif\" font-size=\"14.00\">Warranty</text>\r\n",
       "<text text-anchor=\"start\" x=\"70\" y=\"-88.8\" font-family=\"Helvetica,sans-Serif\" font-size=\"14.00\"> [VARCHAR(150)]</text>\r\n",
       "<polygon fill=\"none\" stroke=\"black\" points=\"8,-54 8,-79 256,-79 256,-54 8,-54\"/>\r\n",
       "<text text-anchor=\"start\" x=\"13\" y=\"-63.8\" font-family=\"Helvetica,sans-Serif\" font-size=\"14.00\">Weight_kg</text>\r\n",
       "<text text-anchor=\"start\" x=\"82\" y=\"-63.8\" font-family=\"Helvetica,sans-Serif\" font-size=\"14.00\"> [REAL]</text>\r\n",
       "<polygon fill=\"none\" stroke=\"black\" points=\"8,-29 8,-54 256,-54 256,-29 8,-29\"/>\r\n",
       "<text text-anchor=\"start\" x=\"13\" y=\"-38.8\" font-family=\"Helvetica,sans-Serif\" font-size=\"14.00\">ItemDescription</text>\r\n",
       "<text text-anchor=\"start\" x=\"114\" y=\"-38.8\" font-family=\"Helvetica,sans-Serif\" font-size=\"14.00\"> [VARCHAR(150)]</text>\r\n",
       "<polygon fill=\"none\" stroke=\"black\" points=\"8,-4 8,-29 256,-29 256,-4 8,-4\"/>\r\n",
       "<text text-anchor=\"start\" x=\"13\" y=\"-13.8\" font-family=\"Helvetica,sans-Serif\" font-size=\"14.00\">Price</text>\r\n",
       "<text text-anchor=\"start\" x=\"47\" y=\"-13.8\" font-family=\"Helvetica,sans-Serif\" font-size=\"14.00\"> [REAL]</text>\r\n",
       "</g>\r\n",
       "<!-- Transactions -->\r\n",
       "<g id=\"node2\" class=\"node\"><title>Transactions</title>\r\n",
       "<polygon fill=\"none\" stroke=\"black\" points=\"237,-615.5 27,-615.5 27,-454.5 237,-454.5 237,-615.5\"/>\r\n",
       "<polygon fill=\"none\" stroke=\"black\" points=\"35,-583 35,-611 229,-611 229,-583 35,-583\"/>\r\n",
       "<text text-anchor=\"start\" x=\"82\" y=\"-594.2\" font-family=\"Helvetica,sans-Serif\" font-weight=\"bold\" font-size=\"16.00\">Transactions</text>\r\n",
       "<polygon fill=\"none\" stroke=\"black\" points=\"35,-558 35,-583 229,-583 229,-558 35,-558\"/>\r\n",
       "<text text-anchor=\"start\" x=\"40\" y=\"-567.8\" font-family=\"Helvetica,sans-Serif\" font-size=\"14.00\">CartID</text>\r\n",
       "<text text-anchor=\"start\" x=\"82\" y=\"-567.8\" font-family=\"Helvetica,sans-Serif\" font-size=\"14.00\"> [INTEGER]</text>\r\n",
       "<polygon fill=\"none\" stroke=\"black\" points=\"35,-533 35,-558 229,-558 229,-533 35,-533\"/>\r\n",
       "<text text-anchor=\"start\" x=\"40\" y=\"-542.8\" font-family=\"Helvetica,sans-Serif\" font-size=\"14.00\">Barcode</text>\r\n",
       "<text text-anchor=\"start\" x=\"95\" y=\"-542.8\" font-family=\"Helvetica,sans-Serif\" font-size=\"14.00\"> [VARCHAR(150)]</text>\r\n",
       "<polygon fill=\"none\" stroke=\"black\" points=\"35,-508 35,-533 229,-533 229,-508 35,-508\"/>\r\n",
       "<text text-anchor=\"start\" x=\"40\" y=\"-517.8\" font-family=\"Helvetica,sans-Serif\" font-size=\"14.00\">Total</text>\r\n",
       "<text text-anchor=\"start\" x=\"72\" y=\"-517.8\" font-family=\"Helvetica,sans-Serif\" font-size=\"14.00\"> [REAL]</text>\r\n",
       "<polygon fill=\"none\" stroke=\"black\" points=\"35,-483 35,-508 229,-508 229,-483 35,-483\"/>\r\n",
       "<text text-anchor=\"start\" x=\"40\" y=\"-492.8\" font-family=\"Helvetica,sans-Serif\" font-size=\"14.00\">UserName</text>\r\n",
       "<text text-anchor=\"start\" x=\"108\" y=\"-492.8\" font-family=\"Helvetica,sans-Serif\" font-size=\"14.00\"> [VARCHAR(150)]</text>\r\n",
       "<polygon fill=\"none\" stroke=\"black\" points=\"35,-458 35,-483 229,-483 229,-458 35,-458\"/>\r\n",
       "<text text-anchor=\"start\" x=\"40\" y=\"-467.8\" font-family=\"Helvetica,sans-Serif\" font-size=\"14.00\">InvoiceDate</text>\r\n",
       "<text text-anchor=\"start\" x=\"116\" y=\"-467.8\" font-family=\"Helvetica,sans-Serif\" font-size=\"14.00\"> [DATETIME]</text>\r\n",
       "</g>\r\n",
       "<!-- sqlite_sequence -->\r\n",
       "<g id=\"node3\" class=\"node\"><title>sqlite_sequence</title>\r\n",
       "<polygon fill=\"none\" stroke=\"black\" points=\"207,-720 57,-720 57,-634 207,-634 207,-720\"/>\r\n",
       "<polygon fill=\"none\" stroke=\"black\" points=\"65,-688 65,-716 199,-716 199,-688 65,-688\"/>\r\n",
       "<text text-anchor=\"start\" x=\"70\" y=\"-699.2\" font-family=\"Helvetica,sans-Serif\" font-weight=\"bold\" font-size=\"16.00\">sqlite_sequence</text>\r\n",
       "<polygon fill=\"none\" stroke=\"black\" points=\"65,-663 65,-688 199,-688 199,-663 65,-663\"/>\r\n",
       "<text text-anchor=\"start\" x=\"70\" y=\"-672.8\" font-family=\"Helvetica,sans-Serif\" font-size=\"14.00\">name</text>\r\n",
       "<text text-anchor=\"start\" x=\"106\" y=\"-672.8\" font-family=\"Helvetica,sans-Serif\" font-size=\"14.00\"> [Null]</text>\r\n",
       "<polygon fill=\"none\" stroke=\"black\" points=\"65,-638 65,-663 199,-663 199,-638 65,-638\"/>\r\n",
       "<text text-anchor=\"start\" x=\"70\" y=\"-647.8\" font-family=\"Helvetica,sans-Serif\" font-size=\"14.00\">seq</text>\r\n",
       "<text text-anchor=\"start\" x=\"95\" y=\"-647.8\" font-family=\"Helvetica,sans-Serif\" font-size=\"14.00\"> [Null]</text>\r\n",
       "</g>\r\n",
       "</g>\r\n",
       "</svg>\r\n"
      ],
      "text/plain": [
       "<graphviz.files.Source at 0x1b3fd2d68e0>"
      ]
     },
     "execution_count": 8,
     "metadata": {},
     "output_type": "execute_result"
    }
   ],
   "source": [
    "from eralchemy import render_er\n",
    "\n",
    "render_er(\"sqlite:///bhejane.db\", 'erd.png')"
   ]
  },
  {
   "cell_type": "markdown",
   "metadata": {},
   "source": [
    "### 6. Normalize the given Database tables to the 1st Normal Form (1NF)\n",
    "\n",
    "Given the below below target ERD create new tables such the the database conforms to the 1st Normal Form\n",
    "\n",
    "<img src=\"https://raw.githubusercontent.com/Explore-AI/Pictures/master/SQL4DS/SQL_Predict/1NF.png\" alt=\"1st Normal Form ERD\" border=\"0\">\n",
    "\n",
    "It is suggested that you create all your tables before attempting to populate them with data, this will help reduce errors that might creep up due to logical dependencies."
   ]
  },
  {
   "cell_type": "markdown",
   "metadata": {},
   "source": [
    "#### 6.1 Create the tables required for the 1st Normal Form\n",
    "Use the above ERD sketch to create the required tables. Please label your tables as they appear in the ERD sketch"
   ]
  },
  {
   "cell_type": "code",
   "execution_count": 9,
   "metadata": {},
   "outputs": [
    {
     "name": "stdout",
     "output_type": "stream",
     "text": [
      "Query started at 02:48:33 PM South Africa Standard Time; Query executed in 0.00 m"
     ]
    },
    {
     "data": {
      "text/plain": [
       "<sql_magic.exceptions.EmptyResult at 0x1b3fd4e65e0>"
      ]
     },
     "execution_count": 9,
     "metadata": {},
     "output_type": "execute_result"
    }
   ],
   "source": [
    "%%read_sql\n",
    "--#Create tables required for 1NF\n",
    "DROP TABLE IF EXISTS \"Transactions_1NF\";\n",
    "\n",
    "CREATE TABLE Transactions_1NF(\n",
    "    CartID INTEGER NOT NULL,\n",
    "    Barcode VARCHAR(150) NOT NULL,\n",
    "    UserName VARCHAR(150) NOT NULL,\n",
    "    InvoiceDate DATETIME NOT NULL,\n",
    "    Total REAL NOT NULL,\n",
    "    PRIMARY KEY (CartID, Barcode)\n",
    ");\n",
    "\n",
    "DROP TABLE IF EXISTS \"Products_1NF\";\n",
    "\n",
    "CREATE TABLE Products_1NF(\n",
    "    Barcode VARCHAR(150) NOT NULL,\n",
    "    NavigationPath VARCHAR NOT NULL,\n",
    "    ItemDescription VARCHAR(150) NOT NULL,\n",
    "    ProductDescription VARCHAR(150) NOT NULL,\n",
    "    Brand VARCHAR(150),\n",
    "    Price REAL NOT NULL,\n",
    "    Quantity INTEGER NOT NULL,\n",
    "    PackType VARCHAR(150),\n",
    "    Warranty VARCHAR(150),\n",
    "    StockCountry VARCHAR(150),\n",
    "    Colour VARCHAR(150),\n",
    "    Weight_kg REAL,\n",
    "    Volume_litre REAL,\n",
    "    Length REAL,\n",
    "    Width REAL,\n",
    "    Height REAL,\n",
    "    PRIMARY KEY (Barcode,NavigationPath,ItemDescription)\n",
    ");"
   ]
  },
  {
   "cell_type": "markdown",
   "metadata": {},
   "source": [
    "#### 6.2 Populate the tables you have create in the above section.\n",
    "\n",
    "Populate the tables such that the database conforms to the 1st Normal Form"
   ]
  },
  {
   "cell_type": "code",
   "execution_count": 10,
   "metadata": {},
   "outputs": [
    {
     "name": "stdout",
     "output_type": "stream",
     "text": [
      "Query started at 02:48:33 PM South Africa Standard Time; Query executed in 0.00 m"
     ]
    },
    {
     "data": {
      "text/plain": [
       "<sql_magic.exceptions.EmptyResult at 0x1b3fd4e6880>"
      ]
     },
     "execution_count": 10,
     "metadata": {},
     "output_type": "execute_result"
    }
   ],
   "source": [
    "%%read_sql\n",
    "--#Populate the 1NF tables\n",
    "\n",
    "--Transactions_1NF\n",
    "DELETE FROM Transactions_1NF;\n",
    "INSERT INTO Transactions_1NF(CartID,Barcode,UserName,InvoiceDate,Total)\n",
    "SELECT\n",
    "    CartID,\n",
    "    Barcode,\n",
    "    UserName,\n",
    "    InvoiceDate,\n",
    "    Total\n",
    "FROM\n",
    "    Transactions\n",
    "ORDER BY CartID;\n",
    "\n",
    "--Products_1NF\n",
    "DELETE FROM Products_1NF;\n",
    "INSERT INTO Products_1NF(Barcode,\n",
    "                         NavigationPath,\n",
    "                         ItemDescription,\n",
    "                         ProductDescription,\n",
    "                         Brand,\n",
    "                         Price,\n",
    "                         Quantity,\n",
    "                         PackType,\n",
    "                         Warranty,\n",
    "                         StockCountry,\n",
    "                         Colour,\n",
    "                         Weight_kg,\n",
    "                         Volume_litre,\n",
    "                         Length,\n",
    "                         Width,\n",
    "                         Height)\n",
    "SELECT\n",
    "    Barcode,\n",
    "    NavigationPath,\n",
    "    ItemDescription,\n",
    "    ProductDescription,\n",
    "    Brand,\n",
    "    Price,\n",
    "    Quantity,\n",
    "    PackType,\n",
    "    Warranty,\n",
    "    StockCountry,\n",
    "    Colour,\n",
    "    Weight_kg,\n",
    "    Volume_litre,\n",
    "    Length,\n",
    "    Width,\n",
    "    Height\n",
    "FROM\n",
    "    Products;\n",
    "\n",
    "--Drop Old Tables\n",
    "DROP TABLE IF EXISTS \"products\";\n",
    "DROP TABLE IF EXISTS \"transactions\";"
   ]
  },
  {
   "cell_type": "markdown",
   "metadata": {},
   "source": [
    "###  7. Convert the database into its 2nd Normal Form (2NF).\n",
    "\n",
    "Please label your tables as they appear in the ERD sketch.\n",
    "\n",
    "<img src=\"https://raw.githubusercontent.com/Explore-AI/Pictures/master/SQL4DS/SQL_Predict/2NF.png\" alt=\"2nd Normal Form ERD\" border=\"0\">"
   ]
  },
  {
   "cell_type": "code",
   "execution_count": 11,
   "metadata": {},
   "outputs": [
    {
     "name": "stdout",
     "output_type": "stream",
     "text": [
      "Query started at 02:48:33 PM South Africa Standard Time; Query executed in 0.00 m"
     ]
    },
    {
     "data": {
      "text/plain": [
       "<sql_magic.exceptions.EmptyResult at 0x1b3fd4e6a90>"
      ]
     },
     "execution_count": 11,
     "metadata": {},
     "output_type": "execute_result"
    }
   ],
   "source": [
    "%%read_sql\n",
    "--#Create tables required for 2NF\n",
    "DROP TABLE IF EXISTS \"Transactions_2NF\";\n",
    "\n",
    "CREATE TABLE Transactions_2NF AS\n",
    "    SELECT * FROM Transactions_1NF;\n",
    "\n",
    "DROP TABLE IF EXISTS \"Navigation_2NF\";\n",
    "\n",
    "CREATE TABLE Navigation_2NF(\n",
    "    PathID INTEGER NOT NULL PRIMARY KEY AUTOINCREMENT,\n",
    "    NavigationPath VARCHAR(150)\n",
    ");\n",
    "\n",
    "DROP TABLE IF EXISTS \"PackageContents_2NF\";\n",
    "\n",
    "CREATE TABLE PackageContents_2NF(\n",
    "    ItemID INTEGER NOT NULL PRIMARY KEY AUTOINCREMENT,\n",
    "    ItemDescription VARCHAR(150),\n",
    "    PackType VARCHAR(150),\n",
    "    Warranty VARCHAR(150)\n",
    ");\n",
    "\n",
    "DROP TABLE IF EXISTS \"Colours_2NF\";\n",
    "\n",
    "CREATE TABLE Colours_2NF(\n",
    "    ColourID INTEGER NOT NULL PRIMARY KEY AUTOINCREMENT,\n",
    "    Colour VARCHAR(150)\n",
    ");\n",
    "\n",
    "DROP TABLE IF EXISTS \"Products_2NF\";\n",
    "\n",
    "CREATE TABLE Products_2NF(\n",
    "    RegistryID INTEGER NOT NULL PRIMARY KEY AUTOINCREMENT,\n",
    "    Barcode VARCHAR(150) NOT NULL,\n",
    "    ProductDescription VARCHAR(150) NOT NULL,\n",
    "    Brand VARCHAR(150),\n",
    "    Price REAL NOT NULL,\n",
    "    Quantity INTEGER NOT NULL,\n",
    "    StockCountry VARCHAR(150),\n",
    "    Weight_kg REAL,\n",
    "    Volume_litre REAL,\n",
    "    Length REAL,\n",
    "    Width REAL,\n",
    "    Height REAL,\n",
    "    PathID INTEGER NOT NULL,\n",
    "    ItemID INTEGER NOT NULL,\n",
    "    ColourID INTEGER NOT NULL,\n",
    "    \n",
    "    FOREIGN KEY (Barcode) REFERENCES Transactions_2NF(Barcode),\n",
    "    FOREIGN KEY (PathID) REFERENCES Navigation_2NF(PathID),\n",
    "    FOREIGN KEY (ItemID) REFERENCES PackageContents_2NF(ItemID),\n",
    "    FOREIGN KEY (ColourID) REFERENCES Colours_2NF(ColourID)\n",
    ");"
   ]
  },
  {
   "cell_type": "code",
   "execution_count": 12,
   "metadata": {},
   "outputs": [
    {
     "name": "stdout",
     "output_type": "stream",
     "text": [
      "Query started at 02:48:33 PM South Africa Standard Time; Query executed in 0.00 m"
     ]
    },
    {
     "data": {
      "text/plain": [
       "<sql_magic.exceptions.EmptyResult at 0x1b3fd4e6a60>"
      ]
     },
     "execution_count": 12,
     "metadata": {},
     "output_type": "execute_result"
    }
   ],
   "source": [
    "%%read_sql\n",
    "-- #Populate the tables so that they conform to 2NF\n",
    "-- Colours_2NF Table\n",
    "DELETE FROM Colours_2NF;\n",
    "INSERT INTO Colours_2NF(Colour)\n",
    "SELECT\n",
    "    DISTINCT Colour\n",
    "FROM\n",
    "    Products_1NF;\n",
    "--WHERE Colour != '';\n",
    "\n",
    "-- Navigation_2NF Table\n",
    "DELETE FROM Navigation_2NF;\n",
    "INSERT INTO Navigation_2NF(NavigationPath)\n",
    "SELECT\n",
    "    DISTINCT NavigationPath\n",
    "FROM\n",
    "    Products_1NF;\n",
    "--WHERE NavigationPath != '';\n",
    "\n",
    "-- PackageContents_2NF Table\n",
    "DELETE FROM PackageContents_2NF;\n",
    "INSERT INTO PackageContents_2NF(ItemDescription, PackType, Warranty)\n",
    "SELECT DISTINCT\n",
    "    ItemDescription,\n",
    "    PackType,\n",
    "    Warranty\n",
    "FROM\n",
    "    Products_1NF;\n",
    "--WHERE ItemDescription != '';\n",
    "\n",
    "-- Products_2NF Table\n",
    "DELETE FROM Products_2NF;\n",
    "INSERT INTO Products_2NF(Barcode,\n",
    "                        ProductDescription,\n",
    "                        Brand,\n",
    "                        Price,\n",
    "                        Quantity,\n",
    "                        StockCountry,\n",
    "                        Weight_kg,\n",
    "                        Volume_litre,\n",
    "                        Length,\n",
    "                        Width,\n",
    "                        Height,\n",
    "                        PathID,\n",
    "                        ItemID,\n",
    "                        ColourID)\n",
    "SELECT\n",
    "    DISTINCT Barcode,\n",
    "    ProductDescription,\n",
    "    Brand,\n",
    "    Price,\n",
    "    Quantity,\n",
    "    StockCountry,\n",
    "    Weight_kg,\n",
    "    Volume_litre,\n",
    "    Length,\n",
    "    Width,\n",
    "    Height,\n",
    "    n.PathID,\n",
    "    pc.ItemID,\n",
    "    c.ColourID\n",
    "FROM\n",
    "    Products_1NF p\n",
    "JOIN Navigation_2NF n\n",
    "ON  n.NavigationPath = p.NavigationPath\n",
    "JOIN PackageContents_2NF pc\n",
    "ON pc.ItemDescription = p.ItemDescription \n",
    "    AND pc.PackType = p.PackType\n",
    "    AND pc.Warranty = p.Warranty\n",
    "JOIN Colours_2NF c\n",
    "ON c.Colour = p.Colour;\n",
    "\n",
    "--Drop 1NF Tables\n",
    "DROP TABLE IF EXISTS \"products_1NF\";\n",
    "DROP TABLE IF EXISTS \"transactions_1NF\";"
   ]
  },
  {
   "cell_type": "markdown",
   "metadata": {
    "id": "2BXpm06CgwwO"
   },
   "source": [
    "<a id='Target_ERD'></a>\n",
    "### 8. Convert the table into its 3rd Normal Form (3NF)\n",
    "\n",
    "Please label your tables as they appear in the ERD sketch\n",
    "\n",
    "<br>\n",
    "\n",
    "<img src=\"https://raw.githubusercontent.com/Explore-AI/Pictures/master/SQL4DS/SQL_Predict/3NF.png\" alt=\"3rd Normal Form ERD\" border=\"0\"></a>"
   ]
  },
  {
   "cell_type": "code",
   "execution_count": 13,
   "metadata": {
    "id": "nSceV8iQgwwP",
    "outputId": "8f243bda-2032-4c7b-9c58-e6110cdb9505"
   },
   "outputs": [
    {
     "name": "stdout",
     "output_type": "stream",
     "text": [
      "Query started at 02:48:33 PM South Africa Standard Time; Query executed in 0.00 m"
     ]
    },
    {
     "data": {
      "text/plain": [
       "<sql_magic.exceptions.EmptyResult at 0x1b3fd4c7790>"
      ]
     },
     "execution_count": 13,
     "metadata": {},
     "output_type": "execute_result"
    }
   ],
   "source": [
    "%%read_sql\n",
    "--#Create tables required for 3NF\n",
    "\n",
    "--Navigation_3NF\n",
    "DROP TABLE IF EXISTS \"Navigation_3NF\";\n",
    "\n",
    "CREATE TABLE Navigation_3NF AS\n",
    "    SELECT * FROM Navigation_2NF;\n",
    "\n",
    "--PackageContents_3NF\n",
    "DROP TABLE IF EXISTS \"PackageContents_3NF\";\n",
    "\n",
    "CREATE TABLE PackageContents_3NF AS\n",
    "    SELECT * FROM PackageContents_2NF; \n",
    "\n",
    "--Colour_3NF\n",
    "DROP TABLE IF EXISTS \"Colour_3NF\";\n",
    "\n",
    "CREATE TABLE Colours_3NF AS\n",
    "    SELECT * FROM Colours_2NF;\n",
    "\n",
    "--Brands_3NF\n",
    "DROP TABLE IF EXISTS \"Brands_3NF\";\n",
    "\n",
    "CREATE TABLE Brands_3NF(\n",
    "    BrandID INTEGER NOT NULL PRIMARY KEY AUTOINCREMENT,\n",
    "    Brand VARCHAR(150)\n",
    ");\n",
    "\n",
    "--Locations_3NF\n",
    "DROP TABLE IF EXISTS \"Locations_3NF\";\n",
    "\n",
    "CREATE TABLE Locations_3NF(\n",
    "    LocationID INTEGER NOT NULL PRIMARY KEY AUTOINCREMENT,\n",
    "    StockCountry VARCHAR(150)\n",
    ");\n",
    "\n",
    "--Users_3NF\n",
    "DROP TABLE IF EXISTS \"Users_3NF\";\n",
    "\n",
    "CREATE TABLE Users_3NF(\n",
    "    UserID INTEGER NOT NULL PRIMARY KEY AUTOINCREMENT,\n",
    "    UserName VARCHAR(150) NOT NULL\n",
    ");\n",
    "\n",
    "--Transactions_3NF\n",
    "DROP TABLE IF EXISTS \"Transactions_3NF\";\n",
    "\n",
    "CREATE TABLE Transactions_3NF(\n",
    "    CartID INTEGER NOT NULL,\n",
    "    Barcode VARCHAR(150) NOT NULL,\n",
    "    UserID INTEGER NOT NULL,\n",
    "    InvoiceDate DATETIME NOT NULL,\n",
    "    Total REAL NOT NULL,\n",
    "    \n",
    "    PRIMARY KEY (CartID, Barcode),\n",
    "    FOREIGN KEY (UserID) REFERENCES Users_3NF(UserName)\n",
    "    \n",
    ");\n",
    "\n",
    "--Products_3NF\n",
    "DROP TABLE IF EXISTS \"Products_3NF\";\n",
    "\n",
    "CREATE TABLE Products_3NF(\n",
    "    RegistryID INTEGER NOT NULL PRIMARY KEY AUTOINCREMENT,\n",
    "    Barcode VARCHAR(150) NOT NULL,\n",
    "    ProductDescription VARCHAR(150) NOT NULL,   \n",
    "    Price REAL NOT NULL,\n",
    "    Quantity INTEGER NOT NULL,\n",
    "    Weight_kg REAL,\n",
    "    Volume_litre REAL,\n",
    "    Length REAL,\n",
    "    Width REAL,\n",
    "    Height REAL,\n",
    "    \n",
    "    PathID INTEGER,\n",
    "    ItemID INTEGER,\n",
    "    ColourID INTEGER,\n",
    "    BrandID INTEGER,\n",
    "    LocationID INTEGER,\n",
    "    \n",
    "    FOREIGN KEY (Barcode) REFERENCES Transactions_3NF(Barcode), \n",
    "    FOREIGN KEY (PathID) REFERENCES Navigation_3NF(PathID),\n",
    "    FOREIGN KEY (ItemID) REFERENCES PackageContents_3NF(ItemID),\n",
    "    FOREIGN KEY (ColourID) REFERENCES Colours_3NF(ColourID),\n",
    "    FOREIGN KEY (BrandID) REFERENCES Brands_3NF(BrandID),\n",
    "    FOREIGN KEY (LocationID) REFERENCES Locations_3NF(LocationID)\n",
    ");"
   ]
  },
  {
   "cell_type": "code",
   "execution_count": 14,
   "metadata": {
    "id": "j-neINIfgwwS",
    "outputId": "1404360c-952a-41f6-9b72-56e67f731fbd"
   },
   "outputs": [
    {
     "name": "stdout",
     "output_type": "stream",
     "text": [
      "Query started at 02:48:34 PM South Africa Standard Time; Query executed in 0.00 m"
     ]
    },
    {
     "data": {
      "text/plain": [
       "<sql_magic.exceptions.EmptyResult at 0x1b3fd4d46d0>"
      ]
     },
     "execution_count": 14,
     "metadata": {},
     "output_type": "execute_result"
    }
   ],
   "source": [
    "%%read_sql\n",
    "\n",
    "--# Populate the tables to that they conform to the 3rd Normal Form\n",
    "\n",
    "--Brands_3NF\n",
    "DELETE FROM Brands_3NF;\n",
    "INSERT INTO Brands_3NF(Brand)\n",
    "SELECT\n",
    "    DISTINCT Brand\n",
    "FROM\n",
    "    Products_2NF\n",
    "ORDER BY Brand;\n",
    "\n",
    "\n",
    "--Locations_3NF\n",
    "DELETE FROM Locations_3NF;\n",
    "INSERT INTO Locations_3NF(StockCountry)\n",
    "SELECT\n",
    "    DISTINCT StockCountry\n",
    "FROM\n",
    "    Products_2NF;\n",
    "\n",
    "--Users_3NF\n",
    "DELETE FROM Users_3NF;\n",
    "INSERT INTO Users_3NF(UserName)\n",
    "SELECT\n",
    "    DISTINCT UserName\n",
    "FROM\n",
    "    Transactions_2NF;\n",
    "\n",
    "--Transactions_3NF\n",
    "DELETE FROM Transactions_3NF;\n",
    "INSERT INTO Transactions_3NF(CartID, Barcode, UserID, InvoiceDate, Total)\n",
    "SELECT\n",
    "    CartID,\n",
    "    Barcode,\n",
    "    u.UserID,\n",
    "    InvoiceDate,\n",
    "    Total\n",
    "FROM\n",
    "    Transactions_2NF t\n",
    "JOIN Users_3NF u\n",
    "ON t.UserName = u.UserName;\n",
    "\n",
    "--Products_3NF\n",
    "DELETE FROM Products_3NF;\n",
    "INSERT INTO Products_3NF(Barcode,\n",
    "                        ProductDescription,\n",
    "                        Price,\n",
    "                        Quantity,\n",
    "                        Weight_kg,\n",
    "                        Volume_litre,\n",
    "                        Length,\n",
    "                        Width,\n",
    "                        Height,\n",
    "                        PathID,\n",
    "                        ItemID,\n",
    "                        ColourID,\n",
    "                        BrandID,\n",
    "                        LocationID)\n",
    "SELECT\n",
    "    DISTINCT Barcode,\n",
    "    ProductDescription,\n",
    "    Price,\n",
    "    Quantity,\n",
    "    Weight_kg,\n",
    "    Volume_litre,\n",
    "    Length,\n",
    "    Width,\n",
    "    Height,\n",
    "    n.PathID,\n",
    "    pc.ItemID,\n",
    "    c.ColourID,\n",
    "    b.BrandID,\n",
    "    l.LocationID\n",
    "FROM\n",
    "    Products_2NF p\n",
    "JOIN Navigation_3NF n\n",
    "ON  n.PathID = p.PathID\n",
    "JOIN PackageContents_3NF pc\n",
    "ON pc.ItemID = p.ItemID \n",
    "--    AND pc.PackType = p.PackType\n",
    "--    AND pc.Warranty = p.Warranty\n",
    "JOIN Colours_3NF c\n",
    "ON c.ColourID = p.ColourID\n",
    "JOIN Brands_3NF b\n",
    "ON p.Brand = b.Brand\n",
    "JOIN Locations_3NF l\n",
    "ON p.StockCountry = l.StockCountry;\n",
    "\n",
    "--Drop 2NF Tables\n",
    "DROP TABLE IF EXISTS \"products_2NF\";\n",
    "DROP TABLE IF EXISTS \"transactions_2NF\";\n",
    "DROP TABLE IF EXISTS \"Navigation_2NF\";\n",
    "DROP TABLE IF EXISTS \"PackageContents_2NF\";\n",
    "DROP TABLE IF EXISTS \"Colours_2NF\";"
   ]
  },
  {
   "cell_type": "markdown",
   "metadata": {
    "id": "zMvJZFQsGE03"
   },
   "source": [
    "<a id='MCQ_questions'></a>\n",
    "## 9. MCQ Questions\n",
    "\n",
    "Having completed the normalisation of the database, you may use the following cells to help you answer the MCQs for the predict. "
   ]
  },
  {
   "cell_type": "markdown",
   "metadata": {
    "id": "hEVNjuirGE03"
   },
   "source": [
    "Q1) How many unique products does the company have?"
   ]
  },
  {
   "cell_type": "code",
   "execution_count": 15,
   "metadata": {
    "id": "y3hoYpGxGE03"
   },
   "outputs": [
    {
     "name": "stdout",
     "output_type": "stream",
     "text": [
      "Query started at 02:48:34 PM South Africa Standard Time; Query executed in 0.00 m"
     ]
    },
    {
     "data": {
      "text/html": [
       "<div>\n",
       "<style scoped>\n",
       "    .dataframe tbody tr th:only-of-type {\n",
       "        vertical-align: middle;\n",
       "    }\n",
       "\n",
       "    .dataframe tbody tr th {\n",
       "        vertical-align: top;\n",
       "    }\n",
       "\n",
       "    .dataframe thead th {\n",
       "        text-align: right;\n",
       "    }\n",
       "</style>\n",
       "<table border=\"1\" class=\"dataframe\">\n",
       "  <thead>\n",
       "    <tr style=\"text-align: right;\">\n",
       "      <th></th>\n",
       "      <th>Unique_Produts</th>\n",
       "    </tr>\n",
       "  </thead>\n",
       "  <tbody>\n",
       "    <tr>\n",
       "      <th>0</th>\n",
       "      <td>608</td>\n",
       "    </tr>\n",
       "  </tbody>\n",
       "</table>\n",
       "</div>"
      ],
      "text/plain": [
       "   Unique_Produts\n",
       "0             608"
      ]
     },
     "execution_count": 15,
     "metadata": {},
     "output_type": "execute_result"
    }
   ],
   "source": [
    "%%read_sql\n",
    "-- Write your query here:\n",
    "\n",
    "SELECT\n",
    "    COUNT(DISTINCT barcode) Unique_Produts\n",
    "FROM\n",
    "    products_3nf"
   ]
  },
  {
   "cell_type": "markdown",
   "metadata": {
    "id": "WsQZQ8tuGE03"
   },
   "source": [
    "Q2) How many users bought from Bhejane in April 2020?"
   ]
  },
  {
   "cell_type": "code",
   "execution_count": 16,
   "metadata": {
    "id": "hFz7XUw_GE04"
   },
   "outputs": [
    {
     "name": "stdout",
     "output_type": "stream",
     "text": [
      "Query started at 02:48:34 PM South Africa Standard Time; Query executed in 0.00 m"
     ]
    },
    {
     "data": {
      "text/html": [
       "<div>\n",
       "<style scoped>\n",
       "    .dataframe tbody tr th:only-of-type {\n",
       "        vertical-align: middle;\n",
       "    }\n",
       "\n",
       "    .dataframe tbody tr th {\n",
       "        vertical-align: top;\n",
       "    }\n",
       "\n",
       "    .dataframe thead th {\n",
       "        text-align: right;\n",
       "    }\n",
       "</style>\n",
       "<table border=\"1\" class=\"dataframe\">\n",
       "  <thead>\n",
       "    <tr style=\"text-align: right;\">\n",
       "      <th></th>\n",
       "      <th>Customers</th>\n",
       "    </tr>\n",
       "  </thead>\n",
       "  <tbody>\n",
       "    <tr>\n",
       "      <th>0</th>\n",
       "      <td>31</td>\n",
       "    </tr>\n",
       "  </tbody>\n",
       "</table>\n",
       "</div>"
      ],
      "text/plain": [
       "   Customers\n",
       "0         31"
      ]
     },
     "execution_count": 16,
     "metadata": {},
     "output_type": "execute_result"
    }
   ],
   "source": [
    "%%read_sql\n",
    "-- Write your query here:\n",
    "\n",
    "SELECT\n",
    "    COUNT(DISTINCT username) Customers\n",
    "FROM\n",
    "    users_3NF u\n",
    "JOIN transactions_3nf t\n",
    "ON u.userid = t.userid\n",
    "WHERE t.invoicedate BETWEEN '2020-04-01' AND '2020-04-31'"
   ]
  },
  {
   "cell_type": "markdown",
   "metadata": {
    "id": "iBRifthWGE04"
   },
   "source": [
    "Q3) How many users bought three or more items whose combined total was more than R1000 in a single transaction?"
   ]
  },
  {
   "cell_type": "code",
   "execution_count": 17,
   "metadata": {
    "id": "NURR7Ue9GE04"
   },
   "outputs": [
    {
     "name": "stdout",
     "output_type": "stream",
     "text": [
      "Query started at 02:48:34 PM South Africa Standard Time; Query executed in 0.00 m"
     ]
    },
    {
     "data": {
      "text/html": [
       "<div>\n",
       "<style scoped>\n",
       "    .dataframe tbody tr th:only-of-type {\n",
       "        vertical-align: middle;\n",
       "    }\n",
       "\n",
       "    .dataframe tbody tr th {\n",
       "        vertical-align: top;\n",
       "    }\n",
       "\n",
       "    .dataframe thead th {\n",
       "        text-align: right;\n",
       "    }\n",
       "</style>\n",
       "<table border=\"1\" class=\"dataframe\">\n",
       "  <thead>\n",
       "    <tr style=\"text-align: right;\">\n",
       "      <th></th>\n",
       "      <th>customers</th>\n",
       "      <th>UserName</th>\n",
       "      <th>SUM(t.total)</th>\n",
       "      <th>num_items</th>\n",
       "    </tr>\n",
       "  </thead>\n",
       "  <tbody>\n",
       "    <tr>\n",
       "      <th>0</th>\n",
       "      <td>1</td>\n",
       "      <td>DIMPHO</td>\n",
       "      <td>6092.0</td>\n",
       "      <td>4</td>\n",
       "    </tr>\n",
       "    <tr>\n",
       "      <th>1</th>\n",
       "      <td>1</td>\n",
       "      <td>Margaret</td>\n",
       "      <td>6864.0</td>\n",
       "      <td>4</td>\n",
       "    </tr>\n",
       "    <tr>\n",
       "      <th>2</th>\n",
       "      <td>1</td>\n",
       "      <td>Junaid</td>\n",
       "      <td>13204.0</td>\n",
       "      <td>4</td>\n",
       "    </tr>\n",
       "    <tr>\n",
       "      <th>3</th>\n",
       "      <td>1</td>\n",
       "      <td>Daffy</td>\n",
       "      <td>4536.0</td>\n",
       "      <td>4</td>\n",
       "    </tr>\n",
       "    <tr>\n",
       "      <th>4</th>\n",
       "      <td>1</td>\n",
       "      <td>Mel</td>\n",
       "      <td>4456.0</td>\n",
       "      <td>4</td>\n",
       "    </tr>\n",
       "    <tr>\n",
       "      <th>5</th>\n",
       "      <td>1</td>\n",
       "      <td>Hanno</td>\n",
       "      <td>4002.0</td>\n",
       "      <td>3</td>\n",
       "    </tr>\n",
       "    <tr>\n",
       "      <th>6</th>\n",
       "      <td>1</td>\n",
       "      <td>Melandi</td>\n",
       "      <td>7605.0</td>\n",
       "      <td>3</td>\n",
       "    </tr>\n",
       "    <tr>\n",
       "      <th>7</th>\n",
       "      <td>1</td>\n",
       "      <td>Karyn</td>\n",
       "      <td>3411.0</td>\n",
       "      <td>3</td>\n",
       "    </tr>\n",
       "    <tr>\n",
       "      <th>8</th>\n",
       "      <td>1</td>\n",
       "      <td>Adele</td>\n",
       "      <td>3531.0</td>\n",
       "      <td>3</td>\n",
       "    </tr>\n",
       "    <tr>\n",
       "      <th>9</th>\n",
       "      <td>1</td>\n",
       "      <td>Mandla</td>\n",
       "      <td>4053.0</td>\n",
       "      <td>3</td>\n",
       "    </tr>\n",
       "    <tr>\n",
       "      <th>10</th>\n",
       "      <td>1</td>\n",
       "      <td>Zanele</td>\n",
       "      <td>10392.0</td>\n",
       "      <td>3</td>\n",
       "    </tr>\n",
       "  </tbody>\n",
       "</table>\n",
       "</div>"
      ],
      "text/plain": [
       "    customers  UserName  SUM(t.total)  num_items\n",
       "0           1    DIMPHO        6092.0          4\n",
       "1           1  Margaret        6864.0          4\n",
       "2           1    Junaid       13204.0          4\n",
       "3           1     Daffy        4536.0          4\n",
       "4           1       Mel        4456.0          4\n",
       "5           1     Hanno        4002.0          3\n",
       "6           1   Melandi        7605.0          3\n",
       "7           1     Karyn        3411.0          3\n",
       "8           1     Adele        3531.0          3\n",
       "9           1    Mandla        4053.0          3\n",
       "10          1    Zanele       10392.0          3"
      ]
     },
     "execution_count": 17,
     "metadata": {},
     "output_type": "execute_result"
    }
   ],
   "source": [
    "%%read_sql\n",
    "-- Write your query here:\n",
    "\n",
    "SELECT\n",
    "    COUNT(DISTINCT username) customers,\n",
    "    username,\n",
    "    SUM(t.total),\n",
    "    count(cartid) num_items\n",
    "FROM\n",
    "    users_3nf u\n",
    "JOIN transactions_3nf t\n",
    "ON u.userid = t.userid\n",
    "WHERE t.total > 1000\n",
    "GROUP BY cartid\n",
    "HAVING COUNT(cartid) >= 3\n",
    "ORDER BY num_items DESC"
   ]
  },
  {
   "cell_type": "markdown",
   "metadata": {
    "id": "9_-usJoSGE04"
   },
   "source": [
    "Q4) Which user(s) made the largest purchase on a sinlge transaction?"
   ]
  },
  {
   "cell_type": "code",
   "execution_count": 18,
   "metadata": {
    "id": "3i7wS1jJGE04"
   },
   "outputs": [
    {
     "name": "stdout",
     "output_type": "stream",
     "text": [
      "Query started at 02:48:34 PM South Africa Standard Time; Query executed in 0.00 m"
     ]
    },
    {
     "data": {
      "text/html": [
       "<div>\n",
       "<style scoped>\n",
       "    .dataframe tbody tr th:only-of-type {\n",
       "        vertical-align: middle;\n",
       "    }\n",
       "\n",
       "    .dataframe tbody tr th {\n",
       "        vertical-align: top;\n",
       "    }\n",
       "\n",
       "    .dataframe thead th {\n",
       "        text-align: right;\n",
       "    }\n",
       "</style>\n",
       "<table border=\"1\" class=\"dataframe\">\n",
       "  <thead>\n",
       "    <tr style=\"text-align: right;\">\n",
       "      <th></th>\n",
       "      <th>UserName</th>\n",
       "      <th>Total</th>\n",
       "    </tr>\n",
       "  </thead>\n",
       "  <tbody>\n",
       "    <tr>\n",
       "      <th>0</th>\n",
       "      <td>Mandla</td>\n",
       "      <td>10999.0</td>\n",
       "    </tr>\n",
       "    <tr>\n",
       "      <th>1</th>\n",
       "      <td>Brigette</td>\n",
       "      <td>10999.0</td>\n",
       "    </tr>\n",
       "    <tr>\n",
       "      <th>2</th>\n",
       "      <td>Andreas Peter</td>\n",
       "      <td>3765.0</td>\n",
       "    </tr>\n",
       "    <tr>\n",
       "      <th>3</th>\n",
       "      <td>Mzoxolo</td>\n",
       "      <td>3765.0</td>\n",
       "    </tr>\n",
       "    <tr>\n",
       "      <th>4</th>\n",
       "      <td>Zanele</td>\n",
       "      <td>3464.0</td>\n",
       "    </tr>\n",
       "  </tbody>\n",
       "</table>\n",
       "</div>"
      ],
      "text/plain": [
       "        UserName    Total\n",
       "0         Mandla  10999.0\n",
       "1       Brigette  10999.0\n",
       "2  Andreas Peter   3765.0\n",
       "3        Mzoxolo   3765.0\n",
       "4         Zanele   3464.0"
      ]
     },
     "execution_count": 18,
     "metadata": {},
     "output_type": "execute_result"
    }
   ],
   "source": [
    "%%read_sql\n",
    "-- Write your query here\n",
    "\n",
    "SELECT\n",
    "    username,\n",
    "    total\n",
    "FROM\n",
    "    users_3nf u\n",
    "JOIN transactions_3nf t\n",
    "ON u.userid = t.userid\n",
    "ORDER BY t.total DESC\n",
    "LIMIT 5;"
   ]
  },
  {
   "cell_type": "markdown",
   "metadata": {
    "id": "Ik1EeR1dGE04"
   },
   "source": [
    "Q5) How many components does the product: \"5m Colour Changing RGB LED Strip Light\" (MPTAL57588104) come with?"
   ]
  },
  {
   "cell_type": "code",
   "execution_count": 19,
   "metadata": {
    "id": "BhTlfGsyGE04"
   },
   "outputs": [
    {
     "name": "stdout",
     "output_type": "stream",
     "text": [
      "Query started at 02:48:34 PM South Africa Standard Time; Query executed in 0.00 m"
     ]
    },
    {
     "data": {
      "text/html": [
       "<div>\n",
       "<style scoped>\n",
       "    .dataframe tbody tr th:only-of-type {\n",
       "        vertical-align: middle;\n",
       "    }\n",
       "\n",
       "    .dataframe tbody tr th {\n",
       "        vertical-align: top;\n",
       "    }\n",
       "\n",
       "    .dataframe thead th {\n",
       "        text-align: right;\n",
       "    }\n",
       "</style>\n",
       "<table border=\"1\" class=\"dataframe\">\n",
       "  <thead>\n",
       "    <tr style=\"text-align: right;\">\n",
       "      <th></th>\n",
       "      <th>Num_of_components</th>\n",
       "    </tr>\n",
       "  </thead>\n",
       "  <tbody>\n",
       "    <tr>\n",
       "      <th>0</th>\n",
       "      <td>4</td>\n",
       "    </tr>\n",
       "  </tbody>\n",
       "</table>\n",
       "</div>"
      ],
      "text/plain": [
       "   Num_of_components\n",
       "0                  4"
      ]
     },
     "execution_count": 19,
     "metadata": {},
     "output_type": "execute_result"
    }
   ],
   "source": [
    "%%read_sql\n",
    "-- Write your query here\n",
    "\n",
    "SELECT\n",
    "    COUNT(DISTINCT itemdescription) Num_of_components\n",
    "FROM\n",
    "    packagecontents_3nf pc\n",
    "JOIN products_3nf p\n",
    "ON pc.itemid = p.itemid\n",
    "WHERE p.productdescription = '5m Colour Changing RGB LED Strip Light'"
   ]
  },
  {
   "cell_type": "markdown",
   "metadata": {
    "id": "CLNf-BoGGE04"
   },
   "source": [
    "Q6) How many brands are available at Bhejane?"
   ]
  },
  {
   "cell_type": "code",
   "execution_count": 20,
   "metadata": {
    "id": "afrVCqnYGE04"
   },
   "outputs": [
    {
     "name": "stdout",
     "output_type": "stream",
     "text": [
      "Query started at 02:48:34 PM South Africa Standard Time; Query executed in 0.00 m"
     ]
    },
    {
     "data": {
      "text/html": [
       "<div>\n",
       "<style scoped>\n",
       "    .dataframe tbody tr th:only-of-type {\n",
       "        vertical-align: middle;\n",
       "    }\n",
       "\n",
       "    .dataframe tbody tr th {\n",
       "        vertical-align: top;\n",
       "    }\n",
       "\n",
       "    .dataframe thead th {\n",
       "        text-align: right;\n",
       "    }\n",
       "</style>\n",
       "<table border=\"1\" class=\"dataframe\">\n",
       "  <thead>\n",
       "    <tr style=\"text-align: right;\">\n",
       "      <th></th>\n",
       "      <th>Unique_brands</th>\n",
       "    </tr>\n",
       "  </thead>\n",
       "  <tbody>\n",
       "    <tr>\n",
       "      <th>0</th>\n",
       "      <td>232</td>\n",
       "    </tr>\n",
       "  </tbody>\n",
       "</table>\n",
       "</div>"
      ],
      "text/plain": [
       "   Unique_brands\n",
       "0            232"
      ]
     },
     "execution_count": 20,
     "metadata": {},
     "output_type": "execute_result"
    }
   ],
   "source": [
    "%%read_sql\n",
    "-- Write your query here:\n",
    "\n",
    "SELECT\n",
    "    COUNT(brand) Unique_brands\n",
    "FROM\n",
    "    Brands_3NF\n",
    "WHERE brand != ''"
   ]
  },
  {
   "cell_type": "markdown",
   "metadata": {
    "id": "B4usZSh1GE04"
   },
   "source": [
    "7) What is the price of the \"Verimark - Floorwiz 2in1 Mop\"?"
   ]
  },
  {
   "cell_type": "code",
   "execution_count": 21,
   "metadata": {
    "id": "8xipCT9JGE04"
   },
   "outputs": [
    {
     "name": "stdout",
     "output_type": "stream",
     "text": [
      "Query started at 02:48:34 PM South Africa Standard Time; Query executed in 0.00 m"
     ]
    },
    {
     "data": {
      "text/html": [
       "<div>\n",
       "<style scoped>\n",
       "    .dataframe tbody tr th:only-of-type {\n",
       "        vertical-align: middle;\n",
       "    }\n",
       "\n",
       "    .dataframe tbody tr th {\n",
       "        vertical-align: top;\n",
       "    }\n",
       "\n",
       "    .dataframe thead th {\n",
       "        text-align: right;\n",
       "    }\n",
       "</style>\n",
       "<table border=\"1\" class=\"dataframe\">\n",
       "  <thead>\n",
       "    <tr style=\"text-align: right;\">\n",
       "      <th></th>\n",
       "      <th>Price</th>\n",
       "    </tr>\n",
       "  </thead>\n",
       "  <tbody>\n",
       "    <tr>\n",
       "      <th>0</th>\n",
       "      <td>179.0</td>\n",
       "    </tr>\n",
       "  </tbody>\n",
       "</table>\n",
       "</div>"
      ],
      "text/plain": [
       "   Price\n",
       "0  179.0"
      ]
     },
     "execution_count": 21,
     "metadata": {},
     "output_type": "execute_result"
    }
   ],
   "source": [
    "%%read_sql\n",
    "-- Write your query here:\n",
    "\n",
    "SELECT\n",
    "    DISTINCT price\n",
    "FROM\n",
    "    products_3nf\n",
    "WHERE productdescription = 'Verimark - Floorwiz 2in1 Mop'"
   ]
  },
  {
   "cell_type": "markdown",
   "metadata": {
    "id": "BGaE5N7nGE04"
   },
   "source": [
    "Q8) Calculate the package volume of the \"Russell Hobbs - Slow Cooker\" using the given dimensions. Round your answer to the nearest integer and ignore units for the calculation."
   ]
  },
  {
   "cell_type": "code",
   "execution_count": 22,
   "metadata": {
    "id": "4pOPg-jAGE04"
   },
   "outputs": [
    {
     "name": "stdout",
     "output_type": "stream",
     "text": [
      "Query started at 02:48:34 PM South Africa Standard Time; Query executed in 0.00 m"
     ]
    },
    {
     "data": {
      "text/html": [
       "<div>\n",
       "<style scoped>\n",
       "    .dataframe tbody tr th:only-of-type {\n",
       "        vertical-align: middle;\n",
       "    }\n",
       "\n",
       "    .dataframe tbody tr th {\n",
       "        vertical-align: top;\n",
       "    }\n",
       "\n",
       "    .dataframe thead th {\n",
       "        text-align: right;\n",
       "    }\n",
       "</style>\n",
       "<table border=\"1\" class=\"dataframe\">\n",
       "  <thead>\n",
       "    <tr style=\"text-align: right;\">\n",
       "      <th></th>\n",
       "      <th>Volume</th>\n",
       "    </tr>\n",
       "  </thead>\n",
       "  <tbody>\n",
       "    <tr>\n",
       "      <th>0</th>\n",
       "      <td>26928.0</td>\n",
       "    </tr>\n",
       "  </tbody>\n",
       "</table>\n",
       "</div>"
      ],
      "text/plain": [
       "    Volume\n",
       "0  26928.0"
      ]
     },
     "execution_count": 22,
     "metadata": {},
     "output_type": "execute_result"
    }
   ],
   "source": [
    "%%read_sql\n",
    "-- Write your query here:\n",
    "\n",
    "SELECT\n",
    "    DISTINCT(length * width * height) Volume\n",
    "FROM\n",
    "    products_3nf\n",
    "WHERE productdescription = 'Russell Hobbs - Slow Cooker'"
   ]
  },
  {
   "cell_type": "markdown",
   "metadata": {
    "id": "ZDogodiAGE04"
   },
   "source": [
    "Q9) Which user made the most transactions in the Year 2020?"
   ]
  },
  {
   "cell_type": "code",
   "execution_count": 23,
   "metadata": {
    "id": "PVUj_9THGE04"
   },
   "outputs": [
    {
     "name": "stdout",
     "output_type": "stream",
     "text": [
      "Query started at 02:48:34 PM South Africa Standard Time; Query executed in 0.00 m"
     ]
    },
    {
     "data": {
      "text/html": [
       "<div>\n",
       "<style scoped>\n",
       "    .dataframe tbody tr th:only-of-type {\n",
       "        vertical-align: middle;\n",
       "    }\n",
       "\n",
       "    .dataframe tbody tr th {\n",
       "        vertical-align: top;\n",
       "    }\n",
       "\n",
       "    .dataframe thead th {\n",
       "        text-align: right;\n",
       "    }\n",
       "</style>\n",
       "<table border=\"1\" class=\"dataframe\">\n",
       "  <thead>\n",
       "    <tr style=\"text-align: right;\">\n",
       "      <th></th>\n",
       "      <th>UserName</th>\n",
       "      <th>COUNT(t.cartid)</th>\n",
       "    </tr>\n",
       "  </thead>\n",
       "  <tbody>\n",
       "    <tr>\n",
       "      <th>0</th>\n",
       "      <td>Cornelis</td>\n",
       "      <td>9</td>\n",
       "    </tr>\n",
       "    <tr>\n",
       "      <th>1</th>\n",
       "      <td>Erlo</td>\n",
       "      <td>8</td>\n",
       "    </tr>\n",
       "    <tr>\n",
       "      <th>2</th>\n",
       "      <td>Zanele</td>\n",
       "      <td>6</td>\n",
       "    </tr>\n",
       "    <tr>\n",
       "      <th>3</th>\n",
       "      <td>Heather</td>\n",
       "      <td>6</td>\n",
       "    </tr>\n",
       "    <tr>\n",
       "      <th>4</th>\n",
       "      <td>Mandla</td>\n",
       "      <td>5</td>\n",
       "    </tr>\n",
       "  </tbody>\n",
       "</table>\n",
       "</div>"
      ],
      "text/plain": [
       "   UserName  COUNT(t.cartid)\n",
       "0  Cornelis                9\n",
       "1      Erlo                8\n",
       "2    Zanele                6\n",
       "3   Heather                6\n",
       "4    Mandla                5"
      ]
     },
     "execution_count": 23,
     "metadata": {},
     "output_type": "execute_result"
    }
   ],
   "source": [
    "%%read_sql\n",
    "-- Write your query here:\n",
    "\n",
    "SELECT\n",
    "    u.username,\n",
    "    COUNT(t.cartid)\n",
    "FROM\n",
    "    users_3nf u\n",
    "JOIN transactions_3nf t\n",
    "ON u.userid = t.userid\n",
    "WHERE t.invoicedate BETWEEN '2020-01-01' AND '2020-12-31'\n",
    "GROUP BY u.username\n",
    "ORDER BY COUNT(t.cartid) DESC\n",
    "LIMIT 5;"
   ]
  },
  {
   "cell_type": "markdown",
   "metadata": {
    "id": "A_5dz4coGE04"
   },
   "source": [
    "Q10) What is the total number of recorded users that shop at Bhejane?"
   ]
  },
  {
   "cell_type": "code",
   "execution_count": 24,
   "metadata": {
    "id": "gVDNbI7pGE04"
   },
   "outputs": [
    {
     "name": "stdout",
     "output_type": "stream",
     "text": [
      "Query started at 02:48:34 PM South Africa Standard Time; Query executed in 0.00 m"
     ]
    },
    {
     "data": {
      "text/html": [
       "<div>\n",
       "<style scoped>\n",
       "    .dataframe tbody tr th:only-of-type {\n",
       "        vertical-align: middle;\n",
       "    }\n",
       "\n",
       "    .dataframe tbody tr th {\n",
       "        vertical-align: top;\n",
       "    }\n",
       "\n",
       "    .dataframe thead th {\n",
       "        text-align: right;\n",
       "    }\n",
       "</style>\n",
       "<table border=\"1\" class=\"dataframe\">\n",
       "  <thead>\n",
       "    <tr style=\"text-align: right;\">\n",
       "      <th></th>\n",
       "      <th>COUNT(DISTINCT username)</th>\n",
       "    </tr>\n",
       "  </thead>\n",
       "  <tbody>\n",
       "    <tr>\n",
       "      <th>0</th>\n",
       "      <td>158</td>\n",
       "    </tr>\n",
       "  </tbody>\n",
       "</table>\n",
       "</div>"
      ],
      "text/plain": [
       "   COUNT(DISTINCT username)\n",
       "0                       158"
      ]
     },
     "execution_count": 24,
     "metadata": {},
     "output_type": "execute_result"
    }
   ],
   "source": [
    "%%read_sql\n",
    "-- Write your query here:\n",
    "\n",
    "SELECT\n",
    "    COUNT(DISTINCT username)\n",
    "FROM\n",
    "    users_3nf u\n",
    "JOIN transactions_3nf t\n",
    "ON u.userid = t.userid\n",
    "WHERE LENGTH(username) > 1\n",
    "AND username NOT LIKE '%Ã©'"
   ]
  },
  {
   "cell_type": "markdown",
   "metadata": {
    "id": "8AS0LCOaGE04"
   },
   "source": [
    "Q11) What is the record count for the Colours_3NF Table?"
   ]
  },
  {
   "cell_type": "code",
   "execution_count": 25,
   "metadata": {
    "id": "9UdfWoubGE04"
   },
   "outputs": [
    {
     "name": "stdout",
     "output_type": "stream",
     "text": [
      "Query started at 02:48:34 PM South Africa Standard Time; Query executed in 0.00 m"
     ]
    },
    {
     "data": {
      "text/html": [
       "<div>\n",
       "<style scoped>\n",
       "    .dataframe tbody tr th:only-of-type {\n",
       "        vertical-align: middle;\n",
       "    }\n",
       "\n",
       "    .dataframe tbody tr th {\n",
       "        vertical-align: top;\n",
       "    }\n",
       "\n",
       "    .dataframe thead th {\n",
       "        text-align: right;\n",
       "    }\n",
       "</style>\n",
       "<table border=\"1\" class=\"dataframe\">\n",
       "  <thead>\n",
       "    <tr style=\"text-align: right;\">\n",
       "      <th></th>\n",
       "      <th>COUNT(*)</th>\n",
       "    </tr>\n",
       "  </thead>\n",
       "  <tbody>\n",
       "    <tr>\n",
       "      <th>0</th>\n",
       "      <td>17</td>\n",
       "    </tr>\n",
       "  </tbody>\n",
       "</table>\n",
       "</div>"
      ],
      "text/plain": [
       "   COUNT(*)\n",
       "0        17"
      ]
     },
     "execution_count": 25,
     "metadata": {},
     "output_type": "execute_result"
    }
   ],
   "source": [
    "%%read_sql\n",
    "-- Write your query here:\n",
    "\n",
    "SELECT\n",
    "    COUNT(*)\n",
    "FROM\n",
    "    colours_3nf\n",
    "WHERE colour != ''"
   ]
  },
  {
   "cell_type": "markdown",
   "metadata": {
    "id": "cfQAeUYhGE04"
   },
   "source": [
    "Q12) What would the total price be if I had the following items in my cart?\n",
    "* MPTAL57588104\n",
    "* 5000394203921\n",
    "* 6932391917652"
   ]
  },
  {
   "cell_type": "code",
   "execution_count": 26,
   "metadata": {
    "id": "K9fGfD9mGE04"
   },
   "outputs": [
    {
     "name": "stdout",
     "output_type": "stream",
     "text": [
      "Query started at 02:48:34 PM South Africa Standard Time; Query executed in 0.00 m"
     ]
    },
    {
     "data": {
      "text/html": [
       "<div>\n",
       "<style scoped>\n",
       "    .dataframe tbody tr th:only-of-type {\n",
       "        vertical-align: middle;\n",
       "    }\n",
       "\n",
       "    .dataframe tbody tr th {\n",
       "        vertical-align: top;\n",
       "    }\n",
       "\n",
       "    .dataframe thead th {\n",
       "        text-align: right;\n",
       "    }\n",
       "</style>\n",
       "<table border=\"1\" class=\"dataframe\">\n",
       "  <thead>\n",
       "    <tr style=\"text-align: right;\">\n",
       "      <th></th>\n",
       "      <th>Total</th>\n",
       "    </tr>\n",
       "  </thead>\n",
       "  <tbody>\n",
       "    <tr>\n",
       "      <th>0</th>\n",
       "      <td>734.0</td>\n",
       "    </tr>\n",
       "  </tbody>\n",
       "</table>\n",
       "</div>"
      ],
      "text/plain": [
       "   Total\n",
       "0  734.0"
      ]
     },
     "execution_count": 26,
     "metadata": {},
     "output_type": "execute_result"
    }
   ],
   "source": [
    "%%read_sql\n",
    "-- Write your query here\n",
    "\n",
    "SELECT\n",
    "    SUM(DISTINCT price) Total\n",
    "FROM\n",
    "    products_3nf\n",
    "WHERE barcode IN ('MPTAL57588104', 5000394203921, 6932391917652)"
   ]
  },
  {
   "cell_type": "markdown",
   "metadata": {
    "id": "DGhN2UuaGE04"
   },
   "source": [
    "Q13) What is the barcode of the most sold product?"
   ]
  },
  {
   "cell_type": "code",
   "execution_count": 27,
   "metadata": {
    "id": "t5w4A2l1GE04",
    "scrolled": false
   },
   "outputs": [
    {
     "name": "stdout",
     "output_type": "stream",
     "text": [
      "Query started at 02:48:34 PM South Africa Standard Time; Query executed in 0.00 m"
     ]
    },
    {
     "data": {
      "text/html": [
       "<div>\n",
       "<style scoped>\n",
       "    .dataframe tbody tr th:only-of-type {\n",
       "        vertical-align: middle;\n",
       "    }\n",
       "\n",
       "    .dataframe tbody tr th {\n",
       "        vertical-align: top;\n",
       "    }\n",
       "\n",
       "    .dataframe thead th {\n",
       "        text-align: right;\n",
       "    }\n",
       "</style>\n",
       "<table border=\"1\" class=\"dataframe\">\n",
       "  <thead>\n",
       "    <tr style=\"text-align: right;\">\n",
       "      <th></th>\n",
       "      <th>COUNT(barcode)</th>\n",
       "      <th>Barcode</th>\n",
       "    </tr>\n",
       "  </thead>\n",
       "  <tbody>\n",
       "    <tr>\n",
       "      <th>0</th>\n",
       "      <td>4</td>\n",
       "      <td>4015400541813</td>\n",
       "    </tr>\n",
       "    <tr>\n",
       "      <th>1</th>\n",
       "      <td>3</td>\n",
       "      <td>MPTAL00404857</td>\n",
       "    </tr>\n",
       "    <tr>\n",
       "      <th>2</th>\n",
       "      <td>3</td>\n",
       "      <td>HURACANNANOWAVE1</td>\n",
       "    </tr>\n",
       "    <tr>\n",
       "      <th>3</th>\n",
       "      <td>3</td>\n",
       "      <td>6009686620537</td>\n",
       "    </tr>\n",
       "    <tr>\n",
       "      <th>4</th>\n",
       "      <td>3</td>\n",
       "      <td>6001865825405</td>\n",
       "    </tr>\n",
       "  </tbody>\n",
       "</table>\n",
       "</div>"
      ],
      "text/plain": [
       "   COUNT(barcode)           Barcode\n",
       "0               4     4015400541813\n",
       "1               3     MPTAL00404857\n",
       "2               3  HURACANNANOWAVE1\n",
       "3               3     6009686620537\n",
       "4               3     6001865825405"
      ]
     },
     "execution_count": 27,
     "metadata": {},
     "output_type": "execute_result"
    }
   ],
   "source": [
    "%%read_sql\n",
    "\n",
    "-- Write your query here\n",
    "\n",
    "SELECT\n",
    "    COUNT(barcode),\n",
    "    barcode\n",
    "FROM\n",
    "    transactions_3NF\n",
    "GROUP BY barcode\n",
    "ORDER BY COUNT(barcode) DESC\n",
    "LIMIT 5;"
   ]
  },
  {
   "cell_type": "markdown",
   "metadata": {
    "id": "TINkZg-7GE05"
   },
   "source": [
    "Q14) What are the products of Cornelis’ cart on the 2020-06-28 0:00:00?"
   ]
  },
  {
   "cell_type": "code",
   "execution_count": 28,
   "metadata": {
    "id": "82Bmwr7bGE05",
    "scrolled": true
   },
   "outputs": [
    {
     "name": "stdout",
     "output_type": "stream",
     "text": [
      "Query started at 02:48:34 PM South Africa Standard Time; Query executed in 0.00 m"
     ]
    },
    {
     "data": {
      "text/html": [
       "<div>\n",
       "<style scoped>\n",
       "    .dataframe tbody tr th:only-of-type {\n",
       "        vertical-align: middle;\n",
       "    }\n",
       "\n",
       "    .dataframe tbody tr th {\n",
       "        vertical-align: top;\n",
       "    }\n",
       "\n",
       "    .dataframe thead th {\n",
       "        text-align: right;\n",
       "    }\n",
       "</style>\n",
       "<table border=\"1\" class=\"dataframe\">\n",
       "  <thead>\n",
       "    <tr style=\"text-align: right;\">\n",
       "      <th></th>\n",
       "      <th>ProductDescription</th>\n",
       "    </tr>\n",
       "  </thead>\n",
       "  <tbody>\n",
       "    <tr>\n",
       "      <th>0</th>\n",
       "      <td>Dettol Body Wash - Shower Gel - Original - 600ml</td>\n",
       "    </tr>\n",
       "    <tr>\n",
       "      <th>1</th>\n",
       "      <td>Vitality Aloe Vera Gel 100ml</td>\n",
       "    </tr>\n",
       "    <tr>\n",
       "      <th>2</th>\n",
       "      <td>Sparq Active Resistance Loop Band - Set of 5 w...</td>\n",
       "    </tr>\n",
       "    <tr>\n",
       "      <th>3</th>\n",
       "      <td>Protective Face Shield</td>\n",
       "    </tr>\n",
       "  </tbody>\n",
       "</table>\n",
       "</div>"
      ],
      "text/plain": [
       "                                  ProductDescription\n",
       "0   Dettol Body Wash - Shower Gel - Original - 600ml\n",
       "1                       Vitality Aloe Vera Gel 100ml\n",
       "2  Sparq Active Resistance Loop Band - Set of 5 w...\n",
       "3                             Protective Face Shield"
      ]
     },
     "execution_count": 28,
     "metadata": {},
     "output_type": "execute_result"
    }
   ],
   "source": [
    "%%read_sql\n",
    "-- Write your query here:\n",
    "\n",
    "SELECT\n",
    "    DISTINCT productdescription\n",
    "FROM\n",
    "    products_3nf p\n",
    "JOIN transactions_3nf t\n",
    "ON p.barcode = t.barcode\n",
    "WHERE t.invoicedate = '2020-06-28 0:00:00'"
   ]
  },
  {
   "cell_type": "markdown",
   "metadata": {},
   "source": [
    "Q15) Which users bought locally produced, black-coloured products on odd-numbered months of the year, and what was the total cost (rounded to the nearest integer) of these products?"
   ]
  },
  {
   "cell_type": "code",
   "execution_count": 39,
   "metadata": {},
   "outputs": [
    {
     "name": "stdout",
     "output_type": "stream",
     "text": [
      "Query started at 02:56:23 PM South Africa Standard Time; Query executed in 0.00 m"
     ]
    },
    {
     "data": {
      "text/html": [
       "<div>\n",
       "<style scoped>\n",
       "    .dataframe tbody tr th:only-of-type {\n",
       "        vertical-align: middle;\n",
       "    }\n",
       "\n",
       "    .dataframe tbody tr th {\n",
       "        vertical-align: top;\n",
       "    }\n",
       "\n",
       "    .dataframe thead th {\n",
       "        text-align: right;\n",
       "    }\n",
       "</style>\n",
       "<table border=\"1\" class=\"dataframe\">\n",
       "  <thead>\n",
       "    <tr style=\"text-align: right;\">\n",
       "      <th></th>\n",
       "      <th>UserName</th>\n",
       "      <th>ProductDescription</th>\n",
       "      <th>CAST(ROUND(total)AS INT)</th>\n",
       "      <th>InvoiceDate</th>\n",
       "      <th>MOD</th>\n",
       "    </tr>\n",
       "  </thead>\n",
       "  <tbody>\n",
       "    <tr>\n",
       "      <th>0</th>\n",
       "      <td>Cindy</td>\n",
       "      <td>RCT 2000VA Line Interactive UPS</td>\n",
       "      <td>1999</td>\n",
       "      <td>2020-03-31 0:00:00</td>\n",
       "      <td>1</td>\n",
       "    </tr>\n",
       "    <tr>\n",
       "      <th>1</th>\n",
       "      <td>DIMPHO</td>\n",
       "      <td>Compatible Canon 737 Black Laser Toner Cartridge</td>\n",
       "      <td>1523</td>\n",
       "      <td>2020-07-02 0:00:00</td>\n",
       "      <td>1</td>\n",
       "    </tr>\n",
       "    <tr>\n",
       "      <th>2</th>\n",
       "      <td>Carel</td>\n",
       "      <td>JBL T500BT Wireless On-Ear Headphones - Black</td>\n",
       "      <td>799</td>\n",
       "      <td>2020-05-04 0:00:00</td>\n",
       "      <td>1</td>\n",
       "    </tr>\n",
       "    <tr>\n",
       "      <th>3</th>\n",
       "      <td>Lacin</td>\n",
       "      <td>Ausdom AW635 1080P Streaming Web Camera - Black</td>\n",
       "      <td>798</td>\n",
       "      <td>2020-05-18 0:00:00</td>\n",
       "      <td>1</td>\n",
       "    </tr>\n",
       "    <tr>\n",
       "      <th>4</th>\n",
       "      <td>Hester</td>\n",
       "      <td>Duracell Plus Alkaline AAA Batteries - 20 Pack</td>\n",
       "      <td>189</td>\n",
       "      <td>2020-07-04 0:00:00</td>\n",
       "      <td>1</td>\n",
       "    </tr>\n",
       "    <tr>\n",
       "      <th>5</th>\n",
       "      <td>Jeandre</td>\n",
       "      <td>Sodastream - Classic Carbonating Bottle 1 Litr...</td>\n",
       "      <td>179</td>\n",
       "      <td>2020-07-28 0:00:00</td>\n",
       "      <td>1</td>\n",
       "    </tr>\n",
       "    <tr>\n",
       "      <th>6</th>\n",
       "      <td>Conrad</td>\n",
       "      <td>Addis - Rough Tote - 30 Litre</td>\n",
       "      <td>93</td>\n",
       "      <td>2020-07-26 0:00:00</td>\n",
       "      <td>1</td>\n",
       "    </tr>\n",
       "  </tbody>\n",
       "</table>\n",
       "</div>"
      ],
      "text/plain": [
       "  UserName                                 ProductDescription  \\\n",
       "0    Cindy                    RCT 2000VA Line Interactive UPS   \n",
       "1   DIMPHO   Compatible Canon 737 Black Laser Toner Cartridge   \n",
       "2    Carel      JBL T500BT Wireless On-Ear Headphones - Black   \n",
       "3    Lacin    Ausdom AW635 1080P Streaming Web Camera - Black   \n",
       "4   Hester     Duracell Plus Alkaline AAA Batteries - 20 Pack   \n",
       "5  Jeandre  Sodastream - Classic Carbonating Bottle 1 Litr...   \n",
       "6   Conrad                      Addis - Rough Tote - 30 Litre   \n",
       "\n",
       "   CAST(ROUND(total)AS INT)         InvoiceDate  MOD  \n",
       "0                      1999  2020-03-31 0:00:00    1  \n",
       "1                      1523  2020-07-02 0:00:00    1  \n",
       "2                       799  2020-05-04 0:00:00    1  \n",
       "3                       798  2020-05-18 0:00:00    1  \n",
       "4                       189  2020-07-04 0:00:00    1  \n",
       "5                       179  2020-07-28 0:00:00    1  \n",
       "6                        93  2020-07-26 0:00:00    1  "
      ]
     },
     "execution_count": 39,
     "metadata": {},
     "output_type": "execute_result"
    }
   ],
   "source": [
    "%%read_sql\n",
    "\n",
    "--Write your query here\n",
    "\n",
    "SELECT\n",
    "    u.username,\n",
    "    p.productdescription,\n",
    "    CAST(ROUND(total)AS INT),\n",
    "    invoicedate,\n",
    "    CAST(SUBSTR(invoicedate,6,2)AS INT) % 2 AS MOD\n",
    "FROM\n",
    "    users_3nf u\n",
    "JOIN transactions_3nf t\n",
    "ON u.userid = t.userid\n",
    "JOIN products_3nf p\n",
    "ON t.barcode = p.barcode\n",
    "JOIN colours_3nf c\n",
    "ON p.colourid = c.colourid\n",
    "JOIN locations_3NF l\n",
    "ON p.locationid = l.locationid\n",
    "\n",
    "WHERE c.colour = 'Black'\n",
    "AND MOD = 1\n",
    "AND stockcountry = 'South Africa'\n",
    "\n",
    "GROUP BY username\n",
    "ORDER BY total DESC;"
   ]
  }
 ],
 "metadata": {
  "colab": {
   "collapsed_sections": [],
   "name": "SQL_Predict_Student_Notebook.ipynb",
   "provenance": []
  },
  "kernelspec": {
   "display_name": "Python 3",
   "language": "python",
   "name": "python3"
  },
  "language_info": {
   "codemirror_mode": {
    "name": "ipython",
    "version": 3
   },
   "file_extension": ".py",
   "mimetype": "text/x-python",
   "name": "python",
   "nbconvert_exporter": "python",
   "pygments_lexer": "ipython3",
   "version": "3.8.5"
  }
 },
 "nbformat": 4,
 "nbformat_minor": 4
}
