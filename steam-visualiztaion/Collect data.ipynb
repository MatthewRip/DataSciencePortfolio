{
 "cells": [
  {
   "cell_type": "markdown",
   "metadata": {},
   "source": [
    "# Steam \n",
    "\n",
    "Scraping "
   ]
  },
  {
   "cell_type": "code",
   "execution_count": 1,
   "metadata": {
    "ExecuteTime": {
     "end_time": "2022-07-11T13:11:43.410932Z",
     "start_time": "2022-07-11T13:11:41.725766Z"
    }
   },
   "outputs": [],
   "source": [
    "# dependencies\n",
    "from bs4 import BeautifulSoup\n",
    "import requests\n",
    "import json\n",
    "import pandas as pd"
   ]
  },
  {
   "cell_type": "code",
   "execution_count": 2,
   "metadata": {
    "ExecuteTime": {
     "end_time": "2022-07-11T13:11:43.429829Z",
     "start_time": "2022-07-11T13:11:43.410932Z"
    }
   },
   "outputs": [],
   "source": [
    "#\n",
    "url = 'https://store.steampowered.com/search/results/?query&start=0&count=50&dynamic_data=&sort_by=_ASC&snr=1_7_7_7000_7&filter=topsellers&infinite=1'"
   ]
  },
  {
   "cell_type": "code",
   "execution_count": 3,
   "metadata": {
    "ExecuteTime": {
     "end_time": "2022-07-11T13:11:43.445572Z",
     "start_time": "2022-07-11T13:11:43.433838Z"
    }
   },
   "outputs": [],
   "source": [
    "# scrap url and return html\n",
    "def scrap_data(url):\n",
    "    r = requests.get(url)\n",
    "    data = dict(r.json())\n",
    "    return data['results_html']"
   ]
  },
  {
   "cell_type": "code",
   "execution_count": 6,
   "metadata": {
    "ExecuteTime": {
     "end_time": "2022-07-11T13:12:05.865844Z",
     "start_time": "2022-07-11T13:12:05.012769Z"
    },
    "scrolled": true
   },
   "outputs": [],
   "source": [
    "data = scrap_data(url)"
   ]
  },
  {
   "cell_type": "code",
   "execution_count": 105,
   "metadata": {
    "ExecuteTime": {
     "end_time": "2022-07-11T14:08:34.553555Z",
     "start_time": "2022-07-11T14:08:34.538102Z"
    }
   },
   "outputs": [],
   "source": [
    "def parse_data(data):\n",
    "    soup = BeautifulSoup(data, 'html.parser')\n",
    "    games = soup.find_all('a')\n",
    "    for game in games:\n",
    "        title = game.find('span', {'class': 'title'}).text\n",
    "        price = game.find(\n",
    "            'div', {'class': 'search_price'}).get_text(\"\", strip=True).split('R')[1]\n",
    "        try:\n",
    "            discount_price = game.find(\n",
    "                'div', {'class': 'search_price'}).get_text(\"\", strip=True).split('R')[2]\n",
    "        except:\n",
    "            discount_price = price\n",
    "        discount_percent = game.find(\n",
    "            'div', {'class': 'search_discount'}).get_text(\"\", strip=True)\n",
    "        release_date = game.find('div', {'class': 'search_released'}).text\n",
    "        reviews = str(\n",
    "            game.find('span', {'data-tooltip-html': True})).split('=')\n",
    "        try:\n",
    "            reviews = str(\n",
    "                game.find('span', {'data-tooltip-html': True})).split('=')[2]\n",
    "        except e:\n",
    "            reviews = 'No reviews yet'\n",
    "        print(title)\n",
    "        print(price)\n",
    "        print(discount_price)\n",
    "        print(discount_percent)\n",
    "        print(release_date)\n",
    "        print(reviews)"
   ]
  },
  {
   "cell_type": "code",
   "execution_count": 106,
   "metadata": {
    "ExecuteTime": {
     "end_time": "2022-07-11T14:08:34.881520Z",
     "start_time": "2022-07-11T14:08:34.777527Z"
    }
   },
   "outputs": [
    {
     "name": "stdout",
     "output_type": "stream",
     "text": [
      "F1® 22\n",
      " 999.95\n",
      " 999.95\n",
      "\n",
      "30 Jun, 2022\n",
      "\"Mixed&lt;br&gt;65% of the 4,649 user reviews for this game are positive.\">\n",
      "</span>\n",
      "Monster Hunter Rise: Sunbreak\n",
      " 719.00\n",
      " 719.00\n",
      "\n",
      "29 Jun, 2022\n",
      "\"Mixed&lt;br&gt;67% of the 1,964 user reviews for this game are positive.\">\n",
      "</span>\n",
      "Raft\n",
      " 219.00\n",
      " 219.00\n",
      "\n",
      "20 Jun, 2022\n",
      "\"Very Positive&lt;br&gt;93% of the 162,788 user reviews for this game are positive.\">\n",
      "</span>\n",
      "ELDEN RING\n",
      " 849.00\n",
      " 849.00\n",
      "\n",
      "24 Feb, 2022\n",
      "\"Very Positive&lt;br&gt;90% of the 387,574 user reviews for this game are positive.\">\n",
      "</span>\n"
     ]
    },
    {
     "ename": "NameError",
     "evalue": "name 'e' is not defined",
     "output_type": "error",
     "traceback": [
      "\u001b[1;31m---------------------------------------------------------------------------\u001b[0m",
      "\u001b[1;31mIndexError\u001b[0m                                Traceback (most recent call last)",
      "\u001b[1;32m<ipython-input-105-b25054b113bf>\u001b[0m in \u001b[0;36mparse_data\u001b[1;34m(data)\u001b[0m\n\u001b[0;32m     18\u001b[0m         \u001b[1;32mtry\u001b[0m\u001b[1;33m:\u001b[0m\u001b[1;33m\u001b[0m\u001b[1;33m\u001b[0m\u001b[0m\n\u001b[1;32m---> 19\u001b[1;33m             reviews = str(\n\u001b[0m\u001b[0;32m     20\u001b[0m                 game.find('span', {'data-tooltip-html': True})).split('=')[2]\n",
      "\u001b[1;31mIndexError\u001b[0m: list index out of range",
      "\nDuring handling of the above exception, another exception occurred:\n",
      "\u001b[1;31mNameError\u001b[0m                                 Traceback (most recent call last)",
      "\u001b[1;32m<ipython-input-106-8841e83a2d65>\u001b[0m in \u001b[0;36m<module>\u001b[1;34m\u001b[0m\n\u001b[1;32m----> 1\u001b[1;33m \u001b[0mparse_data\u001b[0m\u001b[1;33m(\u001b[0m\u001b[0mdata\u001b[0m\u001b[1;33m)\u001b[0m\u001b[1;33m\u001b[0m\u001b[1;33m\u001b[0m\u001b[0m\n\u001b[0m",
      "\u001b[1;32m<ipython-input-105-b25054b113bf>\u001b[0m in \u001b[0;36mparse_data\u001b[1;34m(data)\u001b[0m\n\u001b[0;32m     19\u001b[0m             reviews = str(\n\u001b[0;32m     20\u001b[0m                 game.find('span', {'data-tooltip-html': True})).split('=')[2]\n\u001b[1;32m---> 21\u001b[1;33m         \u001b[1;32mexcept\u001b[0m \u001b[0me\u001b[0m\u001b[1;33m:\u001b[0m\u001b[1;33m\u001b[0m\u001b[1;33m\u001b[0m\u001b[0m\n\u001b[0m\u001b[0;32m     22\u001b[0m             \u001b[0mreviews\u001b[0m \u001b[1;33m=\u001b[0m \u001b[1;34m'No reviews yet'\u001b[0m\u001b[1;33m\u001b[0m\u001b[1;33m\u001b[0m\u001b[0m\n\u001b[0;32m     23\u001b[0m         \u001b[0mprint\u001b[0m\u001b[1;33m(\u001b[0m\u001b[0mtitle\u001b[0m\u001b[1;33m)\u001b[0m\u001b[1;33m\u001b[0m\u001b[1;33m\u001b[0m\u001b[0m\n",
      "\u001b[1;31mNameError\u001b[0m: name 'e' is not defined"
     ]
    }
   ],
   "source": [
    "parse_data(data)"
   ]
  },
  {
   "cell_type": "code",
   "execution_count": null,
   "metadata": {},
   "outputs": [],
   "source": []
  },
  {
   "cell_type": "code",
   "execution_count": null,
   "metadata": {},
   "outputs": [],
   "source": []
  }
 ],
 "metadata": {
  "hide_input": false,
  "kernelspec": {
   "display_name": "Python 3",
   "language": "python",
   "name": "python3"
  },
  "language_info": {
   "codemirror_mode": {
    "name": "ipython",
    "version": 3
   },
   "file_extension": ".py",
   "mimetype": "text/x-python",
   "name": "python",
   "nbconvert_exporter": "python",
   "pygments_lexer": "ipython3",
   "version": "3.8.5"
  }
 },
 "nbformat": 4,
 "nbformat_minor": 4
}
