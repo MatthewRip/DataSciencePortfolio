{
 "cells": [
  {
   "cell_type": "markdown",
   "metadata": {
    "ExecuteTime": {
     "end_time": "2022-08-05T09:43:13.901329Z",
     "start_time": "2022-08-05T09:43:13.892353Z"
    }
   },
   "source": [
    "# Recommender System\n",
    "\n",
    "\n",
    "What is a Recommendation System: <br/>\n",
    "- Recommendation engines are a subclass of machine learning which generally deal with ranking or rating products / users. Loosely defined, a recommender system is a system which predicts ratings a user might give to a specific item. These predictions will then be ranked and returned back to the user. <br/> <br/> They’re used by various large name companies like Google, Instagram, Spotify, Amazon, Reddit, Netflix etc. often to increase engagement with users and the platform. For example, Spotify would recommend songs similar to the ones you’ve repeatedly listened to or liked so that you can continue using their platform to listen to music. Amazon uses recommendations to suggest products to various users based on the data they have collected for that user.\n",
    "\n"
   ]
  },
  {
   "cell_type": "code",
   "execution_count": 24,
   "metadata": {
    "ExecuteTime": {
     "end_time": "2022-08-08T08:13:41.354647Z",
     "start_time": "2022-08-08T08:13:41.346669Z"
    }
   },
   "outputs": [],
   "source": [
    "# data processing\n",
    "import pandas as pd\n",
    "import numpy as np\n",
    "import re\n",
    "\n",
    "# visualization / plotting\n",
    "import matplotlib.pyplot as plt\n",
    "import seaborn as sns\n",
    "%matplotlib inline\n",
    "\n",
    "\n",
    "# \n",
    "from sklearn.feature_extraction.text import CountVectorizer\n",
    "from sklearn.feature_extraction.text import TfidfVectorizer\n",
    "# cosine similarity\n",
    "from sklearn.metrics.pairwise import linear_kernel, cosine_similarity\n",
    "\n",
    "\n",
    "\n",
    "\n",
    "# Unsupervised Learning\n",
    "# Import KMeans model\n",
    "from sklearn.cluster import KMeans"
   ]
  },
  {
   "cell_type": "code",
   "execution_count": 25,
   "metadata": {
    "ExecuteTime": {
     "end_time": "2022-08-08T08:13:43.255456Z",
     "start_time": "2022-08-08T08:13:41.671351Z"
    }
   },
   "outputs": [],
   "source": [
    "df = pd.read_csv('steam_game_data.csv')\n",
    "df.reset_index(drop=True, inplace=True)"
   ]
  },
  {
   "cell_type": "code",
   "execution_count": 26,
   "metadata": {
    "ExecuteTime": {
     "end_time": "2022-08-08T08:13:43.287389Z",
     "start_time": "2022-08-08T08:13:43.256480Z"
    }
   },
   "outputs": [
    {
     "data": {
      "text/html": [
       "<div>\n",
       "<style scoped>\n",
       "    .dataframe tbody tr th:only-of-type {\n",
       "        vertical-align: middle;\n",
       "    }\n",
       "\n",
       "    .dataframe tbody tr th {\n",
       "        vertical-align: top;\n",
       "    }\n",
       "\n",
       "    .dataframe thead th {\n",
       "        text-align: right;\n",
       "    }\n",
       "</style>\n",
       "<table border=\"1\" class=\"dataframe\">\n",
       "  <thead>\n",
       "    <tr style=\"text-align: right;\">\n",
       "      <th></th>\n",
       "      <th>Unnamed: 0</th>\n",
       "      <th>title</th>\n",
       "      <th>hyperlink</th>\n",
       "      <th>is game</th>\n",
       "      <th>Genres</th>\n",
       "      <th>main_genre</th>\n",
       "      <th>sub_genre</th>\n",
       "      <th>price_in_rand</th>\n",
       "      <th>discount_price</th>\n",
       "      <th>discount_percent</th>\n",
       "      <th>...</th>\n",
       "      <th>tags</th>\n",
       "      <th>developer</th>\n",
       "      <th>publisher</th>\n",
       "      <th>game description</th>\n",
       "      <th>release_year</th>\n",
       "      <th>release_month</th>\n",
       "      <th>release_day</th>\n",
       "      <th>percent_of_reviews_positive</th>\n",
       "      <th>number_of_reviews</th>\n",
       "      <th>category</th>\n",
       "    </tr>\n",
       "  </thead>\n",
       "  <tbody>\n",
       "    <tr>\n",
       "      <th>0</th>\n",
       "      <td>0</td>\n",
       "      <td>Counter-Strike: Global Offensive</td>\n",
       "      <td>https://store.steampowered.com/app/730/Counter...</td>\n",
       "      <td>All Games &gt; Free to Play Games &gt; Counter-Strik...</td>\n",
       "      <td>['Action,', 'Free', 'to', 'Play']</td>\n",
       "      <td>Action</td>\n",
       "      <td>Free to play</td>\n",
       "      <td>0.0</td>\n",
       "      <td>0.0</td>\n",
       "      <td>0</td>\n",
       "      <td>...</td>\n",
       "      <td>['FPS', 'Shooter', 'Multiplayer', 'Competitive...</td>\n",
       "      <td>Valve</td>\n",
       "      <td>Valve</td>\n",
       "      <td>About This Game Counter-Strike: Global Offensi...</td>\n",
       "      <td>2012</td>\n",
       "      <td>Aug</td>\n",
       "      <td>21</td>\n",
       "      <td>88</td>\n",
       "      <td>6545979</td>\n",
       "      <td>Games</td>\n",
       "    </tr>\n",
       "    <tr>\n",
       "      <th>1</th>\n",
       "      <td>1</td>\n",
       "      <td>Apex Legends™</td>\n",
       "      <td>https://store.steampowered.com/app/1172470/Ape...</td>\n",
       "      <td>All Games &gt; Action Games &gt; Apex Legends Offici...</td>\n",
       "      <td>['Action,', 'Adventure,', 'Free', 'to', 'Play']</td>\n",
       "      <td>Action</td>\n",
       "      <td>Adventure</td>\n",
       "      <td>0.0</td>\n",
       "      <td>0.0</td>\n",
       "      <td>0</td>\n",
       "      <td>...</td>\n",
       "      <td>['Free to Play', 'Multiplayer', 'Battle Royale...</td>\n",
       "      <td>Respawn Entertainment</td>\n",
       "      <td>Electronic Arts</td>\n",
       "      <td>About This Game Conquer with character in Apex...</td>\n",
       "      <td>2020</td>\n",
       "      <td>Nov</td>\n",
       "      <td>4</td>\n",
       "      <td>86</td>\n",
       "      <td>486153</td>\n",
       "      <td>Games</td>\n",
       "    </tr>\n",
       "    <tr>\n",
       "      <th>2</th>\n",
       "      <td>2</td>\n",
       "      <td>Stray</td>\n",
       "      <td>https://store.steampowered.com/app/1332010/Str...</td>\n",
       "      <td>All Games &gt; Adventure Games &gt; Annapurna Intera...</td>\n",
       "      <td>['Adventure,', 'Indie']</td>\n",
       "      <td>Adventure</td>\n",
       "      <td>Indie</td>\n",
       "      <td>195.0</td>\n",
       "      <td>195.0</td>\n",
       "      <td>0</td>\n",
       "      <td>...</td>\n",
       "      <td>['Cats', 'Adventure', 'Cyberpunk', 'Cute', 'At...</td>\n",
       "      <td>BlueTwelve Studio</td>\n",
       "      <td>Annapurna Interactive</td>\n",
       "      <td>About This Game Lost, alone and separated from...</td>\n",
       "      <td>2022</td>\n",
       "      <td>Jul</td>\n",
       "      <td>19</td>\n",
       "      <td>97</td>\n",
       "      <td>56406</td>\n",
       "      <td>Games</td>\n",
       "    </tr>\n",
       "    <tr>\n",
       "      <th>3</th>\n",
       "      <td>3</td>\n",
       "      <td>Grand Theft Auto V</td>\n",
       "      <td>https://store.steampowered.com/app/271590/Gran...</td>\n",
       "      <td>All Games &gt; Action Games &gt; Grand Theft Auto V</td>\n",
       "      <td>['Action,', 'Adventure']</td>\n",
       "      <td>Action</td>\n",
       "      <td>Adventure</td>\n",
       "      <td>0.0</td>\n",
       "      <td>0.0</td>\n",
       "      <td>0</td>\n",
       "      <td>...</td>\n",
       "      <td>['Open World', 'Action', 'Multiplayer', 'Autom...</td>\n",
       "      <td>Rockstar North</td>\n",
       "      <td>Rockstar Games</td>\n",
       "      <td>About This Game When a young street hustler, a...</td>\n",
       "      <td>2015</td>\n",
       "      <td>Apr</td>\n",
       "      <td>13</td>\n",
       "      <td>85</td>\n",
       "      <td>1251157</td>\n",
       "      <td>Games</td>\n",
       "    </tr>\n",
       "    <tr>\n",
       "      <th>4</th>\n",
       "      <td>4</td>\n",
       "      <td>MultiVersus</td>\n",
       "      <td>https://store.steampowered.com/app/1818750/Mul...</td>\n",
       "      <td>All Games &gt; Free to Play Games &gt; MultiVersus</td>\n",
       "      <td>['Action,', 'Free', 'to', 'Play']</td>\n",
       "      <td>Action</td>\n",
       "      <td>Free to play</td>\n",
       "      <td>0.0</td>\n",
       "      <td>0.0</td>\n",
       "      <td>0</td>\n",
       "      <td>...</td>\n",
       "      <td>['Multiplayer', 'Co-op', '2D Fighter', 'Action...</td>\n",
       "      <td>Player First Games</td>\n",
       "      <td>Warner Bros. Games</td>\n",
       "      <td>About This Game CharactersChoose from Harley Q...</td>\n",
       "      <td>2022</td>\n",
       "      <td>Jul</td>\n",
       "      <td>19</td>\n",
       "      <td>89</td>\n",
       "      <td>42353</td>\n",
       "      <td>Games</td>\n",
       "    </tr>\n",
       "  </tbody>\n",
       "</table>\n",
       "<p>5 rows × 22 columns</p>\n",
       "</div>"
      ],
      "text/plain": [
       "   Unnamed: 0                             title  \\\n",
       "0           0  Counter-Strike: Global Offensive   \n",
       "1           1                     Apex Legends™   \n",
       "2           2                             Stray   \n",
       "3           3                Grand Theft Auto V   \n",
       "4           4                       MultiVersus   \n",
       "\n",
       "                                           hyperlink  \\\n",
       "0  https://store.steampowered.com/app/730/Counter...   \n",
       "1  https://store.steampowered.com/app/1172470/Ape...   \n",
       "2  https://store.steampowered.com/app/1332010/Str...   \n",
       "3  https://store.steampowered.com/app/271590/Gran...   \n",
       "4  https://store.steampowered.com/app/1818750/Mul...   \n",
       "\n",
       "                                             is game  \\\n",
       "0  All Games > Free to Play Games > Counter-Strik...   \n",
       "1  All Games > Action Games > Apex Legends Offici...   \n",
       "2  All Games > Adventure Games > Annapurna Intera...   \n",
       "3      All Games > Action Games > Grand Theft Auto V   \n",
       "4       All Games > Free to Play Games > MultiVersus   \n",
       "\n",
       "                                            Genres main_genre     sub_genre  \\\n",
       "0                ['Action,', 'Free', 'to', 'Play']     Action  Free to play   \n",
       "1  ['Action,', 'Adventure,', 'Free', 'to', 'Play']     Action     Adventure   \n",
       "2                          ['Adventure,', 'Indie']  Adventure         Indie   \n",
       "3                         ['Action,', 'Adventure']     Action     Adventure   \n",
       "4                ['Action,', 'Free', 'to', 'Play']     Action  Free to play   \n",
       "\n",
       "   price_in_rand  discount_price  discount_percent  ...  \\\n",
       "0            0.0             0.0                 0  ...   \n",
       "1            0.0             0.0                 0  ...   \n",
       "2          195.0           195.0                 0  ...   \n",
       "3            0.0             0.0                 0  ...   \n",
       "4            0.0             0.0                 0  ...   \n",
       "\n",
       "                                                tags              developer  \\\n",
       "0  ['FPS', 'Shooter', 'Multiplayer', 'Competitive...                  Valve   \n",
       "1  ['Free to Play', 'Multiplayer', 'Battle Royale...  Respawn Entertainment   \n",
       "2  ['Cats', 'Adventure', 'Cyberpunk', 'Cute', 'At...      BlueTwelve Studio   \n",
       "3  ['Open World', 'Action', 'Multiplayer', 'Autom...         Rockstar North   \n",
       "4  ['Multiplayer', 'Co-op', '2D Fighter', 'Action...     Player First Games   \n",
       "\n",
       "               publisher                                   game description  \\\n",
       "0                  Valve  About This Game Counter-Strike: Global Offensi...   \n",
       "1        Electronic Arts  About This Game Conquer with character in Apex...   \n",
       "2  Annapurna Interactive  About This Game Lost, alone and separated from...   \n",
       "3         Rockstar Games  About This Game When a young street hustler, a...   \n",
       "4     Warner Bros. Games  About This Game CharactersChoose from Harley Q...   \n",
       "\n",
       "  release_year release_month  release_day percent_of_reviews_positive  \\\n",
       "0         2012           Aug           21                          88   \n",
       "1         2020           Nov            4                          86   \n",
       "2         2022           Jul           19                          97   \n",
       "3         2015           Apr           13                          85   \n",
       "4         2022           Jul           19                          89   \n",
       "\n",
       "   number_of_reviews  category  \n",
       "0            6545979     Games  \n",
       "1             486153     Games  \n",
       "2              56406     Games  \n",
       "3            1251157     Games  \n",
       "4              42353     Games  \n",
       "\n",
       "[5 rows x 22 columns]"
      ]
     },
     "execution_count": 26,
     "metadata": {},
     "output_type": "execute_result"
    }
   ],
   "source": [
    "df.head(5)"
   ]
  },
  {
   "cell_type": "code",
   "execution_count": 29,
   "metadata": {
    "ExecuteTime": {
     "end_time": "2022-08-08T08:13:52.336168Z",
     "start_time": "2022-08-08T08:13:52.313230Z"
    }
   },
   "outputs": [
    {
     "data": {
      "text/plain": [
       "(4629, 22)"
      ]
     },
     "execution_count": 29,
     "metadata": {},
     "output_type": "execute_result"
    }
   ],
   "source": [
    "df = df[df['number_of_reviews'] > 1000]\n",
    "df.shape"
   ]
  },
  {
   "cell_type": "code",
   "execution_count": 30,
   "metadata": {
    "ExecuteTime": {
     "end_time": "2022-08-08T08:13:53.575163Z",
     "start_time": "2022-08-08T08:13:53.556214Z"
    }
   },
   "outputs": [
    {
     "data": {
      "text/plain": [
       "39869                                 Deus Ex: The Fall\n",
       "39874                              Retirement Simulator\n",
       "39894                                        Postal III\n",
       "39935                                          Sacred 3\n",
       "40149                                        Cities XXL\n",
       "40459                                      Urban Empire\n",
       "40630                                     Edge of Space\n",
       "40824                             Sniper Art of Victory\n",
       "40873                       Tricolour Lovestory TrueEnd\n",
       "41298                                             Towns\n",
       "41990                                           Despair\n",
       "42100                                    Spacebase DF-9\n",
       "44356    Total War: WARHAMMER - Blood for the Blood God\n",
       "44361                                    Genesis Online\n",
       "44362    STAR WARS™: The Old Republic™  - Subscriptions\n",
       "44367                                             Godus\n",
       "44382                             Fallout 4 Season Pass\n",
       "44383                                              GASP\n",
       "44388                                             Godus\n",
       "49409                                      Kinetic Void\n",
       "Name: title, dtype: object"
      ]
     },
     "execution_count": 30,
     "metadata": {},
     "output_type": "execute_result"
    }
   ],
   "source": [
    "df['title'].tail(20)"
   ]
  },
  {
   "cell_type": "markdown",
   "metadata": {},
   "source": [
    "## User added tag based\n",
    "\n",
    "create user tag data for recommender."
   ]
  },
  {
   "cell_type": "code",
   "execution_count": 31,
   "metadata": {
    "ExecuteTime": {
     "end_time": "2022-08-08T08:13:56.499371Z",
     "start_time": "2022-08-08T08:13:56.481418Z"
    }
   },
   "outputs": [],
   "source": [
    "tag_based = df[['title','tags']]"
   ]
  },
  {
   "cell_type": "code",
   "execution_count": 32,
   "metadata": {
    "ExecuteTime": {
     "end_time": "2022-08-08T08:13:56.809590Z",
     "start_time": "2022-08-08T08:13:56.804604Z"
    }
   },
   "outputs": [],
   "source": [
    "# lets remove the [] \n",
    "def update_tags(tags):\n",
    "    return tags.replace('[','').replace(']','').replace(',','').replace(\"'\",'')"
   ]
  },
  {
   "cell_type": "code",
   "execution_count": 33,
   "metadata": {
    "ExecuteTime": {
     "end_time": "2022-08-08T08:13:57.164208Z",
     "start_time": "2022-08-08T08:13:57.139275Z"
    }
   },
   "outputs": [
    {
     "name": "stderr",
     "output_type": "stream",
     "text": [
      "<ipython-input-33-b7a44f1b38dd>:1: SettingWithCopyWarning: \n",
      "A value is trying to be set on a copy of a slice from a DataFrame.\n",
      "Try using .loc[row_indexer,col_indexer] = value instead\n",
      "\n",
      "See the caveats in the documentation: https://pandas.pydata.org/pandas-docs/stable/user_guide/indexing.html#returning-a-view-versus-a-copy\n",
      "  tag_based['tags'] = tag_based['tags'].apply(update_tags)\n"
     ]
    }
   ],
   "source": [
    "tag_based['tags'] = tag_based['tags'].apply(update_tags)"
   ]
  },
  {
   "cell_type": "code",
   "execution_count": 34,
   "metadata": {
    "ExecuteTime": {
     "end_time": "2022-08-08T08:13:57.585627Z",
     "start_time": "2022-08-08T08:13:57.565668Z"
    }
   },
   "outputs": [
    {
     "data": {
      "text/html": [
       "<div>\n",
       "<style scoped>\n",
       "    .dataframe tbody tr th:only-of-type {\n",
       "        vertical-align: middle;\n",
       "    }\n",
       "\n",
       "    .dataframe tbody tr th {\n",
       "        vertical-align: top;\n",
       "    }\n",
       "\n",
       "    .dataframe thead th {\n",
       "        text-align: right;\n",
       "    }\n",
       "</style>\n",
       "<table border=\"1\" class=\"dataframe\">\n",
       "  <thead>\n",
       "    <tr style=\"text-align: right;\">\n",
       "      <th></th>\n",
       "      <th>title</th>\n",
       "      <th>tags</th>\n",
       "    </tr>\n",
       "  </thead>\n",
       "  <tbody>\n",
       "    <tr>\n",
       "      <th>0</th>\n",
       "      <td>Counter-Strike: Global Offensive</td>\n",
       "      <td>FPS Shooter Multiplayer Competitive Action Tea...</td>\n",
       "    </tr>\n",
       "    <tr>\n",
       "      <th>1</th>\n",
       "      <td>Apex Legends™</td>\n",
       "      <td>Free to Play Multiplayer Battle Royale Shooter...</td>\n",
       "    </tr>\n",
       "    <tr>\n",
       "      <th>2</th>\n",
       "      <td>Stray</td>\n",
       "      <td>Cats Adventure Cyberpunk Cute Atmospheric Expl...</td>\n",
       "    </tr>\n",
       "    <tr>\n",
       "      <th>3</th>\n",
       "      <td>Grand Theft Auto V</td>\n",
       "      <td>Open World Action Multiplayer Automobile Sim C...</td>\n",
       "    </tr>\n",
       "    <tr>\n",
       "      <th>4</th>\n",
       "      <td>MultiVersus</td>\n",
       "      <td>Multiplayer Co-op 2D Fighter Action Competitiv...</td>\n",
       "    </tr>\n",
       "    <tr>\n",
       "      <th>...</th>\n",
       "      <td>...</td>\n",
       "      <td>...</td>\n",
       "    </tr>\n",
       "    <tr>\n",
       "      <th>44367</th>\n",
       "      <td>Godus</td>\n",
       "      <td>God Game Strategy Simulation Indie Kickstarter...</td>\n",
       "    </tr>\n",
       "    <tr>\n",
       "      <th>44382</th>\n",
       "      <td>Fallout 4 Season Pass</td>\n",
       "      <td>RPG Open World Post-apocalyptic Singleplayer A...</td>\n",
       "    </tr>\n",
       "    <tr>\n",
       "      <th>44383</th>\n",
       "      <td>GASP</td>\n",
       "      <td>Free to Play Space Simulation Action Survival ...</td>\n",
       "    </tr>\n",
       "    <tr>\n",
       "      <th>44388</th>\n",
       "      <td>Godus</td>\n",
       "      <td>God Game Strategy Simulation Indie Kickstarter...</td>\n",
       "    </tr>\n",
       "    <tr>\n",
       "      <th>49409</th>\n",
       "      <td>Kinetic Void</td>\n",
       "      <td>Space Simulation Indie Action Sandbox Sci-fi S...</td>\n",
       "    </tr>\n",
       "  </tbody>\n",
       "</table>\n",
       "<p>4629 rows × 2 columns</p>\n",
       "</div>"
      ],
      "text/plain": [
       "                                  title  \\\n",
       "0      Counter-Strike: Global Offensive   \n",
       "1                         Apex Legends™   \n",
       "2                                 Stray   \n",
       "3                    Grand Theft Auto V   \n",
       "4                           MultiVersus   \n",
       "...                                 ...   \n",
       "44367                             Godus   \n",
       "44382             Fallout 4 Season Pass   \n",
       "44383                              GASP   \n",
       "44388                             Godus   \n",
       "49409                      Kinetic Void   \n",
       "\n",
       "                                                    tags  \n",
       "0      FPS Shooter Multiplayer Competitive Action Tea...  \n",
       "1      Free to Play Multiplayer Battle Royale Shooter...  \n",
       "2      Cats Adventure Cyberpunk Cute Atmospheric Expl...  \n",
       "3      Open World Action Multiplayer Automobile Sim C...  \n",
       "4      Multiplayer Co-op 2D Fighter Action Competitiv...  \n",
       "...                                                  ...  \n",
       "44367  God Game Strategy Simulation Indie Kickstarter...  \n",
       "44382  RPG Open World Post-apocalyptic Singleplayer A...  \n",
       "44383  Free to Play Space Simulation Action Survival ...  \n",
       "44388  God Game Strategy Simulation Indie Kickstarter...  \n",
       "49409  Space Simulation Indie Action Sandbox Sci-fi S...  \n",
       "\n",
       "[4629 rows x 2 columns]"
      ]
     },
     "execution_count": 34,
     "metadata": {},
     "output_type": "execute_result"
    }
   ],
   "source": [
    "tag_based"
   ]
  },
  {
   "cell_type": "code",
   "execution_count": 35,
   "metadata": {
    "ExecuteTime": {
     "end_time": "2022-08-08T08:13:58.219029Z",
     "start_time": "2022-08-08T08:13:58.215040Z"
    }
   },
   "outputs": [
    {
     "data": {
      "text/plain": [
       "'FPS Shooter Multiplayer Competitive Action Team-Based eSports Tactical First-Person PvP Online Co-Op Co-op Strategy Military War Difficult Trading Realistic Fast-Paced Moddable'"
      ]
     },
     "execution_count": 35,
     "metadata": {},
     "output_type": "execute_result"
    }
   ],
   "source": [
    "tag_based['tags'].iloc[0]"
   ]
  },
  {
   "cell_type": "code",
   "execution_count": 36,
   "metadata": {
    "ExecuteTime": {
     "end_time": "2022-08-08T08:13:59.656527Z",
     "start_time": "2022-08-08T08:13:59.279487Z"
    }
   },
   "outputs": [],
   "source": [
    "# create an instance of the vertorizer\n",
    "vectorizer = TfidfVectorizer(max_features=50, ngram_range=(1,3))\n",
    "#\n",
    "matrix = vectorizer.fit_transform(tag_based.tags)"
   ]
  },
  {
   "cell_type": "code",
   "execution_count": 37,
   "metadata": {
    "ExecuteTime": {
     "end_time": "2022-08-08T08:14:00.275508Z",
     "start_time": "2022-08-08T08:14:00.264537Z"
    }
   },
   "outputs": [
    {
     "data": {
      "text/plain": [
       "<4629x50 sparse matrix of type '<class 'numpy.float64'>'\n",
       "\twith 61691 stored elements in Compressed Sparse Row format>"
      ]
     },
     "execution_count": 37,
     "metadata": {},
     "output_type": "execute_result"
    }
   ],
   "source": [
    "matrix"
   ]
  },
  {
   "cell_type": "code",
   "execution_count": 38,
   "metadata": {
    "ExecuteTime": {
     "end_time": "2022-08-08T08:14:01.275522Z",
     "start_time": "2022-08-08T08:14:01.260057Z"
    }
   },
   "outputs": [],
   "source": [
    "# matrix = pd.DataFrame(matrix.todense())\n",
    "matrix = pd.DataFrame(matrix.A, columns=vectorizer.get_feature_names())"
   ]
  },
  {
   "cell_type": "code",
   "execution_count": 39,
   "metadata": {
    "ExecuteTime": {
     "end_time": "2022-08-08T08:14:02.125328Z",
     "start_time": "2022-08-08T08:14:02.106380Z"
    }
   },
   "outputs": [
    {
     "data": {
      "text/html": [
       "<div>\n",
       "<style scoped>\n",
       "    .dataframe tbody tr th:only-of-type {\n",
       "        vertical-align: middle;\n",
       "    }\n",
       "\n",
       "    .dataframe tbody tr th {\n",
       "        vertical-align: top;\n",
       "    }\n",
       "\n",
       "    .dataframe thead th {\n",
       "        text-align: right;\n",
       "    }\n",
       "</style>\n",
       "<table border=\"1\" class=\"dataframe\">\n",
       "  <thead>\n",
       "    <tr style=\"text-align: right;\">\n",
       "      <th></th>\n",
       "      <th>2d</th>\n",
       "      <th>action</th>\n",
       "      <th>adventure</th>\n",
       "      <th>atmospheric</th>\n",
       "      <th>based</th>\n",
       "      <th>casual</th>\n",
       "      <th>co</th>\n",
       "      <th>co op</th>\n",
       "      <th>difficult</th>\n",
       "      <th>fantasy</th>\n",
       "      <th>...</th>\n",
       "      <th>story rich</th>\n",
       "      <th>strategy</th>\n",
       "      <th>survival</th>\n",
       "      <th>third</th>\n",
       "      <th>third person</th>\n",
       "      <th>to</th>\n",
       "      <th>to play</th>\n",
       "      <th>turn</th>\n",
       "      <th>turn based</th>\n",
       "      <th>world</th>\n",
       "    </tr>\n",
       "  </thead>\n",
       "  <tbody>\n",
       "    <tr>\n",
       "      <th>0</th>\n",
       "      <td>0.000000</td>\n",
       "      <td>0.139870</td>\n",
       "      <td>0.000000</td>\n",
       "      <td>0.000000</td>\n",
       "      <td>0.262860</td>\n",
       "      <td>0.000000</td>\n",
       "      <td>0.414733</td>\n",
       "      <td>0.414733</td>\n",
       "      <td>0.258321</td>\n",
       "      <td>0.000000</td>\n",
       "      <td>...</td>\n",
       "      <td>0.000000</td>\n",
       "      <td>0.202864</td>\n",
       "      <td>0.000000</td>\n",
       "      <td>0.000000</td>\n",
       "      <td>0.000000</td>\n",
       "      <td>0.000000</td>\n",
       "      <td>0.000000</td>\n",
       "      <td>0.0</td>\n",
       "      <td>0.0</td>\n",
       "      <td>0.000000</td>\n",
       "    </tr>\n",
       "    <tr>\n",
       "      <th>1</th>\n",
       "      <td>0.000000</td>\n",
       "      <td>0.119483</td>\n",
       "      <td>0.000000</td>\n",
       "      <td>0.000000</td>\n",
       "      <td>0.224547</td>\n",
       "      <td>0.000000</td>\n",
       "      <td>0.177141</td>\n",
       "      <td>0.177141</td>\n",
       "      <td>0.000000</td>\n",
       "      <td>0.000000</td>\n",
       "      <td>...</td>\n",
       "      <td>0.000000</td>\n",
       "      <td>0.000000</td>\n",
       "      <td>0.215462</td>\n",
       "      <td>0.000000</td>\n",
       "      <td>0.000000</td>\n",
       "      <td>0.218023</td>\n",
       "      <td>0.218023</td>\n",
       "      <td>0.0</td>\n",
       "      <td>0.0</td>\n",
       "      <td>0.000000</td>\n",
       "    </tr>\n",
       "    <tr>\n",
       "      <th>2</th>\n",
       "      <td>0.000000</td>\n",
       "      <td>0.169489</td>\n",
       "      <td>0.177629</td>\n",
       "      <td>0.232252</td>\n",
       "      <td>0.000000</td>\n",
       "      <td>0.000000</td>\n",
       "      <td>0.000000</td>\n",
       "      <td>0.000000</td>\n",
       "      <td>0.000000</td>\n",
       "      <td>0.000000</td>\n",
       "      <td>...</td>\n",
       "      <td>0.000000</td>\n",
       "      <td>0.000000</td>\n",
       "      <td>0.000000</td>\n",
       "      <td>0.308998</td>\n",
       "      <td>0.308998</td>\n",
       "      <td>0.000000</td>\n",
       "      <td>0.000000</td>\n",
       "      <td>0.0</td>\n",
       "      <td>0.0</td>\n",
       "      <td>0.250216</td>\n",
       "    </tr>\n",
       "    <tr>\n",
       "      <th>3</th>\n",
       "      <td>0.000000</td>\n",
       "      <td>0.102514</td>\n",
       "      <td>0.107436</td>\n",
       "      <td>0.140475</td>\n",
       "      <td>0.000000</td>\n",
       "      <td>0.000000</td>\n",
       "      <td>0.151983</td>\n",
       "      <td>0.151983</td>\n",
       "      <td>0.000000</td>\n",
       "      <td>0.000000</td>\n",
       "      <td>...</td>\n",
       "      <td>0.000000</td>\n",
       "      <td>0.000000</td>\n",
       "      <td>0.000000</td>\n",
       "      <td>0.373788</td>\n",
       "      <td>0.373788</td>\n",
       "      <td>0.000000</td>\n",
       "      <td>0.000000</td>\n",
       "      <td>0.0</td>\n",
       "      <td>0.0</td>\n",
       "      <td>0.151340</td>\n",
       "    </tr>\n",
       "    <tr>\n",
       "      <th>4</th>\n",
       "      <td>0.597183</td>\n",
       "      <td>0.127329</td>\n",
       "      <td>0.000000</td>\n",
       "      <td>0.000000</td>\n",
       "      <td>0.000000</td>\n",
       "      <td>0.000000</td>\n",
       "      <td>0.188774</td>\n",
       "      <td>0.188774</td>\n",
       "      <td>0.000000</td>\n",
       "      <td>0.226197</td>\n",
       "      <td>...</td>\n",
       "      <td>0.000000</td>\n",
       "      <td>0.000000</td>\n",
       "      <td>0.000000</td>\n",
       "      <td>0.000000</td>\n",
       "      <td>0.000000</td>\n",
       "      <td>0.232340</td>\n",
       "      <td>0.232340</td>\n",
       "      <td>0.0</td>\n",
       "      <td>0.0</td>\n",
       "      <td>0.000000</td>\n",
       "    </tr>\n",
       "    <tr>\n",
       "      <th>...</th>\n",
       "      <td>...</td>\n",
       "      <td>...</td>\n",
       "      <td>...</td>\n",
       "      <td>...</td>\n",
       "      <td>...</td>\n",
       "      <td>...</td>\n",
       "      <td>...</td>\n",
       "      <td>...</td>\n",
       "      <td>...</td>\n",
       "      <td>...</td>\n",
       "      <td>...</td>\n",
       "      <td>...</td>\n",
       "      <td>...</td>\n",
       "      <td>...</td>\n",
       "      <td>...</td>\n",
       "      <td>...</td>\n",
       "      <td>...</td>\n",
       "      <td>...</td>\n",
       "      <td>...</td>\n",
       "      <td>...</td>\n",
       "      <td>...</td>\n",
       "    </tr>\n",
       "    <tr>\n",
       "      <th>4624</th>\n",
       "      <td>0.000000</td>\n",
       "      <td>0.000000</td>\n",
       "      <td>0.162798</td>\n",
       "      <td>0.000000</td>\n",
       "      <td>0.000000</td>\n",
       "      <td>0.237148</td>\n",
       "      <td>0.000000</td>\n",
       "      <td>0.000000</td>\n",
       "      <td>0.000000</td>\n",
       "      <td>0.000000</td>\n",
       "      <td>...</td>\n",
       "      <td>0.000000</td>\n",
       "      <td>0.225300</td>\n",
       "      <td>0.000000</td>\n",
       "      <td>0.000000</td>\n",
       "      <td>0.000000</td>\n",
       "      <td>0.283450</td>\n",
       "      <td>0.283450</td>\n",
       "      <td>0.0</td>\n",
       "      <td>0.0</td>\n",
       "      <td>0.229325</td>\n",
       "    </tr>\n",
       "    <tr>\n",
       "      <th>4625</th>\n",
       "      <td>0.000000</td>\n",
       "      <td>0.098622</td>\n",
       "      <td>0.103358</td>\n",
       "      <td>0.135143</td>\n",
       "      <td>0.000000</td>\n",
       "      <td>0.000000</td>\n",
       "      <td>0.000000</td>\n",
       "      <td>0.000000</td>\n",
       "      <td>0.000000</td>\n",
       "      <td>0.000000</td>\n",
       "      <td>...</td>\n",
       "      <td>0.146119</td>\n",
       "      <td>0.000000</td>\n",
       "      <td>0.177844</td>\n",
       "      <td>0.359599</td>\n",
       "      <td>0.359599</td>\n",
       "      <td>0.000000</td>\n",
       "      <td>0.000000</td>\n",
       "      <td>0.0</td>\n",
       "      <td>0.0</td>\n",
       "      <td>0.145596</td>\n",
       "    </tr>\n",
       "    <tr>\n",
       "      <th>4626</th>\n",
       "      <td>0.000000</td>\n",
       "      <td>0.121486</td>\n",
       "      <td>0.127320</td>\n",
       "      <td>0.000000</td>\n",
       "      <td>0.000000</td>\n",
       "      <td>0.185467</td>\n",
       "      <td>0.000000</td>\n",
       "      <td>0.000000</td>\n",
       "      <td>0.000000</td>\n",
       "      <td>0.000000</td>\n",
       "      <td>...</td>\n",
       "      <td>0.000000</td>\n",
       "      <td>0.176202</td>\n",
       "      <td>0.219075</td>\n",
       "      <td>0.000000</td>\n",
       "      <td>0.000000</td>\n",
       "      <td>0.221679</td>\n",
       "      <td>0.221679</td>\n",
       "      <td>0.0</td>\n",
       "      <td>0.0</td>\n",
       "      <td>0.179350</td>\n",
       "    </tr>\n",
       "    <tr>\n",
       "      <th>4627</th>\n",
       "      <td>0.000000</td>\n",
       "      <td>0.000000</td>\n",
       "      <td>0.162798</td>\n",
       "      <td>0.000000</td>\n",
       "      <td>0.000000</td>\n",
       "      <td>0.237148</td>\n",
       "      <td>0.000000</td>\n",
       "      <td>0.000000</td>\n",
       "      <td>0.000000</td>\n",
       "      <td>0.000000</td>\n",
       "      <td>...</td>\n",
       "      <td>0.000000</td>\n",
       "      <td>0.225300</td>\n",
       "      <td>0.000000</td>\n",
       "      <td>0.000000</td>\n",
       "      <td>0.000000</td>\n",
       "      <td>0.283450</td>\n",
       "      <td>0.283450</td>\n",
       "      <td>0.0</td>\n",
       "      <td>0.0</td>\n",
       "      <td>0.229325</td>\n",
       "    </tr>\n",
       "    <tr>\n",
       "      <th>4628</th>\n",
       "      <td>0.000000</td>\n",
       "      <td>0.189402</td>\n",
       "      <td>0.198498</td>\n",
       "      <td>0.000000</td>\n",
       "      <td>0.000000</td>\n",
       "      <td>0.000000</td>\n",
       "      <td>0.000000</td>\n",
       "      <td>0.000000</td>\n",
       "      <td>0.000000</td>\n",
       "      <td>0.000000</td>\n",
       "      <td>...</td>\n",
       "      <td>0.000000</td>\n",
       "      <td>0.000000</td>\n",
       "      <td>0.000000</td>\n",
       "      <td>0.000000</td>\n",
       "      <td>0.000000</td>\n",
       "      <td>0.000000</td>\n",
       "      <td>0.000000</td>\n",
       "      <td>0.0</td>\n",
       "      <td>0.0</td>\n",
       "      <td>0.279613</td>\n",
       "    </tr>\n",
       "  </tbody>\n",
       "</table>\n",
       "<p>4629 rows × 50 columns</p>\n",
       "</div>"
      ],
      "text/plain": [
       "            2d    action  adventure  atmospheric     based    casual  \\\n",
       "0     0.000000  0.139870   0.000000     0.000000  0.262860  0.000000   \n",
       "1     0.000000  0.119483   0.000000     0.000000  0.224547  0.000000   \n",
       "2     0.000000  0.169489   0.177629     0.232252  0.000000  0.000000   \n",
       "3     0.000000  0.102514   0.107436     0.140475  0.000000  0.000000   \n",
       "4     0.597183  0.127329   0.000000     0.000000  0.000000  0.000000   \n",
       "...        ...       ...        ...          ...       ...       ...   \n",
       "4624  0.000000  0.000000   0.162798     0.000000  0.000000  0.237148   \n",
       "4625  0.000000  0.098622   0.103358     0.135143  0.000000  0.000000   \n",
       "4626  0.000000  0.121486   0.127320     0.000000  0.000000  0.185467   \n",
       "4627  0.000000  0.000000   0.162798     0.000000  0.000000  0.237148   \n",
       "4628  0.000000  0.189402   0.198498     0.000000  0.000000  0.000000   \n",
       "\n",
       "            co     co op  difficult   fantasy  ...  story rich  strategy  \\\n",
       "0     0.414733  0.414733   0.258321  0.000000  ...    0.000000  0.202864   \n",
       "1     0.177141  0.177141   0.000000  0.000000  ...    0.000000  0.000000   \n",
       "2     0.000000  0.000000   0.000000  0.000000  ...    0.000000  0.000000   \n",
       "3     0.151983  0.151983   0.000000  0.000000  ...    0.000000  0.000000   \n",
       "4     0.188774  0.188774   0.000000  0.226197  ...    0.000000  0.000000   \n",
       "...        ...       ...        ...       ...  ...         ...       ...   \n",
       "4624  0.000000  0.000000   0.000000  0.000000  ...    0.000000  0.225300   \n",
       "4625  0.000000  0.000000   0.000000  0.000000  ...    0.146119  0.000000   \n",
       "4626  0.000000  0.000000   0.000000  0.000000  ...    0.000000  0.176202   \n",
       "4627  0.000000  0.000000   0.000000  0.000000  ...    0.000000  0.225300   \n",
       "4628  0.000000  0.000000   0.000000  0.000000  ...    0.000000  0.000000   \n",
       "\n",
       "      survival     third  third person        to   to play  turn  turn based  \\\n",
       "0     0.000000  0.000000      0.000000  0.000000  0.000000   0.0         0.0   \n",
       "1     0.215462  0.000000      0.000000  0.218023  0.218023   0.0         0.0   \n",
       "2     0.000000  0.308998      0.308998  0.000000  0.000000   0.0         0.0   \n",
       "3     0.000000  0.373788      0.373788  0.000000  0.000000   0.0         0.0   \n",
       "4     0.000000  0.000000      0.000000  0.232340  0.232340   0.0         0.0   \n",
       "...        ...       ...           ...       ...       ...   ...         ...   \n",
       "4624  0.000000  0.000000      0.000000  0.283450  0.283450   0.0         0.0   \n",
       "4625  0.177844  0.359599      0.359599  0.000000  0.000000   0.0         0.0   \n",
       "4626  0.219075  0.000000      0.000000  0.221679  0.221679   0.0         0.0   \n",
       "4627  0.000000  0.000000      0.000000  0.283450  0.283450   0.0         0.0   \n",
       "4628  0.000000  0.000000      0.000000  0.000000  0.000000   0.0         0.0   \n",
       "\n",
       "         world  \n",
       "0     0.000000  \n",
       "1     0.000000  \n",
       "2     0.250216  \n",
       "3     0.151340  \n",
       "4     0.000000  \n",
       "...        ...  \n",
       "4624  0.229325  \n",
       "4625  0.145596  \n",
       "4626  0.179350  \n",
       "4627  0.229325  \n",
       "4628  0.279613  \n",
       "\n",
       "[4629 rows x 50 columns]"
      ]
     },
     "execution_count": 39,
     "metadata": {},
     "output_type": "execute_result"
    }
   ],
   "source": [
    "matrix"
   ]
  },
  {
   "cell_type": "code",
   "execution_count": 40,
   "metadata": {
    "ExecuteTime": {
     "end_time": "2022-08-08T08:14:02.607095Z",
     "start_time": "2022-08-08T08:14:02.598119Z"
    }
   },
   "outputs": [
    {
     "data": {
      "text/plain": [
       "Index(['2d', 'action', 'adventure', 'atmospheric', 'based', 'casual', 'co',\n",
       "       'co op', 'difficult', 'fantasy', 'fi', 'first', 'first person', 'fps',\n",
       "       'free', 'free to', 'free to play', 'funny', 'great', 'great soundtrack',\n",
       "       'horror', 'indie', 'multiplayer', 'op', 'open', 'open world', 'person',\n",
       "       'platformer', 'play', 'puzzle', 'rich', 'rpg', 'sandbox', 'sci fi',\n",
       "       'shooter', 'sim', 'simulation', 'singleplayer', 'soundtrack', 'story',\n",
       "       'story rich', 'strategy', 'survival', 'third', 'third person', 'to',\n",
       "       'to play', 'turn', 'turn based', 'world'],\n",
       "      dtype='object')"
      ]
     },
     "execution_count": 40,
     "metadata": {},
     "output_type": "execute_result"
    }
   ],
   "source": [
    "matrix.columns"
   ]
  },
  {
   "cell_type": "code",
   "execution_count": 69,
   "metadata": {
    "ExecuteTime": {
     "end_time": "2022-08-08T08:33:58.816427Z",
     "start_time": "2022-08-08T08:33:58.800470Z"
    }
   },
   "outputs": [],
   "source": [
    "K = 5"
   ]
  },
  {
   "cell_type": "code",
   "execution_count": 63,
   "metadata": {
    "ExecuteTime": {
     "end_time": "2022-08-08T08:32:49.005245Z",
     "start_time": "2022-08-08T08:32:48.702963Z"
    }
   },
   "outputs": [
    {
     "data": {
      "text/plain": [
       "KMeans(n_clusters=10, random_state=42)"
      ]
     },
     "execution_count": 63,
     "metadata": {},
     "output_type": "execute_result"
    }
   ],
   "source": [
    "km = KMeans(n_clusters=K, random_state=42)\n",
    "km.fit(matrix)"
   ]
  },
  {
   "cell_type": "code",
   "execution_count": 64,
   "metadata": {
    "ExecuteTime": {
     "end_time": "2022-08-08T08:32:49.021202Z",
     "start_time": "2022-08-08T08:32:49.007240Z"
    }
   },
   "outputs": [],
   "source": [
    "# obtain cluster memberships for each item in the data\n",
    "y_preds = km.predict(matrix)\n",
    "df['cluster_label'] = y_preds\n",
    "\n",
    "centers = km.cluster_centers_\n",
    "\n",
    "# if scaled\n",
    "# centers = scaler.inverse_transform(km.cluster_centers_)"
   ]
  },
  {
   "cell_type": "code",
   "execution_count": 65,
   "metadata": {
    "ExecuteTime": {
     "end_time": "2022-08-08T08:32:49.583850Z",
     "start_time": "2022-08-08T08:32:49.574873Z"
    }
   },
   "outputs": [],
   "source": [
    "# # plot data\n",
    "# plt.figure(dpi=120)\n",
    "# for k in range(K):\n",
    "#     x1 = df[df['cluster_label'] == k]['feature_0']\n",
    "#     x2 = df[df['cluster_label'] == k]['feature_1']\n",
    "#     plt.scatter(x1, x2, label=\"k = \"+str(k+1))\n",
    "\n",
    "# # show cluster centroid locations\n",
    "# plt.scatter(centers[:,0],centers[:,1],label=\"centroid\")\n",
    "\n",
    "\n",
    "# plt.legend()\n",
    "# plt.title(\"K = 4\")\n",
    "# plt.xlabel('Feature 1')\n",
    "# plt.ylabel('Feature 2')"
   ]
  },
  {
   "cell_type": "code",
   "execution_count": null,
   "metadata": {},
   "outputs": [],
   "source": []
  },
  {
   "cell_type": "code",
   "execution_count": 66,
   "metadata": {
    "ExecuteTime": {
     "end_time": "2022-08-08T08:32:50.499031Z",
     "start_time": "2022-08-08T08:32:50.481079Z"
    }
   },
   "outputs": [],
   "source": [
    "# Manually implement the WCSS\n",
    "def within_cluster_variation(df, label_col='label'):\n",
    "    centroids = df.groupby(label_col).mean()\n",
    "    out = 0\n",
    "    for label, point in centroids.iterrows():\n",
    "        df_features = df[df[label_col] == label].drop(label_col, axis=1)\n",
    "        out += (df_features - point).pow(2).sum(axis=1).sum()\n",
    "    return out"
   ]
  },
  {
   "cell_type": "code",
   "execution_count": 67,
   "metadata": {
    "ExecuteTime": {
     "end_time": "2022-08-08T08:32:59.472946Z",
     "start_time": "2022-08-08T08:32:50.773842Z"
    }
   },
   "outputs": [],
   "source": [
    "# let's try everything between 2 and 20 clusters\n",
    "n_clusters = np.arange(2, 21)\n",
    "\n",
    "# store errors for each value of k\n",
    "errors = []\n",
    "\n",
    "# for i between 2 and 20\n",
    "for k in n_clusters:\n",
    "    # perform k-means clustering\n",
    "    km = KMeans(n_clusters=k, n_init=10, max_iter=100, random_state=42)\n",
    "    km.fit(matrix)\n",
    "\n",
    "    # measure BCSS\n",
    "\n",
    "    y_preds = km.predict(matrix)\n",
    "    df['cluster_label'] = y_preds\n",
    "    errors.append(within_cluster_variation(df,'cluster_label'))"
   ]
  },
  {
   "cell_type": "code",
   "execution_count": 68,
   "metadata": {
    "ExecuteTime": {
     "end_time": "2022-08-08T08:32:59.660973Z",
     "start_time": "2022-08-08T08:32:59.474941Z"
    }
   },
   "outputs": [
    {
     "data": {
      "image/png": "[encoded data removed]",
      "text/plain": [
       "<Figure size 864x576 with 1 Axes>"
      ]
     },
     "metadata": {
      "needs_background": "light"
     },
     "output_type": "display_data"
    }
   ],
   "source": [
    "plt.figure(figsize=(12,8))\n",
    "plt.xlabel('Number of Clusters (k)')\n",
    "plt.ylabel('Within-Cluster Sum of Squares (WCSS)')\n",
    "plt.title('Elbow Method for Determining Optimal Value of k')\n",
    "plt.scatter(n_clusters, errors)\n",
    "plt.plot(n_clusters, errors)\n",
    "plt.xticks(n_clusters)\n",
    "plt.show()"
   ]
  },
  {
   "cell_type": "code",
   "execution_count": null,
   "metadata": {},
   "outputs": [],
   "source": []
  },
  {
   "cell_type": "code",
   "execution_count": null,
   "metadata": {},
   "outputs": [],
   "source": []
  },
  {
   "cell_type": "code",
   "execution_count": null,
   "metadata": {},
   "outputs": [],
   "source": []
  },
  {
   "cell_type": "code",
   "execution_count": null,
   "metadata": {},
   "outputs": [],
   "source": []
  },
  {
   "cell_type": "code",
   "execution_count": null,
   "metadata": {},
   "outputs": [],
   "source": []
  },
  {
   "cell_type": "code",
   "execution_count": null,
   "metadata": {},
   "outputs": [],
   "source": []
  },
  {
   "cell_type": "code",
   "execution_count": null,
   "metadata": {},
   "outputs": [],
   "source": []
  },
  {
   "cell_type": "code",
   "execution_count": null,
   "metadata": {},
   "outputs": [],
   "source": []
  },
  {
   "cell_type": "code",
   "execution_count": null,
   "metadata": {},
   "outputs": [],
   "source": []
  },
  {
   "cell_type": "code",
   "execution_count": null,
   "metadata": {},
   "outputs": [],
   "source": []
  },
  {
   "cell_type": "code",
   "execution_count": null,
   "metadata": {},
   "outputs": [],
   "source": []
  },
  {
   "cell_type": "code",
   "execution_count": null,
   "metadata": {},
   "outputs": [],
   "source": []
  },
  {
   "cell_type": "code",
   "execution_count": null,
   "metadata": {},
   "outputs": [],
   "source": []
  },
  {
   "cell_type": "code",
   "execution_count": null,
   "metadata": {},
   "outputs": [],
   "source": []
  },
  {
   "cell_type": "code",
   "execution_count": 41,
   "metadata": {
    "ExecuteTime": {
     "end_time": "2022-08-06T12:24:22.763677Z",
     "start_time": "2022-08-06T12:24:22.536764Z"
    }
   },
   "outputs": [],
   "source": [
    "# this will create a csv of cosin because of memory issue\n",
    "\n",
    "# # https://stackoverflow.com/questions/231767/what-does-the-yield-keyword-do\n",
    "# # https://codereview.stackexchange.com/questions/171701/applying-scikit-learn-linear-kernel-with-a-generator-for-low-memory-pressure\n",
    "\n",
    "# def cos_compare(matrix):\n",
    "#     for i in range(0, matrix.shape[0]):\n",
    "#         x = linear_kernel(matrix[i],matrix)\n",
    "#         yield i,x\n",
    "\n",
    "\n",
    "\n",
    "\n",
    "# try:\n",
    "#     with open('cosine_data.csv','a') as f:\n",
    "#         for i,x in cos_compare(matrix):\n",
    "#             if i%100 == 0:\n",
    "#                 print('Saving Row {} of {}:'.format(i, matrix.shape[0]))\n",
    "#             pd.DataFrame(x).to_csv(f, header=False,index=False,mode='a')\n",
    "\n",
    "# finally:\n",
    "#     cosine_data = pd.read_csv('cosine_data.csv', header=None)\n",
    "#     print(cosine_data.head())"
   ]
  },
  {
   "cell_type": "code",
   "execution_count": null,
   "metadata": {
    "ExecuteTime": {
     "end_time": "2022-08-06T12:24:24.872928Z",
     "start_time": "2022-08-06T12:24:24.378194Z"
    }
   },
   "outputs": [],
   "source": []
  },
  {
   "cell_type": "code",
   "execution_count": 43,
   "metadata": {
    "ExecuteTime": {
     "end_time": "2022-08-06T12:24:33.597643Z",
     "start_time": "2022-08-06T12:24:33.560742Z"
    }
   },
   "outputs": [],
   "source": [
    "# unsupervised"
   ]
  },
  {
   "cell_type": "code",
   "execution_count": 92,
   "metadata": {
    "ExecuteTime": {
     "end_time": "2022-08-06T13:01:53.201069Z",
     "start_time": "2022-08-06T13:01:53.185112Z"
    }
   },
   "outputs": [
    {
     "data": {
      "text/plain": [
       "<1x50 sparse matrix of type '<class 'numpy.int64'>'\n",
       "\twith 9 stored elements in Compressed Sparse Row format>"
      ]
     },
     "execution_count": 92,
     "metadata": {},
     "output_type": "execute_result"
    }
   ],
   "source": [
    "matrix[0]"
   ]
  },
  {
   "cell_type": "code",
   "execution_count": 93,
   "metadata": {
    "ExecuteTime": {
     "end_time": "2022-08-06T13:01:56.577558Z",
     "start_time": "2022-08-06T13:01:56.564593Z"
    }
   },
   "outputs": [],
   "source": [
    "cosine_sim = linear_kernel(matrix[0],matrix[2])"
   ]
  },
  {
   "cell_type": "code",
   "execution_count": 99,
   "metadata": {
    "ExecuteTime": {
     "end_time": "2022-08-06T13:02:49.241767Z",
     "start_time": "2022-08-06T13:02:49.228800Z"
    }
   },
   "outputs": [
    {
     "data": {
      "text/plain": [
       "array([[0.87576054]])"
      ]
     },
     "execution_count": 99,
     "metadata": {},
     "output_type": "execute_result"
    }
   ],
   "source": [
    "cosine_similarity(matrix[3],matrix[5])"
   ]
  },
  {
   "cell_type": "code",
   "execution_count": null,
   "metadata": {},
   "outputs": [],
   "source": []
  },
  {
   "cell_type": "code",
   "execution_count": 65,
   "metadata": {
    "ExecuteTime": {
     "end_time": "2022-08-06T12:53:37.122719Z",
     "start_time": "2022-08-06T12:53:37.047865Z"
    }
   },
   "outputs": [
    {
     "data": {
      "text/html": [
       "<div>\n",
       "<style scoped>\n",
       "    .dataframe tbody tr th:only-of-type {\n",
       "        vertical-align: middle;\n",
       "    }\n",
       "\n",
       "    .dataframe tbody tr th {\n",
       "        vertical-align: top;\n",
       "    }\n",
       "\n",
       "    .dataframe thead th {\n",
       "        text-align: right;\n",
       "    }\n",
       "</style>\n",
       "<table border=\"1\" class=\"dataframe\">\n",
       "  <thead>\n",
       "    <tr style=\"text-align: right;\">\n",
       "      <th></th>\n",
       "      <th>title</th>\n",
       "      <th>tags</th>\n",
       "    </tr>\n",
       "  </thead>\n",
       "  <tbody>\n",
       "    <tr>\n",
       "      <th>0</th>\n",
       "      <td>Counter-Strike: Global Offensive</td>\n",
       "      <td>FPS Shooter Multiplayer Competitive Action Tea...</td>\n",
       "    </tr>\n",
       "    <tr>\n",
       "      <th>1</th>\n",
       "      <td>Apex Legends™</td>\n",
       "      <td>Free to Play Multiplayer Battle Royale Shooter...</td>\n",
       "    </tr>\n",
       "    <tr>\n",
       "      <th>2</th>\n",
       "      <td>Stray</td>\n",
       "      <td>Cats Adventure Cyberpunk Cute Atmospheric Expl...</td>\n",
       "    </tr>\n",
       "    <tr>\n",
       "      <th>3</th>\n",
       "      <td>Grand Theft Auto V</td>\n",
       "      <td>Open World Action Multiplayer Automobile Sim C...</td>\n",
       "    </tr>\n",
       "    <tr>\n",
       "      <th>4</th>\n",
       "      <td>MultiVersus</td>\n",
       "      <td>Multiplayer Co-op 2D Fighter Action Competitiv...</td>\n",
       "    </tr>\n",
       "    <tr>\n",
       "      <th>5</th>\n",
       "      <td>Red Dead Redemption 2</td>\n",
       "      <td>Open World Adventure Story Rich Western Action...</td>\n",
       "    </tr>\n",
       "    <tr>\n",
       "      <th>6</th>\n",
       "      <td>Rust</td>\n",
       "      <td>Survival Crafting Multiplayer Open World Open ...</td>\n",
       "    </tr>\n",
       "    <tr>\n",
       "      <th>7</th>\n",
       "      <td>PUBG: BATTLEGROUNDS</td>\n",
       "      <td>Survival Shooter Multiplayer Battle Royale FPS...</td>\n",
       "    </tr>\n",
       "    <tr>\n",
       "      <th>8</th>\n",
       "      <td>Destiny 2</td>\n",
       "      <td>Free to Play Open World Looter Shooter FPS PvP...</td>\n",
       "    </tr>\n",
       "    <tr>\n",
       "      <th>9</th>\n",
       "      <td>MONSTER HUNTER RISE</td>\n",
       "      <td>Action Online Co-Op RPG Hunting Action RPG JRP...</td>\n",
       "    </tr>\n",
       "  </tbody>\n",
       "</table>\n",
       "</div>"
      ],
      "text/plain": [
       "                              title  \\\n",
       "0  Counter-Strike: Global Offensive   \n",
       "1                     Apex Legends™   \n",
       "2                             Stray   \n",
       "3                Grand Theft Auto V   \n",
       "4                       MultiVersus   \n",
       "5             Red Dead Redemption 2   \n",
       "6                              Rust   \n",
       "7               PUBG: BATTLEGROUNDS   \n",
       "8                         Destiny 2   \n",
       "9               MONSTER HUNTER RISE   \n",
       "\n",
       "                                                tags  \n",
       "0  FPS Shooter Multiplayer Competitive Action Tea...  \n",
       "1  Free to Play Multiplayer Battle Royale Shooter...  \n",
       "2  Cats Adventure Cyberpunk Cute Atmospheric Expl...  \n",
       "3  Open World Action Multiplayer Automobile Sim C...  \n",
       "4  Multiplayer Co-op 2D Fighter Action Competitiv...  \n",
       "5  Open World Adventure Story Rich Western Action...  \n",
       "6  Survival Crafting Multiplayer Open World Open ...  \n",
       "7  Survival Shooter Multiplayer Battle Royale FPS...  \n",
       "8  Free to Play Open World Looter Shooter FPS PvP...  \n",
       "9  Action Online Co-Op RPG Hunting Action RPG JRP...  "
      ]
     },
     "execution_count": 65,
     "metadata": {},
     "output_type": "execute_result"
    }
   ],
   "source": [
    "tag_based.head(10)"
   ]
  },
  {
   "cell_type": "code",
   "execution_count": null,
   "metadata": {},
   "outputs": [],
   "source": []
  },
  {
   "cell_type": "code",
   "execution_count": null,
   "metadata": {},
   "outputs": [],
   "source": []
  },
  {
   "cell_type": "code",
   "execution_count": null,
   "metadata": {},
   "outputs": [],
   "source": []
  },
  {
   "cell_type": "code",
   "execution_count": null,
   "metadata": {},
   "outputs": [],
   "source": []
  },
  {
   "cell_type": "code",
   "execution_count": null,
   "metadata": {},
   "outputs": [],
   "source": []
  },
  {
   "cell_type": "code",
   "execution_count": null,
   "metadata": {},
   "outputs": [],
   "source": []
  }
 ],
 "metadata": {
  "kernelspec": {
   "display_name": "Python 3",
   "language": "python",
   "name": "python3"
  },
  "language_info": {
   "codemirror_mode": {
    "name": "ipython",
    "version": 3
   },
   "file_extension": ".py",
   "mimetype": "text/x-python",
   "name": "python",
   "nbconvert_exporter": "python",
   "pygments_lexer": "ipython3",
   "version": "3.8.5"
  }
 },
 "nbformat": 4,
 "nbformat_minor": 4
}
