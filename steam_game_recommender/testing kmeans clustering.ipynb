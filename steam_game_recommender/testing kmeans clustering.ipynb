{
 "cells": [
  {
   "cell_type": "markdown",
   "metadata": {},
   "source": [
    "look into spicy similarity vectors !"
   ]
  },
  {
   "cell_type": "code",
   "execution_count": null,
   "metadata": {},
   "outputs": [],
   "source": []
  },
  {
   "cell_type": "code",
   "execution_count": null,
   "metadata": {},
   "outputs": [],
   "source": []
  },
  {
   "cell_type": "code",
   "execution_count": null,
   "metadata": {},
   "outputs": [],
   "source": []
  },
  {
   "cell_type": "code",
   "execution_count": null,
   "metadata": {},
   "outputs": [],
   "source": []
  },
  {
   "cell_type": "code",
   "execution_count": null,
   "metadata": {},
   "outputs": [],
   "source": []
  },
  {
   "cell_type": "code",
   "execution_count": 1,
   "metadata": {
    "ExecuteTime": {
     "end_time": "2022-09-19T08:41:14.793995Z",
     "start_time": "2022-09-19T08:41:13.911438Z"
    }
   },
   "outputs": [],
   "source": [
    "import pandas as pd"
   ]
  },
  {
   "cell_type": "code",
   "execution_count": 2,
   "metadata": {
    "ExecuteTime": {
     "end_time": "2022-09-19T08:41:16.727725Z",
     "start_time": "2022-09-19T08:41:14.793995Z"
    }
   },
   "outputs": [],
   "source": [
    "df = pd.read_csv('steam_game_data.csv')"
   ]
  },
  {
   "cell_type": "code",
   "execution_count": 3,
   "metadata": {
    "ExecuteTime": {
     "end_time": "2022-09-19T08:41:16.788234Z",
     "start_time": "2022-09-19T08:41:16.727725Z"
    }
   },
   "outputs": [
    {
     "data": {
      "text/html": [
       "<div>\n",
       "<style scoped>\n",
       "    .dataframe tbody tr th:only-of-type {\n",
       "        vertical-align: middle;\n",
       "    }\n",
       "\n",
       "    .dataframe tbody tr th {\n",
       "        vertical-align: top;\n",
       "    }\n",
       "\n",
       "    .dataframe thead th {\n",
       "        text-align: right;\n",
       "    }\n",
       "</style>\n",
       "<table border=\"1\" class=\"dataframe\">\n",
       "  <thead>\n",
       "    <tr style=\"text-align: right;\">\n",
       "      <th></th>\n",
       "      <th>Unnamed: 0</th>\n",
       "      <th>title</th>\n",
       "      <th>hyperlink</th>\n",
       "      <th>is game</th>\n",
       "      <th>Genres</th>\n",
       "      <th>main_genre</th>\n",
       "      <th>sub_genre</th>\n",
       "      <th>price_in_rand</th>\n",
       "      <th>discount_price</th>\n",
       "      <th>discount_percent</th>\n",
       "      <th>...</th>\n",
       "      <th>tags</th>\n",
       "      <th>developer</th>\n",
       "      <th>publisher</th>\n",
       "      <th>game description</th>\n",
       "      <th>release_year</th>\n",
       "      <th>release_month</th>\n",
       "      <th>release_day</th>\n",
       "      <th>percent_of_reviews_positive</th>\n",
       "      <th>number_of_reviews</th>\n",
       "      <th>category</th>\n",
       "    </tr>\n",
       "  </thead>\n",
       "  <tbody>\n",
       "    <tr>\n",
       "      <th>0</th>\n",
       "      <td>0</td>\n",
       "      <td>Counter-Strike: Global Offensive</td>\n",
       "      <td>https://store.steampowered.com/app/730/Counter...</td>\n",
       "      <td>All Games &gt; Free to Play Games &gt; Counter-Strik...</td>\n",
       "      <td>['Action,', 'Free', 'to', 'Play']</td>\n",
       "      <td>Action</td>\n",
       "      <td>Free to play</td>\n",
       "      <td>0.0</td>\n",
       "      <td>0.0</td>\n",
       "      <td>0</td>\n",
       "      <td>...</td>\n",
       "      <td>['FPS', 'Shooter', 'Multiplayer', 'Competitive...</td>\n",
       "      <td>Valve</td>\n",
       "      <td>Valve</td>\n",
       "      <td>About This Game Counter-Strike: Global Offensi...</td>\n",
       "      <td>2012</td>\n",
       "      <td>Aug</td>\n",
       "      <td>21</td>\n",
       "      <td>88</td>\n",
       "      <td>6545979</td>\n",
       "      <td>Games</td>\n",
       "    </tr>\n",
       "    <tr>\n",
       "      <th>1</th>\n",
       "      <td>1</td>\n",
       "      <td>Apex Legends™</td>\n",
       "      <td>https://store.steampowered.com/app/1172470/Ape...</td>\n",
       "      <td>All Games &gt; Action Games &gt; Apex Legends Offici...</td>\n",
       "      <td>['Action,', 'Adventure,', 'Free', 'to', 'Play']</td>\n",
       "      <td>Action</td>\n",
       "      <td>Adventure</td>\n",
       "      <td>0.0</td>\n",
       "      <td>0.0</td>\n",
       "      <td>0</td>\n",
       "      <td>...</td>\n",
       "      <td>['Free to Play', 'Multiplayer', 'Battle Royale...</td>\n",
       "      <td>Respawn Entertainment</td>\n",
       "      <td>Electronic Arts</td>\n",
       "      <td>About This Game Conquer with character in Apex...</td>\n",
       "      <td>2020</td>\n",
       "      <td>Nov</td>\n",
       "      <td>4</td>\n",
       "      <td>86</td>\n",
       "      <td>486153</td>\n",
       "      <td>Games</td>\n",
       "    </tr>\n",
       "    <tr>\n",
       "      <th>2</th>\n",
       "      <td>2</td>\n",
       "      <td>Stray</td>\n",
       "      <td>https://store.steampowered.com/app/1332010/Str...</td>\n",
       "      <td>All Games &gt; Adventure Games &gt; Annapurna Intera...</td>\n",
       "      <td>['Adventure,', 'Indie']</td>\n",
       "      <td>Adventure</td>\n",
       "      <td>Indie</td>\n",
       "      <td>195.0</td>\n",
       "      <td>195.0</td>\n",
       "      <td>0</td>\n",
       "      <td>...</td>\n",
       "      <td>['Cats', 'Adventure', 'Cyberpunk', 'Cute', 'At...</td>\n",
       "      <td>BlueTwelve Studio</td>\n",
       "      <td>Annapurna Interactive</td>\n",
       "      <td>About This Game Lost, alone and separated from...</td>\n",
       "      <td>2022</td>\n",
       "      <td>Jul</td>\n",
       "      <td>19</td>\n",
       "      <td>97</td>\n",
       "      <td>56406</td>\n",
       "      <td>Games</td>\n",
       "    </tr>\n",
       "    <tr>\n",
       "      <th>3</th>\n",
       "      <td>3</td>\n",
       "      <td>Grand Theft Auto V</td>\n",
       "      <td>https://store.steampowered.com/app/271590/Gran...</td>\n",
       "      <td>All Games &gt; Action Games &gt; Grand Theft Auto V</td>\n",
       "      <td>['Action,', 'Adventure']</td>\n",
       "      <td>Action</td>\n",
       "      <td>Adventure</td>\n",
       "      <td>0.0</td>\n",
       "      <td>0.0</td>\n",
       "      <td>0</td>\n",
       "      <td>...</td>\n",
       "      <td>['Open World', 'Action', 'Multiplayer', 'Autom...</td>\n",
       "      <td>Rockstar North</td>\n",
       "      <td>Rockstar Games</td>\n",
       "      <td>About This Game When a young street hustler, a...</td>\n",
       "      <td>2015</td>\n",
       "      <td>Apr</td>\n",
       "      <td>13</td>\n",
       "      <td>85</td>\n",
       "      <td>1251157</td>\n",
       "      <td>Games</td>\n",
       "    </tr>\n",
       "    <tr>\n",
       "      <th>4</th>\n",
       "      <td>4</td>\n",
       "      <td>MultiVersus</td>\n",
       "      <td>https://store.steampowered.com/app/1818750/Mul...</td>\n",
       "      <td>All Games &gt; Free to Play Games &gt; MultiVersus</td>\n",
       "      <td>['Action,', 'Free', 'to', 'Play']</td>\n",
       "      <td>Action</td>\n",
       "      <td>Free to play</td>\n",
       "      <td>0.0</td>\n",
       "      <td>0.0</td>\n",
       "      <td>0</td>\n",
       "      <td>...</td>\n",
       "      <td>['Multiplayer', 'Co-op', '2D Fighter', 'Action...</td>\n",
       "      <td>Player First Games</td>\n",
       "      <td>Warner Bros. Games</td>\n",
       "      <td>About This Game CharactersChoose from Harley Q...</td>\n",
       "      <td>2022</td>\n",
       "      <td>Jul</td>\n",
       "      <td>19</td>\n",
       "      <td>89</td>\n",
       "      <td>42353</td>\n",
       "      <td>Games</td>\n",
       "    </tr>\n",
       "  </tbody>\n",
       "</table>\n",
       "<p>5 rows × 22 columns</p>\n",
       "</div>"
      ],
      "text/plain": [
       "   Unnamed: 0                             title  \\\n",
       "0           0  Counter-Strike: Global Offensive   \n",
       "1           1                     Apex Legends™   \n",
       "2           2                             Stray   \n",
       "3           3                Grand Theft Auto V   \n",
       "4           4                       MultiVersus   \n",
       "\n",
       "                                           hyperlink  \\\n",
       "0  https://store.steampowered.com/app/730/Counter...   \n",
       "1  https://store.steampowered.com/app/1172470/Ape...   \n",
       "2  https://store.steampowered.com/app/1332010/Str...   \n",
       "3  https://store.steampowered.com/app/271590/Gran...   \n",
       "4  https://store.steampowered.com/app/1818750/Mul...   \n",
       "\n",
       "                                             is game  \\\n",
       "0  All Games > Free to Play Games > Counter-Strik...   \n",
       "1  All Games > Action Games > Apex Legends Offici...   \n",
       "2  All Games > Adventure Games > Annapurna Intera...   \n",
       "3      All Games > Action Games > Grand Theft Auto V   \n",
       "4       All Games > Free to Play Games > MultiVersus   \n",
       "\n",
       "                                            Genres main_genre     sub_genre  \\\n",
       "0                ['Action,', 'Free', 'to', 'Play']     Action  Free to play   \n",
       "1  ['Action,', 'Adventure,', 'Free', 'to', 'Play']     Action     Adventure   \n",
       "2                          ['Adventure,', 'Indie']  Adventure         Indie   \n",
       "3                         ['Action,', 'Adventure']     Action     Adventure   \n",
       "4                ['Action,', 'Free', 'to', 'Play']     Action  Free to play   \n",
       "\n",
       "   price_in_rand  discount_price  discount_percent  ...  \\\n",
       "0            0.0             0.0                 0  ...   \n",
       "1            0.0             0.0                 0  ...   \n",
       "2          195.0           195.0                 0  ...   \n",
       "3            0.0             0.0                 0  ...   \n",
       "4            0.0             0.0                 0  ...   \n",
       "\n",
       "                                                tags              developer  \\\n",
       "0  ['FPS', 'Shooter', 'Multiplayer', 'Competitive...                  Valve   \n",
       "1  ['Free to Play', 'Multiplayer', 'Battle Royale...  Respawn Entertainment   \n",
       "2  ['Cats', 'Adventure', 'Cyberpunk', 'Cute', 'At...      BlueTwelve Studio   \n",
       "3  ['Open World', 'Action', 'Multiplayer', 'Autom...         Rockstar North   \n",
       "4  ['Multiplayer', 'Co-op', '2D Fighter', 'Action...     Player First Games   \n",
       "\n",
       "               publisher                                   game description  \\\n",
       "0                  Valve  About This Game Counter-Strike: Global Offensi...   \n",
       "1        Electronic Arts  About This Game Conquer with character in Apex...   \n",
       "2  Annapurna Interactive  About This Game Lost, alone and separated from...   \n",
       "3         Rockstar Games  About This Game When a young street hustler, a...   \n",
       "4     Warner Bros. Games  About This Game CharactersChoose from Harley Q...   \n",
       "\n",
       "  release_year release_month  release_day percent_of_reviews_positive  \\\n",
       "0         2012           Aug           21                          88   \n",
       "1         2020           Nov            4                          86   \n",
       "2         2022           Jul           19                          97   \n",
       "3         2015           Apr           13                          85   \n",
       "4         2022           Jul           19                          89   \n",
       "\n",
       "   number_of_reviews  category  \n",
       "0            6545979     Games  \n",
       "1             486153     Games  \n",
       "2              56406     Games  \n",
       "3            1251157     Games  \n",
       "4              42353     Games  \n",
       "\n",
       "[5 rows x 22 columns]"
      ]
     },
     "execution_count": 3,
     "metadata": {},
     "output_type": "execute_result"
    }
   ],
   "source": [
    "df.head()"
   ]
  },
  {
   "cell_type": "code",
   "execution_count": 4,
   "metadata": {
    "ExecuteTime": {
     "end_time": "2022-09-19T08:41:16.820240Z",
     "start_time": "2022-09-19T08:41:16.788234Z"
    }
   },
   "outputs": [
    {
     "data": {
      "text/html": [
       "<div>\n",
       "<style scoped>\n",
       "    .dataframe tbody tr th:only-of-type {\n",
       "        vertical-align: middle;\n",
       "    }\n",
       "\n",
       "    .dataframe tbody tr th {\n",
       "        vertical-align: top;\n",
       "    }\n",
       "\n",
       "    .dataframe thead th {\n",
       "        text-align: right;\n",
       "    }\n",
       "</style>\n",
       "<table border=\"1\" class=\"dataframe\">\n",
       "  <thead>\n",
       "    <tr style=\"text-align: right;\">\n",
       "      <th></th>\n",
       "      <th>title</th>\n",
       "      <th>tags</th>\n",
       "    </tr>\n",
       "  </thead>\n",
       "  <tbody>\n",
       "    <tr>\n",
       "      <th>0</th>\n",
       "      <td>Counter-Strike: Global Offensive</td>\n",
       "      <td>['FPS', 'Shooter', 'Multiplayer', 'Competitive...</td>\n",
       "    </tr>\n",
       "    <tr>\n",
       "      <th>1</th>\n",
       "      <td>Apex Legends™</td>\n",
       "      <td>['Free to Play', 'Multiplayer', 'Battle Royale...</td>\n",
       "    </tr>\n",
       "    <tr>\n",
       "      <th>2</th>\n",
       "      <td>Stray</td>\n",
       "      <td>['Cats', 'Adventure', 'Cyberpunk', 'Cute', 'At...</td>\n",
       "    </tr>\n",
       "    <tr>\n",
       "      <th>3</th>\n",
       "      <td>Grand Theft Auto V</td>\n",
       "      <td>['Open World', 'Action', 'Multiplayer', 'Autom...</td>\n",
       "    </tr>\n",
       "    <tr>\n",
       "      <th>4</th>\n",
       "      <td>MultiVersus</td>\n",
       "      <td>['Multiplayer', 'Co-op', '2D Fighter', 'Action...</td>\n",
       "    </tr>\n",
       "  </tbody>\n",
       "</table>\n",
       "</div>"
      ],
      "text/plain": [
       "                              title  \\\n",
       "0  Counter-Strike: Global Offensive   \n",
       "1                     Apex Legends™   \n",
       "2                             Stray   \n",
       "3                Grand Theft Auto V   \n",
       "4                       MultiVersus   \n",
       "\n",
       "                                                tags  \n",
       "0  ['FPS', 'Shooter', 'Multiplayer', 'Competitive...  \n",
       "1  ['Free to Play', 'Multiplayer', 'Battle Royale...  \n",
       "2  ['Cats', 'Adventure', 'Cyberpunk', 'Cute', 'At...  \n",
       "3  ['Open World', 'Action', 'Multiplayer', 'Autom...  \n",
       "4  ['Multiplayer', 'Co-op', '2D Fighter', 'Action...  "
      ]
     },
     "execution_count": 4,
     "metadata": {},
     "output_type": "execute_result"
    }
   ],
   "source": [
    "df = df[['title', 'tags']]\n",
    "df.head()"
   ]
  },
  {
   "cell_type": "code",
   "execution_count": 5,
   "metadata": {
    "ExecuteTime": {
     "end_time": "2022-09-19T08:41:16.836240Z",
     "start_time": "2022-09-19T08:41:16.820240Z"
    }
   },
   "outputs": [],
   "source": [
    "def clean(string):\n",
    "    return string.replace('[','').replace(']','').replace(\"'\",'')"
   ]
  },
  {
   "cell_type": "code",
   "execution_count": 6,
   "metadata": {
    "ExecuteTime": {
     "end_time": "2022-09-19T08:41:16.988259Z",
     "start_time": "2022-09-19T08:41:16.836240Z"
    }
   },
   "outputs": [],
   "source": [
    "df['tags'] = df['tags'].apply(clean)"
   ]
  },
  {
   "cell_type": "code",
   "execution_count": 7,
   "metadata": {
    "ExecuteTime": {
     "end_time": "2022-09-19T08:41:17.004258Z",
     "start_time": "2022-09-19T08:41:16.988259Z"
    }
   },
   "outputs": [
    {
     "data": {
      "text/html": [
       "<div>\n",
       "<style scoped>\n",
       "    .dataframe tbody tr th:only-of-type {\n",
       "        vertical-align: middle;\n",
       "    }\n",
       "\n",
       "    .dataframe tbody tr th {\n",
       "        vertical-align: top;\n",
       "    }\n",
       "\n",
       "    .dataframe thead th {\n",
       "        text-align: right;\n",
       "    }\n",
       "</style>\n",
       "<table border=\"1\" class=\"dataframe\">\n",
       "  <thead>\n",
       "    <tr style=\"text-align: right;\">\n",
       "      <th></th>\n",
       "      <th>title</th>\n",
       "      <th>tags</th>\n",
       "    </tr>\n",
       "  </thead>\n",
       "  <tbody>\n",
       "    <tr>\n",
       "      <th>0</th>\n",
       "      <td>Counter-Strike: Global Offensive</td>\n",
       "      <td>FPS, Shooter, Multiplayer, Competitive, Action...</td>\n",
       "    </tr>\n",
       "    <tr>\n",
       "      <th>1</th>\n",
       "      <td>Apex Legends™</td>\n",
       "      <td>Free to Play, Multiplayer, Battle Royale, Shoo...</td>\n",
       "    </tr>\n",
       "    <tr>\n",
       "      <th>2</th>\n",
       "      <td>Stray</td>\n",
       "      <td>Cats, Adventure, Cyberpunk, Cute, Atmospheric,...</td>\n",
       "    </tr>\n",
       "    <tr>\n",
       "      <th>3</th>\n",
       "      <td>Grand Theft Auto V</td>\n",
       "      <td>Open World, Action, Multiplayer, Automobile Si...</td>\n",
       "    </tr>\n",
       "    <tr>\n",
       "      <th>4</th>\n",
       "      <td>MultiVersus</td>\n",
       "      <td>Multiplayer, Co-op, 2D Fighter, Action, Compet...</td>\n",
       "    </tr>\n",
       "    <tr>\n",
       "      <th>...</th>\n",
       "      <td>...</td>\n",
       "      <td>...</td>\n",
       "    </tr>\n",
       "    <tr>\n",
       "      <th>77806</th>\n",
       "      <td>Rising Islands - Art Book</td>\n",
       "      <td>Adventure, Indie</td>\n",
       "    </tr>\n",
       "    <tr>\n",
       "      <th>77807</th>\n",
       "      <td>Atrius Star</td>\n",
       "      <td>Action, Roguelite, Roguelike, Artificial Intel...</td>\n",
       "    </tr>\n",
       "    <tr>\n",
       "      <th>77808</th>\n",
       "      <td>Jigsaw Puzzle Pack - Pixel Puzzles Ultimate: T...</td>\n",
       "      <td>Indie, Casual, Simulation, Strategy, Action, S...</td>\n",
       "    </tr>\n",
       "    <tr>\n",
       "      <th>77809</th>\n",
       "      <td>Jigsaw Puzzle Pack - Pixel Puzzles Ultimate: M...</td>\n",
       "      <td>Indie, Casual, Simulation, Sports, Strategy, F...</td>\n",
       "    </tr>\n",
       "    <tr>\n",
       "      <th>77810</th>\n",
       "      <td>Mervils: A VR Adventure Demo</td>\n",
       "      <td>Adventure, RPG, VR, Platformer, Puzzle, Puzzle...</td>\n",
       "    </tr>\n",
       "  </tbody>\n",
       "</table>\n",
       "<p>77811 rows × 2 columns</p>\n",
       "</div>"
      ],
      "text/plain": [
       "                                                   title  \\\n",
       "0                       Counter-Strike: Global Offensive   \n",
       "1                                          Apex Legends™   \n",
       "2                                                  Stray   \n",
       "3                                     Grand Theft Auto V   \n",
       "4                                            MultiVersus   \n",
       "...                                                  ...   \n",
       "77806                          Rising Islands - Art Book   \n",
       "77807                                        Atrius Star   \n",
       "77808  Jigsaw Puzzle Pack - Pixel Puzzles Ultimate: T...   \n",
       "77809  Jigsaw Puzzle Pack - Pixel Puzzles Ultimate: M...   \n",
       "77810                       Mervils: A VR Adventure Demo   \n",
       "\n",
       "                                                    tags  \n",
       "0      FPS, Shooter, Multiplayer, Competitive, Action...  \n",
       "1      Free to Play, Multiplayer, Battle Royale, Shoo...  \n",
       "2      Cats, Adventure, Cyberpunk, Cute, Atmospheric,...  \n",
       "3      Open World, Action, Multiplayer, Automobile Si...  \n",
       "4      Multiplayer, Co-op, 2D Fighter, Action, Compet...  \n",
       "...                                                  ...  \n",
       "77806                                   Adventure, Indie  \n",
       "77807  Action, Roguelite, Roguelike, Artificial Intel...  \n",
       "77808  Indie, Casual, Simulation, Strategy, Action, S...  \n",
       "77809  Indie, Casual, Simulation, Sports, Strategy, F...  \n",
       "77810  Adventure, RPG, VR, Platformer, Puzzle, Puzzle...  \n",
       "\n",
       "[77811 rows x 2 columns]"
      ]
     },
     "execution_count": 7,
     "metadata": {},
     "output_type": "execute_result"
    }
   ],
   "source": [
    "df"
   ]
  },
  {
   "cell_type": "code",
   "execution_count": 8,
   "metadata": {
    "ExecuteTime": {
     "end_time": "2022-09-19T08:41:18.834469Z",
     "start_time": "2022-09-19T08:41:17.004258Z"
    }
   },
   "outputs": [],
   "source": [
    "from sklearn.feature_extraction.text import TfidfVectorizer"
   ]
  },
  {
   "cell_type": "code",
   "execution_count": null,
   "metadata": {
    "ExecuteTime": {
     "end_time": "2022-09-07T11:58:13.929829Z",
     "start_time": "2022-09-07T11:58:13.914871Z"
    }
   },
   "outputs": [],
   "source": []
  },
  {
   "cell_type": "code",
   "execution_count": 9,
   "metadata": {
    "ExecuteTime": {
     "end_time": "2022-09-19T08:41:19.452597Z",
     "start_time": "2022-09-19T08:41:18.834469Z"
    }
   },
   "outputs": [],
   "source": [
    "from nltk import SnowballStemmer, PorterStemmer, LancasterStemmer\n",
    "from nltk.stem import WordNetLemmatizer\n",
    "import nltk"
   ]
  },
  {
   "cell_type": "code",
   "execution_count": 10,
   "metadata": {
    "ExecuteTime": {
     "end_time": "2022-09-19T08:41:19.462196Z",
     "start_time": "2022-09-19T08:41:19.452597Z"
    }
   },
   "outputs": [],
   "source": [
    "# nltk.download('wordnet')\n",
    "lemmatizer = WordNetLemmatizer()\n",
    "\n",
    "def Lemming_tokenizer(str_input):\n",
    "    words = str_input.lower().split(',')\n",
    "    words = [lemmatizer.lemmatize(word.strip()) for word in words]\n",
    "    return words"
   ]
  },
  {
   "cell_type": "code",
   "execution_count": 11,
   "metadata": {
    "ExecuteTime": {
     "end_time": "2022-09-19T08:41:19.509928Z",
     "start_time": "2022-09-19T08:41:19.464257Z"
    }
   },
   "outputs": [],
   "source": [
    "vectorizer = TfidfVectorizer(tokenizer=Lemming_tokenizer,ngram_range=(1,2),max_features=100)"
   ]
  },
  {
   "cell_type": "code",
   "execution_count": 12,
   "metadata": {
    "ExecuteTime": {
     "end_time": "2022-09-19T08:41:19.541951Z",
     "start_time": "2022-09-19T08:41:19.509928Z"
    }
   },
   "outputs": [],
   "source": [
    "# vectorizer?"
   ]
  },
  {
   "cell_type": "code",
   "execution_count": 13,
   "metadata": {
    "ExecuteTime": {
     "end_time": "2022-09-19T08:41:19.573955Z",
     "start_time": "2022-09-19T08:41:19.541951Z"
    }
   },
   "outputs": [],
   "source": [
    "test = df[:10000]"
   ]
  },
  {
   "cell_type": "code",
   "execution_count": 14,
   "metadata": {
    "ExecuteTime": {
     "end_time": "2022-09-19T08:41:21.652127Z",
     "start_time": "2022-09-19T08:41:19.573955Z"
    }
   },
   "outputs": [],
   "source": [
    "X = vectorizer.fit_transform(test.tags).toarray()"
   ]
  },
  {
   "cell_type": "code",
   "execution_count": 15,
   "metadata": {
    "ExecuteTime": {
     "end_time": "2022-09-19T08:41:21.665779Z",
     "start_time": "2022-09-19T08:41:21.652127Z"
    }
   },
   "outputs": [
    {
     "data": {
      "text/plain": [
       "(10000, 100)"
      ]
     },
     "execution_count": 15,
     "metadata": {},
     "output_type": "execute_result"
    }
   ],
   "source": [
    "X.shape"
   ]
  },
  {
   "cell_type": "code",
   "execution_count": 16,
   "metadata": {
    "ExecuteTime": {
     "end_time": "2022-09-19T08:41:21.714105Z",
     "start_time": "2022-09-19T08:41:21.666784Z"
    }
   },
   "outputs": [],
   "source": [
    "some = vectorizer.get_feature_names()"
   ]
  },
  {
   "cell_type": "code",
   "execution_count": 17,
   "metadata": {
    "ExecuteTime": {
     "end_time": "2022-09-19T08:41:21.746127Z",
     "start_time": "2022-09-19T08:41:21.714105Z"
    }
   },
   "outputs": [
    {
     "data": {
      "text/plain": [
       "['2d',\n",
       " '3d',\n",
       " 'action',\n",
       " 'action adventure',\n",
       " 'action rpg',\n",
       " 'action-adventure',\n",
       " 'adventure',\n",
       " 'anime',\n",
       " 'arcade',\n",
       " 'atmospheric',\n",
       " 'base building',\n",
       " 'building',\n",
       " 'cartoony',\n",
       " 'casual',\n",
       " 'character customization',\n",
       " 'choices matter',\n",
       " 'classic',\n",
       " 'co-op',\n",
       " 'colorful',\n",
       " 'combat',\n",
       " 'comedy',\n",
       " 'controller',\n",
       " 'crafting',\n",
       " 'cute',\n",
       " 'dark',\n",
       " 'difficult',\n",
       " 'early access',\n",
       " 'exploration',\n",
       " 'family friendly',\n",
       " 'fantasy',\n",
       " 'female protagonist',\n",
       " 'first-person',\n",
       " 'fps',\n",
       " 'free to play',\n",
       " 'funny',\n",
       " 'gore',\n",
       " 'great soundtrack',\n",
       " 'hack and slash',\n",
       " 'historical',\n",
       " 'horror',\n",
       " 'indie',\n",
       " 'isometric',\n",
       " 'jrpg',\n",
       " 'local co-op',\n",
       " 'local multiplayer',\n",
       " 'management',\n",
       " 'massively multiplayer',\n",
       " 'mature',\n",
       " 'medieval',\n",
       " 'military',\n",
       " 'moddable',\n",
       " 'multiplayer',\n",
       " 'multiple endings',\n",
       " 'mystery',\n",
       " 'nudity',\n",
       " 'online co-op',\n",
       " 'open world',\n",
       " 'physic',\n",
       " 'pixel graphics',\n",
       " 'platformer',\n",
       " 'point & click',\n",
       " 'procedural generation',\n",
       " 'psychological horror',\n",
       " 'puzzle',\n",
       " 'pvp',\n",
       " 'racing',\n",
       " 'realistic',\n",
       " 'relaxing',\n",
       " 'replay value',\n",
       " 'resource management',\n",
       " 'retro',\n",
       " 'roguelike',\n",
       " 'roguelite',\n",
       " 'romance',\n",
       " 'rpg',\n",
       " 'rts',\n",
       " 'sandbox',\n",
       " 'sci-fi',\n",
       " 'sexual content',\n",
       " 'shooter',\n",
       " 'simulation',\n",
       " 'singleplayer',\n",
       " 'space',\n",
       " 'sport',\n",
       " 'story rich',\n",
       " 'strategy',\n",
       " 'stylized',\n",
       " 'survival',\n",
       " 'survival horror',\n",
       " 'tactical',\n",
       " 'third person',\n",
       " 'top-down',\n",
       " 'turn-based',\n",
       " 'turn-based combat',\n",
       " 'turn-based strategy',\n",
       " 'turn-based tactics',\n",
       " 'violent',\n",
       " 'visual novel',\n",
       " 'vr',\n",
       " 'war']"
      ]
     },
     "execution_count": 17,
     "metadata": {},
     "output_type": "execute_result"
    }
   ],
   "source": [
    "some"
   ]
  },
  {
   "cell_type": "code",
   "execution_count": 18,
   "metadata": {
    "ExecuteTime": {
     "end_time": "2022-09-19T08:41:21.762108Z",
     "start_time": "2022-09-19T08:41:21.746127Z"
    }
   },
   "outputs": [
    {
     "data": {
      "text/plain": [
       "8000112"
      ]
     },
     "execution_count": 18,
     "metadata": {},
     "output_type": "execute_result"
    }
   ],
   "source": [
    "from sys import getsizeof\n",
    "\n",
    "# size in  bytes\n",
    "getsizeof(X)"
   ]
  },
  {
   "cell_type": "code",
   "execution_count": 19,
   "metadata": {
    "ExecuteTime": {
     "end_time": "2022-09-19T08:41:21.810136Z",
     "start_time": "2022-09-19T08:41:21.762108Z"
    }
   },
   "outputs": [],
   "source": [
    "from sklearn.decomposition import PCA"
   ]
  },
  {
   "cell_type": "code",
   "execution_count": 20,
   "metadata": {
    "ExecuteTime": {
     "end_time": "2022-09-19T08:41:21.938127Z",
     "start_time": "2022-09-19T08:41:21.810136Z"
    }
   },
   "outputs": [
    {
     "data": {
      "text/plain": [
       "array([0.06489333, 0.04818016, 0.04126558, 0.03842083, 0.03170025,\n",
       "       0.02979182, 0.02786934, 0.02409666, 0.02326439, 0.02266121,\n",
       "       0.02105727, 0.02018396, 0.01864688, 0.0178977 , 0.01696165,\n",
       "       0.01614738, 0.01534957, 0.01442728, 0.01390851, 0.0132598 ,\n",
       "       0.01292249, 0.01200161, 0.01171622, 0.01147933, 0.01101412,\n",
       "       0.01095854, 0.01056583, 0.00997931, 0.00970299, 0.00940803,\n",
       "       0.00908713, 0.00892698, 0.00860836, 0.00821814, 0.00817423,\n",
       "       0.0079804 , 0.00789827, 0.00772818, 0.00741729, 0.00728485,\n",
       "       0.00718496, 0.00695336, 0.00687136, 0.00686462, 0.0067718 ,\n",
       "       0.00669012, 0.00652107, 0.00644961, 0.00623712, 0.0062027 ,\n",
       "       0.00606508, 0.00595818, 0.00588733, 0.0058129 , 0.00578869,\n",
       "       0.00571302, 0.00562595, 0.00554639, 0.00551812, 0.00550613,\n",
       "       0.00536503, 0.00524887, 0.00519593, 0.00518499, 0.00509138,\n",
       "       0.00503832, 0.00491386, 0.00486783, 0.00482524, 0.00476548,\n",
       "       0.00468694, 0.00466058, 0.00457286, 0.00456669, 0.00450867,\n",
       "       0.00446784, 0.00437026, 0.00429457, 0.00427986, 0.00420912,\n",
       "       0.0041275 , 0.00407202, 0.00405066, 0.00401419, 0.00392875,\n",
       "       0.00391003, 0.00384489, 0.00380912, 0.00373539, 0.00370063,\n",
       "       0.00361094, 0.00356403, 0.00351626, 0.00338925, 0.00329946,\n",
       "       0.00320302, 0.00280149, 0.00262725, 0.00256234, 0.00189408])"
      ]
     },
     "execution_count": 20,
     "metadata": {},
     "output_type": "execute_result"
    }
   ],
   "source": [
    "pca = PCA()\n",
    "pca.fit(X)\n",
    "pca.explained_variance_ratio_"
   ]
  },
  {
   "cell_type": "code",
   "execution_count": 21,
   "metadata": {
    "ExecuteTime": {
     "end_time": "2022-09-19T08:41:21.954129Z",
     "start_time": "2022-09-19T08:41:21.938127Z"
    }
   },
   "outputs": [],
   "source": [
    "pca_len = len(pca.explained_variance_ratio_)"
   ]
  },
  {
   "cell_type": "code",
   "execution_count": 22,
   "metadata": {
    "ExecuteTime": {
     "end_time": "2022-09-19T08:41:22.386311Z",
     "start_time": "2022-09-19T08:41:21.954129Z"
    }
   },
   "outputs": [
    {
     "data": {
      "text/plain": [
       "Text(0, 0.5, 'Cumulative Explained Variance')"
      ]
     },
     "execution_count": 22,
     "metadata": {},
     "output_type": "execute_result"
    },
    {
     "data": {
      "image/png": "[encoded data removed]",
      "text/plain": [
       "<Figure size 720x576 with 1 Axes>"
      ]
     },
     "metadata": {
      "needs_background": "light"
     },
     "output_type": "display_data"
    }
   ],
   "source": [
    "import matplotlib.pyplot as plt\n",
    "\n",
    "plt.figure(figsize=(10,8))\n",
    "plt.plot(range(1,pca_len+1),pca.explained_variance_ratio_.cumsum(),marker='o',linestyle='--')\n",
    "plt.title('Explained Variance by Components')\n",
    "plt.xlabel('Number of Components')\n",
    "plt.ylabel('Cumulative Explained Variance')"
   ]
  },
  {
   "cell_type": "code",
   "execution_count": null,
   "metadata": {},
   "outputs": [],
   "source": []
  },
  {
   "cell_type": "code",
   "execution_count": null,
   "metadata": {},
   "outputs": [],
   "source": []
  },
  {
   "cell_type": "code",
   "execution_count": null,
   "metadata": {},
   "outputs": [],
   "source": []
  },
  {
   "cell_type": "markdown",
   "metadata": {},
   "source": [
    "### How to determine the optimal K\n",
    "\n",
    "These methods are:\n",
    "\n",
    "- The Elbow Method\n",
    "- The Silhouette Method"
   ]
  },
  {
   "cell_type": "markdown",
   "metadata": {
    "ExecuteTime": {
     "end_time": "2022-09-18T08:23:23.268127Z",
     "start_time": "2022-09-18T08:23:23.253819Z"
    }
   },
   "source": [
    "### The Elbow Method\n",
    "This is probably the most well-known method for determining the optimal number of clusters. \n",
    "\n",
    "Calculate the Within-Cluster-Sum of Squared Errors (WSS) for different values of k, and choose the k for which WSS becomes first starts to diminish. In the plot of WSS-versus-k, this is visible as an elbow.\n",
    "\n",
    "Within-Cluster-Sum of Squared Errors sounds a bit complex. Let’s break it down:\n",
    "\n",
    "- The Squared Error for each point is the square of the distance of the point from its representation i.e. its predicted cluster center.\n",
    "- The WSS score is the sum of these Squared Errors for all the points.\n",
    "- Any distance metric like the Euclidean Distance or the Manhattan Distance can be used.\n",
    "Let us implement this in Python using the sklearn library and our own function for calculating WSS for a range of values for k."
   ]
  },
  {
   "cell_type": "code",
   "execution_count": 23,
   "metadata": {
    "ExecuteTime": {
     "end_time": "2022-09-19T08:41:22.491303Z",
     "start_time": "2022-09-19T08:41:22.386311Z"
    }
   },
   "outputs": [],
   "source": [
    "from sklearn.cluster import KMeans\n",
    "\n",
    "\n",
    "# function returns WSS score for k values from 1 to kmax\n",
    "def calculate_WSS(points, kmax):\n",
    "    sse = []\n",
    "    for k in range(1, kmax+1):\n",
    "        kmeans = KMeans(n_clusters=k,random_state=1).fit(points)\n",
    "        centroids = kmeans.cluster_centers_\n",
    "        pred_clusters = kmeans.predict(points)\n",
    "        curr_sse = kmeans.inertia_\n",
    "\n",
    "#         # calculate square of Euclidean distance of each point from its cluster center and add to current WSS\n",
    "#         for i in range(len(points)):\n",
    "#             curr_center = centroids[pred_clusters[i]]\n",
    "#             curr_sse += (points[i, 0] - curr_center[0]) ** 2 + \\\n",
    "#                 (points[i, 1] - curr_center[1]) ** 2\n",
    "\n",
    "        sse.append((curr_sse,k))\n",
    "        df = pd.DataFrame(sse, columns=['WSS', 'K'])\n",
    "    return df"
   ]
  },
  {
   "cell_type": "code",
   "execution_count": 24,
   "metadata": {
    "ExecuteTime": {
     "end_time": "2022-09-19T08:42:45.584737Z",
     "start_time": "2022-09-19T08:41:22.491303Z"
    }
   },
   "outputs": [
    {
     "name": "stdout",
     "output_type": "stream",
     "text": [
      "Wall time: 1min 23s\n"
     ]
    },
    {
     "data": {
      "text/html": [
       "<div>\n",
       "<style scoped>\n",
       "    .dataframe tbody tr th:only-of-type {\n",
       "        vertical-align: middle;\n",
       "    }\n",
       "\n",
       "    .dataframe tbody tr th {\n",
       "        vertical-align: top;\n",
       "    }\n",
       "\n",
       "    .dataframe thead th {\n",
       "        text-align: right;\n",
       "    }\n",
       "</style>\n",
       "<table border=\"1\" class=\"dataframe\">\n",
       "  <thead>\n",
       "    <tr style=\"text-align: right;\">\n",
       "      <th></th>\n",
       "      <th>WSS</th>\n",
       "      <th>K</th>\n",
       "    </tr>\n",
       "  </thead>\n",
       "  <tbody>\n",
       "    <tr>\n",
       "      <th>0</th>\n",
       "      <td>8707.952659</td>\n",
       "      <td>1</td>\n",
       "    </tr>\n",
       "    <tr>\n",
       "      <th>1</th>\n",
       "      <td>8302.697874</td>\n",
       "      <td>2</td>\n",
       "    </tr>\n",
       "    <tr>\n",
       "      <th>2</th>\n",
       "      <td>8032.716437</td>\n",
       "      <td>3</td>\n",
       "    </tr>\n",
       "    <tr>\n",
       "      <th>3</th>\n",
       "      <td>7810.238915</td>\n",
       "      <td>4</td>\n",
       "    </tr>\n",
       "    <tr>\n",
       "      <th>4</th>\n",
       "      <td>7603.269051</td>\n",
       "      <td>5</td>\n",
       "    </tr>\n",
       "    <tr>\n",
       "      <th>5</th>\n",
       "      <td>7431.983923</td>\n",
       "      <td>6</td>\n",
       "    </tr>\n",
       "    <tr>\n",
       "      <th>6</th>\n",
       "      <td>7293.948344</td>\n",
       "      <td>7</td>\n",
       "    </tr>\n",
       "    <tr>\n",
       "      <th>7</th>\n",
       "      <td>7162.071168</td>\n",
       "      <td>8</td>\n",
       "    </tr>\n",
       "    <tr>\n",
       "      <th>8</th>\n",
       "      <td>6996.170058</td>\n",
       "      <td>9</td>\n",
       "    </tr>\n",
       "    <tr>\n",
       "      <th>9</th>\n",
       "      <td>6858.057822</td>\n",
       "      <td>10</td>\n",
       "    </tr>\n",
       "    <tr>\n",
       "      <th>10</th>\n",
       "      <td>6718.946033</td>\n",
       "      <td>11</td>\n",
       "    </tr>\n",
       "    <tr>\n",
       "      <th>11</th>\n",
       "      <td>6630.085566</td>\n",
       "      <td>12</td>\n",
       "    </tr>\n",
       "    <tr>\n",
       "      <th>12</th>\n",
       "      <td>6538.496434</td>\n",
       "      <td>13</td>\n",
       "    </tr>\n",
       "    <tr>\n",
       "      <th>13</th>\n",
       "      <td>6409.130171</td>\n",
       "      <td>14</td>\n",
       "    </tr>\n",
       "    <tr>\n",
       "      <th>14</th>\n",
       "      <td>6327.725143</td>\n",
       "      <td>15</td>\n",
       "    </tr>\n",
       "    <tr>\n",
       "      <th>15</th>\n",
       "      <td>6265.717800</td>\n",
       "      <td>16</td>\n",
       "    </tr>\n",
       "    <tr>\n",
       "      <th>16</th>\n",
       "      <td>6214.387426</td>\n",
       "      <td>17</td>\n",
       "    </tr>\n",
       "    <tr>\n",
       "      <th>17</th>\n",
       "      <td>6154.537897</td>\n",
       "      <td>18</td>\n",
       "    </tr>\n",
       "    <tr>\n",
       "      <th>18</th>\n",
       "      <td>6090.534694</td>\n",
       "      <td>19</td>\n",
       "    </tr>\n",
       "    <tr>\n",
       "      <th>19</th>\n",
       "      <td>5995.811107</td>\n",
       "      <td>20</td>\n",
       "    </tr>\n",
       "    <tr>\n",
       "      <th>20</th>\n",
       "      <td>5927.676207</td>\n",
       "      <td>21</td>\n",
       "    </tr>\n",
       "    <tr>\n",
       "      <th>21</th>\n",
       "      <td>5879.106574</td>\n",
       "      <td>22</td>\n",
       "    </tr>\n",
       "    <tr>\n",
       "      <th>22</th>\n",
       "      <td>5822.803624</td>\n",
       "      <td>23</td>\n",
       "    </tr>\n",
       "    <tr>\n",
       "      <th>23</th>\n",
       "      <td>5775.249412</td>\n",
       "      <td>24</td>\n",
       "    </tr>\n",
       "    <tr>\n",
       "      <th>24</th>\n",
       "      <td>5729.233308</td>\n",
       "      <td>25</td>\n",
       "    </tr>\n",
       "    <tr>\n",
       "      <th>25</th>\n",
       "      <td>5687.041182</td>\n",
       "      <td>26</td>\n",
       "    </tr>\n",
       "    <tr>\n",
       "      <th>26</th>\n",
       "      <td>5663.011442</td>\n",
       "      <td>27</td>\n",
       "    </tr>\n",
       "    <tr>\n",
       "      <th>27</th>\n",
       "      <td>5627.488364</td>\n",
       "      <td>28</td>\n",
       "    </tr>\n",
       "    <tr>\n",
       "      <th>28</th>\n",
       "      <td>5596.096876</td>\n",
       "      <td>29</td>\n",
       "    </tr>\n",
       "    <tr>\n",
       "      <th>29</th>\n",
       "      <td>5552.685855</td>\n",
       "      <td>30</td>\n",
       "    </tr>\n",
       "    <tr>\n",
       "      <th>30</th>\n",
       "      <td>5519.818636</td>\n",
       "      <td>31</td>\n",
       "    </tr>\n",
       "    <tr>\n",
       "      <th>31</th>\n",
       "      <td>5487.784122</td>\n",
       "      <td>32</td>\n",
       "    </tr>\n",
       "    <tr>\n",
       "      <th>32</th>\n",
       "      <td>5471.653636</td>\n",
       "      <td>33</td>\n",
       "    </tr>\n",
       "    <tr>\n",
       "      <th>33</th>\n",
       "      <td>5442.625786</td>\n",
       "      <td>34</td>\n",
       "    </tr>\n",
       "    <tr>\n",
       "      <th>34</th>\n",
       "      <td>5418.354338</td>\n",
       "      <td>35</td>\n",
       "    </tr>\n",
       "    <tr>\n",
       "      <th>35</th>\n",
       "      <td>5377.757448</td>\n",
       "      <td>36</td>\n",
       "    </tr>\n",
       "    <tr>\n",
       "      <th>36</th>\n",
       "      <td>5354.587409</td>\n",
       "      <td>37</td>\n",
       "    </tr>\n",
       "    <tr>\n",
       "      <th>37</th>\n",
       "      <td>5316.889316</td>\n",
       "      <td>38</td>\n",
       "    </tr>\n",
       "    <tr>\n",
       "      <th>38</th>\n",
       "      <td>5308.308052</td>\n",
       "      <td>39</td>\n",
       "    </tr>\n",
       "    <tr>\n",
       "      <th>39</th>\n",
       "      <td>5275.476478</td>\n",
       "      <td>40</td>\n",
       "    </tr>\n",
       "    <tr>\n",
       "      <th>40</th>\n",
       "      <td>5251.142957</td>\n",
       "      <td>41</td>\n",
       "    </tr>\n",
       "    <tr>\n",
       "      <th>41</th>\n",
       "      <td>5240.425789</td>\n",
       "      <td>42</td>\n",
       "    </tr>\n",
       "    <tr>\n",
       "      <th>42</th>\n",
       "      <td>5217.660386</td>\n",
       "      <td>43</td>\n",
       "    </tr>\n",
       "    <tr>\n",
       "      <th>43</th>\n",
       "      <td>5201.089313</td>\n",
       "      <td>44</td>\n",
       "    </tr>\n",
       "    <tr>\n",
       "      <th>44</th>\n",
       "      <td>5175.356266</td>\n",
       "      <td>45</td>\n",
       "    </tr>\n",
       "    <tr>\n",
       "      <th>45</th>\n",
       "      <td>5167.023259</td>\n",
       "      <td>46</td>\n",
       "    </tr>\n",
       "    <tr>\n",
       "      <th>46</th>\n",
       "      <td>5136.996847</td>\n",
       "      <td>47</td>\n",
       "    </tr>\n",
       "    <tr>\n",
       "      <th>47</th>\n",
       "      <td>5121.218163</td>\n",
       "      <td>48</td>\n",
       "    </tr>\n",
       "    <tr>\n",
       "      <th>48</th>\n",
       "      <td>5100.970064</td>\n",
       "      <td>49</td>\n",
       "    </tr>\n",
       "    <tr>\n",
       "      <th>49</th>\n",
       "      <td>5085.459047</td>\n",
       "      <td>50</td>\n",
       "    </tr>\n",
       "  </tbody>\n",
       "</table>\n",
       "</div>"
      ],
      "text/plain": [
       "            WSS   K\n",
       "0   8707.952659   1\n",
       "1   8302.697874   2\n",
       "2   8032.716437   3\n",
       "3   7810.238915   4\n",
       "4   7603.269051   5\n",
       "5   7431.983923   6\n",
       "6   7293.948344   7\n",
       "7   7162.071168   8\n",
       "8   6996.170058   9\n",
       "9   6858.057822  10\n",
       "10  6718.946033  11\n",
       "11  6630.085566  12\n",
       "12  6538.496434  13\n",
       "13  6409.130171  14\n",
       "14  6327.725143  15\n",
       "15  6265.717800  16\n",
       "16  6214.387426  17\n",
       "17  6154.537897  18\n",
       "18  6090.534694  19\n",
       "19  5995.811107  20\n",
       "20  5927.676207  21\n",
       "21  5879.106574  22\n",
       "22  5822.803624  23\n",
       "23  5775.249412  24\n",
       "24  5729.233308  25\n",
       "25  5687.041182  26\n",
       "26  5663.011442  27\n",
       "27  5627.488364  28\n",
       "28  5596.096876  29\n",
       "29  5552.685855  30\n",
       "30  5519.818636  31\n",
       "31  5487.784122  32\n",
       "32  5471.653636  33\n",
       "33  5442.625786  34\n",
       "34  5418.354338  35\n",
       "35  5377.757448  36\n",
       "36  5354.587409  37\n",
       "37  5316.889316  38\n",
       "38  5308.308052  39\n",
       "39  5275.476478  40\n",
       "40  5251.142957  41\n",
       "41  5240.425789  42\n",
       "42  5217.660386  43\n",
       "43  5201.089313  44\n",
       "44  5175.356266  45\n",
       "45  5167.023259  46\n",
       "46  5136.996847  47\n",
       "47  5121.218163  48\n",
       "48  5100.970064  49\n",
       "49  5085.459047  50"
      ]
     },
     "execution_count": 24,
     "metadata": {},
     "output_type": "execute_result"
    }
   ],
   "source": [
    "%%time\n",
    "wss = calculate_WSS(X, 50)\n",
    "# wss"
   ]
  },
  {
   "cell_type": "code",
   "execution_count": 25,
   "metadata": {
    "ExecuteTime": {
     "end_time": "2022-09-19T08:42:45.730017Z",
     "start_time": "2022-09-19T08:42:45.584737Z"
    }
   },
   "outputs": [],
   "source": [
    "import seaborn as sns\n",
    "sns.set(rc={'figure.figsize':(11.7,8.27)})"
   ]
  },
  {
   "cell_type": "code",
   "execution_count": 26,
   "metadata": {
    "ExecuteTime": {
     "end_time": "2022-09-19T08:42:45.938988Z",
     "start_time": "2022-09-19T08:42:45.731185Z"
    }
   },
   "outputs": [
    {
     "data": {
      "text/plain": [
       "<AxesSubplot:xlabel='K', ylabel='WSS'>"
      ]
     },
     "execution_count": 26,
     "metadata": {},
     "output_type": "execute_result"
    },
    {
     "data": {
      "image/png": "[encoded data removed]",
      "text/plain": [
       "<Figure size 842.4x595.44 with 1 Axes>"
      ]
     },
     "metadata": {},
     "output_type": "display_data"
    }
   ],
   "source": [
    "sns.lineplot(data=wss, x='K',y='WSS')"
   ]
  },
  {
   "cell_type": "code",
   "execution_count": null,
   "metadata": {},
   "outputs": [],
   "source": []
  },
  {
   "cell_type": "markdown",
   "metadata": {},
   "source": [
    "## The Silhouette Method\n",
    "\n",
    "\n",
    "The silhouette value measures how similar a point is to its own cluster (cohesion) compared to other clusters (separation).\n",
    "\n",
    "The range of the Silhouette value is between +1 and -1. A high value is desirable and indicates that the point is placed in the correct cluster. If many points have a negative Silhouette value, it may indicate that we have created too many or too few clusters.\n",
    "\n",
    "The Silhouette Value s(i) for each data point i is defined as follows:\n",
    "\n",
    "\n",
    "Source: Wikipedia\n",
    "Note: s(i) is defined to be equal to zero if i is the only point in the cluster. This is to prevent the number of clusters from increasing significantly with many single-point clusters.\n",
    "\n",
    "Here, a(i) is the measure of similarity of the point i to its own cluster. It is measured as the average distance of i from other points in the cluster.\n",
    "\n",
    "\n",
    "Source: Wikipedia\n",
    "Similarly, b(i) is the measure of dissimilarity of i from points in other clusters.\n",
    "\n",
    "\n",
    "Source: Wikipedia\n",
    "d(i, j) is the distance between points i and j. Generally, Euclidean Distance is used as the distance metric.\n",
    "\n",
    "The Silhouette score can be easily calculated in Python using the metrics module of the sklearn library."
   ]
  },
  {
   "cell_type": "code",
   "execution_count": 30,
   "metadata": {
    "ExecuteTime": {
     "end_time": "2022-09-19T08:53:31.643465Z",
     "start_time": "2022-09-19T08:46:29.293067Z"
    }
   },
   "outputs": [],
   "source": [
    "from sklearn.metrics import silhouette_score\n",
    "\n",
    "sil = []\n",
    "kmax = 100\n",
    "\n",
    "# dissimilarity would not be defined for a single cluster, thus, minimum number of clusters should be 2\n",
    "for k in range(2, kmax+1):\n",
    "    kmeans = KMeans(n_clusters=k).fit(X)\n",
    "    labels = kmeans.labels_\n",
    "    sil.append((silhouette_score(X, labels, metric='euclidean'), k))\n",
    "    \n",
    "ss = pd.DataFrame(sil, columns=['Silhouette Score', 'K'])"
   ]
  },
  {
   "cell_type": "markdown",
   "metadata": {},
   "source": [
    "A high Silhouette Score is desirable. The Silhouette Score reaches its global maximum at the optimal k. This should ideally appear as a peak in the Silhouette Value-versus-k plot."
   ]
  },
  {
   "cell_type": "code",
   "execution_count": 31,
   "metadata": {
    "ExecuteTime": {
     "end_time": "2022-09-19T08:53:31.799747Z",
     "start_time": "2022-09-19T08:53:31.643465Z"
    }
   },
   "outputs": [
    {
     "data": {
      "text/plain": [
       "<AxesSubplot:xlabel='K', ylabel='Silhouette Score'>"
      ]
     },
     "execution_count": 31,
     "metadata": {},
     "output_type": "execute_result"
    },
    {
     "data": {
      "image/png": "[encoded data removed]",
      "text/plain": [
       "<Figure size 842.4x595.44 with 1 Axes>"
      ]
     },
     "metadata": {},
     "output_type": "display_data"
    }
   ],
   "source": [
    "sns.lineplot(data=ss, x='K',y='Silhouette Score')"
   ]
  },
  {
   "cell_type": "code",
   "execution_count": 34,
   "metadata": {
    "ExecuteTime": {
     "end_time": "2022-09-19T09:00:50.222608Z",
     "start_time": "2022-09-19T09:00:50.173775Z"
    }
   },
   "outputs": [
    {
     "data": {
      "text/plain": [
       "Silhouette Score      0.133397\n",
       "K                   100.000000\n",
       "dtype: float64"
      ]
     },
     "execution_count": 34,
     "metadata": {},
     "output_type": "execute_result"
    }
   ],
   "source": [
    "ss.max()"
   ]
  },
  {
   "cell_type": "markdown",
   "metadata": {},
   "source": [
    "End Notes\n",
    "The Elbow Method is more of a decision rule, while the Silhouette is a metric used for validation while clustering. Thus, it can be used in combination with the Elbow Method.\n",
    "\n",
    "Therefore, the Elbow Method and the Silhouette Method are not alternatives to each other for finding the optimal K. Rather they are tools to be used together for a more confident decision."
   ]
  },
  {
   "cell_type": "code",
   "execution_count": null,
   "metadata": {},
   "outputs": [],
   "source": []
  },
  {
   "cell_type": "code",
   "execution_count": null,
   "metadata": {},
   "outputs": [],
   "source": []
  },
  {
   "cell_type": "code",
   "execution_count": null,
   "metadata": {},
   "outputs": [],
   "source": []
  },
  {
   "cell_type": "code",
   "execution_count": null,
   "metadata": {},
   "outputs": [],
   "source": []
  },
  {
   "cell_type": "code",
   "execution_count": null,
   "metadata": {},
   "outputs": [],
   "source": []
  },
  {
   "cell_type": "code",
   "execution_count": null,
   "metadata": {},
   "outputs": [],
   "source": []
  },
  {
   "cell_type": "code",
   "execution_count": null,
   "metadata": {
    "ExecuteTime": {
     "end_time": "2022-09-19T08:45:11.547429Z",
     "start_time": "2022-09-19T08:41:13.972Z"
    }
   },
   "outputs": [],
   "source": [
    "Stop"
   ]
  },
  {
   "cell_type": "code",
   "execution_count": null,
   "metadata": {},
   "outputs": [],
   "source": []
  },
  {
   "cell_type": "code",
   "execution_count": 35,
   "metadata": {
    "ExecuteTime": {
     "end_time": "2022-09-19T09:01:52.526325Z",
     "start_time": "2022-09-19T09:01:45.483798Z"
    }
   },
   "outputs": [
    {
     "name": "stdout",
     "output_type": "stream",
     "text": [
      "Wall time: 7.03 s\n"
     ]
    }
   ],
   "source": [
    "%%time\n",
    "kmeans = KMeans(random_state=1,n_clusters=100,verbose=0)\n",
    "cluster = kmeans.fit_predict(X)"
   ]
  },
  {
   "cell_type": "code",
   "execution_count": 36,
   "metadata": {
    "ExecuteTime": {
     "end_time": "2022-09-19T09:01:52.541637Z",
     "start_time": "2022-09-19T09:01:52.526325Z"
    }
   },
   "outputs": [
    {
     "name": "stderr",
     "output_type": "stream",
     "text": [
      "<ipython-input-36-d9507acaccc0>:1: SettingWithCopyWarning: \n",
      "A value is trying to be set on a copy of a slice from a DataFrame.\n",
      "Try using .loc[row_indexer,col_indexer] = value instead\n",
      "\n",
      "See the caveats in the documentation: https://pandas.pydata.org/pandas-docs/stable/user_guide/indexing.html#returning-a-view-versus-a-copy\n",
      "  test['cluster'] = cluster\n"
     ]
    }
   ],
   "source": [
    "test['cluster'] = cluster"
   ]
  },
  {
   "cell_type": "code",
   "execution_count": 37,
   "metadata": {
    "ExecuteTime": {
     "end_time": "2022-09-19T09:01:54.522120Z",
     "start_time": "2022-09-19T09:01:54.498414Z"
    }
   },
   "outputs": [
    {
     "data": {
      "text/html": [
       "<div>\n",
       "<style scoped>\n",
       "    .dataframe tbody tr th:only-of-type {\n",
       "        vertical-align: middle;\n",
       "    }\n",
       "\n",
       "    .dataframe tbody tr th {\n",
       "        vertical-align: top;\n",
       "    }\n",
       "\n",
       "    .dataframe thead th {\n",
       "        text-align: right;\n",
       "    }\n",
       "</style>\n",
       "<table border=\"1\" class=\"dataframe\">\n",
       "  <thead>\n",
       "    <tr style=\"text-align: right;\">\n",
       "      <th></th>\n",
       "      <th>title</th>\n",
       "      <th>tags</th>\n",
       "      <th>cluster</th>\n",
       "    </tr>\n",
       "  </thead>\n",
       "  <tbody>\n",
       "    <tr>\n",
       "      <th>0</th>\n",
       "      <td>Counter-Strike: Global Offensive</td>\n",
       "      <td>FPS, Shooter, Multiplayer, Competitive, Action...</td>\n",
       "      <td>81</td>\n",
       "    </tr>\n",
       "    <tr>\n",
       "      <th>1</th>\n",
       "      <td>Apex Legends™</td>\n",
       "      <td>Free to Play, Multiplayer, Battle Royale, Shoo...</td>\n",
       "      <td>38</td>\n",
       "    </tr>\n",
       "    <tr>\n",
       "      <th>2</th>\n",
       "      <td>Stray</td>\n",
       "      <td>Cats, Adventure, Cyberpunk, Cute, Atmospheric,...</td>\n",
       "      <td>86</td>\n",
       "    </tr>\n",
       "    <tr>\n",
       "      <th>3</th>\n",
       "      <td>Grand Theft Auto V</td>\n",
       "      <td>Open World, Action, Multiplayer, Automobile Si...</td>\n",
       "      <td>95</td>\n",
       "    </tr>\n",
       "    <tr>\n",
       "      <th>4</th>\n",
       "      <td>MultiVersus</td>\n",
       "      <td>Multiplayer, Co-op, 2D Fighter, Action, Compet...</td>\n",
       "      <td>33</td>\n",
       "    </tr>\n",
       "    <tr>\n",
       "      <th>...</th>\n",
       "      <td>...</td>\n",
       "      <td>...</td>\n",
       "      <td>...</td>\n",
       "    </tr>\n",
       "    <tr>\n",
       "      <th>9995</th>\n",
       "      <td>Serious Fun Football</td>\n",
       "      <td>Early Access, Football, Soccer, Singleplayer, ...</td>\n",
       "      <td>18</td>\n",
       "    </tr>\n",
       "    <tr>\n",
       "      <th>9996</th>\n",
       "      <td>Doctor Who: The Edge Of Time</td>\n",
       "      <td>Adventure, VR, Sci-fi, Horror, Puzzle, Singlep...</td>\n",
       "      <td>69</td>\n",
       "    </tr>\n",
       "    <tr>\n",
       "      <th>9997</th>\n",
       "      <td>Train Simulator: Clinchfield Railroad: Elkhorn...</td>\n",
       "      <td>Simulation</td>\n",
       "      <td>9</td>\n",
       "    </tr>\n",
       "    <tr>\n",
       "      <th>9998</th>\n",
       "      <td>Artists Of Fortune: Paint By Numbers!</td>\n",
       "      <td>Free to Play, Relaxing, Pixel Graphics, Casual...</td>\n",
       "      <td>1</td>\n",
       "    </tr>\n",
       "    <tr>\n",
       "      <th>9999</th>\n",
       "      <td>Shadow Warrior Classic Redux</td>\n",
       "      <td>FPS, Classic, Action, Retro, Shooter, Old Scho...</td>\n",
       "      <td>16</td>\n",
       "    </tr>\n",
       "  </tbody>\n",
       "</table>\n",
       "<p>10000 rows × 3 columns</p>\n",
       "</div>"
      ],
      "text/plain": [
       "                                                  title  \\\n",
       "0                      Counter-Strike: Global Offensive   \n",
       "1                                         Apex Legends™   \n",
       "2                                                 Stray   \n",
       "3                                    Grand Theft Auto V   \n",
       "4                                           MultiVersus   \n",
       "...                                                 ...   \n",
       "9995                               Serious Fun Football   \n",
       "9996                       Doctor Who: The Edge Of Time   \n",
       "9997  Train Simulator: Clinchfield Railroad: Elkhorn...   \n",
       "9998              Artists Of Fortune: Paint By Numbers!   \n",
       "9999                       Shadow Warrior Classic Redux   \n",
       "\n",
       "                                                   tags  cluster  \n",
       "0     FPS, Shooter, Multiplayer, Competitive, Action...       81  \n",
       "1     Free to Play, Multiplayer, Battle Royale, Shoo...       38  \n",
       "2     Cats, Adventure, Cyberpunk, Cute, Atmospheric,...       86  \n",
       "3     Open World, Action, Multiplayer, Automobile Si...       95  \n",
       "4     Multiplayer, Co-op, 2D Fighter, Action, Compet...       33  \n",
       "...                                                 ...      ...  \n",
       "9995  Early Access, Football, Soccer, Singleplayer, ...       18  \n",
       "9996  Adventure, VR, Sci-fi, Horror, Puzzle, Singlep...       69  \n",
       "9997                                         Simulation        9  \n",
       "9998  Free to Play, Relaxing, Pixel Graphics, Casual...        1  \n",
       "9999  FPS, Classic, Action, Retro, Shooter, Old Scho...       16  \n",
       "\n",
       "[10000 rows x 3 columns]"
      ]
     },
     "execution_count": 37,
     "metadata": {},
     "output_type": "execute_result"
    }
   ],
   "source": [
    "test"
   ]
  },
  {
   "cell_type": "code",
   "execution_count": 38,
   "metadata": {
    "ExecuteTime": {
     "end_time": "2022-09-19T09:02:01.209516Z",
     "start_time": "2022-09-19T09:02:01.089368Z"
    }
   },
   "outputs": [
    {
     "data": {
      "text/html": [
       "<div>\n",
       "<style scoped>\n",
       "    .dataframe tbody tr th:only-of-type {\n",
       "        vertical-align: middle;\n",
       "    }\n",
       "\n",
       "    .dataframe tbody tr th {\n",
       "        vertical-align: top;\n",
       "    }\n",
       "\n",
       "    .dataframe thead th {\n",
       "        text-align: right;\n",
       "    }\n",
       "</style>\n",
       "<table border=\"1\" class=\"dataframe\">\n",
       "  <thead>\n",
       "    <tr style=\"text-align: right;\">\n",
       "      <th></th>\n",
       "      <th>title</th>\n",
       "      <th>tags</th>\n",
       "      <th>cluster</th>\n",
       "    </tr>\n",
       "  </thead>\n",
       "  <tbody>\n",
       "    <tr>\n",
       "      <th>0</th>\n",
       "      <td>Counter-Strike: Global Offensive</td>\n",
       "      <td>FPS, Shooter, Multiplayer, Competitive, Action...</td>\n",
       "      <td>81</td>\n",
       "    </tr>\n",
       "    <tr>\n",
       "      <th>10</th>\n",
       "      <td>War Thunder</td>\n",
       "      <td>Free to Play, Vehicular Combat, Combat, VR, Wo...</td>\n",
       "      <td>81</td>\n",
       "    </tr>\n",
       "    <tr>\n",
       "      <th>42</th>\n",
       "      <td>World of Warships</td>\n",
       "      <td>Naval Combat, Free to Play, Naval, World War I...</td>\n",
       "      <td>81</td>\n",
       "    </tr>\n",
       "    <tr>\n",
       "      <th>60</th>\n",
       "      <td>Battlefield V</td>\n",
       "      <td>FPS, World War II, Shooter, Multiplayer, Singl...</td>\n",
       "      <td>81</td>\n",
       "    </tr>\n",
       "    <tr>\n",
       "      <th>61</th>\n",
       "      <td>Chivalry 2</td>\n",
       "      <td>Medieval, Multiplayer, Action, Swordplay, Comb...</td>\n",
       "      <td>81</td>\n",
       "    </tr>\n",
       "    <tr>\n",
       "      <th>82</th>\n",
       "      <td>ACE COMBAT™ 7: SKIES UNKNOWN</td>\n",
       "      <td>Flight, Jet, Military, War, Shooter, Arcade, C...</td>\n",
       "      <td>81</td>\n",
       "    </tr>\n",
       "    <tr>\n",
       "      <th>87</th>\n",
       "      <td>Hell Let Loose</td>\n",
       "      <td>Action, Shooter, FPS, World War II, Multiplaye...</td>\n",
       "      <td>81</td>\n",
       "    </tr>\n",
       "    <tr>\n",
       "      <th>106</th>\n",
       "      <td>Squad</td>\n",
       "      <td>Military, Realistic, FPS, Multiplayer, Team-Ba...</td>\n",
       "      <td>81</td>\n",
       "    </tr>\n",
       "    <tr>\n",
       "      <th>118</th>\n",
       "      <td>Battlefield 1 ™</td>\n",
       "      <td>FPS, Multiplayer, World War I, War, Shooter, S...</td>\n",
       "      <td>81</td>\n",
       "    </tr>\n",
       "    <tr>\n",
       "      <th>128</th>\n",
       "      <td>Battlefield™ 2042</td>\n",
       "      <td>Shooter, Multiplayer, Action, FPS, War, Milita...</td>\n",
       "      <td>81</td>\n",
       "    </tr>\n",
       "    <tr>\n",
       "      <th>134</th>\n",
       "      <td>Arma 3</td>\n",
       "      <td>Action, Military, Multiplayer, Simulation, Sho...</td>\n",
       "      <td>81</td>\n",
       "    </tr>\n",
       "    <tr>\n",
       "      <th>136</th>\n",
       "      <td>Call of Duty®: Modern Warfare® II</td>\n",
       "      <td>FPS, Action, Shooter, Multiplayer, First-Perso...</td>\n",
       "      <td>81</td>\n",
       "    </tr>\n",
       "    <tr>\n",
       "      <th>138</th>\n",
       "      <td>DCS World Steam Edition</td>\n",
       "      <td>Simulation, Flight, Free to Play, Military, Mu...</td>\n",
       "      <td>81</td>\n",
       "    </tr>\n",
       "    <tr>\n",
       "      <th>156</th>\n",
       "      <td>GROUND BRANCH</td>\n",
       "      <td>Tactical, Realistic, FPS, Military, Simulation...</td>\n",
       "      <td>81</td>\n",
       "    </tr>\n",
       "    <tr>\n",
       "      <th>192</th>\n",
       "      <td>Insurgency: Sandstorm</td>\n",
       "      <td>FPS, Realistic, Shooter, Military, Multiplayer...</td>\n",
       "      <td>81</td>\n",
       "    </tr>\n",
       "    <tr>\n",
       "      <th>235</th>\n",
       "      <td>Battlefield 4™</td>\n",
       "      <td>Multiplayer, FPS, Shooter, Military, Singlepla...</td>\n",
       "      <td>81</td>\n",
       "    </tr>\n",
       "    <tr>\n",
       "      <th>242</th>\n",
       "      <td>World of Tanks</td>\n",
       "      <td>Tanks, Free to Play, Action, Vehicular Combat,...</td>\n",
       "      <td>81</td>\n",
       "    </tr>\n",
       "    <tr>\n",
       "      <th>291</th>\n",
       "      <td>VTOL VR</td>\n",
       "      <td>Flight, VR, Combat, Simulation, Jet, Military,...</td>\n",
       "      <td>81</td>\n",
       "    </tr>\n",
       "    <tr>\n",
       "      <th>307</th>\n",
       "      <td>Pavlov VR</td>\n",
       "      <td>VR, Action, Shooter, Multiplayer, FPS, Militar...</td>\n",
       "      <td>81</td>\n",
       "    </tr>\n",
       "    <tr>\n",
       "      <th>313</th>\n",
       "      <td>Titanfall® 2</td>\n",
       "      <td>FPS, Multiplayer, Shooter, Action, Mechs, Sing...</td>\n",
       "      <td>81</td>\n",
       "    </tr>\n",
       "  </tbody>\n",
       "</table>\n",
       "</div>"
      ],
      "text/plain": [
       "                                 title  \\\n",
       "0     Counter-Strike: Global Offensive   \n",
       "10                         War Thunder   \n",
       "42                   World of Warships   \n",
       "60                       Battlefield V   \n",
       "61                          Chivalry 2   \n",
       "82        ACE COMBAT™ 7: SKIES UNKNOWN   \n",
       "87                      Hell Let Loose   \n",
       "106                              Squad   \n",
       "118                    Battlefield 1 ™   \n",
       "128                  Battlefield™ 2042   \n",
       "134                             Arma 3   \n",
       "136  Call of Duty®: Modern Warfare® II   \n",
       "138            DCS World Steam Edition   \n",
       "156                      GROUND BRANCH   \n",
       "192              Insurgency: Sandstorm   \n",
       "235                     Battlefield 4™   \n",
       "242                     World of Tanks   \n",
       "291                            VTOL VR   \n",
       "307                          Pavlov VR   \n",
       "313                       Titanfall® 2   \n",
       "\n",
       "                                                  tags  cluster  \n",
       "0    FPS, Shooter, Multiplayer, Competitive, Action...       81  \n",
       "10   Free to Play, Vehicular Combat, Combat, VR, Wo...       81  \n",
       "42   Naval Combat, Free to Play, Naval, World War I...       81  \n",
       "60   FPS, World War II, Shooter, Multiplayer, Singl...       81  \n",
       "61   Medieval, Multiplayer, Action, Swordplay, Comb...       81  \n",
       "82   Flight, Jet, Military, War, Shooter, Arcade, C...       81  \n",
       "87   Action, Shooter, FPS, World War II, Multiplaye...       81  \n",
       "106  Military, Realistic, FPS, Multiplayer, Team-Ba...       81  \n",
       "118  FPS, Multiplayer, World War I, War, Shooter, S...       81  \n",
       "128  Shooter, Multiplayer, Action, FPS, War, Milita...       81  \n",
       "134  Action, Military, Multiplayer, Simulation, Sho...       81  \n",
       "136  FPS, Action, Shooter, Multiplayer, First-Perso...       81  \n",
       "138  Simulation, Flight, Free to Play, Military, Mu...       81  \n",
       "156  Tactical, Realistic, FPS, Military, Simulation...       81  \n",
       "192  FPS, Realistic, Shooter, Military, Multiplayer...       81  \n",
       "235  Multiplayer, FPS, Shooter, Military, Singlepla...       81  \n",
       "242  Tanks, Free to Play, Action, Vehicular Combat,...       81  \n",
       "291  Flight, VR, Combat, Simulation, Jet, Military,...       81  \n",
       "307  VR, Action, Shooter, Multiplayer, FPS, Militar...       81  \n",
       "313  FPS, Multiplayer, Shooter, Action, Mechs, Sing...       81  "
      ]
     },
     "execution_count": 38,
     "metadata": {},
     "output_type": "execute_result"
    }
   ],
   "source": [
    "test[test['cluster']==81].head(20)"
   ]
  },
  {
   "cell_type": "code",
   "execution_count": null,
   "metadata": {
    "ExecuteTime": {
     "end_time": "2022-09-19T08:45:11.555428Z",
     "start_time": "2022-09-19T08:41:13.985Z"
    }
   },
   "outputs": [],
   "source": [
    "cs = test[test['cluster']==8]"
   ]
  },
  {
   "cell_type": "code",
   "execution_count": null,
   "metadata": {},
   "outputs": [],
   "source": []
  },
  {
   "cell_type": "code",
   "execution_count": null,
   "metadata": {},
   "outputs": [],
   "source": []
  }
 ],
 "metadata": {
  "hide_input": false,
  "kernelspec": {
   "display_name": "Python 3",
   "language": "python",
   "name": "python3"
  },
  "language_info": {
   "codemirror_mode": {
    "name": "ipython",
    "version": 3
   },
   "file_extension": ".py",
   "mimetype": "text/x-python",
   "name": "python",
   "nbconvert_exporter": "python",
   "pygments_lexer": "ipython3",
   "version": "3.8.5"
  }
 },
 "nbformat": 4,
 "nbformat_minor": 4
}
