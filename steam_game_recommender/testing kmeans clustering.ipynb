{
 "cells": [
  {
   "cell_type": "markdown",
   "metadata": {},
   "source": [
    "look into spicy similarity vectors !"
   ]
  },
  {
   "cell_type": "code",
   "execution_count": null,
   "metadata": {},
   "outputs": [],
   "source": []
  },
  {
   "cell_type": "code",
   "execution_count": null,
   "metadata": {},
   "outputs": [],
   "source": []
  },
  {
   "cell_type": "code",
   "execution_count": null,
   "metadata": {},
   "outputs": [],
   "source": []
  },
  {
   "cell_type": "code",
   "execution_count": null,
   "metadata": {},
   "outputs": [],
   "source": []
  },
  {
   "cell_type": "code",
   "execution_count": 36,
   "metadata": {
    "ExecuteTime": {
     "end_time": "2022-09-07T12:08:39.703259Z",
     "start_time": "2022-09-07T12:08:39.618486Z"
    }
   },
   "outputs": [],
   "source": [
    "import numpy as np\n",
    "from sklearn.datasets import load_digits"
   ]
  },
  {
   "cell_type": "code",
   "execution_count": 37,
   "metadata": {
    "ExecuteTime": {
     "end_time": "2022-09-07T12:08:39.826928Z",
     "start_time": "2022-09-07T12:08:39.751131Z"
    }
   },
   "outputs": [
    {
     "name": "stdout",
     "output_type": "stream",
     "text": [
      "# digits: 10; # samples: 1797; # features 64\n"
     ]
    }
   ],
   "source": [
    "data, labels = load_digits(return_X_y=True)\n",
    "(n_samples, n_features), n_digits = data.shape, np.unique(labels).size\n",
    "\n",
    "print(f\"# digits: {n_digits}; # samples: {n_samples}; # features {n_features}\")"
   ]
  },
  {
   "cell_type": "code",
   "execution_count": 22,
   "metadata": {
    "ExecuteTime": {
     "end_time": "2022-09-06T10:17:49.103157Z",
     "start_time": "2022-09-06T10:17:49.087200Z"
    }
   },
   "outputs": [
    {
     "data": {
      "text/plain": [
       "array([[ 0.,  0.,  5., ...,  0.,  0.,  0.],\n",
       "       [ 0.,  0.,  0., ..., 10.,  0.,  0.],\n",
       "       [ 0.,  0.,  0., ..., 16.,  9.,  0.],\n",
       "       ...,\n",
       "       [ 0.,  0.,  1., ...,  6.,  0.,  0.],\n",
       "       [ 0.,  0.,  2., ..., 12.,  0.,  0.],\n",
       "       [ 0.,  0., 10., ..., 12.,  1.,  0.]])"
      ]
     },
     "execution_count": 22,
     "metadata": {},
     "output_type": "execute_result"
    }
   ],
   "source": [
    "data"
   ]
  },
  {
   "cell_type": "code",
   "execution_count": 21,
   "metadata": {
    "ExecuteTime": {
     "end_time": "2022-09-06T10:17:47.548645Z",
     "start_time": "2022-09-06T10:17:47.541663Z"
    }
   },
   "outputs": [
    {
     "data": {
      "text/plain": [
       "array([0, 1, 2, ..., 8, 9, 8])"
      ]
     },
     "execution_count": 21,
     "metadata": {},
     "output_type": "execute_result"
    }
   ],
   "source": [
    "labels"
   ]
  },
  {
   "cell_type": "code",
   "execution_count": 9,
   "metadata": {
    "ExecuteTime": {
     "end_time": "2022-09-06T10:15:40.855969Z",
     "start_time": "2022-09-06T10:15:40.842006Z"
    }
   },
   "outputs": [
    {
     "data": {
      "text/plain": [
       "10"
      ]
     },
     "execution_count": 9,
     "metadata": {},
     "output_type": "execute_result"
    }
   ],
   "source": [
    "n_digits"
   ]
  },
  {
   "cell_type": "code",
   "execution_count": 10,
   "metadata": {
    "ExecuteTime": {
     "end_time": "2022-09-06T10:16:04.146775Z",
     "start_time": "2022-09-06T10:16:04.138797Z"
    }
   },
   "outputs": [
    {
     "data": {
      "text/plain": [
       "1797"
      ]
     },
     "execution_count": 10,
     "metadata": {},
     "output_type": "execute_result"
    }
   ],
   "source": [
    "n_samples"
   ]
  },
  {
   "cell_type": "code",
   "execution_count": 11,
   "metadata": {
    "ExecuteTime": {
     "end_time": "2022-09-06T10:16:06.863830Z",
     "start_time": "2022-09-06T10:16:06.849867Z"
    }
   },
   "outputs": [
    {
     "data": {
      "text/plain": [
       "64"
      ]
     },
     "execution_count": 11,
     "metadata": {},
     "output_type": "execute_result"
    }
   ],
   "source": [
    "n_features"
   ]
  },
  {
   "cell_type": "code",
   "execution_count": null,
   "metadata": {},
   "outputs": [],
   "source": []
  },
  {
   "cell_type": "code",
   "execution_count": null,
   "metadata": {},
   "outputs": [],
   "source": []
  },
  {
   "cell_type": "code",
   "execution_count": null,
   "metadata": {},
   "outputs": [],
   "source": []
  },
  {
   "cell_type": "code",
   "execution_count": null,
   "metadata": {},
   "outputs": [],
   "source": []
  },
  {
   "cell_type": "code",
   "execution_count": 23,
   "metadata": {
    "ExecuteTime": {
     "end_time": "2022-09-06T12:05:42.429499Z",
     "start_time": "2022-09-06T12:05:41.907342Z"
    }
   },
   "outputs": [],
   "source": [
    "import numpy as np\n",
    "import matplotlib.pyplot as plt\n",
    "\n",
    "# Though the following import is not directly being used, it is required\n",
    "# for 3D projection to work with matplotlib < 3.2\n",
    "import mpl_toolkits.mplot3d  # noqa: F401\n",
    "\n",
    "from sklearn.cluster import KMeans\n",
    "from sklearn import datasets\n",
    "\n",
    "np.random.seed(5)\n",
    "\n",
    "iris = datasets.load_iris()\n",
    "X = iris.data\n",
    "y = iris.target"
   ]
  },
  {
   "cell_type": "code",
   "execution_count": 24,
   "metadata": {
    "ExecuteTime": {
     "end_time": "2022-09-06T12:05:44.893459Z",
     "start_time": "2022-09-06T12:05:44.875506Z"
    },
    "scrolled": true
   },
   "outputs": [
    {
     "data": {
      "text/plain": [
       "array([[5.1, 3.5, 1.4, 0.2],\n",
       "       [4.9, 3. , 1.4, 0.2],\n",
       "       [4.7, 3.2, 1.3, 0.2],\n",
       "       [4.6, 3.1, 1.5, 0.2],\n",
       "       [5. , 3.6, 1.4, 0.2],\n",
       "       [5.4, 3.9, 1.7, 0.4],\n",
       "       [4.6, 3.4, 1.4, 0.3],\n",
       "       [5. , 3.4, 1.5, 0.2],\n",
       "       [4.4, 2.9, 1.4, 0.2],\n",
       "       [4.9, 3.1, 1.5, 0.1],\n",
       "       [5.4, 3.7, 1.5, 0.2],\n",
       "       [4.8, 3.4, 1.6, 0.2],\n",
       "       [4.8, 3. , 1.4, 0.1],\n",
       "       [4.3, 3. , 1.1, 0.1],\n",
       "       [5.8, 4. , 1.2, 0.2],\n",
       "       [5.7, 4.4, 1.5, 0.4],\n",
       "       [5.4, 3.9, 1.3, 0.4],\n",
       "       [5.1, 3.5, 1.4, 0.3],\n",
       "       [5.7, 3.8, 1.7, 0.3],\n",
       "       [5.1, 3.8, 1.5, 0.3],\n",
       "       [5.4, 3.4, 1.7, 0.2],\n",
       "       [5.1, 3.7, 1.5, 0.4],\n",
       "       [4.6, 3.6, 1. , 0.2],\n",
       "       [5.1, 3.3, 1.7, 0.5],\n",
       "       [4.8, 3.4, 1.9, 0.2],\n",
       "       [5. , 3. , 1.6, 0.2],\n",
       "       [5. , 3.4, 1.6, 0.4],\n",
       "       [5.2, 3.5, 1.5, 0.2],\n",
       "       [5.2, 3.4, 1.4, 0.2],\n",
       "       [4.7, 3.2, 1.6, 0.2],\n",
       "       [4.8, 3.1, 1.6, 0.2],\n",
       "       [5.4, 3.4, 1.5, 0.4],\n",
       "       [5.2, 4.1, 1.5, 0.1],\n",
       "       [5.5, 4.2, 1.4, 0.2],\n",
       "       [4.9, 3.1, 1.5, 0.2],\n",
       "       [5. , 3.2, 1.2, 0.2],\n",
       "       [5.5, 3.5, 1.3, 0.2],\n",
       "       [4.9, 3.6, 1.4, 0.1],\n",
       "       [4.4, 3. , 1.3, 0.2],\n",
       "       [5.1, 3.4, 1.5, 0.2],\n",
       "       [5. , 3.5, 1.3, 0.3],\n",
       "       [4.5, 2.3, 1.3, 0.3],\n",
       "       [4.4, 3.2, 1.3, 0.2],\n",
       "       [5. , 3.5, 1.6, 0.6],\n",
       "       [5.1, 3.8, 1.9, 0.4],\n",
       "       [4.8, 3. , 1.4, 0.3],\n",
       "       [5.1, 3.8, 1.6, 0.2],\n",
       "       [4.6, 3.2, 1.4, 0.2],\n",
       "       [5.3, 3.7, 1.5, 0.2],\n",
       "       [5. , 3.3, 1.4, 0.2],\n",
       "       [7. , 3.2, 4.7, 1.4],\n",
       "       [6.4, 3.2, 4.5, 1.5],\n",
       "       [6.9, 3.1, 4.9, 1.5],\n",
       "       [5.5, 2.3, 4. , 1.3],\n",
       "       [6.5, 2.8, 4.6, 1.5],\n",
       "       [5.7, 2.8, 4.5, 1.3],\n",
       "       [6.3, 3.3, 4.7, 1.6],\n",
       "       [4.9, 2.4, 3.3, 1. ],\n",
       "       [6.6, 2.9, 4.6, 1.3],\n",
       "       [5.2, 2.7, 3.9, 1.4],\n",
       "       [5. , 2. , 3.5, 1. ],\n",
       "       [5.9, 3. , 4.2, 1.5],\n",
       "       [6. , 2.2, 4. , 1. ],\n",
       "       [6.1, 2.9, 4.7, 1.4],\n",
       "       [5.6, 2.9, 3.6, 1.3],\n",
       "       [6.7, 3.1, 4.4, 1.4],\n",
       "       [5.6, 3. , 4.5, 1.5],\n",
       "       [5.8, 2.7, 4.1, 1. ],\n",
       "       [6.2, 2.2, 4.5, 1.5],\n",
       "       [5.6, 2.5, 3.9, 1.1],\n",
       "       [5.9, 3.2, 4.8, 1.8],\n",
       "       [6.1, 2.8, 4. , 1.3],\n",
       "       [6.3, 2.5, 4.9, 1.5],\n",
       "       [6.1, 2.8, 4.7, 1.2],\n",
       "       [6.4, 2.9, 4.3, 1.3],\n",
       "       [6.6, 3. , 4.4, 1.4],\n",
       "       [6.8, 2.8, 4.8, 1.4],\n",
       "       [6.7, 3. , 5. , 1.7],\n",
       "       [6. , 2.9, 4.5, 1.5],\n",
       "       [5.7, 2.6, 3.5, 1. ],\n",
       "       [5.5, 2.4, 3.8, 1.1],\n",
       "       [5.5, 2.4, 3.7, 1. ],\n",
       "       [5.8, 2.7, 3.9, 1.2],\n",
       "       [6. , 2.7, 5.1, 1.6],\n",
       "       [5.4, 3. , 4.5, 1.5],\n",
       "       [6. , 3.4, 4.5, 1.6],\n",
       "       [6.7, 3.1, 4.7, 1.5],\n",
       "       [6.3, 2.3, 4.4, 1.3],\n",
       "       [5.6, 3. , 4.1, 1.3],\n",
       "       [5.5, 2.5, 4. , 1.3],\n",
       "       [5.5, 2.6, 4.4, 1.2],\n",
       "       [6.1, 3. , 4.6, 1.4],\n",
       "       [5.8, 2.6, 4. , 1.2],\n",
       "       [5. , 2.3, 3.3, 1. ],\n",
       "       [5.6, 2.7, 4.2, 1.3],\n",
       "       [5.7, 3. , 4.2, 1.2],\n",
       "       [5.7, 2.9, 4.2, 1.3],\n",
       "       [6.2, 2.9, 4.3, 1.3],\n",
       "       [5.1, 2.5, 3. , 1.1],\n",
       "       [5.7, 2.8, 4.1, 1.3],\n",
       "       [6.3, 3.3, 6. , 2.5],\n",
       "       [5.8, 2.7, 5.1, 1.9],\n",
       "       [7.1, 3. , 5.9, 2.1],\n",
       "       [6.3, 2.9, 5.6, 1.8],\n",
       "       [6.5, 3. , 5.8, 2.2],\n",
       "       [7.6, 3. , 6.6, 2.1],\n",
       "       [4.9, 2.5, 4.5, 1.7],\n",
       "       [7.3, 2.9, 6.3, 1.8],\n",
       "       [6.7, 2.5, 5.8, 1.8],\n",
       "       [7.2, 3.6, 6.1, 2.5],\n",
       "       [6.5, 3.2, 5.1, 2. ],\n",
       "       [6.4, 2.7, 5.3, 1.9],\n",
       "       [6.8, 3. , 5.5, 2.1],\n",
       "       [5.7, 2.5, 5. , 2. ],\n",
       "       [5.8, 2.8, 5.1, 2.4],\n",
       "       [6.4, 3.2, 5.3, 2.3],\n",
       "       [6.5, 3. , 5.5, 1.8],\n",
       "       [7.7, 3.8, 6.7, 2.2],\n",
       "       [7.7, 2.6, 6.9, 2.3],\n",
       "       [6. , 2.2, 5. , 1.5],\n",
       "       [6.9, 3.2, 5.7, 2.3],\n",
       "       [5.6, 2.8, 4.9, 2. ],\n",
       "       [7.7, 2.8, 6.7, 2. ],\n",
       "       [6.3, 2.7, 4.9, 1.8],\n",
       "       [6.7, 3.3, 5.7, 2.1],\n",
       "       [7.2, 3.2, 6. , 1.8],\n",
       "       [6.2, 2.8, 4.8, 1.8],\n",
       "       [6.1, 3. , 4.9, 1.8],\n",
       "       [6.4, 2.8, 5.6, 2.1],\n",
       "       [7.2, 3. , 5.8, 1.6],\n",
       "       [7.4, 2.8, 6.1, 1.9],\n",
       "       [7.9, 3.8, 6.4, 2. ],\n",
       "       [6.4, 2.8, 5.6, 2.2],\n",
       "       [6.3, 2.8, 5.1, 1.5],\n",
       "       [6.1, 2.6, 5.6, 1.4],\n",
       "       [7.7, 3. , 6.1, 2.3],\n",
       "       [6.3, 3.4, 5.6, 2.4],\n",
       "       [6.4, 3.1, 5.5, 1.8],\n",
       "       [6. , 3. , 4.8, 1.8],\n",
       "       [6.9, 3.1, 5.4, 2.1],\n",
       "       [6.7, 3.1, 5.6, 2.4],\n",
       "       [6.9, 3.1, 5.1, 2.3],\n",
       "       [5.8, 2.7, 5.1, 1.9],\n",
       "       [6.8, 3.2, 5.9, 2.3],\n",
       "       [6.7, 3.3, 5.7, 2.5],\n",
       "       [6.7, 3. , 5.2, 2.3],\n",
       "       [6.3, 2.5, 5. , 1.9],\n",
       "       [6.5, 3. , 5.2, 2. ],\n",
       "       [6.2, 3.4, 5.4, 2.3],\n",
       "       [5.9, 3. , 5.1, 1.8]])"
      ]
     },
     "execution_count": 24,
     "metadata": {},
     "output_type": "execute_result"
    }
   ],
   "source": [
    "X"
   ]
  },
  {
   "cell_type": "code",
   "execution_count": 25,
   "metadata": {
    "ExecuteTime": {
     "end_time": "2022-09-06T12:05:50.596005Z",
     "start_time": "2022-09-06T12:05:50.584037Z"
    }
   },
   "outputs": [
    {
     "data": {
      "text/plain": [
       "array([0, 0, 0, 0, 0, 0, 0, 0, 0, 0, 0, 0, 0, 0, 0, 0, 0, 0, 0, 0, 0, 0,\n",
       "       0, 0, 0, 0, 0, 0, 0, 0, 0, 0, 0, 0, 0, 0, 0, 0, 0, 0, 0, 0, 0, 0,\n",
       "       0, 0, 0, 0, 0, 0, 1, 1, 1, 1, 1, 1, 1, 1, 1, 1, 1, 1, 1, 1, 1, 1,\n",
       "       1, 1, 1, 1, 1, 1, 1, 1, 1, 1, 1, 1, 1, 1, 1, 1, 1, 1, 1, 1, 1, 1,\n",
       "       1, 1, 1, 1, 1, 1, 1, 1, 1, 1, 1, 1, 2, 2, 2, 2, 2, 2, 2, 2, 2, 2,\n",
       "       2, 2, 2, 2, 2, 2, 2, 2, 2, 2, 2, 2, 2, 2, 2, 2, 2, 2, 2, 2, 2, 2,\n",
       "       2, 2, 2, 2, 2, 2, 2, 2, 2, 2, 2, 2, 2, 2, 2, 2, 2, 2])"
      ]
     },
     "execution_count": 25,
     "metadata": {},
     "output_type": "execute_result"
    }
   ],
   "source": [
    "y"
   ]
  },
  {
   "cell_type": "code",
   "execution_count": null,
   "metadata": {},
   "outputs": [],
   "source": []
  },
  {
   "cell_type": "code",
   "execution_count": null,
   "metadata": {},
   "outputs": [],
   "source": []
  },
  {
   "cell_type": "code",
   "execution_count": null,
   "metadata": {},
   "outputs": [],
   "source": []
  },
  {
   "cell_type": "code",
   "execution_count": null,
   "metadata": {},
   "outputs": [],
   "source": []
  },
  {
   "cell_type": "code",
   "execution_count": 1,
   "metadata": {
    "ExecuteTime": {
     "end_time": "2022-09-07T11:52:12.671237Z",
     "start_time": "2022-09-07T11:52:11.584984Z"
    }
   },
   "outputs": [],
   "source": [
    "import pandas as pd"
   ]
  },
  {
   "cell_type": "code",
   "execution_count": 2,
   "metadata": {
    "ExecuteTime": {
     "end_time": "2022-09-07T11:52:57.506249Z",
     "start_time": "2022-09-07T11:52:55.821064Z"
    }
   },
   "outputs": [],
   "source": [
    "df = pd.read_csv('steam_game_data.csv')"
   ]
  },
  {
   "cell_type": "code",
   "execution_count": 3,
   "metadata": {
    "ExecuteTime": {
     "end_time": "2022-09-07T11:52:58.976019Z",
     "start_time": "2022-09-07T11:52:58.943582Z"
    }
   },
   "outputs": [
    {
     "data": {
      "text/html": [
       "<div>\n",
       "<style scoped>\n",
       "    .dataframe tbody tr th:only-of-type {\n",
       "        vertical-align: middle;\n",
       "    }\n",
       "\n",
       "    .dataframe tbody tr th {\n",
       "        vertical-align: top;\n",
       "    }\n",
       "\n",
       "    .dataframe thead th {\n",
       "        text-align: right;\n",
       "    }\n",
       "</style>\n",
       "<table border=\"1\" class=\"dataframe\">\n",
       "  <thead>\n",
       "    <tr style=\"text-align: right;\">\n",
       "      <th></th>\n",
       "      <th>Unnamed: 0</th>\n",
       "      <th>title</th>\n",
       "      <th>hyperlink</th>\n",
       "      <th>is game</th>\n",
       "      <th>Genres</th>\n",
       "      <th>main_genre</th>\n",
       "      <th>sub_genre</th>\n",
       "      <th>price_in_rand</th>\n",
       "      <th>discount_price</th>\n",
       "      <th>discount_percent</th>\n",
       "      <th>...</th>\n",
       "      <th>tags</th>\n",
       "      <th>developer</th>\n",
       "      <th>publisher</th>\n",
       "      <th>game description</th>\n",
       "      <th>release_year</th>\n",
       "      <th>release_month</th>\n",
       "      <th>release_day</th>\n",
       "      <th>percent_of_reviews_positive</th>\n",
       "      <th>number_of_reviews</th>\n",
       "      <th>category</th>\n",
       "    </tr>\n",
       "  </thead>\n",
       "  <tbody>\n",
       "    <tr>\n",
       "      <th>0</th>\n",
       "      <td>0</td>\n",
       "      <td>Counter-Strike: Global Offensive</td>\n",
       "      <td>https://store.steampowered.com/app/730/Counter...</td>\n",
       "      <td>All Games &gt; Free to Play Games &gt; Counter-Strik...</td>\n",
       "      <td>['Action,', 'Free', 'to', 'Play']</td>\n",
       "      <td>Action</td>\n",
       "      <td>Free to play</td>\n",
       "      <td>0.0</td>\n",
       "      <td>0.0</td>\n",
       "      <td>0</td>\n",
       "      <td>...</td>\n",
       "      <td>['FPS', 'Shooter', 'Multiplayer', 'Competitive...</td>\n",
       "      <td>Valve</td>\n",
       "      <td>Valve</td>\n",
       "      <td>About This Game Counter-Strike: Global Offensi...</td>\n",
       "      <td>2012</td>\n",
       "      <td>Aug</td>\n",
       "      <td>21</td>\n",
       "      <td>88</td>\n",
       "      <td>6545979</td>\n",
       "      <td>Games</td>\n",
       "    </tr>\n",
       "    <tr>\n",
       "      <th>1</th>\n",
       "      <td>1</td>\n",
       "      <td>Apex Legends™</td>\n",
       "      <td>https://store.steampowered.com/app/1172470/Ape...</td>\n",
       "      <td>All Games &gt; Action Games &gt; Apex Legends Offici...</td>\n",
       "      <td>['Action,', 'Adventure,', 'Free', 'to', 'Play']</td>\n",
       "      <td>Action</td>\n",
       "      <td>Adventure</td>\n",
       "      <td>0.0</td>\n",
       "      <td>0.0</td>\n",
       "      <td>0</td>\n",
       "      <td>...</td>\n",
       "      <td>['Free to Play', 'Multiplayer', 'Battle Royale...</td>\n",
       "      <td>Respawn Entertainment</td>\n",
       "      <td>Electronic Arts</td>\n",
       "      <td>About This Game Conquer with character in Apex...</td>\n",
       "      <td>2020</td>\n",
       "      <td>Nov</td>\n",
       "      <td>4</td>\n",
       "      <td>86</td>\n",
       "      <td>486153</td>\n",
       "      <td>Games</td>\n",
       "    </tr>\n",
       "    <tr>\n",
       "      <th>2</th>\n",
       "      <td>2</td>\n",
       "      <td>Stray</td>\n",
       "      <td>https://store.steampowered.com/app/1332010/Str...</td>\n",
       "      <td>All Games &gt; Adventure Games &gt; Annapurna Intera...</td>\n",
       "      <td>['Adventure,', 'Indie']</td>\n",
       "      <td>Adventure</td>\n",
       "      <td>Indie</td>\n",
       "      <td>195.0</td>\n",
       "      <td>195.0</td>\n",
       "      <td>0</td>\n",
       "      <td>...</td>\n",
       "      <td>['Cats', 'Adventure', 'Cyberpunk', 'Cute', 'At...</td>\n",
       "      <td>BlueTwelve Studio</td>\n",
       "      <td>Annapurna Interactive</td>\n",
       "      <td>About This Game Lost, alone and separated from...</td>\n",
       "      <td>2022</td>\n",
       "      <td>Jul</td>\n",
       "      <td>19</td>\n",
       "      <td>97</td>\n",
       "      <td>56406</td>\n",
       "      <td>Games</td>\n",
       "    </tr>\n",
       "    <tr>\n",
       "      <th>3</th>\n",
       "      <td>3</td>\n",
       "      <td>Grand Theft Auto V</td>\n",
       "      <td>https://store.steampowered.com/app/271590/Gran...</td>\n",
       "      <td>All Games &gt; Action Games &gt; Grand Theft Auto V</td>\n",
       "      <td>['Action,', 'Adventure']</td>\n",
       "      <td>Action</td>\n",
       "      <td>Adventure</td>\n",
       "      <td>0.0</td>\n",
       "      <td>0.0</td>\n",
       "      <td>0</td>\n",
       "      <td>...</td>\n",
       "      <td>['Open World', 'Action', 'Multiplayer', 'Autom...</td>\n",
       "      <td>Rockstar North</td>\n",
       "      <td>Rockstar Games</td>\n",
       "      <td>About This Game When a young street hustler, a...</td>\n",
       "      <td>2015</td>\n",
       "      <td>Apr</td>\n",
       "      <td>13</td>\n",
       "      <td>85</td>\n",
       "      <td>1251157</td>\n",
       "      <td>Games</td>\n",
       "    </tr>\n",
       "    <tr>\n",
       "      <th>4</th>\n",
       "      <td>4</td>\n",
       "      <td>MultiVersus</td>\n",
       "      <td>https://store.steampowered.com/app/1818750/Mul...</td>\n",
       "      <td>All Games &gt; Free to Play Games &gt; MultiVersus</td>\n",
       "      <td>['Action,', 'Free', 'to', 'Play']</td>\n",
       "      <td>Action</td>\n",
       "      <td>Free to play</td>\n",
       "      <td>0.0</td>\n",
       "      <td>0.0</td>\n",
       "      <td>0</td>\n",
       "      <td>...</td>\n",
       "      <td>['Multiplayer', 'Co-op', '2D Fighter', 'Action...</td>\n",
       "      <td>Player First Games</td>\n",
       "      <td>Warner Bros. Games</td>\n",
       "      <td>About This Game CharactersChoose from Harley Q...</td>\n",
       "      <td>2022</td>\n",
       "      <td>Jul</td>\n",
       "      <td>19</td>\n",
       "      <td>89</td>\n",
       "      <td>42353</td>\n",
       "      <td>Games</td>\n",
       "    </tr>\n",
       "  </tbody>\n",
       "</table>\n",
       "<p>5 rows × 22 columns</p>\n",
       "</div>"
      ],
      "text/plain": [
       "   Unnamed: 0                             title  \\\n",
       "0           0  Counter-Strike: Global Offensive   \n",
       "1           1                     Apex Legends™   \n",
       "2           2                             Stray   \n",
       "3           3                Grand Theft Auto V   \n",
       "4           4                       MultiVersus   \n",
       "\n",
       "                                           hyperlink  \\\n",
       "0  https://store.steampowered.com/app/730/Counter...   \n",
       "1  https://store.steampowered.com/app/1172470/Ape...   \n",
       "2  https://store.steampowered.com/app/1332010/Str...   \n",
       "3  https://store.steampowered.com/app/271590/Gran...   \n",
       "4  https://store.steampowered.com/app/1818750/Mul...   \n",
       "\n",
       "                                             is game  \\\n",
       "0  All Games > Free to Play Games > Counter-Strik...   \n",
       "1  All Games > Action Games > Apex Legends Offici...   \n",
       "2  All Games > Adventure Games > Annapurna Intera...   \n",
       "3      All Games > Action Games > Grand Theft Auto V   \n",
       "4       All Games > Free to Play Games > MultiVersus   \n",
       "\n",
       "                                            Genres main_genre     sub_genre  \\\n",
       "0                ['Action,', 'Free', 'to', 'Play']     Action  Free to play   \n",
       "1  ['Action,', 'Adventure,', 'Free', 'to', 'Play']     Action     Adventure   \n",
       "2                          ['Adventure,', 'Indie']  Adventure         Indie   \n",
       "3                         ['Action,', 'Adventure']     Action     Adventure   \n",
       "4                ['Action,', 'Free', 'to', 'Play']     Action  Free to play   \n",
       "\n",
       "   price_in_rand  discount_price  discount_percent  ...  \\\n",
       "0            0.0             0.0                 0  ...   \n",
       "1            0.0             0.0                 0  ...   \n",
       "2          195.0           195.0                 0  ...   \n",
       "3            0.0             0.0                 0  ...   \n",
       "4            0.0             0.0                 0  ...   \n",
       "\n",
       "                                                tags              developer  \\\n",
       "0  ['FPS', 'Shooter', 'Multiplayer', 'Competitive...                  Valve   \n",
       "1  ['Free to Play', 'Multiplayer', 'Battle Royale...  Respawn Entertainment   \n",
       "2  ['Cats', 'Adventure', 'Cyberpunk', 'Cute', 'At...      BlueTwelve Studio   \n",
       "3  ['Open World', 'Action', 'Multiplayer', 'Autom...         Rockstar North   \n",
       "4  ['Multiplayer', 'Co-op', '2D Fighter', 'Action...     Player First Games   \n",
       "\n",
       "               publisher                                   game description  \\\n",
       "0                  Valve  About This Game Counter-Strike: Global Offensi...   \n",
       "1        Electronic Arts  About This Game Conquer with character in Apex...   \n",
       "2  Annapurna Interactive  About This Game Lost, alone and separated from...   \n",
       "3         Rockstar Games  About This Game When a young street hustler, a...   \n",
       "4     Warner Bros. Games  About This Game CharactersChoose from Harley Q...   \n",
       "\n",
       "  release_year release_month  release_day percent_of_reviews_positive  \\\n",
       "0         2012           Aug           21                          88   \n",
       "1         2020           Nov            4                          86   \n",
       "2         2022           Jul           19                          97   \n",
       "3         2015           Apr           13                          85   \n",
       "4         2022           Jul           19                          89   \n",
       "\n",
       "   number_of_reviews  category  \n",
       "0            6545979     Games  \n",
       "1             486153     Games  \n",
       "2              56406     Games  \n",
       "3            1251157     Games  \n",
       "4              42353     Games  \n",
       "\n",
       "[5 rows x 22 columns]"
      ]
     },
     "execution_count": 3,
     "metadata": {},
     "output_type": "execute_result"
    }
   ],
   "source": [
    "df.head()"
   ]
  },
  {
   "cell_type": "code",
   "execution_count": 8,
   "metadata": {
    "ExecuteTime": {
     "end_time": "2022-09-07T11:53:49.681395Z",
     "start_time": "2022-09-07T11:53:49.664933Z"
    }
   },
   "outputs": [
    {
     "data": {
      "text/html": [
       "<div>\n",
       "<style scoped>\n",
       "    .dataframe tbody tr th:only-of-type {\n",
       "        vertical-align: middle;\n",
       "    }\n",
       "\n",
       "    .dataframe tbody tr th {\n",
       "        vertical-align: top;\n",
       "    }\n",
       "\n",
       "    .dataframe thead th {\n",
       "        text-align: right;\n",
       "    }\n",
       "</style>\n",
       "<table border=\"1\" class=\"dataframe\">\n",
       "  <thead>\n",
       "    <tr style=\"text-align: right;\">\n",
       "      <th></th>\n",
       "      <th>title</th>\n",
       "      <th>tags</th>\n",
       "    </tr>\n",
       "  </thead>\n",
       "  <tbody>\n",
       "    <tr>\n",
       "      <th>0</th>\n",
       "      <td>Counter-Strike: Global Offensive</td>\n",
       "      <td>['FPS', 'Shooter', 'Multiplayer', 'Competitive...</td>\n",
       "    </tr>\n",
       "    <tr>\n",
       "      <th>1</th>\n",
       "      <td>Apex Legends™</td>\n",
       "      <td>['Free to Play', 'Multiplayer', 'Battle Royale...</td>\n",
       "    </tr>\n",
       "    <tr>\n",
       "      <th>2</th>\n",
       "      <td>Stray</td>\n",
       "      <td>['Cats', 'Adventure', 'Cyberpunk', 'Cute', 'At...</td>\n",
       "    </tr>\n",
       "    <tr>\n",
       "      <th>3</th>\n",
       "      <td>Grand Theft Auto V</td>\n",
       "      <td>['Open World', 'Action', 'Multiplayer', 'Autom...</td>\n",
       "    </tr>\n",
       "    <tr>\n",
       "      <th>4</th>\n",
       "      <td>MultiVersus</td>\n",
       "      <td>['Multiplayer', 'Co-op', '2D Fighter', 'Action...</td>\n",
       "    </tr>\n",
       "  </tbody>\n",
       "</table>\n",
       "</div>"
      ],
      "text/plain": [
       "                              title  \\\n",
       "0  Counter-Strike: Global Offensive   \n",
       "1                     Apex Legends™   \n",
       "2                             Stray   \n",
       "3                Grand Theft Auto V   \n",
       "4                       MultiVersus   \n",
       "\n",
       "                                                tags  \n",
       "0  ['FPS', 'Shooter', 'Multiplayer', 'Competitive...  \n",
       "1  ['Free to Play', 'Multiplayer', 'Battle Royale...  \n",
       "2  ['Cats', 'Adventure', 'Cyberpunk', 'Cute', 'At...  \n",
       "3  ['Open World', 'Action', 'Multiplayer', 'Autom...  \n",
       "4  ['Multiplayer', 'Co-op', '2D Fighter', 'Action...  "
      ]
     },
     "execution_count": 8,
     "metadata": {},
     "output_type": "execute_result"
    }
   ],
   "source": [
    "df = df[['title', 'tags']]\n",
    "df.head()"
   ]
  },
  {
   "cell_type": "code",
   "execution_count": 17,
   "metadata": {
    "ExecuteTime": {
     "end_time": "2022-09-07T11:56:23.846697Z",
     "start_time": "2022-09-07T11:56:23.840713Z"
    }
   },
   "outputs": [],
   "source": [
    "def clean(string):\n",
    "    return string.replace('[','').replace(']','').replace(\"'\",'')"
   ]
  },
  {
   "cell_type": "code",
   "execution_count": 20,
   "metadata": {
    "ExecuteTime": {
     "end_time": "2022-09-07T11:56:34.358035Z",
     "start_time": "2022-09-07T11:56:34.276747Z"
    }
   },
   "outputs": [],
   "source": [
    "df['tags'] = df['tags'].apply(clean)"
   ]
  },
  {
   "cell_type": "code",
   "execution_count": 22,
   "metadata": {
    "ExecuteTime": {
     "end_time": "2022-09-07T11:56:36.436795Z",
     "start_time": "2022-09-07T11:56:36.427820Z"
    }
   },
   "outputs": [
    {
     "data": {
      "text/html": [
       "<div>\n",
       "<style scoped>\n",
       "    .dataframe tbody tr th:only-of-type {\n",
       "        vertical-align: middle;\n",
       "    }\n",
       "\n",
       "    .dataframe tbody tr th {\n",
       "        vertical-align: top;\n",
       "    }\n",
       "\n",
       "    .dataframe thead th {\n",
       "        text-align: right;\n",
       "    }\n",
       "</style>\n",
       "<table border=\"1\" class=\"dataframe\">\n",
       "  <thead>\n",
       "    <tr style=\"text-align: right;\">\n",
       "      <th></th>\n",
       "      <th>title</th>\n",
       "      <th>tags</th>\n",
       "    </tr>\n",
       "  </thead>\n",
       "  <tbody>\n",
       "    <tr>\n",
       "      <th>0</th>\n",
       "      <td>Counter-Strike: Global Offensive</td>\n",
       "      <td>FPS, Shooter, Multiplayer, Competitive, Action...</td>\n",
       "    </tr>\n",
       "    <tr>\n",
       "      <th>1</th>\n",
       "      <td>Apex Legends™</td>\n",
       "      <td>Free to Play, Multiplayer, Battle Royale, Shoo...</td>\n",
       "    </tr>\n",
       "    <tr>\n",
       "      <th>2</th>\n",
       "      <td>Stray</td>\n",
       "      <td>Cats, Adventure, Cyberpunk, Cute, Atmospheric,...</td>\n",
       "    </tr>\n",
       "    <tr>\n",
       "      <th>3</th>\n",
       "      <td>Grand Theft Auto V</td>\n",
       "      <td>Open World, Action, Multiplayer, Automobile Si...</td>\n",
       "    </tr>\n",
       "    <tr>\n",
       "      <th>4</th>\n",
       "      <td>MultiVersus</td>\n",
       "      <td>Multiplayer, Co-op, 2D Fighter, Action, Compet...</td>\n",
       "    </tr>\n",
       "    <tr>\n",
       "      <th>...</th>\n",
       "      <td>...</td>\n",
       "      <td>...</td>\n",
       "    </tr>\n",
       "    <tr>\n",
       "      <th>77806</th>\n",
       "      <td>Rising Islands - Art Book</td>\n",
       "      <td>Adventure, Indie</td>\n",
       "    </tr>\n",
       "    <tr>\n",
       "      <th>77807</th>\n",
       "      <td>Atrius Star</td>\n",
       "      <td>Action, Roguelite, Roguelike, Artificial Intel...</td>\n",
       "    </tr>\n",
       "    <tr>\n",
       "      <th>77808</th>\n",
       "      <td>Jigsaw Puzzle Pack - Pixel Puzzles Ultimate: T...</td>\n",
       "      <td>Indie, Casual, Simulation, Strategy, Action, S...</td>\n",
       "    </tr>\n",
       "    <tr>\n",
       "      <th>77809</th>\n",
       "      <td>Jigsaw Puzzle Pack - Pixel Puzzles Ultimate: M...</td>\n",
       "      <td>Indie, Casual, Simulation, Sports, Strategy, F...</td>\n",
       "    </tr>\n",
       "    <tr>\n",
       "      <th>77810</th>\n",
       "      <td>Mervils: A VR Adventure Demo</td>\n",
       "      <td>Adventure, RPG, VR, Platformer, Puzzle, Puzzle...</td>\n",
       "    </tr>\n",
       "  </tbody>\n",
       "</table>\n",
       "<p>77811 rows × 2 columns</p>\n",
       "</div>"
      ],
      "text/plain": [
       "                                                   title  \\\n",
       "0                       Counter-Strike: Global Offensive   \n",
       "1                                          Apex Legends™   \n",
       "2                                                  Stray   \n",
       "3                                     Grand Theft Auto V   \n",
       "4                                            MultiVersus   \n",
       "...                                                  ...   \n",
       "77806                          Rising Islands - Art Book   \n",
       "77807                                        Atrius Star   \n",
       "77808  Jigsaw Puzzle Pack - Pixel Puzzles Ultimate: T...   \n",
       "77809  Jigsaw Puzzle Pack - Pixel Puzzles Ultimate: M...   \n",
       "77810                       Mervils: A VR Adventure Demo   \n",
       "\n",
       "                                                    tags  \n",
       "0      FPS, Shooter, Multiplayer, Competitive, Action...  \n",
       "1      Free to Play, Multiplayer, Battle Royale, Shoo...  \n",
       "2      Cats, Adventure, Cyberpunk, Cute, Atmospheric,...  \n",
       "3      Open World, Action, Multiplayer, Automobile Si...  \n",
       "4      Multiplayer, Co-op, 2D Fighter, Action, Compet...  \n",
       "...                                                  ...  \n",
       "77806                                   Adventure, Indie  \n",
       "77807  Action, Roguelite, Roguelike, Artificial Intel...  \n",
       "77808  Indie, Casual, Simulation, Strategy, Action, S...  \n",
       "77809  Indie, Casual, Simulation, Sports, Strategy, F...  \n",
       "77810  Adventure, RPG, VR, Platformer, Puzzle, Puzzle...  \n",
       "\n",
       "[77811 rows x 2 columns]"
      ]
     },
     "execution_count": 22,
     "metadata": {},
     "output_type": "execute_result"
    }
   ],
   "source": [
    "df"
   ]
  },
  {
   "cell_type": "code",
   "execution_count": 24,
   "metadata": {
    "ExecuteTime": {
     "end_time": "2022-09-07T11:57:37.055662Z",
     "start_time": "2022-09-07T11:57:37.041700Z"
    }
   },
   "outputs": [],
   "source": [
    "from sklearn.feature_extraction.text import TfidfVectorizer"
   ]
  },
  {
   "cell_type": "code",
   "execution_count": 25,
   "metadata": {
    "ExecuteTime": {
     "end_time": "2022-09-07T11:58:13.929829Z",
     "start_time": "2022-09-07T11:58:13.914871Z"
    }
   },
   "outputs": [],
   "source": []
  },
  {
   "cell_type": "code",
   "execution_count": 39,
   "metadata": {
    "ExecuteTime": {
     "end_time": "2022-09-07T12:11:21.310918Z",
     "start_time": "2022-09-07T12:11:20.776795Z"
    }
   },
   "outputs": [],
   "source": [
    "from nltk import SnowballStemmer, PorterStemmer, LancasterStemmer\n",
    "from nltk.stem import WordNetLemmatizer\n",
    "import nltk"
   ]
  },
  {
   "cell_type": "code",
   "execution_count": 72,
   "metadata": {
    "ExecuteTime": {
     "end_time": "2022-09-07T12:16:06.069102Z",
     "start_time": "2022-09-07T12:16:06.056137Z"
    }
   },
   "outputs": [],
   "source": [
    "# nltk.download('wordnet')\n",
    "lemmatizer = WordNetLemmatizer()\n",
    "\n",
    "def Lemming_tokenizer(str_input):\n",
    "    words = str_input.lower().split(',')\n",
    "    words = [lemmatizer.lemmatize(word.strip()) for word in words]\n",
    "    return words"
   ]
  },
  {
   "cell_type": "code",
   "execution_count": 73,
   "metadata": {
    "ExecuteTime": {
     "end_time": "2022-09-07T12:16:06.746290Z",
     "start_time": "2022-09-07T12:16:06.731330Z"
    }
   },
   "outputs": [],
   "source": [
    "vectorizer = TfidfVectorizer(tokenizer=Lemming_tokenizer)"
   ]
  },
  {
   "cell_type": "code",
   "execution_count": 74,
   "metadata": {
    "ExecuteTime": {
     "end_time": "2022-09-07T12:16:07.043557Z",
     "start_time": "2022-09-07T12:16:07.031527Z"
    }
   },
   "outputs": [],
   "source": [
    "# vectorizer?"
   ]
  },
  {
   "cell_type": "code",
   "execution_count": 75,
   "metadata": {
    "ExecuteTime": {
     "end_time": "2022-09-07T12:16:07.428036Z",
     "start_time": "2022-09-07T12:16:07.387146Z"
    }
   },
   "outputs": [],
   "source": [
    "X = vectorizer.fit_transform(test.tags)"
   ]
  },
  {
   "cell_type": "code",
   "execution_count": 76,
   "metadata": {
    "ExecuteTime": {
     "end_time": "2022-09-07T12:16:07.968148Z",
     "start_time": "2022-09-07T12:16:07.952191Z"
    }
   },
   "outputs": [
    {
     "data": {
      "text/plain": [
       "<300x345 sparse matrix of type '<class 'numpy.float64'>'\n",
       "\twith 5886 stored elements in Compressed Sparse Row format>"
      ]
     },
     "execution_count": 76,
     "metadata": {},
     "output_type": "execute_result"
    }
   ],
   "source": [
    "X"
   ]
  },
  {
   "cell_type": "code",
   "execution_count": 77,
   "metadata": {
    "ExecuteTime": {
     "end_time": "2022-09-07T12:16:08.529742Z",
     "start_time": "2022-09-07T12:16:08.512792Z"
    }
   },
   "outputs": [],
   "source": [
    "some = vectorizer.get_feature_names()"
   ]
  },
  {
   "cell_type": "code",
   "execution_count": 78,
   "metadata": {
    "ExecuteTime": {
     "end_time": "2022-09-07T12:16:09.102236Z",
     "start_time": "2022-09-07T12:16:09.088274Z"
    }
   },
   "outputs": [
    {
     "data": {
      "text/plain": [
       "['\"1990s\"',\n",
       " '\"beat em up\"',\n",
       " '\"shoot em up\"',\n",
       " '1980s',\n",
       " '2.5d',\n",
       " '2d',\n",
       " '2d fighter',\n",
       " '2d platformer',\n",
       " '3d',\n",
       " '3d fighter',\n",
       " '3d platformer',\n",
       " '3d vision',\n",
       " '4 player local',\n",
       " '4x',\n",
       " '6dof',\n",
       " 'action',\n",
       " 'action roguelike',\n",
       " 'action rpg',\n",
       " 'action rts',\n",
       " 'action-adventure',\n",
       " 'addictive',\n",
       " 'adventure',\n",
       " 'agriculture',\n",
       " 'alien',\n",
       " 'alternate history',\n",
       " 'america',\n",
       " 'animation & modeling',\n",
       " 'anime',\n",
       " 'arcade',\n",
       " 'archery',\n",
       " 'artificial intelligence',\n",
       " 'assassin',\n",
       " 'atmospheric',\n",
       " 'atv',\n",
       " 'auto battler',\n",
       " 'automation',\n",
       " 'automobile sim',\n",
       " 'base building',\n",
       " 'basketball',\n",
       " 'battle royale',\n",
       " 'beautiful',\n",
       " 'blood',\n",
       " 'board game',\n",
       " 'building',\n",
       " 'bullet hell',\n",
       " 'capitalism',\n",
       " 'card battler',\n",
       " 'card game',\n",
       " 'cartoon',\n",
       " 'cartoony',\n",
       " 'casual',\n",
       " 'cat',\n",
       " 'character action game',\n",
       " 'character customization',\n",
       " 'choices matter',\n",
       " 'choose your own adventure',\n",
       " 'cinematic',\n",
       " 'city builder',\n",
       " 'class-based',\n",
       " 'classic',\n",
       " 'co-op',\n",
       " 'co-op campaign',\n",
       " 'cold war',\n",
       " 'colony sim',\n",
       " 'colorful',\n",
       " 'combat',\n",
       " 'comedy',\n",
       " 'comic book',\n",
       " 'competitive',\n",
       " 'controller',\n",
       " 'conversation',\n",
       " 'cooking',\n",
       " 'cozy',\n",
       " 'crafting',\n",
       " 'creature collector',\n",
       " 'crime',\n",
       " 'crowdfunded',\n",
       " 'crpg',\n",
       " 'cult classic',\n",
       " 'cute',\n",
       " 'cyberpunk',\n",
       " 'dark',\n",
       " 'dark comedy',\n",
       " 'dark fantasy',\n",
       " 'dark humor',\n",
       " 'dating sim',\n",
       " 'deckbuilding',\n",
       " 'demon',\n",
       " 'design & illustration',\n",
       " 'destruction',\n",
       " 'detective',\n",
       " 'difficult',\n",
       " 'dinosaur',\n",
       " 'diplomacy',\n",
       " 'dog',\n",
       " 'dragon',\n",
       " 'drama',\n",
       " 'driving',\n",
       " 'dungeon crawler',\n",
       " 'dungeons & dragons',\n",
       " 'dynamic narration',\n",
       " 'dystopian',\n",
       " 'early access',\n",
       " 'economy',\n",
       " 'education',\n",
       " 'emotional',\n",
       " 'epic',\n",
       " 'escape room',\n",
       " 'esports',\n",
       " 'experimental',\n",
       " 'exploration',\n",
       " 'faith',\n",
       " 'family friendly',\n",
       " 'fantasy',\n",
       " 'farming',\n",
       " 'farming sim',\n",
       " 'fast-paced',\n",
       " 'female protagonist',\n",
       " 'fighting',\n",
       " 'first-person',\n",
       " 'fishing',\n",
       " 'flight',\n",
       " 'fmv',\n",
       " 'football',\n",
       " 'foreign',\n",
       " 'fps',\n",
       " 'free to play',\n",
       " 'funny',\n",
       " 'futuristic',\n",
       " 'gambling',\n",
       " 'game development',\n",
       " 'games workshop',\n",
       " 'god game',\n",
       " 'golf',\n",
       " 'gore',\n",
       " 'gothic',\n",
       " 'grand strategy',\n",
       " 'great soundtrack',\n",
       " 'gun customization',\n",
       " 'hack and slash',\n",
       " 'hand-drawn',\n",
       " 'hardware',\n",
       " 'heist',\n",
       " 'hentai',\n",
       " 'hero shooter',\n",
       " 'hex grid',\n",
       " 'hidden object',\n",
       " 'historical',\n",
       " 'horror',\n",
       " 'horse',\n",
       " 'hunting',\n",
       " 'idler',\n",
       " 'illuminati',\n",
       " 'immersive sim',\n",
       " 'indie',\n",
       " 'interactive fiction',\n",
       " 'inventory management',\n",
       " 'investigation',\n",
       " 'isometric',\n",
       " 'jet',\n",
       " 'jrpg',\n",
       " 'kickstarter',\n",
       " 'lego',\n",
       " 'level editor',\n",
       " 'life sim',\n",
       " 'linear',\n",
       " 'local co-op',\n",
       " 'local multiplayer',\n",
       " 'logic',\n",
       " 'loot',\n",
       " 'looter shooter',\n",
       " 'lore-rich',\n",
       " 'lovecraftian',\n",
       " 'magic',\n",
       " 'management',\n",
       " 'mar',\n",
       " 'martial arts',\n",
       " 'massively multiplayer',\n",
       " 'mature',\n",
       " 'mechs',\n",
       " 'medieval',\n",
       " 'meme',\n",
       " 'metroidvania',\n",
       " 'military',\n",
       " 'minigames',\n",
       " 'minimalist',\n",
       " 'mining',\n",
       " 'mmorpg',\n",
       " 'moba',\n",
       " 'mod',\n",
       " 'moddable',\n",
       " 'modern',\n",
       " 'motorbike',\n",
       " 'mouse only',\n",
       " 'multiplayer',\n",
       " 'multiple endings',\n",
       " 'music',\n",
       " 'music-based procedural generation',\n",
       " 'musou',\n",
       " 'mystery',\n",
       " 'mythology',\n",
       " 'narration',\n",
       " 'narrative',\n",
       " 'nature',\n",
       " 'naval',\n",
       " 'naval combat',\n",
       " 'ninja',\n",
       " 'noir',\n",
       " 'nonlinear',\n",
       " 'nostalgia',\n",
       " 'nsfw',\n",
       " 'nudity',\n",
       " 'old school',\n",
       " 'online co-op',\n",
       " 'open world',\n",
       " 'open world survival craft',\n",
       " 'parkour',\n",
       " 'party',\n",
       " 'party game',\n",
       " 'party-based rpg',\n",
       " 'perma death',\n",
       " 'physic',\n",
       " 'pinball',\n",
       " 'pirate',\n",
       " 'pixel graphics',\n",
       " 'platformer',\n",
       " 'point & click',\n",
       " 'political',\n",
       " 'political sim',\n",
       " 'politics',\n",
       " 'post-apocalyptic',\n",
       " 'precision platformer',\n",
       " 'procedural generation',\n",
       " 'psychedelic',\n",
       " 'psychological',\n",
       " 'psychological horror',\n",
       " 'puzzle',\n",
       " 'puzzle platformer',\n",
       " 'pve',\n",
       " 'pvp',\n",
       " 'quick-time events',\n",
       " 'racing',\n",
       " 'real time tactics',\n",
       " 'real-time',\n",
       " 'real-time with pause',\n",
       " 'realistic',\n",
       " 'relaxing',\n",
       " 'remake',\n",
       " 'replay value',\n",
       " 'resource management',\n",
       " 'retro',\n",
       " 'rhythm',\n",
       " 'robot',\n",
       " 'roguelike',\n",
       " 'roguelike deckbuilder',\n",
       " 'roguelite',\n",
       " 'roguevania',\n",
       " 'romance',\n",
       " 'rpg',\n",
       " 'rpgmaker',\n",
       " 'rts',\n",
       " 'runner',\n",
       " 'sailing',\n",
       " 'sandbox',\n",
       " 'satire',\n",
       " 'sci-fi',\n",
       " 'science',\n",
       " 'score attack',\n",
       " 'sequel',\n",
       " 'sexual content',\n",
       " 'shooter',\n",
       " 'short',\n",
       " 'side scroller',\n",
       " 'silent protagonist',\n",
       " 'simulation',\n",
       " 'singleplayer',\n",
       " 'sniper',\n",
       " 'snow',\n",
       " 'soccer',\n",
       " 'social deduction',\n",
       " 'solitaire',\n",
       " 'souls-like',\n",
       " 'soundtrack',\n",
       " 'space',\n",
       " 'space sim',\n",
       " 'spaceship',\n",
       " 'spectacle fighter',\n",
       " 'split screen',\n",
       " 'sport',\n",
       " 'stealth',\n",
       " 'steampunk',\n",
       " 'story rich',\n",
       " 'strategy',\n",
       " 'strategy rpg',\n",
       " 'stylized',\n",
       " 'submarine',\n",
       " 'superhero',\n",
       " 'supernatural',\n",
       " 'surreal',\n",
       " 'survival',\n",
       " 'survival horror',\n",
       " 'swordplay',\n",
       " 'tabletop',\n",
       " 'tactical',\n",
       " 'tactical rpg',\n",
       " 'tank',\n",
       " 'team-based',\n",
       " 'text-based',\n",
       " 'third person',\n",
       " 'third-person shooter',\n",
       " 'thriller',\n",
       " 'top-down',\n",
       " 'top-down shooter',\n",
       " 'tower defense',\n",
       " 'trackir',\n",
       " 'trading',\n",
       " 'trading card game',\n",
       " 'train',\n",
       " 'transportation',\n",
       " 'turn-based',\n",
       " 'turn-based combat',\n",
       " 'turn-based strategy',\n",
       " 'turn-based tactics',\n",
       " 'tutorial',\n",
       " 'twin stick shooter',\n",
       " 'underwater',\n",
       " 'vampire',\n",
       " 'vehicular combat',\n",
       " 'viking',\n",
       " 'villain protagonist',\n",
       " 'violent',\n",
       " 'visual novel',\n",
       " 'voxel',\n",
       " 'vr',\n",
       " 'walking simulator',\n",
       " 'war',\n",
       " 'wargame',\n",
       " 'warhammer 40k',\n",
       " 'well-written',\n",
       " 'western',\n",
       " 'wholesome',\n",
       " 'world war i',\n",
       " 'world war ii',\n",
       " 'wrestling',\n",
       " 'zombie']"
      ]
     },
     "execution_count": 78,
     "metadata": {},
     "output_type": "execute_result"
    }
   ],
   "source": [
    "some"
   ]
  },
  {
   "cell_type": "code",
   "execution_count": 79,
   "metadata": {
    "ExecuteTime": {
     "end_time": "2022-09-07T12:16:54.202424Z",
     "start_time": "2022-09-07T12:16:54.184472Z"
    }
   },
   "outputs": [
    {
     "data": {
      "text/plain": [
       "<300x345 sparse matrix of type '<class 'numpy.float64'>'\n",
       "\twith 5886 stored elements in Compressed Sparse Row format>"
      ]
     },
     "execution_count": 79,
     "metadata": {},
     "output_type": "execute_result"
    }
   ],
   "source": [
    "X"
   ]
  },
  {
   "cell_type": "code",
   "execution_count": 80,
   "metadata": {
    "ExecuteTime": {
     "end_time": "2022-09-07T12:17:06.998279Z",
     "start_time": "2022-09-07T12:17:06.763403Z"
    }
   },
   "outputs": [],
   "source": [
    "from sklearn.cluster import KMeans"
   ]
  },
  {
   "cell_type": "code",
   "execution_count": 83,
   "metadata": {
    "ExecuteTime": {
     "end_time": "2022-09-07T12:19:27.144821Z",
     "start_time": "2022-09-07T12:19:27.135846Z"
    }
   },
   "outputs": [],
   "source": [
    "kmeans = KMeans(random_state=1,n_clusters=5,verbose=1)"
   ]
  },
  {
   "cell_type": "code",
   "execution_count": 84,
   "metadata": {
    "ExecuteTime": {
     "end_time": "2022-09-07T12:19:39.010138Z",
     "start_time": "2022-09-07T12:19:38.868517Z"
    }
   },
   "outputs": [
    {
     "name": "stdout",
     "output_type": "stream",
     "text": [
      "Initialization complete\n",
      "Iteration 0, inertia 453.86240609524737\n",
      "Iteration 1, inertia 241.0132818899333\n",
      "Iteration 2, inertia 236.24677754172203\n",
      "Iteration 3, inertia 235.2640939981282\n",
      "Iteration 4, inertia 235.01903687448714\n",
      "Iteration 5, inertia 234.88829738120324\n",
      "Iteration 6, inertia 234.8600269910237\n",
      "Converged at iteration 6: strict convergence.\n",
      "Initialization complete\n",
      "Iteration 0, inertia 439.46119535703366\n",
      "Iteration 1, inertia 243.32423975897566\n",
      "Iteration 2, inertia 239.98011060843558\n",
      "Iteration 3, inertia 237.575386370864\n",
      "Iteration 4, inertia 235.5756551106844\n",
      "Iteration 5, inertia 234.09867683627715\n",
      "Iteration 6, inertia 233.7884426106333\n",
      "Iteration 7, inertia 233.71829845803424\n",
      "Iteration 8, inertia 233.69899417875453\n",
      "Converged at iteration 8: strict convergence.\n",
      "Initialization complete\n",
      "Iteration 0, inertia 430.6221708830452\n",
      "Iteration 1, inertia 240.60245673683607\n",
      "Iteration 2, inertia 236.88795062564168\n",
      "Iteration 3, inertia 235.87934624835026\n",
      "Iteration 4, inertia 235.60502937396473\n",
      "Iteration 5, inertia 235.5259761041577\n",
      "Iteration 6, inertia 235.45950939508649\n",
      "Iteration 7, inertia 235.3736232846575\n",
      "Iteration 8, inertia 235.33174288596499\n",
      "Iteration 9, inertia 235.22237708723452\n",
      "Iteration 10, inertia 235.14800886376378\n",
      "Iteration 11, inertia 235.09682417862982\n",
      "Iteration 12, inertia 235.04915118599098\n",
      "Iteration 13, inertia 234.98369950755637\n",
      "Converged at iteration 13: strict convergence.\n",
      "Initialization complete\n",
      "Iteration 0, inertia 426.9620979053157\n",
      "Iteration 1, inertia 241.55608294993317\n",
      "Iteration 2, inertia 238.45699250129235\n",
      "Iteration 3, inertia 237.45697593600488\n",
      "Iteration 4, inertia 236.82993430301647\n",
      "Iteration 5, inertia 236.51342240294272\n",
      "Iteration 6, inertia 236.46554122831603\n",
      "Converged at iteration 6: strict convergence.\n",
      "Initialization complete\n",
      "Iteration 0, inertia 441.12984977111967\n",
      "Iteration 1, inertia 241.85323314818967\n",
      "Iteration 2, inertia 237.44429411829697\n",
      "Iteration 3, inertia 236.4776581004311\n",
      "Iteration 4, inertia 236.15219055580536\n",
      "Iteration 5, inertia 236.02698474849527\n",
      "Iteration 6, inertia 235.6949713007013\n",
      "Iteration 7, inertia 235.22573728386848\n",
      "Iteration 8, inertia 234.9032730187517\n",
      "Iteration 9, inertia 234.61385851072154\n",
      "Iteration 10, inertia 234.47257580452904\n",
      "Iteration 11, inertia 234.3993476253494\n",
      "Iteration 12, inertia 234.33458785885475\n",
      "Iteration 13, inertia 234.14574694980223\n",
      "Iteration 14, inertia 234.02210166709415\n",
      "Iteration 15, inertia 233.90856918721525\n",
      "Iteration 16, inertia 233.86785624566767\n",
      "Converged at iteration 16: strict convergence.\n",
      "Initialization complete\n",
      "Iteration 0, inertia 436.1928795201875\n",
      "Iteration 1, inertia 242.83864987762618\n",
      "Iteration 2, inertia 239.29097231219637\n",
      "Iteration 3, inertia 237.74610968399875\n",
      "Iteration 4, inertia 237.35727711539488\n",
      "Iteration 5, inertia 237.19935420569655\n",
      "Converged at iteration 5: strict convergence.\n",
      "Initialization complete\n",
      "Iteration 0, inertia 428.79697838065204\n",
      "Iteration 1, inertia 242.61192641235485\n",
      "Iteration 2, inertia 239.9353188602719\n",
      "Iteration 3, inertia 238.99706148984646\n",
      "Iteration 4, inertia 238.48922297720443\n",
      "Iteration 5, inertia 237.99658025667622\n",
      "Iteration 6, inertia 237.45280812852266\n",
      "Iteration 7, inertia 236.75602596434456\n",
      "Iteration 8, inertia 236.46640045351523\n",
      "Iteration 9, inertia 236.2045150672539\n",
      "Iteration 10, inertia 235.69287435499356\n",
      "Iteration 11, inertia 235.09070418656702\n",
      "Iteration 12, inertia 234.75446177864708\n",
      "Iteration 13, inertia 234.7024421476604\n",
      "Converged at iteration 13: strict convergence.\n",
      "Initialization complete\n",
      "Iteration 0, inertia 434.0041674719466\n",
      "Iteration 1, inertia 244.5030454052408\n",
      "Iteration 2, inertia 241.29084548468566\n",
      "Iteration 3, inertia 238.71764038915305\n",
      "Iteration 4, inertia 237.97506141757077\n",
      "Iteration 5, inertia 237.44275004047867\n",
      "Iteration 6, inertia 237.14558051549488\n",
      "Iteration 7, inertia 237.0104936206791\n",
      "Iteration 8, inertia 236.9482080003197\n",
      "Iteration 9, inertia 236.90351258886633\n",
      "Iteration 10, inertia 236.87952711368712\n",
      "Iteration 11, inertia 236.80771203665228\n",
      "Iteration 12, inertia 236.6868513343453\n",
      "Iteration 13, inertia 236.59994326892948\n",
      "Iteration 14, inertia 236.52143914219448\n",
      "Iteration 15, inertia 236.35730504674822\n",
      "Iteration 16, inertia 236.25347123979597\n",
      "Iteration 17, inertia 236.04894083465865\n",
      "Iteration 18, inertia 235.86078846855847\n",
      "Converged at iteration 18: strict convergence.\n",
      "Initialization complete\n",
      "Iteration 0, inertia 440.8492945178336\n",
      "Iteration 1, inertia 242.55878673279065\n",
      "Iteration 2, inertia 238.78067749489782\n",
      "Iteration 3, inertia 237.56895369846288\n",
      "Iteration 4, inertia 236.52274008488263\n",
      "Iteration 5, inertia 236.11927657963122\n",
      "Iteration 6, inertia 235.87628271536943\n",
      "Iteration 7, inertia 235.69305294582898\n",
      "Converged at iteration 7: strict convergence.\n",
      "Initialization complete\n",
      "Iteration 0, inertia 425.76280661605597\n",
      "Iteration 1, inertia 240.19316043432656\n",
      "Iteration 2, inertia 237.69134619568004\n",
      "Iteration 3, inertia 236.68625232996968\n",
      "Iteration 4, inertia 236.20258768086842\n",
      "Iteration 5, inertia 235.91653927900356\n",
      "Iteration 6, inertia 235.80422860751537\n",
      "Iteration 7, inertia 235.72415205486234\n",
      "Iteration 8, inertia 235.6115466244973\n",
      "Iteration 9, inertia 235.46358598793924\n",
      "Iteration 10, inertia 235.3492305817944\n",
      "Iteration 11, inertia 235.2956806616853\n",
      "Converged at iteration 11: strict convergence.\n"
     ]
    },
    {
     "data": {
      "text/plain": [
       "array([1, 1, 0, 4, 0, 1, 2, 1, 1, 0, 1, 2, 2, 0, 2, 1, 1, 1, 1, 4, 0, 1,\n",
       "       1, 0, 2, 0, 4, 1, 0, 2, 4, 2, 3, 0, 1, 0, 4, 0, 3, 1, 0, 0, 1, 1,\n",
       "       4, 2, 4, 0, 4, 4, 3, 2, 2, 1, 0, 0, 4, 4, 0, 2, 1, 1, 0, 1, 1, 0,\n",
       "       2, 1, 4, 0, 3, 1, 0, 4, 2, 4, 3, 3, 4, 0, 0, 0, 1, 0, 2, 4, 1, 1,\n",
       "       0, 1, 3, 3, 1, 0, 2, 2, 4, 0, 1, 2, 0, 1, 3, 1, 1, 4, 1, 0, 2, 0,\n",
       "       1, 4, 4, 1, 3, 4, 0, 1, 1, 2, 1, 4, 3, 0, 0, 0, 4, 0, 1, 1, 0, 4,\n",
       "       1, 0, 1, 4, 1, 4, 1, 0, 0, 0, 2, 3, 0, 0, 3, 0, 2, 3, 1, 1, 4, 1,\n",
       "       4, 3, 1, 0, 4, 1, 0, 1, 0, 0, 0, 4, 0, 0, 0, 2, 2, 4, 1, 0, 3, 4,\n",
       "       1, 4, 4, 0, 1, 3, 0, 0, 4, 0, 0, 0, 0, 1, 0, 2, 1, 0, 0, 4, 1, 1,\n",
       "       1, 0, 1, 0, 4, 0, 4, 3, 0, 3, 3, 1, 0, 1, 3, 1, 0, 3, 2, 0, 0, 2,\n",
       "       0, 0, 0, 0, 3, 0, 2, 3, 0, 1, 0, 3, 4, 1, 0, 1, 1, 0, 3, 0, 0, 4,\n",
       "       1, 1, 1, 0, 0, 3, 1, 3, 4, 0, 0, 2, 0, 0, 0, 0, 3, 2, 3, 2, 0, 0,\n",
       "       0, 4, 2, 0, 0, 0, 1, 2, 0, 0, 3, 3, 0, 3, 4, 1, 0, 0, 4, 4, 1, 2,\n",
       "       0, 0, 3, 1, 1, 4, 4, 3, 3, 3, 0, 0, 0, 0])"
      ]
     },
     "execution_count": 84,
     "metadata": {},
     "output_type": "execute_result"
    }
   ],
   "source": [
    "kmeans.fit_predict(X)"
   ]
  },
  {
   "cell_type": "code",
   "execution_count": 87,
   "metadata": {
    "ExecuteTime": {
     "end_time": "2022-09-07T12:20:26.082682Z",
     "start_time": "2022-09-07T12:20:26.077695Z"
    }
   },
   "outputs": [
    {
     "data": {
      "text/plain": [
       "0    Counter-Strike: Global Offensive\n",
       "1                       Apex Legends™\n",
       "2                               Stray\n",
       "3                  Grand Theft Auto V\n",
       "4                         MultiVersus\n",
       "5               Red Dead Redemption 2\n",
       "6                                Rust\n",
       "7                 PUBG: BATTLEGROUNDS\n",
       "8                           Destiny 2\n",
       "9                 MONSTER HUNTER RISE\n",
       "Name: title, dtype: object"
      ]
     },
     "execution_count": 87,
     "metadata": {},
     "output_type": "execute_result"
    }
   ],
   "source": [
    "df['title'].head(10)"
   ]
  },
  {
   "cell_type": "code",
   "execution_count": null,
   "metadata": {},
   "outputs": [],
   "source": []
  }
 ],
 "metadata": {
  "kernelspec": {
   "display_name": "Python 3",
   "language": "python",
   "name": "python3"
  },
  "language_info": {
   "codemirror_mode": {
    "name": "ipython",
    "version": 3
   },
   "file_extension": ".py",
   "mimetype": "text/x-python",
   "name": "python",
   "nbconvert_exporter": "python",
   "pygments_lexer": "ipython3",
   "version": "3.8.5"
  }
 },
 "nbformat": 4,
 "nbformat_minor": 4
}
