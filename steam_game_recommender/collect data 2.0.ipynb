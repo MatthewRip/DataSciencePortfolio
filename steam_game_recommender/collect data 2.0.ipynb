{
 "cells": [
  {
   "cell_type": "markdown",
   "metadata": {
    "ExecuteTime": {
     "end_time": "2022-07-21T13:17:11.317161Z",
     "start_time": "2022-07-21T13:17:11.304196Z"
    }
   },
   "source": [
    "# Scrapping Steam \n",
    "\n",
    "Building a dataset by scraping all of the products on steam."
   ]
  },
  {
   "cell_type": "code",
   "execution_count": 1,
   "metadata": {
    "ExecuteTime": {
     "end_time": "2022-08-02T14:36:04.511802Z",
     "start_time": "2022-08-02T14:36:04.010004Z"
    }
   },
   "outputs": [],
   "source": [
    "# dependencies\n",
    "from bs4 import BeautifulSoup\n",
    "import requests\n",
    "import json\n",
    "import pandas as pd\n",
    "import re\n",
    "import numpy as np\n",
    "\n",
    "import time\n",
    "\n",
    "# mutlitasking\n",
    "from joblib import Parallel, delayed\n",
    "import multiprocessing"
   ]
  },
  {
   "cell_type": "markdown",
   "metadata": {},
   "source": [
    "The base page show the top 50 results. But if we want more then just the top 50. Because the page is a infinite scroll page, the easiest way to get the information is to look for is the query which calls for the next 50 game."
   ]
  },
  {
   "cell_type": "markdown",
   "metadata": {},
   "source": [
    "![image info](images/where.png)\n",
    "![image info](images/qurey.png)\n",
    "\n",
    "[All Products](https://store.steampowered.com/search/?term=)\n",
    "<br/>\n",
    "[Query](https://store.steampowered.com/search/results/?query&start=350&count=50&dynamic_data=&sort_by=_ASC&snr=1_7_7_230_7&infinite=1)"
   ]
  },
  {
   "cell_type": "code",
   "execution_count": 2,
   "metadata": {
    "ExecuteTime": {
     "end_time": "2022-08-02T14:36:04.526763Z",
     "start_time": "2022-08-02T14:36:04.512800Z"
    }
   },
   "outputs": [],
   "source": [
    "# scrap url and return html\n",
    "def scrap_data(url):\n",
    "    r = requests.get(url)\n",
    "    data = dict(r.json())\n",
    "    return data['results_html']"
   ]
  },
  {
   "cell_type": "code",
   "execution_count": 3,
   "metadata": {
    "ExecuteTime": {
     "end_time": "2022-08-02T14:36:05.183836Z",
     "start_time": "2022-08-02T14:36:04.527760Z"
    }
   },
   "outputs": [
    {
     "name": "stdout",
     "output_type": "stream",
     "text": [
      "Total product count - 124488\n"
     ]
    }
   ],
   "source": [
    "# total product count\n",
    "def total_results(url):\n",
    "    r = requests.get(url)\n",
    "    data = dict(r.json())\n",
    "    total_results = data['total_count']\n",
    "    return int(total_results)\n",
    "\n",
    "url = 'https://store.steampowered.com/search/results/?query&start=0&count=50&dynamic_data=&sort_by=_ASC&snr=1_7_7_230_7&infinite=1'\n",
    "print(\"Total product count - \" + str((total_results(url))))"
   ]
  },
  {
   "cell_type": "code",
   "execution_count": 4,
   "metadata": {
    "ExecuteTime": {
     "end_time": "2022-08-02T14:36:05.198796Z",
     "start_time": "2022-08-02T14:36:05.184834Z"
    }
   },
   "outputs": [],
   "source": [
    "# get data\n",
    "\n",
    "def get_features(data):\n",
    "    \"\"\"\n",
    "    data = page html\n",
    "\n",
    "        find all anchor tags, for each anchor ie 'game' return price, dicounted price, \n",
    "        discount percent, review info, game page hyperlink\n",
    "\n",
    "        request games page html and return user added tags, genres,  developer, publisher,\n",
    "        game description\n",
    "\n",
    "    \"\"\"\n",
    "\n",
    "    games_list = []\n",
    "\n",
    "    soup = BeautifulSoup(data, 'html.parser')\n",
    "    games = soup.find_all('a')\n",
    "    for game in games:\n",
    "        title = game.find('span', {'class': 'title'}).text\n",
    "        try:\n",
    "            price = game.find(\n",
    "                'div', {'class': 'search_price'}).get_text(\"\", strip=True).split('R')[1]\n",
    "        except:\n",
    "            price = \"No price\"\n",
    "        try:\n",
    "            discount_price = game.find(\n",
    "                'div', {'class': 'search_price'}).get_text(\"\", strip=True).split('R')[2]\n",
    "        except:\n",
    "            discount_price = price\n",
    "        discount_percent = game.find(\n",
    "            'div', {'class': 'search_discount'}).get_text(\"\", strip=True)\n",
    "        release_date = game.find('div', {'class': 'search_released'}).text\n",
    "\n",
    "        # review count and status\n",
    "        try:\n",
    "            reviews = str(\n",
    "                game.find('span', {'data-tooltip-html': True})).split('=')[2].replace('&lt;br&gt;', ' ')\n",
    "            reviews = re.search('\"(.*)\"', reviews).group(1)\n",
    "        except:\n",
    "            reviews = 'No reviews yet'\n",
    "\n",
    "        # get game link\n",
    "        game_href = game.get('href')\n",
    "        # get games page data\n",
    "        game_data = requests.get(game_href).text\n",
    "\n",
    "        soup = BeautifulSoup(game_data, 'html.parser')\n",
    "        # is game or product\n",
    "        try:\n",
    "            game_product = soup.find(\n",
    "                'div', class_='breadcrumbs').text.replace('\\t', '').replace('\\n', '').replace('\\r', ' ')\n",
    "        except:\n",
    "            game_product = 'NoneType'\n",
    "\n",
    "        # user added tags\n",
    "        game_data = soup.find_all('a', class_='app_tag')\n",
    "        tags = []\n",
    "        [[tags.append(i.strip()) for i in tag] for tag in game_data]\n",
    "        # game genres\n",
    "        try:\n",
    "            # return full block\n",
    "            # split block into list\n",
    "            # find genre and developer and return all inbetween\n",
    "            #\n",
    "            block = soup.find('div', {'class': 'block_content_inner'}).text\n",
    "            block = block.split()\n",
    "            genre_start = block.index('Genre:')\n",
    "            genre_end = block.index('Developer:')\n",
    "            all_genres = block[genre_start + 1:genre_end]\n",
    "            first_genre = block[genre_start + 1].replace(',', '')\n",
    "            second_genre = block[genre_start + 2].replace(',', '')\n",
    "            if first_genre == 'Free':\n",
    "                first_genre = 'Free to play'\n",
    "            elif first_genre == 'Massively':\n",
    "                first_genre = 'Massively multiplayer'\n",
    "            elif first_genre == 'Early':\n",
    "                first_genre = 'Early access'\n",
    "            # space\n",
    "            if second_genre == 'Free':\n",
    "                second_genre = 'Free to play'\n",
    "            elif second_genre == 'Massively':\n",
    "                second_genre = 'Massively multiplayer'\n",
    "            elif second_genre == 'Early':\n",
    "                second_genre = 'Early access'\n",
    "            elif second_genre == 'Developer:':\n",
    "                second_genre = 'No genre given'\n",
    "        except:\n",
    "            all_genres = 'no genre given'\n",
    "            first_genre = 'no genre given'\n",
    "            second_genre = 'no genre given'\n",
    "\n",
    "        # DEVELOPER / PUBLISHER\n",
    "        dev = soup.find(\"a\", href=re.compile(\"developer\"))\n",
    "        pub = soup.find(\"a\", href=re.compile(\"publisher\"))\n",
    "        if dev != None:\n",
    "            dev = dev.text\n",
    "        if pub != None:\n",
    "            pub = pub.text\n",
    "\n",
    "        # game description\n",
    "        try:\n",
    "            description = soup.find(\n",
    "                'div', {'id': 'game_area_description'}).text\n",
    "            description = description.replace(\n",
    "                '\\r', ' ').replace('\\n', ' ').replace('\\t', ' ')\n",
    "            description = ' '.join(description.split())\n",
    "        except:\n",
    "            description = 'no description given'\n",
    "\n",
    "        games_dict = {\n",
    "            'title': title,\n",
    "            'hyperlink': game_href,\n",
    "            'is game': game_product,\n",
    "            'Genres': all_genres,\n",
    "            'main_genre': first_genre,\n",
    "            'sub_genre': second_genre,\n",
    "            'price_in_rand': price,\n",
    "            'discount_price': discount_price,\n",
    "            'discount_percent': discount_percent,\n",
    "            'release_date': release_date,\n",
    "            'reviews': reviews,\n",
    "            'tags': tags,\n",
    "            'developer': dev,\n",
    "            'publisher': pub,\n",
    "            'game description': description}\n",
    "        games_list.append(games_dict)\n",
    "\n",
    "    return games_list"
   ]
  },
  {
   "cell_type": "code",
   "execution_count": 5,
   "metadata": {
    "ExecuteTime": {
     "end_time": "2022-08-02T14:36:47.718214Z",
     "start_time": "2022-08-02T14:36:05.199794Z"
    }
   },
   "outputs": [
    {
     "data": {
      "text/plain": [
       "{'title': 'Counter-Strike: Global Offensive',\n",
       " 'hyperlink': 'https://store.steampowered.com/app/730/CounterStrike_Global_Offensive/?snr=1_7_7_230_150_1',\n",
       " 'is game': 'All Games > Free to Play Games > Counter-Strike: Global Offensive',\n",
       " 'Genres': ['Action,', 'Free', 'to', 'Play'],\n",
       " 'main_genre': 'Action',\n",
       " 'sub_genre': 'Free to play',\n",
       " 'price_in_rand': 'No price',\n",
       " 'discount_price': 'No price',\n",
       " 'discount_percent': '',\n",
       " 'release_date': '21 Aug, 2012',\n",
       " 'reviews': 'Very Positive 88% of the 6,545,979 user reviews for this game are positive.',\n",
       " 'tags': ['FPS',\n",
       "  'Shooter',\n",
       "  'Multiplayer',\n",
       "  'Competitive',\n",
       "  'Action',\n",
       "  'Team-Based',\n",
       "  'eSports',\n",
       "  'Tactical',\n",
       "  'First-Person',\n",
       "  'PvP',\n",
       "  'Online Co-Op',\n",
       "  'Co-op',\n",
       "  'Strategy',\n",
       "  'Military',\n",
       "  'War',\n",
       "  'Difficult',\n",
       "  'Trading',\n",
       "  'Realistic',\n",
       "  'Fast-Paced',\n",
       "  'Moddable'],\n",
       " 'developer': 'Valve',\n",
       " 'publisher': 'Valve',\n",
       " 'game description': 'About This Game Counter-Strike: Global Offensive (CS: GO) expands upon the team-based action gameplay that it pioneered when it was launched 19 years ago. CS: GO features new maps, characters, weapons, and game modes, and delivers updated versions of the classic CS content (de_dust2, etc.). \"Counter-Strike took the gaming industry by surprise when the unlikely MOD became the most played online PC action game in the world almost immediately after its release in August 1999,\" said Doug Lombardi at Valve. \"For the past 12 years, it has continued to be one of the most-played games in the world, headline competitive gaming tournaments and selling over 25 million units worldwide across the franchise. CS: GO promises to expand on CS\\' award-winning gameplay and deliver it to gamers on the PC as well as the next gen consoles and the Mac.\"'}"
      ]
     },
     "execution_count": 5,
     "metadata": {},
     "output_type": "execute_result"
    }
   ],
   "source": [
    "# url = 'https://store.steampowered.com/search/results/?query&start=0&count=50&dynamic_data=&sort_by=_ASC&snr=1_7_7_7000_7&filter=topsellers&infinite=1'\n",
    "url = 'https://store.steampowered.com/search/results/?query&start=0&count=50&dynamic_data=&sort_by=_ASC&snr=1_7_7_230_7&infinite=1'\n",
    "data = scrap_data(url)\n",
    "test = get_features(data)\n",
    "test[0]"
   ]
  },
  {
   "cell_type": "code",
   "execution_count": 6,
   "metadata": {
    "ExecuteTime": {
     "end_time": "2022-08-02T14:36:47.734171Z",
     "start_time": "2022-08-02T14:36:47.719211Z"
    }
   },
   "outputs": [],
   "source": [
    "def build_dataset(start):\n",
    "    increment = 50\n",
    "    end = start + 500\n",
    "    url = 'https://store.steampowered.com/search/results/?query&start={}&count=50&dynamic_data=&sort_by=_ASC&snr=1_7_7_230_7&infinite=1'\n",
    "    temp_list = []\n",
    "    for i in range(start, end, increment):\n",
    "        data = scrap_data(url.format(i))\n",
    "        results = get_features(data)\n",
    "        temp_list.append(results)\n",
    "        print('Games scraped - {}'.format(i))\n",
    "        time.sleep(1.5)\n",
    "    return temp_list"
   ]
  },
  {
   "cell_type": "code",
   "execution_count": 13,
   "metadata": {
    "ExecuteTime": {
     "end_time": "2022-08-02T19:10:26.026902Z",
     "start_time": "2022-08-02T19:10:25.514703Z"
    }
   },
   "outputs": [
    {
     "name": "stdout",
     "output_type": "stream",
     "text": [
      "[0, 500, 1000, 1500, 2000, 2500, 3000, 3500, 4000, 4500, 5000, 5500, 6000, 6500, 7000, 7500, 8000, 8500, 9000, 9500, 10000, 10500, 11000, 11500, 12000, 12500, 13000, 13500, 14000, 14500, 15000, 15500, 16000, 16500, 17000, 17500, 18000, 18500, 19000, 19500, 20000, 20500, 21000, 21500, 22000, 22500, 23000, 23500, 24000, 24500]\n",
      "[25000, 25500, 26000, 26500, 27000, 27500, 28000, 28500, 29000, 29500, 30000, 30500, 31000, 31500, 32000, 32500, 33000, 33500, 34000, 34500, 35000, 35500, 36000, 36500, 37000, 37500, 38000, 38500, 39000, 39500, 40000, 40500, 41000, 41500, 42000, 42500, 43000, 43500, 44000, 44500, 45000, 45500, 46000, 46500, 47000, 47500, 48000, 48500, 49000, 49500]\n",
      "[50000, 50500, 51000, 51500, 52000, 52500, 53000, 53500, 54000, 54500, 55000, 55500, 56000, 56500, 57000, 57500, 58000, 58500, 59000, 59500, 60000, 60500, 61000, 61500, 62000, 62500, 63000, 63500, 64000, 64500, 65000, 65500, 66000, 66500, 67000, 67500, 68000, 68500, 69000, 69500, 70000, 70500, 71000, 71500, 72000, 72500, 73000, 73500, 74000, 74500]\n",
      "[75000, 75500, 76000, 76500, 77000, 77500, 78000, 78500, 79000, 79500, 80000, 80500, 81000, 81500, 82000, 82500, 83000, 83500, 84000, 84500, 85000, 85500, 86000, 86500, 87000, 87500, 88000, 88500, 89000, 89500]\n"
     ]
    }
   ],
   "source": [
    "# create list of starting values for 'build_dataset' function\n",
    "inputs_one = []\n",
    "for i in range(0,25000,500):\n",
    "    inputs_one.append(i)\n",
    "print(inputs_one)\n",
    "\n",
    "inputs_two = []\n",
    "for i in range(25000,50000,500):\n",
    "    inputs_two.append(i)\n",
    "print(inputs_two)\n",
    "\n",
    "inputs_three = []\n",
    "for i in range(50000,75000,500):\n",
    "    inputs_three.append(i)\n",
    "print(inputs_three)\n",
    "\n",
    "inputs_four = []\n",
    "for i in range(75000,90000,500):\n",
    "    inputs_four.append(i)\n",
    "print(inputs_four)"
   ]
  },
  {
   "cell_type": "code",
   "execution_count": 8,
   "metadata": {
    "ExecuteTime": {
     "end_time": "2022-08-02T15:10:38.690206Z",
     "start_time": "2022-08-02T14:36:47.752140Z"
    },
    "scrolled": false
   },
   "outputs": [
    {
     "name": "stdout",
     "output_type": "stream",
     "text": [
      "12\n",
      "One finished\n"
     ]
    }
   ],
   "source": [
    "# docs - https://joblib.readthedocs.io/en/latest/parallel.html\n",
    "# running functions in parallel\n",
    "num_cores = multiprocessing.cpu_count()\n",
    "print(num_cores)\n",
    "# \n",
    "results_one = Parallel(n_jobs=num_cores)(delayed(build_dataset)(i) for i in inputs_one)\n",
    "print(\"One finished\")"
   ]
  },
  {
   "cell_type": "code",
   "execution_count": 9,
   "metadata": {
    "ExecuteTime": {
     "end_time": "2022-08-02T15:40:55.914038Z",
     "start_time": "2022-08-02T15:10:38.692201Z"
    }
   },
   "outputs": [
    {
     "name": "stdout",
     "output_type": "stream",
     "text": [
      "Two finished\n"
     ]
    }
   ],
   "source": [
    "results_two = Parallel(n_jobs=num_cores)(delayed(build_dataset)(i) for i in inputs_two)\n",
    "print(\"Two finished\")"
   ]
  },
  {
   "cell_type": "code",
   "execution_count": 10,
   "metadata": {
    "ExecuteTime": {
     "end_time": "2022-08-02T16:12:20.898188Z",
     "start_time": "2022-08-02T15:40:55.916033Z"
    }
   },
   "outputs": [
    {
     "name": "stdout",
     "output_type": "stream",
     "text": [
      "Three finished\n"
     ]
    }
   ],
   "source": [
    "results_three = Parallel(n_jobs=num_cores)(delayed(build_dataset)(i) for i in inputs_three)\n",
    "print(\"Three finished\")"
   ]
  },
  {
   "cell_type": "code",
   "execution_count": 14,
   "metadata": {
    "ExecuteTime": {
     "end_time": "2022-08-02T19:37:20.995978Z",
     "start_time": "2022-08-02T19:10:30.361970Z"
    }
   },
   "outputs": [
    {
     "name": "stdout",
     "output_type": "stream",
     "text": [
      "Four finished\n"
     ]
    }
   ],
   "source": [
    "results_four = Parallel(n_jobs=num_cores)(delayed(build_dataset)(i) for i in inputs_four)\n",
    "print(\"Four finished\")"
   ]
  },
  {
   "cell_type": "code",
   "execution_count": 16,
   "metadata": {
    "ExecuteTime": {
     "end_time": "2022-08-02T19:40:43.139193Z",
     "start_time": "2022-08-02T19:40:43.106772Z"
    }
   },
   "outputs": [],
   "source": [
    "results = results_one + results_two + results_three + results_four"
   ]
  },
  {
   "cell_type": "code",
   "execution_count": 17,
   "metadata": {
    "ExecuteTime": {
     "end_time": "2022-08-02T19:40:48.544127Z",
     "start_time": "2022-08-02T19:40:48.458343Z"
    },
    "scrolled": false
   },
   "outputs": [
    {
     "name": "stdout",
     "output_type": "stream",
     "text": [
      "180\n",
      "10\n",
      "50\n",
      "15\n"
     ]
    }
   ],
   "source": [
    "print(len(results))\n",
    "print(len(results[0]))\n",
    "print(len(results[0][0]))\n",
    "print(len(results[0][0][0]))"
   ]
  },
  {
   "cell_type": "code",
   "execution_count": 18,
   "metadata": {
    "ExecuteTime": {
     "end_time": "2022-08-02T19:40:56.124204Z",
     "start_time": "2022-08-02T19:40:54.192502Z"
    }
   },
   "outputs": [],
   "source": [
    "games = []\n",
    "for i in range(len(results)):\n",
    "    for j in range(len(results[i])):\n",
    "        games.append(results[i][j])"
   ]
  },
  {
   "cell_type": "code",
   "execution_count": 19,
   "metadata": {
    "ExecuteTime": {
     "end_time": "2022-08-02T19:40:56.171079Z",
     "start_time": "2022-08-02T19:40:56.154124Z"
    }
   },
   "outputs": [
    {
     "name": "stdout",
     "output_type": "stream",
     "text": [
      "1800\n",
      "50\n",
      "15\n"
     ]
    }
   ],
   "source": [
    "print(len(games))\n",
    "print(len(games[0]))\n",
    "print(len(games[0][0]))"
   ]
  },
  {
   "cell_type": "code",
   "execution_count": 20,
   "metadata": {
    "ExecuteTime": {
     "end_time": "2022-08-02T19:41:17.655693Z",
     "start_time": "2022-08-02T19:41:03.637868Z"
    }
   },
   "outputs": [
    {
     "name": "stdout",
     "output_type": "stream",
     "text": [
      "Finished - CSV saved\n"
     ]
    }
   ],
   "source": [
    "# save data as csv\n",
    "def output(results):\n",
    "    df = pd.concat([pd.DataFrame(g) for g in results])\n",
    "    df.to_csv('steam_data.csv', index=False)\n",
    "    print('Finished - CSV saved')\n",
    "\n",
    "output(games)"
   ]
  }
 ],
 "metadata": {
  "kernelspec": {
   "display_name": "Python 3",
   "language": "python",
   "name": "python3"
  },
  "language_info": {
   "codemirror_mode": {
    "name": "ipython",
    "version": 3
   },
   "file_extension": ".py",
   "mimetype": "text/x-python",
   "name": "python",
   "nbconvert_exporter": "python",
   "pygments_lexer": "ipython3",
   "version": "3.8.5"
  }
 },
 "nbformat": 4,
 "nbformat_minor": 4
}
