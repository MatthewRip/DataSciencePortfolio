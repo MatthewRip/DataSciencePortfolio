{
 "cells": [
  {
   "cell_type": "markdown",
   "metadata": {},
   "source": [
    "# Steam top selling games\n",
    "\n",
    "Building a dataset by scraping steams top selling games.\n"
   ]
  },
  {
   "cell_type": "code",
   "execution_count": 1,
   "metadata": {
    "ExecuteTime": {
     "end_time": "2022-07-21T13:25:23.995172Z",
     "start_time": "2022-07-21T13:25:22.856579Z"
    }
   },
   "outputs": [],
   "source": [
    "# dependencies\n",
    "from bs4 import BeautifulSoup\n",
    "import requests\n",
    "import json\n",
    "import pandas as pd\n",
    "import re\n",
    "import numpy as np\n",
    "\n",
    "import time"
   ]
  },
  {
   "cell_type": "markdown",
   "metadata": {},
   "source": [
    "The base page show the top 50 games at that moment in time. But if we want more then just the top 50. Because the page is a infinite scroll page, the easiest way to get the information is to look for is the query which calls for the next 50 game."
   ]
  },
  {
   "cell_type": "markdown",
   "metadata": {
    "ExecuteTime": {
     "end_time": "2022-07-12T12:21:36.927344Z",
     "start_time": "2022-07-12T12:21:36.871117Z"
    }
   },
   "source": [
    "![image info](images/xhr.png)"
   ]
  },
  {
   "cell_type": "markdown",
   "metadata": {},
   "source": [
    "![image info](images/xhr_query.png)"
   ]
  },
  {
   "cell_type": "code",
   "execution_count": 2,
   "metadata": {
    "ExecuteTime": {
     "end_time": "2022-07-20T20:52:01.447282Z",
     "start_time": "2022-07-20T20:52:01.441298Z"
    }
   },
   "outputs": [],
   "source": [
    "# url to html for top selling games on steam \n",
    "url = 'https://store.steampowered.com/search/results/?query&start=0&count=50&dynamic_data=&sort_by=_ASC&snr=1_7_7_7000_7&filter=topsellers&infinite=1'"
   ]
  },
  {
   "cell_type": "code",
   "execution_count": 3,
   "metadata": {
    "ExecuteTime": {
     "end_time": "2022-07-20T20:52:02.201358Z",
     "start_time": "2022-07-20T20:52:02.194377Z"
    }
   },
   "outputs": [],
   "source": [
    "# scrap url and return html\n",
    "def scrap_data(url):\n",
    "    r = requests.get(url)\n",
    "    data = dict(r.json())\n",
    "    return data['results_html']"
   ]
  },
  {
   "cell_type": "code",
   "execution_count": 4,
   "metadata": {
    "ExecuteTime": {
     "end_time": "2022-07-20T20:52:03.291065Z",
     "start_time": "2022-07-20T20:52:02.825777Z"
    },
    "scrolled": true
   },
   "outputs": [],
   "source": [
    "data = scrap_data(url)"
   ]
  },
  {
   "cell_type": "code",
   "execution_count": 5,
   "metadata": {
    "ExecuteTime": {
     "end_time": "2022-07-20T20:52:03.322979Z",
     "start_time": "2022-07-20T20:52:03.294058Z"
    }
   },
   "outputs": [],
   "source": [
    "# get data\n",
    "\n",
    "def parse_data(data):\n",
    "    games_list = []\n",
    "    \n",
    "    soup = BeautifulSoup(data, 'html.parser')\n",
    "    games = soup.find_all('a')\n",
    "    for game in games:\n",
    "        title = game.find('span', {'class': 'title'}).text\n",
    "        try:\n",
    "            price = game.find(\n",
    "                'div', {'class': 'search_price'}).get_text(\"\", strip=True).split('R')[1]\n",
    "        except:\n",
    "            price = \"No price\"\n",
    "        try:\n",
    "            discount_price = game.find(\n",
    "                'div', {'class': 'search_price'}).get_text(\"\", strip=True).split('R')[2]\n",
    "        except:\n",
    "            discount_price = price\n",
    "        discount_percent = game.find(\n",
    "            'div', {'class': 'search_discount'}).get_text(\"\", strip=True)\n",
    "        release_date = game.find('div', {'class': 'search_released'}).text\n",
    "\n",
    "        # review count and status\n",
    "        try:\n",
    "            reviews = str(\n",
    "                game.find('span', {'data-tooltip-html': True})).split('=')[2].replace('&lt;br&gt;', ' ')\n",
    "            reviews = re.search('\"(.*)\"', reviews).group(1)\n",
    "        except:\n",
    "            reviews = 'No reviews yet'\n",
    "\n",
    "        # get game link\n",
    "        game_href = game.get('href')\n",
    "        # get games page data\n",
    "        game_data = requests.get(game_href).text\n",
    "\n",
    "        soup = BeautifulSoup(game_data, 'html.parser')\n",
    "        game_data = soup.find_all('a', class_='app_tag')\n",
    "        tags = []\n",
    "        [[tags.append(i.strip()) for i in tag] for tag in game_data]\n",
    "        # game genres\n",
    "        try:\n",
    "            block = soup.find('div', {'class': 'block_content_inner'}).text\n",
    "            block = block.split()\n",
    "            genre_index = block.index('Genre:')\n",
    "            genre_one = block[genre_index + 1].replace(',','')\n",
    "            genre_two = block[genre_index + 2].replace(',','')\n",
    "        except:\n",
    "            genre_one = 'dont know'\n",
    "            genre_two = 'dont know'\n",
    "        \n",
    "        # DEVELOPER / PUBLISHER\n",
    "        dev = soup.find(\"a\", href=re.compile(\"developer\"))\n",
    "        pub = soup.find(\"a\", href=re.compile(\"publisher\"))\n",
    "        if dev != None:\n",
    "            dev = dev.text\n",
    "        if pub != None:\n",
    "            pub = pub.text\n",
    "\n",
    "#         print(title)\n",
    "#         print(price)\n",
    "#         print(discount_price)\n",
    "#         print(discount_percent)\n",
    "#         print(release_date)\n",
    "#         print(reviews)\n",
    "#         print(tags)\n",
    "#         print(dev)\n",
    "#         print(pub)\n",
    "#         print()\n",
    "\n",
    "        games_dict = {\n",
    "            'title': title,\n",
    "            'main_genre': genre_one,\n",
    "            'sub_genre' : genre_two,\n",
    "            'price_in_rand': price,\n",
    "            'discount_price': discount_price,\n",
    "            'discount_percent': discount_percent,\n",
    "            'release_date': release_date,\n",
    "            'reviews': reviews,\n",
    "            'tags': tags,\n",
    "            'developer': dev,\n",
    "            'publisher': pub }\n",
    "        games_list.append(games_dict)\n",
    "\n",
    "    return games_list"
   ]
  },
  {
   "cell_type": "code",
   "execution_count": 6,
   "metadata": {
    "ExecuteTime": {
     "end_time": "2022-07-20T20:52:43.008199Z",
     "start_time": "2022-07-20T20:52:03.565366Z"
    },
    "scrolled": false
   },
   "outputs": [],
   "source": [
    "games_data = parse_data(data)"
   ]
  },
  {
   "cell_type": "code",
   "execution_count": 13,
   "metadata": {
    "ExecuteTime": {
     "end_time": "2022-07-20T20:54:05.688296Z",
     "start_time": "2022-07-20T20:54:05.680317Z"
    },
    "scrolled": false
   },
   "outputs": [
    {
     "data": {
      "text/plain": [
       "{'title': 'Stray',\n",
       " 'main_genre': 'Adventure',\n",
       " 'sub_genre': 'Indie',\n",
       " 'price_in_rand': ' 195.00',\n",
       " 'discount_price': ' 195.00',\n",
       " 'discount_percent': '',\n",
       " 'release_date': '19 Jul, 2022',\n",
       " 'reviews': 'Overwhelmingly Positive 97% of the 13,901 user reviews for this game are positive.',\n",
       " 'tags': ['Cats',\n",
       "  'Adventure',\n",
       "  'Cyberpunk',\n",
       "  'Atmospheric',\n",
       "  'Cute',\n",
       "  'Third Person',\n",
       "  'Exploration',\n",
       "  'Sci-fi',\n",
       "  'Singleplayer',\n",
       "  'Robots',\n",
       "  'Indie',\n",
       "  'Beautiful',\n",
       "  'Horror',\n",
       "  'Puzzle',\n",
       "  'Mystery',\n",
       "  'Open World',\n",
       "  'Dystopian',\n",
       "  'Stealth',\n",
       "  'Colorful',\n",
       "  'Action'],\n",
       " 'developer': 'BlueTwelve Studio',\n",
       " 'publisher': 'Annapurna Interactive'}"
      ]
     },
     "execution_count": 13,
     "metadata": {},
     "output_type": "execute_result"
    }
   ],
   "source": [
    "games_data[0]"
   ]
  },
  {
   "cell_type": "code",
   "execution_count": 8,
   "metadata": {
    "ExecuteTime": {
     "end_time": "2022-07-19T19:04:47.279698Z",
     "start_time": "2022-07-19T19:04:47.265736Z"
    }
   },
   "outputs": [],
   "source": [
    "# total games count\n",
    "def total_results(url):\n",
    "    r = requests.get(url)\n",
    "    data = dict(r.json())\n",
    "    total_results = data['total_count']\n",
    "    return int(total_results)"
   ]
  },
  {
   "cell_type": "code",
   "execution_count": 9,
   "metadata": {
    "ExecuteTime": {
     "end_time": "2022-07-19T19:04:47.913558Z",
     "start_time": "2022-07-19T19:04:47.280696Z"
    }
   },
   "outputs": [],
   "source": [
    "num_games = total_results(url)"
   ]
  },
  {
   "cell_type": "code",
   "execution_count": 10,
   "metadata": {
    "ExecuteTime": {
     "end_time": "2022-07-19T19:04:47.928520Z",
     "start_time": "2022-07-19T19:04:47.914556Z"
    }
   },
   "outputs": [
    {
     "data": {
      "text/plain": [
       "2672.1"
      ]
     },
     "execution_count": 10,
     "metadata": {},
     "output_type": "execute_result"
    }
   ],
   "source": [
    "num_games / 10"
   ]
  },
  {
   "cell_type": "code",
   "execution_count": 11,
   "metadata": {
    "ExecuteTime": {
     "end_time": "2022-07-19T19:04:47.943985Z",
     "start_time": "2022-07-19T19:04:47.929517Z"
    }
   },
   "outputs": [],
   "source": [
    "games_one = []\n",
    "games_two = []\n",
    "games_three = []\n",
    "games_four = []\n",
    "games_five = []\n",
    "start = 0\n",
    "end = 5000\n",
    "increment = 5000"
   ]
  },
  {
   "cell_type": "code",
   "execution_count": 12,
   "metadata": {
    "ExecuteTime": {
     "end_time": "2022-07-19T20:23:38.915078Z",
     "start_time": "2022-07-19T19:04:47.944983Z"
    },
    "scrolled": false
   },
   "outputs": [
    {
     "name": "stdout",
     "output_type": "stream",
     "text": [
      "Games scrapped: 0%\n",
      "Games scrapped: 1%\n",
      "Games scrapped: 2%\n",
      "Games scrapped: 3%\n",
      "Games scrapped: 4%\n",
      "Games scrapped: 5%\n",
      "Games scrapped: 6%\n",
      "Games scrapped: 7%\n",
      "Games scrapped: 7%\n",
      "Games scrapped: 8%\n",
      "Games scrapped: 9%\n",
      "Games scrapped: 10%\n",
      "Games scrapped: 11%\n",
      "Games scrapped: 12%\n",
      "Games scrapped: 13%\n",
      "Games scrapped: 14%\n",
      "Games scrapped: 15%\n",
      "Games scrapped: 16%\n",
      "Games scrapped: 17%\n",
      "Games scrapped: 18%\n"
     ]
    }
   ],
   "source": [
    "for i in range(start, end, 50):\n",
    "    scraped = scrap_data(\n",
    "        'https://store.steampowered.com/search/results/?query&start={}&count=50&dynamic_data=&sort_by=_ASC&snr=1_7_7_7000_7&filter=topsellers&infinite=1'.format(i))\n",
    "    results = parse_data(scraped)\n",
    "    games_one.append(results)\n",
    "\n",
    "start = end\n",
    "end += increment"
   ]
  },
  {
   "cell_type": "code",
   "execution_count": 13,
   "metadata": {
    "ExecuteTime": {
     "end_time": "2022-07-19T20:23:38.930548Z",
     "start_time": "2022-07-19T20:23:38.921061Z"
    }
   },
   "outputs": [
    {
     "data": {
      "text/plain": [
       "100"
      ]
     },
     "execution_count": 13,
     "metadata": {},
     "output_type": "execute_result"
    }
   ],
   "source": [
    "len(games_one)"
   ]
  },
  {
   "cell_type": "code",
   "execution_count": 14,
   "metadata": {
    "ExecuteTime": {
     "end_time": "2022-07-19T21:35:05.253700Z",
     "start_time": "2022-07-19T20:23:38.933539Z"
    }
   },
   "outputs": [
    {
     "name": "stdout",
     "output_type": "stream",
     "text": [
      "Games scrapped: 19%\n",
      "Games scrapped: 20%\n",
      "Games scrapped: 21%\n",
      "Games scrapped: 22%\n",
      "Games scrapped: 22%\n",
      "Games scrapped: 23%\n",
      "Games scrapped: 24%\n",
      "Games scrapped: 25%\n",
      "Games scrapped: 26%\n",
      "Games scrapped: 27%\n",
      "Games scrapped: 28%\n",
      "Games scrapped: 29%\n",
      "Games scrapped: 30%\n",
      "Games scrapped: 31%\n",
      "Games scrapped: 32%\n",
      "Games scrapped: 33%\n",
      "Games scrapped: 34%\n",
      "Games scrapped: 35%\n",
      "Games scrapped: 36%\n",
      "Games scrapped: 36%\n"
     ]
    }
   ],
   "source": [
    "for i in range(start, end, 50):\n",
    "    scraped = scrap_data(\n",
    "        'https://store.steampowered.com/search/results/?query&start={}&count=50&dynamic_data=&sort_by=_ASC&snr=1_7_7_7000_7&filter=topsellers&infinite=1'.format(i))\n",
    "    results = parse_data(scraped)\n",
    "    games_two.append(results)\n",
    "    if i % 250 == 0:\n",
    "        print('Games scrapped: {}%'.format((round((i / num_games)*100))))\n",
    "    time.sleep(1.5)\n",
    "\n",
    "start = end\n",
    "end += increment"
   ]
  },
  {
   "cell_type": "code",
   "execution_count": 15,
   "metadata": {
    "ExecuteTime": {
     "end_time": "2022-07-19T21:35:05.268432Z",
     "start_time": "2022-07-19T21:35:05.254957Z"
    }
   },
   "outputs": [
    {
     "data": {
      "text/plain": [
       "100"
      ]
     },
     "execution_count": 15,
     "metadata": {},
     "output_type": "execute_result"
    }
   ],
   "source": [
    "len(games_two)"
   ]
  },
  {
   "cell_type": "code",
   "execution_count": 19,
   "metadata": {
    "ExecuteTime": {
     "end_time": "2022-07-20T00:32:11.252431Z",
     "start_time": "2022-07-19T23:21:09.740286Z"
    },
    "scrolled": false
   },
   "outputs": [
    {
     "name": "stdout",
     "output_type": "stream",
     "text": [
      "Games scrapped: 37%\n",
      "Games scrapped: 38%\n",
      "Games scrapped: 39%\n",
      "Games scrapped: 40%\n",
      "Games scrapped: 41%\n",
      "Games scrapped: 42%\n",
      "Games scrapped: 43%\n",
      "Games scrapped: 44%\n",
      "Games scrapped: 45%\n",
      "Games scrapped: 46%\n",
      "Games scrapped: 47%\n",
      "Games scrapped: 48%\n",
      "Games scrapped: 49%\n",
      "Games scrapped: 50%\n",
      "Games scrapped: 51%\n",
      "Games scrapped: 51%\n",
      "Games scrapped: 52%\n",
      "Games scrapped: 53%\n",
      "Games scrapped: 54%\n",
      "Games scrapped: 55%\n"
     ]
    }
   ],
   "source": [
    "games_three = []\n",
    "for i in range(start, end, 50):\n",
    "    scraped = scrap_data(\n",
    "        'https://store.steampowered.com/search/results/?query&start={}&count=50&dynamic_data=&sort_by=_ASC&snr=1_7_7_7000_7&filter=topsellers&infinite=1'.format(i))\n",
    "    results = parse_data(scraped)\n",
    "    games_three.append(results)\n",
    "    if i % 250 == 0:\n",
    "        print('Games scrapped: {}%'.format((round((i / num_games)*100))))\n",
    "    time.sleep(1.5)\n",
    "\n",
    "start = end\n",
    "end += increment"
   ]
  },
  {
   "cell_type": "code",
   "execution_count": 20,
   "metadata": {
    "ExecuteTime": {
     "end_time": "2022-07-20T00:32:11.282867Z",
     "start_time": "2022-07-20T00:32:11.259928Z"
    }
   },
   "outputs": [
    {
     "data": {
      "text/plain": [
       "100"
      ]
     },
     "execution_count": 20,
     "metadata": {},
     "output_type": "execute_result"
    }
   ],
   "source": [
    "len(games_three)"
   ]
  },
  {
   "cell_type": "code",
   "execution_count": 21,
   "metadata": {
    "ExecuteTime": {
     "end_time": "2022-07-20T01:44:02.924322Z",
     "start_time": "2022-07-20T00:32:11.287853Z"
    }
   },
   "outputs": [
    {
     "name": "stdout",
     "output_type": "stream",
     "text": [
      "Games scrapped: 56%\n",
      "Games scrapped: 57%\n",
      "Games scrapped: 58%\n",
      "Games scrapped: 59%\n",
      "Games scrapped: 60%\n",
      "Games scrapped: 61%\n",
      "Games scrapped: 62%\n",
      "Games scrapped: 63%\n",
      "Games scrapped: 64%\n",
      "Games scrapped: 65%\n",
      "Games scrapped: 65%\n",
      "Games scrapped: 66%\n",
      "Games scrapped: 67%\n",
      "Games scrapped: 68%\n",
      "Games scrapped: 69%\n",
      "Games scrapped: 70%\n",
      "Games scrapped: 71%\n",
      "Games scrapped: 72%\n",
      "Games scrapped: 73%\n",
      "Games scrapped: 74%\n"
     ]
    }
   ],
   "source": [
    "for i in range(start, end, 50):\n",
    "    scraped = scrap_data(\n",
    "        'https://store.steampowered.com/search/results/?query&start={}&count=50&dynamic_data=&sort_by=_ASC&snr=1_7_7_7000_7&filter=topsellers&infinite=1'.format(i))\n",
    "    results = parse_data(scraped)\n",
    "    games_four.append(results)\n",
    "    if i % 250 == 0:\n",
    "        print('Games scrapped: {}%'.format((round((i / num_games)*100))))\n",
    "    time.sleep(1.5)\n",
    "\n",
    "start = end\n",
    "end += increment"
   ]
  },
  {
   "cell_type": "code",
   "execution_count": 22,
   "metadata": {
    "ExecuteTime": {
     "end_time": "2022-07-20T01:44:02.955281Z",
     "start_time": "2022-07-20T01:44:02.933819Z"
    }
   },
   "outputs": [
    {
     "data": {
      "text/plain": [
       "100"
      ]
     },
     "execution_count": 22,
     "metadata": {},
     "output_type": "execute_result"
    }
   ],
   "source": [
    "len(games_four)"
   ]
  },
  {
   "cell_type": "code",
   "execution_count": 23,
   "metadata": {
    "ExecuteTime": {
     "end_time": "2022-07-20T02:53:39.099608Z",
     "start_time": "2022-07-20T01:44:02.961266Z"
    },
    "scrolled": false
   },
   "outputs": [
    {
     "name": "stdout",
     "output_type": "stream",
     "text": [
      "Games scrapped: 75%\n",
      "Games scrapped: 76%\n",
      "Games scrapped: 77%\n",
      "Games scrapped: 78%\n",
      "Games scrapped: 79%\n",
      "Games scrapped: 80%\n",
      "Games scrapped: 80%\n",
      "Games scrapped: 81%\n",
      "Games scrapped: 82%\n",
      "Games scrapped: 83%\n",
      "Games scrapped: 84%\n",
      "Games scrapped: 85%\n",
      "Games scrapped: 86%\n",
      "Games scrapped: 87%\n",
      "Games scrapped: 88%\n",
      "Games scrapped: 89%\n",
      "Games scrapped: 90%\n",
      "Games scrapped: 91%\n",
      "Games scrapped: 92%\n",
      "Games scrapped: 93%\n"
     ]
    }
   ],
   "source": [
    "for i in range(start, end, 50):\n",
    "    scraped = scrap_data(\n",
    "        'https://store.steampowered.com/search/results/?query&start={}&count=50&dynamic_data=&sort_by=_ASC&snr=1_7_7_7000_7&filter=topsellers&infinite=1'.format(i))\n",
    "    results = parse_data(scraped)\n",
    "    games_five.append(results)\n",
    "    if i % 250 == 0:\n",
    "        print('Games scrapped: {}%'.format((round((i / num_games)*100))))\n",
    "    time.sleep(1.5)\n",
    "    \n",
    "start = end\n",
    "end+=increment"
   ]
  },
  {
   "cell_type": "code",
   "execution_count": 24,
   "metadata": {
    "ExecuteTime": {
     "end_time": "2022-07-20T02:53:39.130524Z",
     "start_time": "2022-07-20T02:53:39.106588Z"
    }
   },
   "outputs": [
    {
     "data": {
      "text/plain": [
       "100"
      ]
     },
     "execution_count": 24,
     "metadata": {},
     "output_type": "execute_result"
    }
   ],
   "source": [
    "len(games_five)"
   ]
  },
  {
   "cell_type": "code",
   "execution_count": 25,
   "metadata": {
    "ExecuteTime": {
     "end_time": "2022-07-20T02:53:39.145484Z",
     "start_time": "2022-07-20T02:53:39.134514Z"
    }
   },
   "outputs": [],
   "source": [
    "games = games_one + games_two + games_three + games_four + games_five"
   ]
  },
  {
   "cell_type": "code",
   "execution_count": 26,
   "metadata": {
    "ExecuteTime": {
     "end_time": "2022-07-20T02:53:39.160948Z",
     "start_time": "2022-07-20T02:53:39.151468Z"
    }
   },
   "outputs": [
    {
     "data": {
      "text/plain": [
       "500"
      ]
     },
     "execution_count": 26,
     "metadata": {},
     "output_type": "execute_result"
    }
   ],
   "source": [
    "len(games)"
   ]
  },
  {
   "cell_type": "code",
   "execution_count": 27,
   "metadata": {
    "ExecuteTime": {
     "end_time": "2022-07-20T02:53:39.176413Z",
     "start_time": "2022-07-20T02:53:39.162943Z"
    }
   },
   "outputs": [],
   "source": [
    "def output(results):\n",
    "    df = pd.concat([pd.DataFrame(g) for g in results])\n",
    "    df.to_csv('games.csv',index=True)\n",
    "    print('Finished - CSV saved')"
   ]
  },
  {
   "cell_type": "code",
   "execution_count": 28,
   "metadata": {
    "ExecuteTime": {
     "end_time": "2022-07-20T02:53:39.796326Z",
     "start_time": "2022-07-20T02:53:39.178409Z"
    }
   },
   "outputs": [
    {
     "name": "stdout",
     "output_type": "stream",
     "text": [
      "Finished - CSV saved\n"
     ]
    }
   ],
   "source": [
    "output(games)"
   ]
  },
  {
   "cell_type": "markdown",
   "metadata": {},
   "source": [
    "93% is just as good as 100% "
   ]
  },
  {
   "cell_type": "code",
   "execution_count": 32,
   "metadata": {
    "ExecuteTime": {
     "end_time": "2022-07-20T09:15:08.627902Z",
     "start_time": "2022-07-20T09:15:08.474795Z"
    }
   },
   "outputs": [],
   "source": [
    "# read csv\n",
    "df = pd.read_csv('games.csv')"
   ]
  },
  {
   "cell_type": "code",
   "execution_count": 33,
   "metadata": {
    "ExecuteTime": {
     "end_time": "2022-07-20T09:15:08.783022Z",
     "start_time": "2022-07-20T09:15:08.763566Z"
    }
   },
   "outputs": [
    {
     "data": {
      "text/html": [
       "<div>\n",
       "<style scoped>\n",
       "    .dataframe tbody tr th:only-of-type {\n",
       "        vertical-align: middle;\n",
       "    }\n",
       "\n",
       "    .dataframe tbody tr th {\n",
       "        vertical-align: top;\n",
       "    }\n",
       "\n",
       "    .dataframe thead th {\n",
       "        text-align: right;\n",
       "    }\n",
       "</style>\n",
       "<table border=\"1\" class=\"dataframe\">\n",
       "  <thead>\n",
       "    <tr style=\"text-align: right;\">\n",
       "      <th></th>\n",
       "      <th>Unnamed: 0</th>\n",
       "      <th>title</th>\n",
       "      <th>main_genre</th>\n",
       "      <th>sub_genre</th>\n",
       "      <th>price_in_rand</th>\n",
       "      <th>discount_price</th>\n",
       "      <th>discount_percent</th>\n",
       "      <th>release_date</th>\n",
       "      <th>reviews</th>\n",
       "      <th>tags</th>\n",
       "      <th>developer</th>\n",
       "      <th>publisher</th>\n",
       "    </tr>\n",
       "  </thead>\n",
       "  <tbody>\n",
       "    <tr>\n",
       "      <th>0</th>\n",
       "      <td>0</td>\n",
       "      <td>Stray</td>\n",
       "      <td>Adventure</td>\n",
       "      <td>Indie</td>\n",
       "      <td>195.00</td>\n",
       "      <td>195.00</td>\n",
       "      <td>NaN</td>\n",
       "      <td>19 Jul, 2022</td>\n",
       "      <td>Overwhelmingly Positive 97% of the 1,712 user ...</td>\n",
       "      <td>['Cats', 'Adventure', 'Cyberpunk', 'Cute', 'Th...</td>\n",
       "      <td>BlueTwelve Studio</td>\n",
       "      <td>Annapurna Interactive</td>\n",
       "    </tr>\n",
       "    <tr>\n",
       "      <th>1</th>\n",
       "      <td>1</td>\n",
       "      <td>MultiVersus Founder's Pack - Standard Edition</td>\n",
       "      <td>dont know</td>\n",
       "      <td>dont know</td>\n",
       "      <td>719.00</td>\n",
       "      <td>719.00</td>\n",
       "      <td>NaN</td>\n",
       "      <td>19 Jul, 2022</td>\n",
       "      <td>Mixed 68% of the 19 user reviews for games in ...</td>\n",
       "      <td>[]</td>\n",
       "      <td>Player First Games</td>\n",
       "      <td>Warner Bros. Games</td>\n",
       "    </tr>\n",
       "    <tr>\n",
       "      <th>2</th>\n",
       "      <td>2</td>\n",
       "      <td>Dinkum</td>\n",
       "      <td>Indie</td>\n",
       "      <td>RPG,</td>\n",
       "      <td>130.00</td>\n",
       "      <td>117.00</td>\n",
       "      <td>-10%</td>\n",
       "      <td>14 Jul, 2022</td>\n",
       "      <td>Overwhelmingly Positive 95% of the 1,378 user ...</td>\n",
       "      <td>['Early Access', 'Adventure', 'Co-op', 'Online...</td>\n",
       "      <td>James Bendon</td>\n",
       "      <td>James Bendon</td>\n",
       "    </tr>\n",
       "    <tr>\n",
       "      <th>3</th>\n",
       "      <td>3</td>\n",
       "      <td>Raft</td>\n",
       "      <td>Adventure</td>\n",
       "      <td>Indie,</td>\n",
       "      <td>219.00</td>\n",
       "      <td>219.00</td>\n",
       "      <td>NaN</td>\n",
       "      <td>20 Jun, 2022</td>\n",
       "      <td>Very Positive 93% of the 165,711 user reviews ...</td>\n",
       "      <td>['Survival', 'Open World Survival Craft', 'Mul...</td>\n",
       "      <td>Redbeet Interactive</td>\n",
       "      <td>Axolot Games</td>\n",
       "    </tr>\n",
       "    <tr>\n",
       "      <th>4</th>\n",
       "      <td>4</td>\n",
       "      <td>Half-Life: Alyx</td>\n",
       "      <td>Action</td>\n",
       "      <td>Adventure</td>\n",
       "      <td>329.00</td>\n",
       "      <td>164.50</td>\n",
       "      <td>-50%</td>\n",
       "      <td>23 Mar, 2020</td>\n",
       "      <td>Overwhelmingly Positive 98% of the 62,107 user...</td>\n",
       "      <td>['VR', 'FPS', 'Story Rich', 'Horror', 'Female ...</td>\n",
       "      <td>Valve</td>\n",
       "      <td>Valve</td>\n",
       "    </tr>\n",
       "  </tbody>\n",
       "</table>\n",
       "</div>"
      ],
      "text/plain": [
       "   Unnamed: 0                                          title main_genre  \\\n",
       "0           0                                          Stray  Adventure   \n",
       "1           1  MultiVersus Founder's Pack - Standard Edition  dont know   \n",
       "2           2                                         Dinkum      Indie   \n",
       "3           3                                           Raft  Adventure   \n",
       "4           4                                Half-Life: Alyx     Action   \n",
       "\n",
       "   sub_genre price_in_rand discount_price discount_percent  release_date  \\\n",
       "0      Indie        195.00         195.00              NaN  19 Jul, 2022   \n",
       "1  dont know        719.00         719.00              NaN  19 Jul, 2022   \n",
       "2       RPG,        130.00         117.00             -10%  14 Jul, 2022   \n",
       "3     Indie,        219.00         219.00              NaN  20 Jun, 2022   \n",
       "4  Adventure        329.00         164.50             -50%  23 Mar, 2020   \n",
       "\n",
       "                                             reviews  \\\n",
       "0  Overwhelmingly Positive 97% of the 1,712 user ...   \n",
       "1  Mixed 68% of the 19 user reviews for games in ...   \n",
       "2  Overwhelmingly Positive 95% of the 1,378 user ...   \n",
       "3  Very Positive 93% of the 165,711 user reviews ...   \n",
       "4  Overwhelmingly Positive 98% of the 62,107 user...   \n",
       "\n",
       "                                                tags            developer  \\\n",
       "0  ['Cats', 'Adventure', 'Cyberpunk', 'Cute', 'Th...    BlueTwelve Studio   \n",
       "1                                                 []   Player First Games   \n",
       "2  ['Early Access', 'Adventure', 'Co-op', 'Online...         James Bendon   \n",
       "3  ['Survival', 'Open World Survival Craft', 'Mul...  Redbeet Interactive   \n",
       "4  ['VR', 'FPS', 'Story Rich', 'Horror', 'Female ...                Valve   \n",
       "\n",
       "               publisher  \n",
       "0  Annapurna Interactive  \n",
       "1     Warner Bros. Games  \n",
       "2           James Bendon  \n",
       "3           Axolot Games  \n",
       "4                  Valve  "
      ]
     },
     "execution_count": 33,
     "metadata": {},
     "output_type": "execute_result"
    }
   ],
   "source": [
    "df.head()"
   ]
  },
  {
   "cell_type": "code",
   "execution_count": 34,
   "metadata": {
    "ExecuteTime": {
     "end_time": "2022-07-20T09:15:14.441935Z",
     "start_time": "2022-07-20T09:15:14.387574Z"
    }
   },
   "outputs": [
    {
     "name": "stdout",
     "output_type": "stream",
     "text": [
      "<class 'pandas.core.frame.DataFrame'>\n",
      "RangeIndex: 25000 entries, 0 to 24999\n",
      "Data columns (total 12 columns):\n",
      " #   Column            Non-Null Count  Dtype \n",
      "---  ------            --------------  ----- \n",
      " 0   Unnamed: 0        25000 non-null  int64 \n",
      " 1   title             25000 non-null  object\n",
      " 2   main_genre        25000 non-null  object\n",
      " 3   sub_genre         25000 non-null  object\n",
      " 4   price_in_rand     25000 non-null  object\n",
      " 5   discount_price    25000 non-null  object\n",
      " 6   discount_percent  5881 non-null   object\n",
      " 7   release_date      22384 non-null  object\n",
      " 8   reviews           25000 non-null  object\n",
      " 9   tags              25000 non-null  object\n",
      " 10  developer         22946 non-null  object\n",
      " 11  publisher         21626 non-null  object\n",
      "dtypes: int64(1), object(11)\n",
      "memory usage: 2.3+ MB\n"
     ]
    }
   ],
   "source": [
    "df.info()"
   ]
  },
  {
   "cell_type": "markdown",
   "metadata": {},
   "source": [
    "Alrighty lets fix some of these data types and create new features."
   ]
  },
  {
   "cell_type": "code",
   "execution_count": 35,
   "metadata": {
    "ExecuteTime": {
     "end_time": "2022-07-20T09:19:46.800812Z",
     "start_time": "2022-07-20T09:19:46.787846Z"
    }
   },
   "outputs": [],
   "source": [
    "def string_to_num(price):\n",
    "    try:\n",
    "        return np.float(price.replace(' ', \"\"))\n",
    "    except:\n",
    "        return 0\n",
    "\n",
    "\n",
    "def discount_percent(amount):\n",
    "    try:\n",
    "        return int(''.join(filter(str.isdigit, amount)))\n",
    "    except:\n",
    "        return 0\n",
    "\n",
    "\n",
    "def get_year(release_date):\n",
    "    try:\n",
    "        return int(release_date[-4:])\n",
    "    except:\n",
    "        return 0\n",
    "\n",
    "\n",
    "def get_month(release_date):\n",
    "    try:\n",
    "        return release_date[2:6]\n",
    "    except:\n",
    "        return 'no date'\n",
    "\n",
    "\n",
    "def get_day(release_date):\n",
    "    try:\n",
    "        return int(release_date[:2])\n",
    "    except:\n",
    "        return 0\n",
    "    \n",
    "def percent_positive(review):\n",
    "    if review == 'No reviews yet':\n",
    "        return 0\n",
    "    else:\n",
    "        return int(re.findall(\"\\d*%\",review)[0][:-1])\n",
    "    \n",
    "def reviews_count(review):\n",
    "    result = re.findall('(?<= the )(.*)(?= user )', review)\n",
    "    if len(result) < 1:\n",
    "        return 0\n",
    "    else:\n",
    "        return int(result[0].replace(',',''))"
   ]
  },
  {
   "cell_type": "code",
   "execution_count": 52,
   "metadata": {
    "ExecuteTime": {
     "end_time": "2022-07-20T09:34:31.833081Z",
     "start_time": "2022-07-20T09:34:31.826099Z"
    }
   },
   "outputs": [],
   "source": [
    "df.rename(columns={'Unnamed: 0':'rank'}, inplace=True)\n",
    "df['price_in_rand'] = df['price_in_rand'].apply(string_to_num)\n",
    "df['discount_price'] = df['discount_price'].apply(string_to_num)\n",
    "df['discount_percent'] = df['discount_percent'].apply(discount_percent)\n",
    "df['release_year'] = df['release_date'].apply(get_year)\n",
    "df['release_month'] = df['release_date'].apply(get_month)\n",
    "df['release_day'] = df['release_date'].apply(get_day)\n",
    "df['percent_of_reviews_positive'] = df['reviews'].apply(percent_positive)\n",
    "df['number_of_reviews'] = df['reviews'].apply(reviews_count)"
   ]
  },
  {
   "cell_type": "code",
   "execution_count": 53,
   "metadata": {
    "ExecuteTime": {
     "end_time": "2022-07-20T09:34:34.015537Z",
     "start_time": "2022-07-20T09:34:33.978131Z"
    }
   },
   "outputs": [
    {
     "name": "stdout",
     "output_type": "stream",
     "text": [
      "<class 'pandas.core.frame.DataFrame'>\n",
      "RangeIndex: 25000 entries, 0 to 24999\n",
      "Data columns (total 17 columns):\n",
      " #   Column                       Non-Null Count  Dtype  \n",
      "---  ------                       --------------  -----  \n",
      " 0   rank                         25000 non-null  int64  \n",
      " 1   title                        25000 non-null  object \n",
      " 2   main_genre                   25000 non-null  object \n",
      " 3   sub_genre                    25000 non-null  object \n",
      " 4   price_in_rand                25000 non-null  float64\n",
      " 5   discount_price               25000 non-null  float64\n",
      " 6   discount_percent             25000 non-null  int64  \n",
      " 7   release_date                 22384 non-null  object \n",
      " 8   reviews                      25000 non-null  object \n",
      " 9   tags                         25000 non-null  object \n",
      " 10  developer                    22946 non-null  object \n",
      " 11  publisher                    21626 non-null  object \n",
      " 12  release_year                 25000 non-null  int64  \n",
      " 13  release_month                25000 non-null  object \n",
      " 14  release_day                  25000 non-null  int64  \n",
      " 15  percent_of_reviews_positive  25000 non-null  int64  \n",
      " 16  number_of_reviews            25000 non-null  int64  \n",
      "dtypes: float64(2), int64(6), object(9)\n",
      "memory usage: 3.2+ MB\n"
     ]
    }
   ],
   "source": [
    "df.info()"
   ]
  },
  {
   "cell_type": "code",
   "execution_count": 55,
   "metadata": {
    "ExecuteTime": {
     "end_time": "2022-07-20T09:35:15.456166Z",
     "start_time": "2022-07-20T09:35:15.436220Z"
    },
    "scrolled": false
   },
   "outputs": [
    {
     "data": {
      "text/html": [
       "<div>\n",
       "<style scoped>\n",
       "    .dataframe tbody tr th:only-of-type {\n",
       "        vertical-align: middle;\n",
       "    }\n",
       "\n",
       "    .dataframe tbody tr th {\n",
       "        vertical-align: top;\n",
       "    }\n",
       "\n",
       "    .dataframe thead th {\n",
       "        text-align: right;\n",
       "    }\n",
       "</style>\n",
       "<table border=\"1\" class=\"dataframe\">\n",
       "  <thead>\n",
       "    <tr style=\"text-align: right;\">\n",
       "      <th></th>\n",
       "      <th>rank</th>\n",
       "      <th>title</th>\n",
       "      <th>main_genre</th>\n",
       "      <th>sub_genre</th>\n",
       "      <th>price_in_rand</th>\n",
       "      <th>discount_price</th>\n",
       "      <th>discount_percent</th>\n",
       "      <th>release_date</th>\n",
       "      <th>reviews</th>\n",
       "      <th>tags</th>\n",
       "      <th>developer</th>\n",
       "      <th>publisher</th>\n",
       "      <th>release_year</th>\n",
       "      <th>release_month</th>\n",
       "      <th>release_day</th>\n",
       "      <th>percent_of_reviews_positive</th>\n",
       "      <th>number_of_reviews</th>\n",
       "    </tr>\n",
       "  </thead>\n",
       "  <tbody>\n",
       "    <tr>\n",
       "      <th>0</th>\n",
       "      <td>0</td>\n",
       "      <td>Stray</td>\n",
       "      <td>Adventure</td>\n",
       "      <td>Indie</td>\n",
       "      <td>195.0</td>\n",
       "      <td>195.0</td>\n",
       "      <td>0</td>\n",
       "      <td>19 Jul, 2022</td>\n",
       "      <td>Overwhelmingly Positive 97% of the 1,712 user ...</td>\n",
       "      <td>['Cats', 'Adventure', 'Cyberpunk', 'Cute', 'Th...</td>\n",
       "      <td>BlueTwelve Studio</td>\n",
       "      <td>Annapurna Interactive</td>\n",
       "      <td>2022</td>\n",
       "      <td>Jul</td>\n",
       "      <td>19</td>\n",
       "      <td>97</td>\n",
       "      <td>1712</td>\n",
       "    </tr>\n",
       "    <tr>\n",
       "      <th>1</th>\n",
       "      <td>1</td>\n",
       "      <td>MultiVersus Founder's Pack - Standard Edition</td>\n",
       "      <td>dont know</td>\n",
       "      <td>dont know</td>\n",
       "      <td>719.0</td>\n",
       "      <td>719.0</td>\n",
       "      <td>0</td>\n",
       "      <td>19 Jul, 2022</td>\n",
       "      <td>Mixed 68% of the 19 user reviews for games in ...</td>\n",
       "      <td>[]</td>\n",
       "      <td>Player First Games</td>\n",
       "      <td>Warner Bros. Games</td>\n",
       "      <td>2022</td>\n",
       "      <td>Jul</td>\n",
       "      <td>19</td>\n",
       "      <td>68</td>\n",
       "      <td>19</td>\n",
       "    </tr>\n",
       "    <tr>\n",
       "      <th>2</th>\n",
       "      <td>2</td>\n",
       "      <td>Dinkum</td>\n",
       "      <td>Indie</td>\n",
       "      <td>RPG,</td>\n",
       "      <td>130.0</td>\n",
       "      <td>117.0</td>\n",
       "      <td>10</td>\n",
       "      <td>14 Jul, 2022</td>\n",
       "      <td>Overwhelmingly Positive 95% of the 1,378 user ...</td>\n",
       "      <td>['Early Access', 'Adventure', 'Co-op', 'Online...</td>\n",
       "      <td>James Bendon</td>\n",
       "      <td>James Bendon</td>\n",
       "      <td>2022</td>\n",
       "      <td>Jul</td>\n",
       "      <td>14</td>\n",
       "      <td>95</td>\n",
       "      <td>1378</td>\n",
       "    </tr>\n",
       "    <tr>\n",
       "      <th>3</th>\n",
       "      <td>3</td>\n",
       "      <td>Raft</td>\n",
       "      <td>Adventure</td>\n",
       "      <td>Indie,</td>\n",
       "      <td>219.0</td>\n",
       "      <td>219.0</td>\n",
       "      <td>0</td>\n",
       "      <td>20 Jun, 2022</td>\n",
       "      <td>Very Positive 93% of the 165,711 user reviews ...</td>\n",
       "      <td>['Survival', 'Open World Survival Craft', 'Mul...</td>\n",
       "      <td>Redbeet Interactive</td>\n",
       "      <td>Axolot Games</td>\n",
       "      <td>2022</td>\n",
       "      <td>Jun</td>\n",
       "      <td>20</td>\n",
       "      <td>93</td>\n",
       "      <td>165711</td>\n",
       "    </tr>\n",
       "    <tr>\n",
       "      <th>4</th>\n",
       "      <td>4</td>\n",
       "      <td>Half-Life: Alyx</td>\n",
       "      <td>Action</td>\n",
       "      <td>Adventure</td>\n",
       "      <td>329.0</td>\n",
       "      <td>164.5</td>\n",
       "      <td>50</td>\n",
       "      <td>23 Mar, 2020</td>\n",
       "      <td>Overwhelmingly Positive 98% of the 62,107 user...</td>\n",
       "      <td>['VR', 'FPS', 'Story Rich', 'Horror', 'Female ...</td>\n",
       "      <td>Valve</td>\n",
       "      <td>Valve</td>\n",
       "      <td>2020</td>\n",
       "      <td>Mar</td>\n",
       "      <td>23</td>\n",
       "      <td>98</td>\n",
       "      <td>62107</td>\n",
       "    </tr>\n",
       "  </tbody>\n",
       "</table>\n",
       "</div>"
      ],
      "text/plain": [
       "   rank                                          title main_genre  sub_genre  \\\n",
       "0     0                                          Stray  Adventure      Indie   \n",
       "1     1  MultiVersus Founder's Pack - Standard Edition  dont know  dont know   \n",
       "2     2                                         Dinkum      Indie       RPG,   \n",
       "3     3                                           Raft  Adventure     Indie,   \n",
       "4     4                                Half-Life: Alyx     Action  Adventure   \n",
       "\n",
       "   price_in_rand  discount_price  discount_percent  release_date  \\\n",
       "0          195.0           195.0                 0  19 Jul, 2022   \n",
       "1          719.0           719.0                 0  19 Jul, 2022   \n",
       "2          130.0           117.0                10  14 Jul, 2022   \n",
       "3          219.0           219.0                 0  20 Jun, 2022   \n",
       "4          329.0           164.5                50  23 Mar, 2020   \n",
       "\n",
       "                                             reviews  \\\n",
       "0  Overwhelmingly Positive 97% of the 1,712 user ...   \n",
       "1  Mixed 68% of the 19 user reviews for games in ...   \n",
       "2  Overwhelmingly Positive 95% of the 1,378 user ...   \n",
       "3  Very Positive 93% of the 165,711 user reviews ...   \n",
       "4  Overwhelmingly Positive 98% of the 62,107 user...   \n",
       "\n",
       "                                                tags            developer  \\\n",
       "0  ['Cats', 'Adventure', 'Cyberpunk', 'Cute', 'Th...    BlueTwelve Studio   \n",
       "1                                                 []   Player First Games   \n",
       "2  ['Early Access', 'Adventure', 'Co-op', 'Online...         James Bendon   \n",
       "3  ['Survival', 'Open World Survival Craft', 'Mul...  Redbeet Interactive   \n",
       "4  ['VR', 'FPS', 'Story Rich', 'Horror', 'Female ...                Valve   \n",
       "\n",
       "               publisher  release_year release_month  release_day  \\\n",
       "0  Annapurna Interactive          2022           Jul           19   \n",
       "1     Warner Bros. Games          2022           Jul           19   \n",
       "2           James Bendon          2022           Jul           14   \n",
       "3           Axolot Games          2022           Jun           20   \n",
       "4                  Valve          2020           Mar           23   \n",
       "\n",
       "   percent_of_reviews_positive  number_of_reviews  \n",
       "0                           97               1712  \n",
       "1                           68                 19  \n",
       "2                           95               1378  \n",
       "3                           93             165711  \n",
       "4                           98              62107  "
      ]
     },
     "execution_count": 55,
     "metadata": {},
     "output_type": "execute_result"
    }
   ],
   "source": [
    "df.head()"
   ]
  },
  {
   "cell_type": "code",
   "execution_count": 56,
   "metadata": {
    "ExecuteTime": {
     "end_time": "2022-07-20T09:35:52.519683Z",
     "start_time": "2022-07-20T09:35:52.303739Z"
    }
   },
   "outputs": [],
   "source": [
    "df.to_csv('games_updated.csv')"
   ]
  },
  {
   "cell_type": "code",
   "execution_count": 59,
   "metadata": {
    "ExecuteTime": {
     "end_time": "2022-07-20T11:38:09.418583Z",
     "start_time": "2022-07-20T11:38:09.410605Z"
    }
   },
   "outputs": [
    {
     "data": {
      "text/plain": [
       "array(['Adventure', 'dont know', 'Indie', 'Action', 'Racing', 'Racin',\n",
       "       'Casual', 'Actio', 'Strateg', 'RP', 'Adventur', 'Simulation',\n",
       "       'Indi', 'Massivel', 'Simulatio', 'Casua', 'RPG', 'Strategy',\n",
       "       'Animatio', 'Audi', 'Fre', 'Utilitie', 'Sports', 'Utilities',\n",
       "       'Educatio', 'Earl', 'Education', 'Violent', 'Sport', 'Desig', 'We',\n",
       "       'Developer', 'Accounting', 'Vide', 'Softwar', 'Phot', 'Gam',\n",
       "       'Sexua'], dtype=object)"
      ]
     },
     "execution_count": 59,
     "metadata": {},
     "output_type": "execute_result"
    }
   ],
   "source": [
    "df['main_genre'].unique()"
   ]
  },
  {
   "cell_type": "code",
   "execution_count": 62,
   "metadata": {
    "ExecuteTime": {
     "end_time": "2022-07-20T11:39:45.892526Z",
     "start_time": "2022-07-20T11:39:45.860107Z"
    }
   },
   "outputs": [
    {
     "data": {
      "text/html": [
       "<div>\n",
       "<style scoped>\n",
       "    .dataframe tbody tr th:only-of-type {\n",
       "        vertical-align: middle;\n",
       "    }\n",
       "\n",
       "    .dataframe tbody tr th {\n",
       "        vertical-align: top;\n",
       "    }\n",
       "\n",
       "    .dataframe thead th {\n",
       "        text-align: right;\n",
       "    }\n",
       "</style>\n",
       "<table border=\"1\" class=\"dataframe\">\n",
       "  <thead>\n",
       "    <tr style=\"text-align: right;\">\n",
       "      <th></th>\n",
       "      <th>rank</th>\n",
       "      <th>title</th>\n",
       "      <th>main_genre</th>\n",
       "      <th>sub_genre</th>\n",
       "      <th>price_in_rand</th>\n",
       "      <th>discount_price</th>\n",
       "      <th>discount_percent</th>\n",
       "      <th>release_date</th>\n",
       "      <th>reviews</th>\n",
       "      <th>tags</th>\n",
       "      <th>developer</th>\n",
       "      <th>publisher</th>\n",
       "      <th>release_year</th>\n",
       "      <th>release_month</th>\n",
       "      <th>release_day</th>\n",
       "      <th>percent_of_reviews_positive</th>\n",
       "      <th>number_of_reviews</th>\n",
       "    </tr>\n",
       "  </thead>\n",
       "  <tbody>\n",
       "    <tr>\n",
       "      <th>122</th>\n",
       "      <td>22</td>\n",
       "      <td>UNO</td>\n",
       "      <td>Casua</td>\n",
       "      <td>Developer:</td>\n",
       "      <td>169.0</td>\n",
       "      <td>67.60</td>\n",
       "      <td>60</td>\n",
       "      <td>3 Jan, 2017</td>\n",
       "      <td>Mostly Positive 73% of the 31,378 user reviews...</td>\n",
       "      <td>['Card Game', 'Multiplayer', 'Tabletop', 'Boar...</td>\n",
       "      <td>Ubisoft Entertainment</td>\n",
       "      <td>Ubisoft Entertainment</td>\n",
       "      <td>2017</td>\n",
       "      <td>Jan,</td>\n",
       "      <td>3</td>\n",
       "      <td>73</td>\n",
       "      <td>31378</td>\n",
       "    </tr>\n",
       "    <tr>\n",
       "      <th>135</th>\n",
       "      <td>35</td>\n",
       "      <td>Among Us</td>\n",
       "      <td>Casua</td>\n",
       "      <td>Developer:</td>\n",
       "      <td>42.0</td>\n",
       "      <td>33.60</td>\n",
       "      <td>20</td>\n",
       "      <td>16 Nov, 2018</td>\n",
       "      <td>Very Positive 92% of the 552,978 user reviews ...</td>\n",
       "      <td>['Multiplayer', 'Online Co-Op', 'Social Deduct...</td>\n",
       "      <td>Innersloth</td>\n",
       "      <td>Innersloth</td>\n",
       "      <td>2018</td>\n",
       "      <td>Nov</td>\n",
       "      <td>16</td>\n",
       "      <td>92</td>\n",
       "      <td>552978</td>\n",
       "    </tr>\n",
       "    <tr>\n",
       "      <th>581</th>\n",
       "      <td>31</td>\n",
       "      <td>MONOPOLY® PLUS</td>\n",
       "      <td>Casua</td>\n",
       "      <td>Developer:</td>\n",
       "      <td>249.0</td>\n",
       "      <td>249.00</td>\n",
       "      <td>0</td>\n",
       "      <td>7 Sep, 2017</td>\n",
       "      <td>Mixed 43% of the 9,371 user reviews for this g...</td>\n",
       "      <td>['Multiplayer', 'Board Game', 'Casual', 'Table...</td>\n",
       "      <td>Ubisoft Pune</td>\n",
       "      <td>Ubisoft</td>\n",
       "      <td>2017</td>\n",
       "      <td>Sep,</td>\n",
       "      <td>7</td>\n",
       "      <td>43</td>\n",
       "      <td>9371</td>\n",
       "    </tr>\n",
       "    <tr>\n",
       "      <th>970</th>\n",
       "      <td>20</td>\n",
       "      <td>Spice&amp;Wolf VR2</td>\n",
       "      <td>Casua</td>\n",
       "      <td>Developer:</td>\n",
       "      <td>150.0</td>\n",
       "      <td>90.00</td>\n",
       "      <td>40</td>\n",
       "      <td>9 Dec, 2020</td>\n",
       "      <td>Very Positive 97% of the 378 user reviews for ...</td>\n",
       "      <td>['VR', 'Cute', 'Anime', 'FMV', 'Fantasy', 'Cas...</td>\n",
       "      <td>SpicyTails</td>\n",
       "      <td>SpicyTails</td>\n",
       "      <td>2020</td>\n",
       "      <td>Dec,</td>\n",
       "      <td>9</td>\n",
       "      <td>97</td>\n",
       "      <td>378</td>\n",
       "    </tr>\n",
       "    <tr>\n",
       "      <th>1794</th>\n",
       "      <td>44</td>\n",
       "      <td>Peggle Pack</td>\n",
       "      <td>Casua</td>\n",
       "      <td>Developer:</td>\n",
       "      <td>82.5</td>\n",
       "      <td>82.50</td>\n",
       "      <td>0</td>\n",
       "      <td>NaN</td>\n",
       "      <td>Overwhelmingly Positive 97% of the 4,675 user ...</td>\n",
       "      <td>[]</td>\n",
       "      <td>PopCap Games, Inc.</td>\n",
       "      <td>PopCap Games, Inc.</td>\n",
       "      <td>0</td>\n",
       "      <td>no date</td>\n",
       "      <td>0</td>\n",
       "      <td>97</td>\n",
       "      <td>4675</td>\n",
       "    </tr>\n",
       "    <tr>\n",
       "      <th>...</th>\n",
       "      <td>...</td>\n",
       "      <td>...</td>\n",
       "      <td>...</td>\n",
       "      <td>...</td>\n",
       "      <td>...</td>\n",
       "      <td>...</td>\n",
       "      <td>...</td>\n",
       "      <td>...</td>\n",
       "      <td>...</td>\n",
       "      <td>...</td>\n",
       "      <td>...</td>\n",
       "      <td>...</td>\n",
       "      <td>...</td>\n",
       "      <td>...</td>\n",
       "      <td>...</td>\n",
       "      <td>...</td>\n",
       "      <td>...</td>\n",
       "    </tr>\n",
       "    <tr>\n",
       "      <th>24883</th>\n",
       "      <td>33</td>\n",
       "      <td>Solitaire Halloween Story</td>\n",
       "      <td>Casua</td>\n",
       "      <td>Developer:</td>\n",
       "      <td>42.0</td>\n",
       "      <td>4.20</td>\n",
       "      <td>90</td>\n",
       "      <td>23 Nov, 2020</td>\n",
       "      <td>No reviews yet</td>\n",
       "      <td>['Casual', 'Card Game', 'Singleplayer', 'Adven...</td>\n",
       "      <td>Creobit</td>\n",
       "      <td>8floor</td>\n",
       "      <td>2020</td>\n",
       "      <td>Nov</td>\n",
       "      <td>23</td>\n",
       "      <td>0</td>\n",
       "      <td>0</td>\n",
       "    </tr>\n",
       "    <tr>\n",
       "      <th>24896</th>\n",
       "      <td>46</td>\n",
       "      <td>Jigsaw Tour</td>\n",
       "      <td>Casua</td>\n",
       "      <td>Developer:</td>\n",
       "      <td>42.0</td>\n",
       "      <td>4.20</td>\n",
       "      <td>90</td>\n",
       "      <td>23 Nov, 2020</td>\n",
       "      <td>No reviews yet</td>\n",
       "      <td>['Casual', 'Puzzle', 'Singleplayer', 'Adventur...</td>\n",
       "      <td>Creobit</td>\n",
       "      <td>8floor</td>\n",
       "      <td>2020</td>\n",
       "      <td>Nov</td>\n",
       "      <td>23</td>\n",
       "      <td>0</td>\n",
       "      <td>0</td>\n",
       "    </tr>\n",
       "    <tr>\n",
       "      <th>24912</th>\n",
       "      <td>12</td>\n",
       "      <td>Egypt Picross Pharaohs Riddles</td>\n",
       "      <td>Casua</td>\n",
       "      <td>Developer:</td>\n",
       "      <td>42.0</td>\n",
       "      <td>4.20</td>\n",
       "      <td>90</td>\n",
       "      <td>31 Aug, 2020</td>\n",
       "      <td>No reviews yet</td>\n",
       "      <td>['Casual', 'Puzzle', 'Adventure', 'Indie', 'Si...</td>\n",
       "      <td>Somer Games</td>\n",
       "      <td>8floor</td>\n",
       "      <td>2020</td>\n",
       "      <td>Aug</td>\n",
       "      <td>31</td>\n",
       "      <td>0</td>\n",
       "      <td>0</td>\n",
       "    </tr>\n",
       "    <tr>\n",
       "      <th>24916</th>\n",
       "      <td>16</td>\n",
       "      <td>Fill And Cross Christmas Riddles</td>\n",
       "      <td>Casua</td>\n",
       "      <td>Developer:</td>\n",
       "      <td>42.0</td>\n",
       "      <td>4.20</td>\n",
       "      <td>90</td>\n",
       "      <td>21 Dec, 2020</td>\n",
       "      <td>No reviews yet</td>\n",
       "      <td>['Casual', 'Puzzle', 'Singleplayer', 'Adventur...</td>\n",
       "      <td>Creobit</td>\n",
       "      <td>8floor</td>\n",
       "      <td>2020</td>\n",
       "      <td>Dec</td>\n",
       "      <td>21</td>\n",
       "      <td>0</td>\n",
       "      <td>0</td>\n",
       "    </tr>\n",
       "    <tr>\n",
       "      <th>24983</th>\n",
       "      <td>33</td>\n",
       "      <td>World of MiniMonsters</td>\n",
       "      <td>Casua</td>\n",
       "      <td>Developer:</td>\n",
       "      <td>58.0</td>\n",
       "      <td>19.72</td>\n",
       "      <td>66</td>\n",
       "      <td>6 Sep, 2021</td>\n",
       "      <td>No reviews yet</td>\n",
       "      <td>['Casual', 'Turn-Based Strategy', 'Creature Co...</td>\n",
       "      <td>LeMachinga</td>\n",
       "      <td>LeMachinga</td>\n",
       "      <td>2021</td>\n",
       "      <td>Sep,</td>\n",
       "      <td>6</td>\n",
       "      <td>0</td>\n",
       "      <td>0</td>\n",
       "    </tr>\n",
       "  </tbody>\n",
       "</table>\n",
       "<p>351 rows × 17 columns</p>\n",
       "</div>"
      ],
      "text/plain": [
       "       rank                             title main_genre   sub_genre  \\\n",
       "122      22                               UNO      Casua  Developer:   \n",
       "135      35                          Among Us      Casua  Developer:   \n",
       "581      31                    MONOPOLY® PLUS      Casua  Developer:   \n",
       "970      20                    Spice&Wolf VR2      Casua  Developer:   \n",
       "1794     44                       Peggle Pack      Casua  Developer:   \n",
       "...     ...                               ...        ...         ...   \n",
       "24883    33         Solitaire Halloween Story      Casua  Developer:   \n",
       "24896    46                       Jigsaw Tour      Casua  Developer:   \n",
       "24912    12    Egypt Picross Pharaohs Riddles      Casua  Developer:   \n",
       "24916    16  Fill And Cross Christmas Riddles      Casua  Developer:   \n",
       "24983    33             World of MiniMonsters      Casua  Developer:   \n",
       "\n",
       "       price_in_rand  discount_price  discount_percent  release_date  \\\n",
       "122            169.0           67.60                60   3 Jan, 2017   \n",
       "135             42.0           33.60                20  16 Nov, 2018   \n",
       "581            249.0          249.00                 0   7 Sep, 2017   \n",
       "970            150.0           90.00                40   9 Dec, 2020   \n",
       "1794            82.5           82.50                 0           NaN   \n",
       "...              ...             ...               ...           ...   \n",
       "24883           42.0            4.20                90  23 Nov, 2020   \n",
       "24896           42.0            4.20                90  23 Nov, 2020   \n",
       "24912           42.0            4.20                90  31 Aug, 2020   \n",
       "24916           42.0            4.20                90  21 Dec, 2020   \n",
       "24983           58.0           19.72                66   6 Sep, 2021   \n",
       "\n",
       "                                                 reviews  \\\n",
       "122    Mostly Positive 73% of the 31,378 user reviews...   \n",
       "135    Very Positive 92% of the 552,978 user reviews ...   \n",
       "581    Mixed 43% of the 9,371 user reviews for this g...   \n",
       "970    Very Positive 97% of the 378 user reviews for ...   \n",
       "1794   Overwhelmingly Positive 97% of the 4,675 user ...   \n",
       "...                                                  ...   \n",
       "24883                                     No reviews yet   \n",
       "24896                                     No reviews yet   \n",
       "24912                                     No reviews yet   \n",
       "24916                                     No reviews yet   \n",
       "24983                                     No reviews yet   \n",
       "\n",
       "                                                    tags  \\\n",
       "122    ['Card Game', 'Multiplayer', 'Tabletop', 'Boar...   \n",
       "135    ['Multiplayer', 'Online Co-Op', 'Social Deduct...   \n",
       "581    ['Multiplayer', 'Board Game', 'Casual', 'Table...   \n",
       "970    ['VR', 'Cute', 'Anime', 'FMV', 'Fantasy', 'Cas...   \n",
       "1794                                                  []   \n",
       "...                                                  ...   \n",
       "24883  ['Casual', 'Card Game', 'Singleplayer', 'Adven...   \n",
       "24896  ['Casual', 'Puzzle', 'Singleplayer', 'Adventur...   \n",
       "24912  ['Casual', 'Puzzle', 'Adventure', 'Indie', 'Si...   \n",
       "24916  ['Casual', 'Puzzle', 'Singleplayer', 'Adventur...   \n",
       "24983  ['Casual', 'Turn-Based Strategy', 'Creature Co...   \n",
       "\n",
       "                   developer              publisher  release_year  \\\n",
       "122    Ubisoft Entertainment  Ubisoft Entertainment          2017   \n",
       "135               Innersloth             Innersloth          2018   \n",
       "581             Ubisoft Pune                Ubisoft          2017   \n",
       "970               SpicyTails             SpicyTails          2020   \n",
       "1794      PopCap Games, Inc.     PopCap Games, Inc.             0   \n",
       "...                      ...                    ...           ...   \n",
       "24883                Creobit                 8floor          2020   \n",
       "24896                Creobit                 8floor          2020   \n",
       "24912            Somer Games                 8floor          2020   \n",
       "24916                Creobit                 8floor          2020   \n",
       "24983             LeMachinga             LeMachinga          2021   \n",
       "\n",
       "      release_month  release_day  percent_of_reviews_positive  \\\n",
       "122            Jan,            3                           73   \n",
       "135             Nov           16                           92   \n",
       "581            Sep,            7                           43   \n",
       "970            Dec,            9                           97   \n",
       "1794        no date            0                           97   \n",
       "...             ...          ...                          ...   \n",
       "24883           Nov           23                            0   \n",
       "24896           Nov           23                            0   \n",
       "24912           Aug           31                            0   \n",
       "24916           Dec           21                            0   \n",
       "24983          Sep,            6                            0   \n",
       "\n",
       "       number_of_reviews  \n",
       "122                31378  \n",
       "135               552978  \n",
       "581                 9371  \n",
       "970                  378  \n",
       "1794                4675  \n",
       "...                  ...  \n",
       "24883                  0  \n",
       "24896                  0  \n",
       "24912                  0  \n",
       "24916                  0  \n",
       "24983                  0  \n",
       "\n",
       "[351 rows x 17 columns]"
      ]
     },
     "execution_count": 62,
     "metadata": {},
     "output_type": "execute_result"
    }
   ],
   "source": [
    "df[df['main_genre']=='Casua']"
   ]
  },
  {
   "cell_type": "code",
   "execution_count": 110,
   "metadata": {
    "ExecuteTime": {
     "end_time": "2022-07-20T13:46:42.689380Z",
     "start_time": "2022-07-20T13:46:42.676414Z"
    }
   },
   "outputs": [],
   "source": [
    "one = 'one'"
   ]
  },
  {
   "cell_type": "code",
   "execution_count": 111,
   "metadata": {
    "ExecuteTime": {
     "end_time": "2022-07-20T13:46:43.130305Z",
     "start_time": "2022-07-20T13:46:43.124321Z"
    }
   },
   "outputs": [
    {
     "data": {
      "text/plain": [
       "'one'"
      ]
     },
     "execution_count": 111,
     "metadata": {},
     "output_type": "execute_result"
    }
   ],
   "source": [
    "one.replace(',','')"
   ]
  }
 ],
 "metadata": {
  "hide_input": false,
  "kernelspec": {
   "display_name": "Python 3",
   "language": "python",
   "name": "python3"
  },
  "language_info": {
   "codemirror_mode": {
    "name": "ipython",
    "version": 3
   },
   "file_extension": ".py",
   "mimetype": "text/x-python",
   "name": "python",
   "nbconvert_exporter": "python",
   "pygments_lexer": "ipython3",
   "version": "3.8.5"
  }
 },
 "nbformat": 4,
 "nbformat_minor": 4
}
