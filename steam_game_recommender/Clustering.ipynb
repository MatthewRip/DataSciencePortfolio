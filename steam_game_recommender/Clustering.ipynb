{
 "cells": [
  {
   "cell_type": "markdown",
   "metadata": {},
   "source": [
    "# Clustering\n",
    "\n",
    "Clustering is an form of unsupervised ML algorithms that we can use to split our dataset into logical groupings called clusters.\n",
    "We will use this technique to create clusters of games, were games which are similar to each other will be grouped together."
   ]
  },
  {
   "cell_type": "code",
   "execution_count": null,
   "metadata": {},
   "outputs": [],
   "source": []
  },
  {
   "cell_type": "code",
   "execution_count": 9,
   "metadata": {
    "ExecuteTime": {
     "end_time": "2022-09-28T10:37:12.386602Z",
     "start_time": "2022-09-28T10:37:12.367652Z"
    }
   },
   "outputs": [
    {
     "name": "stdout",
     "output_type": "stream",
     "text": [
      "pandas - 1.3.3\n",
      "nltk - 3.5\n",
      "sklearn - 0.24.2\n"
     ]
    }
   ],
   "source": [
    "import pandas as pd\n",
    "print(\"pandas - {}\".format(pd.__version__))\n",
    "import nltk\n",
    "print(\"nltk - {}\".format(nltk.__version__))\n",
    "import sklearn\n",
    "print(\"sklearn - {}\".format(sklearn.__version__))"
   ]
  },
  {
   "cell_type": "markdown",
   "metadata": {
    "ExecuteTime": {
     "end_time": "2022-09-28T10:38:08.821092Z",
     "start_time": "2022-09-28T10:38:08.813114Z"
    }
   },
   "source": [
    "Lets import the dataset."
   ]
  },
  {
   "cell_type": "code",
   "execution_count": 41,
   "metadata": {
    "ExecuteTime": {
     "end_time": "2022-09-28T11:16:05.782268Z",
     "start_time": "2022-09-28T11:16:04.292186Z"
    }
   },
   "outputs": [
    {
     "name": "stdout",
     "output_type": "stream",
     "text": [
      "(77811, 22)\n"
     ]
    }
   ],
   "source": [
    "# import dataset\n",
    "df = pd.read_csv(\"steam_game_data.csv\")\n",
    "print(df.shape)"
   ]
  },
  {
   "cell_type": "code",
   "execution_count": 42,
   "metadata": {
    "ExecuteTime": {
     "end_time": "2022-09-28T11:16:08.932416Z",
     "start_time": "2022-09-28T11:16:08.873573Z"
    }
   },
   "outputs": [
    {
     "name": "stdout",
     "output_type": "stream",
     "text": [
      "<class 'pandas.core.frame.DataFrame'>\n",
      "RangeIndex: 77811 entries, 0 to 77810\n",
      "Data columns (total 22 columns):\n",
      " #   Column                       Non-Null Count  Dtype  \n",
      "---  ------                       --------------  -----  \n",
      " 0   Unnamed: 0                   77811 non-null  int64  \n",
      " 1   title                        77804 non-null  object \n",
      " 2   hyperlink                    77811 non-null  object \n",
      " 3   is game                      77811 non-null  object \n",
      " 4   Genres                       77811 non-null  object \n",
      " 5   main_genre                   77811 non-null  object \n",
      " 6   sub_genre                    77811 non-null  object \n",
      " 7   price_in_rand                77811 non-null  float64\n",
      " 8   discount_price               77811 non-null  float64\n",
      " 9   discount_percent             77811 non-null  int64  \n",
      " 10  release_date                 77564 non-null  object \n",
      " 11  reviews                      77811 non-null  object \n",
      " 12  tags                         77811 non-null  object \n",
      " 13  developer                    71889 non-null  object \n",
      " 14  publisher                    65311 non-null  object \n",
      " 15  game description             77811 non-null  object \n",
      " 16  release_year                 77811 non-null  int64  \n",
      " 17  release_month                77811 non-null  object \n",
      " 18  release_day                  77811 non-null  int64  \n",
      " 19  percent_of_reviews_positive  77811 non-null  int64  \n",
      " 20  number_of_reviews            77811 non-null  int64  \n",
      " 21  category                     77811 non-null  object \n",
      "dtypes: float64(2), int64(6), object(14)\n",
      "memory usage: 13.1+ MB\n"
     ]
    }
   ],
   "source": [
    "df.info()"
   ]
  },
  {
   "cell_type": "code",
   "execution_count": 44,
   "metadata": {
    "ExecuteTime": {
     "end_time": "2022-09-28T11:16:57.182075Z",
     "start_time": "2022-09-28T11:16:57.170107Z"
    }
   },
   "outputs": [
    {
     "data": {
      "text/html": [
       "<div>\n",
       "<style scoped>\n",
       "    .dataframe tbody tr th:only-of-type {\n",
       "        vertical-align: middle;\n",
       "    }\n",
       "\n",
       "    .dataframe tbody tr th {\n",
       "        vertical-align: top;\n",
       "    }\n",
       "\n",
       "    .dataframe thead th {\n",
       "        text-align: right;\n",
       "    }\n",
       "</style>\n",
       "<table border=\"1\" class=\"dataframe\">\n",
       "  <thead>\n",
       "    <tr style=\"text-align: right;\">\n",
       "      <th></th>\n",
       "      <th>title</th>\n",
       "      <th>tags</th>\n",
       "    </tr>\n",
       "  </thead>\n",
       "  <tbody>\n",
       "    <tr>\n",
       "      <th>0</th>\n",
       "      <td>Counter-Strike: Global Offensive</td>\n",
       "      <td>['FPS', 'Shooter', 'Multiplayer', 'Competitive...</td>\n",
       "    </tr>\n",
       "    <tr>\n",
       "      <th>1</th>\n",
       "      <td>Apex Legends™</td>\n",
       "      <td>['Free to Play', 'Multiplayer', 'Battle Royale...</td>\n",
       "    </tr>\n",
       "    <tr>\n",
       "      <th>2</th>\n",
       "      <td>Stray</td>\n",
       "      <td>['Cats', 'Adventure', 'Cyberpunk', 'Cute', 'At...</td>\n",
       "    </tr>\n",
       "    <tr>\n",
       "      <th>3</th>\n",
       "      <td>Grand Theft Auto V</td>\n",
       "      <td>['Open World', 'Action', 'Multiplayer', 'Autom...</td>\n",
       "    </tr>\n",
       "    <tr>\n",
       "      <th>4</th>\n",
       "      <td>MultiVersus</td>\n",
       "      <td>['Multiplayer', 'Co-op', '2D Fighter', 'Action...</td>\n",
       "    </tr>\n",
       "  </tbody>\n",
       "</table>\n",
       "</div>"
      ],
      "text/plain": [
       "                              title  \\\n",
       "0  Counter-Strike: Global Offensive   \n",
       "1                     Apex Legends™   \n",
       "2                             Stray   \n",
       "3                Grand Theft Auto V   \n",
       "4                       MultiVersus   \n",
       "\n",
       "                                                tags  \n",
       "0  ['FPS', 'Shooter', 'Multiplayer', 'Competitive...  \n",
       "1  ['Free to Play', 'Multiplayer', 'Battle Royale...  \n",
       "2  ['Cats', 'Adventure', 'Cyberpunk', 'Cute', 'At...  \n",
       "3  ['Open World', 'Action', 'Multiplayer', 'Autom...  \n",
       "4  ['Multiplayer', 'Co-op', '2D Fighter', 'Action...  "
      ]
     },
     "execution_count": 44,
     "metadata": {},
     "output_type": "execute_result"
    }
   ],
   "source": [
    "# keeping relavent features\n",
    "df = df[['title','tags']]\n",
    "df.head()"
   ]
  },
  {
   "cell_type": "markdown",
   "metadata": {},
   "source": [
    "Lets start off by removing all the unwanted punctuation from the features."
   ]
  },
  {
   "cell_type": "code",
   "execution_count": 45,
   "metadata": {
    "ExecuteTime": {
     "end_time": "2022-09-28T11:16:59.789772Z",
     "start_time": "2022-09-28T11:16:59.773815Z"
    }
   },
   "outputs": [
    {
     "name": "stdout",
     "output_type": "stream",
     "text": [
      "!\"#$%&'()*+,-./:;<=>?@[\\]^_`{|}~\n"
     ]
    }
   ],
   "source": [
    "import string\n",
    "print(string.punctuation)\n",
    "\n",
    "def remove_punctuation(post):\n",
    "    return ''.join([l for l in post if l not in string.punctuation])"
   ]
  },
  {
   "cell_type": "code",
   "execution_count": 46,
   "metadata": {
    "ExecuteTime": {
     "end_time": "2022-09-28T11:17:01.344675Z",
     "start_time": "2022-09-28T11:17:00.549739Z"
    }
   },
   "outputs": [],
   "source": [
    "df['tags'] = df['tags'].apply(remove_punctuation)"
   ]
  },
  {
   "cell_type": "code",
   "execution_count": 47,
   "metadata": {
    "ExecuteTime": {
     "end_time": "2022-09-28T11:17:01.651359Z",
     "start_time": "2022-09-28T11:17:01.633407Z"
    }
   },
   "outputs": [
    {
     "data": {
      "text/html": [
       "<div>\n",
       "<style scoped>\n",
       "    .dataframe tbody tr th:only-of-type {\n",
       "        vertical-align: middle;\n",
       "    }\n",
       "\n",
       "    .dataframe tbody tr th {\n",
       "        vertical-align: top;\n",
       "    }\n",
       "\n",
       "    .dataframe thead th {\n",
       "        text-align: right;\n",
       "    }\n",
       "</style>\n",
       "<table border=\"1\" class=\"dataframe\">\n",
       "  <thead>\n",
       "    <tr style=\"text-align: right;\">\n",
       "      <th></th>\n",
       "      <th>title</th>\n",
       "      <th>tags</th>\n",
       "    </tr>\n",
       "  </thead>\n",
       "  <tbody>\n",
       "    <tr>\n",
       "      <th>0</th>\n",
       "      <td>Counter-Strike: Global Offensive</td>\n",
       "      <td>FPS Shooter Multiplayer Competitive Action Tea...</td>\n",
       "    </tr>\n",
       "    <tr>\n",
       "      <th>1</th>\n",
       "      <td>Apex Legends™</td>\n",
       "      <td>Free to Play Multiplayer Battle Royale Shooter...</td>\n",
       "    </tr>\n",
       "    <tr>\n",
       "      <th>2</th>\n",
       "      <td>Stray</td>\n",
       "      <td>Cats Adventure Cyberpunk Cute Atmospheric Expl...</td>\n",
       "    </tr>\n",
       "    <tr>\n",
       "      <th>3</th>\n",
       "      <td>Grand Theft Auto V</td>\n",
       "      <td>Open World Action Multiplayer Automobile Sim C...</td>\n",
       "    </tr>\n",
       "    <tr>\n",
       "      <th>4</th>\n",
       "      <td>MultiVersus</td>\n",
       "      <td>Multiplayer Coop 2D Fighter Action Competitive...</td>\n",
       "    </tr>\n",
       "  </tbody>\n",
       "</table>\n",
       "</div>"
      ],
      "text/plain": [
       "                              title  \\\n",
       "0  Counter-Strike: Global Offensive   \n",
       "1                     Apex Legends™   \n",
       "2                             Stray   \n",
       "3                Grand Theft Auto V   \n",
       "4                       MultiVersus   \n",
       "\n",
       "                                                tags  \n",
       "0  FPS Shooter Multiplayer Competitive Action Tea...  \n",
       "1  Free to Play Multiplayer Battle Royale Shooter...  \n",
       "2  Cats Adventure Cyberpunk Cute Atmospheric Expl...  \n",
       "3  Open World Action Multiplayer Automobile Sim C...  \n",
       "4  Multiplayer Coop 2D Fighter Action Competitive...  "
      ]
     },
     "execution_count": 47,
     "metadata": {},
     "output_type": "execute_result"
    }
   ],
   "source": [
    "df.head()"
   ]
  },
  {
   "cell_type": "code",
   "execution_count": 48,
   "metadata": {
    "ExecuteTime": {
     "end_time": "2022-09-28T11:17:19.217942Z",
     "start_time": "2022-09-28T11:17:19.199990Z"
    }
   },
   "outputs": [
    {
     "data": {
      "text/plain": [
       "'Multiplayer Coop 2D Fighter Action Competitive Beat em up Fantasy Cartoon 2D Platformer 2D Colorful Handdrawn 1980s Comic Book Funny Superhero Memes 1990s Free to Play Character Customization'"
      ]
     },
     "execution_count": 48,
     "metadata": {},
     "output_type": "execute_result"
    }
   ],
   "source": [
    "df['tags'][4]"
   ]
  },
  {
   "cell_type": "code",
   "execution_count": null,
   "metadata": {},
   "outputs": [],
   "source": []
  }
 ],
 "metadata": {
  "kernelspec": {
   "display_name": "Python 3",
   "language": "python",
   "name": "python3"
  },
  "language_info": {
   "codemirror_mode": {
    "name": "ipython",
    "version": 3
   },
   "file_extension": ".py",
   "mimetype": "text/x-python",
   "name": "python",
   "nbconvert_exporter": "python",
   "pygments_lexer": "ipython3",
   "version": "3.8.5"
  }
 },
 "nbformat": 4,
 "nbformat_minor": 4
}
