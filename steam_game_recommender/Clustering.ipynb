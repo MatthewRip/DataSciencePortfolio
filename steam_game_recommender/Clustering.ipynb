{
 "cells": [
  {
   "cell_type": "markdown",
   "metadata": {},
   "source": [
    "# Clustering\n",
    "Clustering is the process of grouping similar data points together such that data points in the same groups are more similar to other data points in that group than those in other groups.\n",
    "\n",
    "The aim is to divide groups with similar characteristics and assign them to clusters. This will give us insights into the underlying patterns of the different groups/clusters."
   ]
  },
  {
   "cell_type": "code",
   "execution_count": null,
   "metadata": {},
   "outputs": [],
   "source": []
  },
  {
   "cell_type": "code",
   "execution_count": 136,
   "metadata": {
    "ExecuteTime": {
     "end_time": "2022-10-05T18:56:48.004734Z",
     "start_time": "2022-10-05T18:56:47.936410Z"
    }
   },
   "outputs": [
    {
     "name": "stdout",
     "output_type": "stream",
     "text": [
      "numpy - 1.19.5\n",
      "pandas - 1.3.3\n",
      "nltk - 3.5\n",
      "sklearn - 0.24.2\n",
      "seaborn - 0.11.0\n"
     ]
    }
   ],
   "source": [
    "import numpy as np\n",
    "print(\"numpy - {}\".format(np.__version__))\n",
    "import pandas as pd\n",
    "print(\"pandas - {}\".format(pd.__version__))\n",
    "import nltk\n",
    "print(\"nltk - {}\".format(nltk.__version__))\n",
    "import sklearn\n",
    "print(\"sklearn - {}\".format(sklearn.__version__))\n",
    "from sklearn.feature_extraction.text import TfidfVectorizer\n",
    "import matplotlib.pyplot as plt\n",
    "# print(\"matplotlib - {}\".format(plt.__version__))\n",
    "import seaborn as sns\n",
    "sns.set(rc={'figure.figsize':(11.7,8.27)})\n",
    "print(\"seaborn - {}\".format(sns.__version__))"
   ]
  },
  {
   "cell_type": "markdown",
   "metadata": {
    "ExecuteTime": {
     "end_time": "2022-09-28T10:38:08.821092Z",
     "start_time": "2022-09-28T10:38:08.813114Z"
    }
   },
   "source": [
    "Lets import the dataset."
   ]
  },
  {
   "cell_type": "code",
   "execution_count": 143,
   "metadata": {
    "ExecuteTime": {
     "end_time": "2022-10-05T18:57:11.011022Z",
     "start_time": "2022-10-05T18:57:09.347791Z"
    }
   },
   "outputs": [
    {
     "name": "stdout",
     "output_type": "stream",
     "text": [
      "(77811, 22)\n"
     ]
    }
   ],
   "source": [
    "# import dataset\n",
    "df = pd.read_csv(\"steam_game_data.csv\")\n",
    "print(df.shape)"
   ]
  },
  {
   "cell_type": "code",
   "execution_count": 144,
   "metadata": {
    "ExecuteTime": {
     "end_time": "2022-10-05T18:57:11.437473Z",
     "start_time": "2022-10-05T18:57:11.378123Z"
    }
   },
   "outputs": [
    {
     "name": "stdout",
     "output_type": "stream",
     "text": [
      "<class 'pandas.core.frame.DataFrame'>\n",
      "RangeIndex: 77811 entries, 0 to 77810\n",
      "Data columns (total 22 columns):\n",
      " #   Column                       Non-Null Count  Dtype  \n",
      "---  ------                       --------------  -----  \n",
      " 0   Unnamed: 0                   77811 non-null  int64  \n",
      " 1   title                        77804 non-null  object \n",
      " 2   hyperlink                    77811 non-null  object \n",
      " 3   is game                      77811 non-null  object \n",
      " 4   Genres                       77811 non-null  object \n",
      " 5   main_genre                   77811 non-null  object \n",
      " 6   sub_genre                    77811 non-null  object \n",
      " 7   price_in_rand                77811 non-null  float64\n",
      " 8   discount_price               77811 non-null  float64\n",
      " 9   discount_percent             77811 non-null  int64  \n",
      " 10  release_date                 77564 non-null  object \n",
      " 11  reviews                      77811 non-null  object \n",
      " 12  tags                         77811 non-null  object \n",
      " 13  developer                    71889 non-null  object \n",
      " 14  publisher                    65311 non-null  object \n",
      " 15  game description             77811 non-null  object \n",
      " 16  release_year                 77811 non-null  int64  \n",
      " 17  release_month                77811 non-null  object \n",
      " 18  release_day                  77811 non-null  int64  \n",
      " 19  percent_of_reviews_positive  77811 non-null  int64  \n",
      " 20  number_of_reviews            77811 non-null  int64  \n",
      " 21  category                     77811 non-null  object \n",
      "dtypes: float64(2), int64(6), object(14)\n",
      "memory usage: 13.1+ MB\n"
     ]
    }
   ],
   "source": [
    "df.info()"
   ]
  },
  {
   "cell_type": "markdown",
   "metadata": {},
   "source": [
    "# Natural Language Processing\n",
    "\n",
    "Lets start off by dropping all the features we will not be using and removing any noise from the data.\n",
    "Also because the data we are using are just tags we do not have to worry about removing stop words.\n",
    "\n",
    "Might look into applying Stemming Lemmatisation to our text."
   ]
  },
  {
   "cell_type": "code",
   "execution_count": 145,
   "metadata": {
    "ExecuteTime": {
     "end_time": "2022-10-05T18:57:12.115844Z",
     "start_time": "2022-10-05T18:57:12.064965Z"
    }
   },
   "outputs": [
    {
     "data": {
      "text/html": [
       "<div>\n",
       "<style scoped>\n",
       "    .dataframe tbody tr th:only-of-type {\n",
       "        vertical-align: middle;\n",
       "    }\n",
       "\n",
       "    .dataframe tbody tr th {\n",
       "        vertical-align: top;\n",
       "    }\n",
       "\n",
       "    .dataframe thead th {\n",
       "        text-align: right;\n",
       "    }\n",
       "</style>\n",
       "<table border=\"1\" class=\"dataframe\">\n",
       "  <thead>\n",
       "    <tr style=\"text-align: right;\">\n",
       "      <th></th>\n",
       "      <th>title</th>\n",
       "      <th>tags</th>\n",
       "    </tr>\n",
       "  </thead>\n",
       "  <tbody>\n",
       "    <tr>\n",
       "      <th>0</th>\n",
       "      <td>Counter-Strike: Global Offensive</td>\n",
       "      <td>['FPS', 'Shooter', 'Multiplayer', 'Competitive...</td>\n",
       "    </tr>\n",
       "    <tr>\n",
       "      <th>1</th>\n",
       "      <td>Apex Legends™</td>\n",
       "      <td>['Free to Play', 'Multiplayer', 'Battle Royale...</td>\n",
       "    </tr>\n",
       "    <tr>\n",
       "      <th>2</th>\n",
       "      <td>Stray</td>\n",
       "      <td>['Cats', 'Adventure', 'Cyberpunk', 'Cute', 'At...</td>\n",
       "    </tr>\n",
       "    <tr>\n",
       "      <th>3</th>\n",
       "      <td>Grand Theft Auto V</td>\n",
       "      <td>['Open World', 'Action', 'Multiplayer', 'Autom...</td>\n",
       "    </tr>\n",
       "    <tr>\n",
       "      <th>4</th>\n",
       "      <td>MultiVersus</td>\n",
       "      <td>['Multiplayer', 'Co-op', '2D Fighter', 'Action...</td>\n",
       "    </tr>\n",
       "  </tbody>\n",
       "</table>\n",
       "</div>"
      ],
      "text/plain": [
       "                              title  \\\n",
       "0  Counter-Strike: Global Offensive   \n",
       "1                     Apex Legends™   \n",
       "2                             Stray   \n",
       "3                Grand Theft Auto V   \n",
       "4                       MultiVersus   \n",
       "\n",
       "                                                tags  \n",
       "0  ['FPS', 'Shooter', 'Multiplayer', 'Competitive...  \n",
       "1  ['Free to Play', 'Multiplayer', 'Battle Royale...  \n",
       "2  ['Cats', 'Adventure', 'Cyberpunk', 'Cute', 'At...  \n",
       "3  ['Open World', 'Action', 'Multiplayer', 'Autom...  \n",
       "4  ['Multiplayer', 'Co-op', '2D Fighter', 'Action...  "
      ]
     },
     "execution_count": 145,
     "metadata": {},
     "output_type": "execute_result"
    }
   ],
   "source": [
    "# keeping relavent features\n",
    "df = df[['title','tags']]\n",
    "df.head()"
   ]
  },
  {
   "cell_type": "markdown",
   "metadata": {},
   "source": [
    "Lets start off by removing all the unwanted punctuation from the features i.e \"noise\"."
   ]
  },
  {
   "cell_type": "code",
   "execution_count": 148,
   "metadata": {
    "ExecuteTime": {
     "end_time": "2022-10-05T18:57:37.521738Z",
     "start_time": "2022-10-05T18:57:37.508772Z"
    }
   },
   "outputs": [
    {
     "name": "stdout",
     "output_type": "stream",
     "text": [
      "!\"#$%&'()*+,-./:;<=>?@[\\]^_`{|}~\n"
     ]
    }
   ],
   "source": [
    "import string\n",
    "print(string.punctuation)\n",
    "\n",
    "# def remove_punctuation(post):\n",
    "#     return ''.join([l for l in post if l not in string.punctuation])\n",
    "\n",
    "def remove_punctuation(tags):\n",
    "    return tags.replace('[','').replace(']','').replace(\"'\",'')"
   ]
  },
  {
   "cell_type": "code",
   "execution_count": 149,
   "metadata": {
    "ExecuteTime": {
     "end_time": "2022-10-05T18:57:38.167582Z",
     "start_time": "2022-10-05T18:57:38.084803Z"
    }
   },
   "outputs": [
    {
     "data": {
      "text/html": [
       "<div>\n",
       "<style scoped>\n",
       "    .dataframe tbody tr th:only-of-type {\n",
       "        vertical-align: middle;\n",
       "    }\n",
       "\n",
       "    .dataframe tbody tr th {\n",
       "        vertical-align: top;\n",
       "    }\n",
       "\n",
       "    .dataframe thead th {\n",
       "        text-align: right;\n",
       "    }\n",
       "</style>\n",
       "<table border=\"1\" class=\"dataframe\">\n",
       "  <thead>\n",
       "    <tr style=\"text-align: right;\">\n",
       "      <th></th>\n",
       "      <th>title</th>\n",
       "      <th>tags</th>\n",
       "    </tr>\n",
       "  </thead>\n",
       "  <tbody>\n",
       "    <tr>\n",
       "      <th>0</th>\n",
       "      <td>Counter-Strike: Global Offensive</td>\n",
       "      <td>FPS, Shooter, Multiplayer, Competitive, Action...</td>\n",
       "    </tr>\n",
       "    <tr>\n",
       "      <th>1</th>\n",
       "      <td>Apex Legends™</td>\n",
       "      <td>Free to Play, Multiplayer, Battle Royale, Shoo...</td>\n",
       "    </tr>\n",
       "    <tr>\n",
       "      <th>2</th>\n",
       "      <td>Stray</td>\n",
       "      <td>Cats, Adventure, Cyberpunk, Cute, Atmospheric,...</td>\n",
       "    </tr>\n",
       "    <tr>\n",
       "      <th>3</th>\n",
       "      <td>Grand Theft Auto V</td>\n",
       "      <td>Open World, Action, Multiplayer, Automobile Si...</td>\n",
       "    </tr>\n",
       "    <tr>\n",
       "      <th>4</th>\n",
       "      <td>MultiVersus</td>\n",
       "      <td>Multiplayer, Co-op, 2D Fighter, Action, Compet...</td>\n",
       "    </tr>\n",
       "  </tbody>\n",
       "</table>\n",
       "</div>"
      ],
      "text/plain": [
       "                              title  \\\n",
       "0  Counter-Strike: Global Offensive   \n",
       "1                     Apex Legends™   \n",
       "2                             Stray   \n",
       "3                Grand Theft Auto V   \n",
       "4                       MultiVersus   \n",
       "\n",
       "                                                tags  \n",
       "0  FPS, Shooter, Multiplayer, Competitive, Action...  \n",
       "1  Free to Play, Multiplayer, Battle Royale, Shoo...  \n",
       "2  Cats, Adventure, Cyberpunk, Cute, Atmospheric,...  \n",
       "3  Open World, Action, Multiplayer, Automobile Si...  \n",
       "4  Multiplayer, Co-op, 2D Fighter, Action, Compet...  "
      ]
     },
     "execution_count": 149,
     "metadata": {},
     "output_type": "execute_result"
    }
   ],
   "source": [
    "# apply funtion to column\n",
    "df['tags'] = df['tags'].apply(remove_punctuation)\n",
    "df.head()"
   ]
  },
  {
   "cell_type": "code",
   "execution_count": 150,
   "metadata": {
    "ExecuteTime": {
     "end_time": "2022-10-05T18:57:40.041813Z",
     "start_time": "2022-10-05T18:57:40.025855Z"
    }
   },
   "outputs": [
    {
     "data": {
      "text/plain": [
       "'Multiplayer, Co-op, 2D Fighter, Action, Competitive, \"Beat em up\", Fantasy, Cartoon, 2D Platformer, 2D, Colorful, Hand-drawn, 1980s, Comic Book, Funny, Superhero, Memes, \"1990s\", Free to Play, Character Customization'"
      ]
     },
     "execution_count": 150,
     "metadata": {},
     "output_type": "execute_result"
    }
   ],
   "source": [
    "df['tags'][4]"
   ]
  },
  {
   "cell_type": "code",
   "execution_count": 151,
   "metadata": {
    "ExecuteTime": {
     "end_time": "2022-10-05T18:57:46.962687Z",
     "start_time": "2022-10-05T18:57:46.927781Z"
    }
   },
   "outputs": [],
   "source": [
    "# return amount of tags a game has\n",
    "def tag_count(tags_column):\n",
    "    tags = tags_column.split()\n",
    "    return len(tags)"
   ]
  },
  {
   "cell_type": "code",
   "execution_count": 152,
   "metadata": {
    "ExecuteTime": {
     "end_time": "2022-10-05T18:57:48.009536Z",
     "start_time": "2022-10-05T18:57:47.920773Z"
    }
   },
   "outputs": [],
   "source": [
    "df['tag count'] = df['tags'].apply(tag_count)"
   ]
  },
  {
   "cell_type": "code",
   "execution_count": 153,
   "metadata": {
    "ExecuteTime": {
     "end_time": "2022-10-05T18:57:48.407553Z",
     "start_time": "2022-10-05T18:57:48.395586Z"
    }
   },
   "outputs": [
    {
     "data": {
      "text/plain": [
       "count    77811.000000\n",
       "mean        12.297503\n",
       "std          9.461670\n",
       "min          0.000000\n",
       "25%          4.000000\n",
       "50%          9.000000\n",
       "75%         22.000000\n",
       "max         37.000000\n",
       "Name: tag count, dtype: float64"
      ]
     },
     "execution_count": 153,
     "metadata": {},
     "output_type": "execute_result"
    }
   ],
   "source": [
    "# summary statistics\n",
    "df['tag count'].describe()"
   ]
  },
  {
   "cell_type": "code",
   "execution_count": 154,
   "metadata": {
    "ExecuteTime": {
     "end_time": "2022-10-05T18:57:51.821910Z",
     "start_time": "2022-10-05T18:57:51.788493Z"
    }
   },
   "outputs": [],
   "source": [
    "# drop tag count\n",
    "df.drop('tag count',axis=1,inplace=True)"
   ]
  },
  {
   "cell_type": "markdown",
   "metadata": {},
   "source": [
    "### Text Feature Extraction\n",
    "\n",
    "TFIDF vectorization"
   ]
  },
  {
   "cell_type": "code",
   "execution_count": 174,
   "metadata": {
    "ExecuteTime": {
     "end_time": "2022-10-05T19:01:57.821924Z",
     "start_time": "2022-10-05T19:01:57.817935Z"
    }
   },
   "outputs": [],
   "source": [
    "# tokenizer\n",
    "def tokenizer(str_input):\n",
    "    tags = str_input.lower().split(',')\n",
    "    return [tag.strip() for tag in tags]"
   ]
  },
  {
   "cell_type": "code",
   "execution_count": 182,
   "metadata": {
    "ExecuteTime": {
     "end_time": "2022-10-05T19:03:57.352183Z",
     "start_time": "2022-10-05T19:03:48.725462Z"
    }
   },
   "outputs": [],
   "source": [
    "# create instance of vectorizer\n",
    "vectorizer = TfidfVectorizer(tokenizer=tokenizer,ngram_range=(1,2),max_features=500) #  ngram_range=(1,2),\n",
    "X = vectorizer.fit_transform(df.tags).toarray()"
   ]
  },
  {
   "cell_type": "code",
   "execution_count": 183,
   "metadata": {
    "ExecuteTime": {
     "end_time": "2022-10-05T19:03:57.399562Z",
     "start_time": "2022-10-05T19:03:57.353179Z"
    }
   },
   "outputs": [
    {
     "data": {
      "text/plain": [
       "(77811, 500)"
      ]
     },
     "execution_count": 183,
     "metadata": {},
     "output_type": "execute_result"
    }
   ],
   "source": [
    "X.shape"
   ]
  },
  {
   "cell_type": "code",
   "execution_count": 184,
   "metadata": {
    "ExecuteTime": {
     "end_time": "2022-10-05T19:03:57.478351Z",
     "start_time": "2022-10-05T19:03:57.401558Z"
    }
   },
   "outputs": [
    {
     "name": "stdout",
     "output_type": "stream",
     "text": [
      "1.0\n",
      "0.0\n"
     ]
    }
   ],
   "source": [
    "# printing mix and mix\n",
    "print(np.max(X))\n",
    "print(np.min(X))"
   ]
  },
  {
   "cell_type": "code",
   "execution_count": 185,
   "metadata": {
    "ExecuteTime": {
     "end_time": "2022-10-05T19:03:57.493311Z",
     "start_time": "2022-10-05T19:03:57.479349Z"
    },
    "scrolled": false
   },
   "outputs": [
    {
     "data": {
      "text/plain": [
       "['\"1990s\"',\n",
       " '\"beat em up\"',\n",
       " '\"shoot em up\"',\n",
       " '1980s',\n",
       " '2.5d',\n",
       " '2d',\n",
       " '2d anime',\n",
       " '2d colorful',\n",
       " '2d cute',\n",
       " '2d fighter',\n",
       " '2d indie',\n",
       " '2d minimalist',\n",
       " '2d pixel graphics',\n",
       " '2d platformer',\n",
       " '2d platformer 2d',\n",
       " '2d retro',\n",
       " '2d singleplayer',\n",
       " '2d top-down',\n",
       " '3d',\n",
       " '3d colorful',\n",
       " '3d cute',\n",
       " '3d fighter',\n",
       " '3d first-person',\n",
       " '3d platformer',\n",
       " '3d third person',\n",
       " '3d vision',\n",
       " '4 player local',\n",
       " '4x',\n",
       " '6dof',\n",
       " 'abstract',\n",
       " 'action',\n",
       " 'action adventure',\n",
       " 'action arcade',\n",
       " 'action casual',\n",
       " 'action fps',\n",
       " 'action free to play',\n",
       " 'action gore',\n",
       " 'action indie',\n",
       " 'action multiplayer',\n",
       " 'action pixel graphics',\n",
       " 'action platformer',\n",
       " 'action roguelike',\n",
       " 'action rpg',\n",
       " 'action shooter',\n",
       " 'action simulation',\n",
       " 'action singleplayer',\n",
       " 'action strategy',\n",
       " 'action violent',\n",
       " 'action-adventure',\n",
       " 'addictive',\n",
       " 'adventure',\n",
       " 'adventure action',\n",
       " 'adventure action-adventure',\n",
       " 'adventure casual',\n",
       " 'adventure free to play',\n",
       " 'adventure horror',\n",
       " 'adventure indie',\n",
       " 'adventure platformer',\n",
       " 'adventure point & click',\n",
       " 'adventure puzzle',\n",
       " 'adventure rpg',\n",
       " 'adventure simulation',\n",
       " 'adventure singleplayer',\n",
       " 'adventure strategy',\n",
       " 'adventure turn-based',\n",
       " 'adventure visual novel',\n",
       " 'agriculture',\n",
       " 'aliens',\n",
       " 'alternate history',\n",
       " 'america',\n",
       " 'animation & modeling',\n",
       " 'anime',\n",
       " 'arcade',\n",
       " 'arcade 2d',\n",
       " 'arcade shooter',\n",
       " 'arena shooter',\n",
       " 'artificial intelligence',\n",
       " 'atmospheric',\n",
       " 'atmospheric adventure',\n",
       " 'atmospheric dark',\n",
       " 'atmospheric realistic',\n",
       " 'atmospheric singleplayer',\n",
       " 'automation',\n",
       " 'automobile sim',\n",
       " 'base building',\n",
       " 'battle royale',\n",
       " 'beautiful',\n",
       " 'blood',\n",
       " 'board game',\n",
       " 'building',\n",
       " 'bullet hell',\n",
       " 'bullet time',\n",
       " 'capitalism',\n",
       " 'card battler',\n",
       " 'card game',\n",
       " 'cartoon',\n",
       " 'cartoon cartoony',\n",
       " 'cartoony',\n",
       " 'cartoony colorful',\n",
       " 'casual']"
      ]
     },
     "execution_count": 185,
     "metadata": {},
     "output_type": "execute_result"
    }
   ],
   "source": [
    "# list of feature names\n",
    "features = vectorizer.get_feature_names()\n",
    "features[:100]"
   ]
  },
  {
   "cell_type": "code",
   "execution_count": 187,
   "metadata": {
    "ExecuteTime": {
     "end_time": "2022-10-05T19:04:23.769763Z",
     "start_time": "2022-10-05T19:04:23.755801Z"
    }
   },
   "outputs": [
    {
     "name": "stdout",
     "output_type": "stream",
     "text": [
      "311244112\n",
      "311.24\n"
     ]
    }
   ],
   "source": [
    "from sys import getsizeof\n",
    "\n",
    "# size in  bytes, mb\n",
    "print(getsizeof(X))\n",
    "print(round(getsizeof(X) / 1000000,2))"
   ]
  },
  {
   "cell_type": "markdown",
   "metadata": {},
   "source": [
    "# Dimensionality reduction"
   ]
  },
  {
   "cell_type": "code",
   "execution_count": 188,
   "metadata": {
    "ExecuteTime": {
     "end_time": "2022-10-05T19:04:29.296774Z",
     "start_time": "2022-10-05T19:04:24.717369Z"
    }
   },
   "outputs": [
    {
     "data": {
      "text/plain": [
       "PCA()"
      ]
     },
     "execution_count": 188,
     "metadata": {},
     "output_type": "execute_result"
    }
   ],
   "source": [
    "from sklearn.decomposition import PCA\n",
    "\n",
    "pca = PCA()\n",
    "pca.fit(X)\n",
    "# pca.explained_variance_ratio_"
   ]
  },
  {
   "cell_type": "code",
   "execution_count": 189,
   "metadata": {
    "ExecuteTime": {
     "end_time": "2022-10-05T19:04:30.575625Z",
     "start_time": "2022-10-05T19:04:29.297772Z"
    }
   },
   "outputs": [
    {
     "data": {
      "text/plain": [
       "Text(0, 0.5, 'Cumulative Explained Variance')"
      ]
     },
     "execution_count": 189,
     "metadata": {},
     "output_type": "execute_result"
    },
    {
     "data": {
      "image/png": "[encoded data removed]",
      "text/plain": [
       "<Figure size 720x576 with 1 Axes>"
      ]
     },
     "metadata": {},
     "output_type": "display_data"
    }
   ],
   "source": [
    "# plot pca variance\n",
    "pca_len = len(pca.explained_variance_ratio_)\n",
    "\n",
    "plt.figure(figsize=(10,8))\n",
    "plt.plot(range(1,pca_len+1),pca.explained_variance_ratio_.cumsum(),marker='o',linestyle='--')\n",
    "plt.title('Explained Variance by Components')\n",
    "plt.xlabel('Number of Components')\n",
    "plt.ylabel('Cumulative Explained Variance')"
   ]
  },
  {
   "cell_type": "markdown",
   "metadata": {},
   "source": [
    "# dont forget to update\n",
    "\n",
    "\n",
    "Here we can see that 100% of the variance is explained by under 80% of the features. So we can drop more then 20% of the features, reducing the complexity of the dataset.\n",
    "<br/>"
   ]
  },
  {
   "cell_type": "code",
   "execution_count": 119,
   "metadata": {
    "ExecuteTime": {
     "end_time": "2022-10-05T17:11:24.020990Z",
     "start_time": "2022-10-05T17:11:23.492555Z"
    }
   },
   "outputs": [
    {
     "data": {
      "text/plain": [
       "Text(0, 0.5, 'Cumulative Explained Variance')"
      ]
     },
     "execution_count": 119,
     "metadata": {},
     "output_type": "execute_result"
    },
    {
     "data": {
      "image/png": "[encoded data removed]",
      "text/plain": [
       "<Figure size 720x576 with 1 Axes>"
      ]
     },
     "metadata": {},
     "output_type": "display_data"
    }
   ],
   "source": [
    "# setting pca to 95%\n",
    "pca = PCA(.95)\n",
    "X = pca.fit_transform(X)\n",
    "\n",
    "\n",
    "# plot pca variance\n",
    "pca_len = len(pca.explained_variance_ratio_)\n",
    "\n",
    "plt.figure(figsize=(10,8))\n",
    "plt.plot(range(1,pca_len+1),pca.explained_variance_ratio_.cumsum(),marker='o',linestyle='--')\n",
    "plt.title('Explained Variance by Components')\n",
    "plt.xlabel('Number of Components')\n",
    "plt.ylabel('Cumulative Explained Variance')"
   ]
  },
  {
   "cell_type": "markdown",
   "metadata": {},
   "source": []
  },
  {
   "cell_type": "markdown",
   "metadata": {},
   "source": [
    "# Kmeans Clustering"
   ]
  },
  {
   "cell_type": "code",
   "execution_count": 120,
   "metadata": {
    "ExecuteTime": {
     "end_time": "2022-10-05T17:11:27.307453Z",
     "start_time": "2022-10-05T17:11:27.302466Z"
    }
   },
   "outputs": [],
   "source": [
    "# avoid kmeans memory leak\n",
    "import os\n",
    "os.environ[\"OMP_NUM_THREADS\"] = '1'\n",
    "\n",
    "from sklearn.cluster import KMeans\n",
    "from sklearn.metrics import silhouette_score"
   ]
  },
  {
   "cell_type": "markdown",
   "metadata": {},
   "source": [
    "### How to determine the optimal K\n",
    "\n",
    "These methods are:\n",
    "\n",
    "- The Elbow Method\n",
    "- The Silhouette Method\n",
    "\n",
    "\n",
    "### The Elbow Method\n",
    "This is probably the most well-known method for determining the optimal number of clusters. \n",
    "\n",
    "Calculate the Within-Cluster-Sum of Squared Errors (WSS) for different values of k, and choose the k for which WSS becomes first starts to diminish. In the plot of WSS-versus-k, this is visible as an elbow.\n",
    "\n",
    "Within-Cluster-Sum of Squared Errors sounds a bit complex. Let’s break it down:\n",
    "\n",
    "- The Squared Error for each point is the square of the distance of the point from its representation i.e. its predicted cluster center.\n",
    "- The WSS score is the sum of these Squared Errors for all the points.\n",
    "- Any distance metric like the Euclidean Distance or the Manhattan Distance can be used.\n",
    "Let us implement this in Python using the sklearn library and our own function for calculating WSS for a range of values for k.\n",
    "\n",
    "\n",
    "### The Silhouette Method\n",
    "\n",
    "\n",
    "The silhouette value measures how similar a point is to its own cluster (cohesion) compared to other clusters (separation).\n",
    "\n",
    "The range of the Silhouette value is between +1 and -1. A high value is desirable and indicates that the point is placed in the correct cluster. If many points have a negative Silhouette value, it may indicate that we have created too many or too few clusters.\n",
    "\n",
    "The Silhouette Value s(i) for each data point i is defined as follows:\n",
    "\n",
    "\n",
    "Source: Wikipedia\n",
    "Note: s(i) is defined to be equal to zero if i is the only point in the cluster. This is to prevent the number of clusters from increasing significantly with many single-point clusters.\n",
    "\n",
    "Here, a(i) is the measure of similarity of the point i to its own cluster. It is measured as the average distance of i from other points in the cluster.\n",
    "\n",
    "\n",
    "Source: Wikipedia\n",
    "Similarly, b(i) is the measure of dissimilarity of i from points in other clusters.\n",
    "\n",
    "\n",
    "Source: Wikipedia\n",
    "d(i, j) is the distance between points i and j. Generally, Euclidean Distance is used as the distance metric.\n",
    "\n",
    "The Silhouette score can be easily calculated in Python using the metrics module of the sklearn library.\n",
    "\n",
    "A high Silhouette Score is desirable. The Silhouette Score reaches its global maximum at the optimal k. This should ideally appear as a peak in the Silhouette Value-versus-k plot."
   ]
  },
  {
   "cell_type": "code",
   "execution_count": 121,
   "metadata": {
    "ExecuteTime": {
     "end_time": "2022-10-05T17:11:27.756297Z",
     "start_time": "2022-10-05T17:11:27.737837Z"
    }
   },
   "outputs": [],
   "source": [
    "# function returns WSS score for k values from 1 to kmax\n",
    "def calculate_WSS(points, kmax):\n",
    "    sse = []\n",
    "    for k in range(1, kmax+1):\n",
    "        kmeans = KMeans(n_clusters=k, random_state=1).fit(points)\n",
    "        centroids = kmeans.cluster_centers_\n",
    "        pred_clusters = kmeans.predict(points)\n",
    "        curr_sse = kmeans.inertia_\n",
    "\n",
    "        sse.append((curr_sse, k))\n",
    "        df = pd.DataFrame(sse, columns=['WSS', 'K'])\n",
    "    return df\n",
    "\n",
    "# function returns SS score for k values from 1 to kmax\n",
    "def calculate_SS(X, kmax):\n",
    "    sil = []\n",
    "    # dissimilarity would not be defined for a single cluster, thus, minimum number of clusters should be 2\n",
    "    for k in range(2, kmax+1):\n",
    "        kmeans = KMeans(n_clusters=k).fit(X)\n",
    "        labels = kmeans.labels_\n",
    "        sil.append((silhouette_score(X, labels, metric='euclidean'), k))\n",
    "\n",
    "    ss = pd.DataFrame(sil, columns=['Silhouette Score', 'K'])\n",
    "    return ss"
   ]
  },
  {
   "cell_type": "code",
   "execution_count": 122,
   "metadata": {
    "ExecuteTime": {
     "end_time": "2022-10-05T18:24:41.322608Z",
     "start_time": "2022-10-05T17:11:28.088467Z"
    }
   },
   "outputs": [
    {
     "name": "stdout",
     "output_type": "stream",
     "text": [
      "(77811, 67)\n"
     ]
    }
   ],
   "source": [
    "# calculate scores\n",
    "# data shape\n",
    "# X = X[:10000]\n",
    "print(X.shape)\n",
    "\n",
    "k = 50\n",
    "wss = calculate_WSS(X, k)\n",
    "ss = calculate_SS(X, k)"
   ]
  },
  {
   "cell_type": "code",
   "execution_count": 123,
   "metadata": {
    "ExecuteTime": {
     "end_time": "2022-10-05T18:24:41.817908Z",
     "start_time": "2022-10-05T18:24:41.349536Z"
    }
   },
   "outputs": [
    {
     "data": {
      "image/png": "[encoded data removed]",
      "text/plain": [
       "<Figure size 842.4x595.44 with 1 Axes>"
      ]
     },
     "metadata": {},
     "output_type": "display_data"
    }
   ],
   "source": [
    "# plotting wss\n",
    "sns.lineplot(data=wss, x='K', y='WSS')\n",
    "plt.title(\"WSS, Elbow Method\",\n",
    "          fontweight='bold', fontsize=20, pad=20)\n",
    "plt.xlabel(\"k\")\n",
    "plt.ylabel(\"WSS\")\n",
    "plt.show()"
   ]
  },
  {
   "cell_type": "code",
   "execution_count": 124,
   "metadata": {
    "ExecuteTime": {
     "end_time": "2022-10-05T18:24:41.988474Z",
     "start_time": "2022-10-05T18:24:41.818905Z"
    }
   },
   "outputs": [
    {
     "data": {
      "image/png": "[encoded data removed]",
      "text/plain": [
       "<Figure size 842.4x595.44 with 1 Axes>"
      ]
     },
     "metadata": {},
     "output_type": "display_data"
    }
   ],
   "source": [
    "# plot ss score\n",
    "sns.lineplot(data=ss, x='K',y='Silhouette Score')\n",
    "plt.title(\"Silhouette Score\",\n",
    "          fontweight='bold', fontsize=20, pad=20)\n",
    "plt.xlabel(\"k\")\n",
    "plt.ylabel(\"SS\")\n",
    "plt.show()"
   ]
  },
  {
   "cell_type": "code",
   "execution_count": 125,
   "metadata": {
    "ExecuteTime": {
     "end_time": "2022-10-05T18:24:42.003434Z",
     "start_time": "2022-10-05T18:24:41.990468Z"
    }
   },
   "outputs": [
    {
     "data": {
      "text/plain": [
       "50"
      ]
     },
     "execution_count": 125,
     "metadata": {},
     "output_type": "execute_result"
    }
   ],
   "source": [
    "# k where ss is at its highest\n",
    "ss_max = ss['Silhouette Score'].max()\n",
    "optimal_k = ss[ss['Silhouette Score'] == ss_max]['K'].item()\n",
    "optimal_k"
   ]
  },
  {
   "cell_type": "markdown",
   "metadata": {},
   "source": [
    "The Elbow Method is more of a decision rule, while the Silhouette is a metric used for validation while clustering. Thus, it can be used in combination with the Elbow Method.\n",
    "\n",
    "Therefore, the Elbow Method and the Silhouette Method are not alternatives to each other for finding the optimal K. Rather they are tools to be used together for a more confident decision."
   ]
  },
  {
   "cell_type": "code",
   "execution_count": 126,
   "metadata": {
    "ExecuteTime": {
     "end_time": "2022-10-05T18:24:58.245518Z",
     "start_time": "2022-10-05T18:24:42.004431Z"
    }
   },
   "outputs": [],
   "source": [
    "kmeans = KMeans(random_state=1,n_clusters=optimal_k,verbose=0)\n",
    "clusters = kmeans.fit_predict(X)"
   ]
  },
  {
   "cell_type": "markdown",
   "metadata": {},
   "source": [
    "Adding which cluster a game belongs too back to the dataset."
   ]
  },
  {
   "cell_type": "code",
   "execution_count": 127,
   "metadata": {
    "ExecuteTime": {
     "end_time": "2022-10-05T18:24:58.275943Z",
     "start_time": "2022-10-05T18:24:58.247513Z"
    }
   },
   "outputs": [],
   "source": [
    "df['cluster'] = clusters"
   ]
  },
  {
   "cell_type": "code",
   "execution_count": 128,
   "metadata": {
    "ExecuteTime": {
     "end_time": "2022-10-05T18:24:58.291900Z",
     "start_time": "2022-10-05T18:24:58.277937Z"
    }
   },
   "outputs": [
    {
     "data": {
      "text/html": [
       "<div>\n",
       "<style scoped>\n",
       "    .dataframe tbody tr th:only-of-type {\n",
       "        vertical-align: middle;\n",
       "    }\n",
       "\n",
       "    .dataframe tbody tr th {\n",
       "        vertical-align: top;\n",
       "    }\n",
       "\n",
       "    .dataframe thead th {\n",
       "        text-align: right;\n",
       "    }\n",
       "</style>\n",
       "<table border=\"1\" class=\"dataframe\">\n",
       "  <thead>\n",
       "    <tr style=\"text-align: right;\">\n",
       "      <th></th>\n",
       "      <th>title</th>\n",
       "      <th>tags</th>\n",
       "      <th>cluster</th>\n",
       "    </tr>\n",
       "  </thead>\n",
       "  <tbody>\n",
       "    <tr>\n",
       "      <th>0</th>\n",
       "      <td>Counter-Strike: Global Offensive</td>\n",
       "      <td>FPS Shooter Multiplayer Competitive Action Tea...</td>\n",
       "      <td>28</td>\n",
       "    </tr>\n",
       "    <tr>\n",
       "      <th>1</th>\n",
       "      <td>Apex Legends™</td>\n",
       "      <td>Free to Play Multiplayer Battle Royale Shooter...</td>\n",
       "      <td>31</td>\n",
       "    </tr>\n",
       "    <tr>\n",
       "      <th>2</th>\n",
       "      <td>Stray</td>\n",
       "      <td>Cats Adventure Cyberpunk Cute Atmospheric Expl...</td>\n",
       "      <td>34</td>\n",
       "    </tr>\n",
       "    <tr>\n",
       "      <th>3</th>\n",
       "      <td>Grand Theft Auto V</td>\n",
       "      <td>Open World Action Multiplayer Automobile Sim C...</td>\n",
       "      <td>31</td>\n",
       "    </tr>\n",
       "    <tr>\n",
       "      <th>4</th>\n",
       "      <td>MultiVersus</td>\n",
       "      <td>Multiplayer Coop 2D Fighter Action Competitive...</td>\n",
       "      <td>7</td>\n",
       "    </tr>\n",
       "  </tbody>\n",
       "</table>\n",
       "</div>"
      ],
      "text/plain": [
       "                              title  \\\n",
       "0  Counter-Strike: Global Offensive   \n",
       "1                     Apex Legends™   \n",
       "2                             Stray   \n",
       "3                Grand Theft Auto V   \n",
       "4                       MultiVersus   \n",
       "\n",
       "                                                tags  cluster  \n",
       "0  FPS Shooter Multiplayer Competitive Action Tea...       28  \n",
       "1  Free to Play Multiplayer Battle Royale Shooter...       31  \n",
       "2  Cats Adventure Cyberpunk Cute Atmospheric Expl...       34  \n",
       "3  Open World Action Multiplayer Automobile Sim C...       31  \n",
       "4  Multiplayer Coop 2D Fighter Action Competitive...        7  "
      ]
     },
     "execution_count": 128,
     "metadata": {},
     "output_type": "execute_result"
    }
   ],
   "source": [
    "df.head()"
   ]
  },
  {
   "cell_type": "code",
   "execution_count": 111,
   "metadata": {
    "ExecuteTime": {
     "end_time": "2022-10-05T17:09:58.927338Z",
     "start_time": "2022-10-05T17:09:58.909375Z"
    }
   },
   "outputs": [
    {
     "data": {
      "text/html": [
       "<div>\n",
       "<style scoped>\n",
       "    .dataframe tbody tr th:only-of-type {\n",
       "        vertical-align: middle;\n",
       "    }\n",
       "\n",
       "    .dataframe tbody tr th {\n",
       "        vertical-align: top;\n",
       "    }\n",
       "\n",
       "    .dataframe thead th {\n",
       "        text-align: right;\n",
       "    }\n",
       "</style>\n",
       "<table border=\"1\" class=\"dataframe\">\n",
       "  <thead>\n",
       "    <tr style=\"text-align: right;\">\n",
       "      <th></th>\n",
       "      <th>title</th>\n",
       "      <th>tags</th>\n",
       "      <th>cluster</th>\n",
       "    </tr>\n",
       "  </thead>\n",
       "  <tbody>\n",
       "    <tr>\n",
       "      <th>0</th>\n",
       "      <td>Counter-Strike: Global Offensive</td>\n",
       "      <td>FPS Shooter Multiplayer Competitive Action Tea...</td>\n",
       "      <td>22</td>\n",
       "    </tr>\n",
       "    <tr>\n",
       "      <th>25</th>\n",
       "      <td>It Takes Two</td>\n",
       "      <td>Coop Multiplayer Split Screen Puzzle Local CoO...</td>\n",
       "      <td>22</td>\n",
       "    </tr>\n",
       "    <tr>\n",
       "      <th>26</th>\n",
       "      <td>F1® 22</td>\n",
       "      <td>Racing Sports Multiplayer Coop VR Singleplayer...</td>\n",
       "      <td>22</td>\n",
       "    </tr>\n",
       "    <tr>\n",
       "      <th>41</th>\n",
       "      <td>Monster Hunter Rise: Sunbreak</td>\n",
       "      <td>Action Multiplayer Coop Character Customizatio...</td>\n",
       "      <td>22</td>\n",
       "    </tr>\n",
       "    <tr>\n",
       "      <th>46</th>\n",
       "      <td>NBA 2K22</td>\n",
       "      <td>Sports Basketball Simulation Realistic Multipl...</td>\n",
       "      <td>22</td>\n",
       "    </tr>\n",
       "    <tr>\n",
       "      <th>49</th>\n",
       "      <td>FIFA 22</td>\n",
       "      <td>Soccer Sports Multiplayer Competitive Football...</td>\n",
       "      <td>22</td>\n",
       "    </tr>\n",
       "    <tr>\n",
       "      <th>56</th>\n",
       "      <td>Garry's Mod</td>\n",
       "      <td>Sandbox Multiplayer Funny Moddable Building Co...</td>\n",
       "      <td>22</td>\n",
       "    </tr>\n",
       "    <tr>\n",
       "      <th>63</th>\n",
       "      <td>Tiny Tina's Wonderlands</td>\n",
       "      <td>Adventure Loot Shooter FPS Multiplayer Fantasy...</td>\n",
       "      <td>22</td>\n",
       "    </tr>\n",
       "    <tr>\n",
       "      <th>69</th>\n",
       "      <td>Cuphead</td>\n",
       "      <td>Difficult Cartoon Platformer Coop Great Soundt...</td>\n",
       "      <td>22</td>\n",
       "    </tr>\n",
       "    <tr>\n",
       "      <th>126</th>\n",
       "      <td>Human: Fall Flat</td>\n",
       "      <td>Coop Funny Puzzle Adventure Physics Action San...</td>\n",
       "      <td>22</td>\n",
       "    </tr>\n",
       "  </tbody>\n",
       "</table>\n",
       "</div>"
      ],
      "text/plain": [
       "                                title  \\\n",
       "0    Counter-Strike: Global Offensive   \n",
       "25                       It Takes Two   \n",
       "26                             F1® 22   \n",
       "41      Monster Hunter Rise: Sunbreak   \n",
       "46                           NBA 2K22   \n",
       "49                            FIFA 22   \n",
       "56                        Garry's Mod   \n",
       "63            Tiny Tina's Wonderlands   \n",
       "69                            Cuphead   \n",
       "126                  Human: Fall Flat   \n",
       "\n",
       "                                                  tags  cluster  \n",
       "0    FPS Shooter Multiplayer Competitive Action Tea...       22  \n",
       "25   Coop Multiplayer Split Screen Puzzle Local CoO...       22  \n",
       "26   Racing Sports Multiplayer Coop VR Singleplayer...       22  \n",
       "41   Action Multiplayer Coop Character Customizatio...       22  \n",
       "46   Sports Basketball Simulation Realistic Multipl...       22  \n",
       "49   Soccer Sports Multiplayer Competitive Football...       22  \n",
       "56   Sandbox Multiplayer Funny Moddable Building Co...       22  \n",
       "63   Adventure Loot Shooter FPS Multiplayer Fantasy...       22  \n",
       "69   Difficult Cartoon Platformer Coop Great Soundt...       22  \n",
       "126  Coop Funny Puzzle Adventure Physics Action San...       22  "
      ]
     },
     "execution_count": 111,
     "metadata": {},
     "output_type": "execute_result"
    }
   ],
   "source": [
    "df[df['cluster']==22].head(10)"
   ]
  },
  {
   "cell_type": "markdown",
   "metadata": {
    "ExecuteTime": {
     "end_time": "2022-10-03T13:40:26.095130Z",
     "start_time": "2022-10-03T13:40:26.086644Z"
    }
   },
   "source": [
    "Here we can see that there is a problem already. CSGO, Stray and raft are completely different styles of games. So the k value is inc"
   ]
  },
  {
   "cell_type": "code",
   "execution_count": null,
   "metadata": {},
   "outputs": [],
   "source": []
  }
 ],
 "metadata": {
  "kernelspec": {
   "display_name": "Python 3",
   "language": "python",
   "name": "python3"
  },
  "language_info": {
   "codemirror_mode": {
    "name": "ipython",
    "version": 3
   },
   "file_extension": ".py",
   "mimetype": "text/x-python",
   "name": "python",
   "nbconvert_exporter": "python",
   "pygments_lexer": "ipython3",
   "version": "3.8.5"
  }
 },
 "nbformat": 4,
 "nbformat_minor": 4
}
