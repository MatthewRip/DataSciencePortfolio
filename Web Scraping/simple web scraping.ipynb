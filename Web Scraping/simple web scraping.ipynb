{
 "cells": [
  {
   "cell_type": "markdown",
   "metadata": {},
   "source": [
    "## Web Scraping \"STEAMCHARTS\"\n",
    "\n",
    "Top Games by current players.\n",
    "\n",
    "\n",
    "https://steamcharts.com/top/p.1"
   ]
  },
  {
   "cell_type": "code",
   "execution_count": 3,
   "metadata": {},
   "outputs": [
    {
     "name": "stdout",
     "output_type": "stream",
     "text": [
      "Requirement already satisfied: beautifulsoup4 in c:\\users\\matthew\\anaconda3\\lib\\site-packages (4.9.3)\n",
      "Requirement already satisfied: soupsieve>1.2; python_version >= \"3.0\" in c:\\users\\matthew\\anaconda3\\lib\\site-packages (from beautifulsoup4) (2.0.1)\n",
      "Requirement already satisfied: lxml in c:\\users\\matthew\\anaconda3\\lib\\site-packages (4.6.1)\n",
      "Requirement already satisfied: requests in c:\\users\\matthew\\anaconda3\\lib\\site-packages (2.24.0)\n",
      "Requirement already satisfied: urllib3!=1.25.0,!=1.25.1,<1.26,>=1.21.1 in c:\\users\\matthew\\anaconda3\\lib\\site-packages (from requests) (1.25.11)\n",
      "Requirement already satisfied: certifi>=2017.4.17 in c:\\users\\matthew\\anaconda3\\lib\\site-packages (from requests) (2021.10.8)\n",
      "Requirement already satisfied: chardet<4,>=3.0.2 in c:\\users\\matthew\\anaconda3\\lib\\site-packages (from requests) (3.0.4)\n",
      "Requirement already satisfied: idna<3,>=2.5 in c:\\users\\matthew\\anaconda3\\lib\\site-packages (from requests) (2.10)\n",
      "Requirement already satisfied: pandas in c:\\users\\matthew\\anaconda3\\lib\\site-packages (1.3.3)\n",
      "Requirement already satisfied: python-dateutil>=2.7.3 in c:\\users\\matthew\\anaconda3\\lib\\site-packages (from pandas) (2.8.1)\n",
      "Requirement already satisfied: pytz>=2017.3 in c:\\users\\matthew\\anaconda3\\lib\\site-packages (from pandas) (2020.1)\n",
      "Requirement already satisfied: numpy>=1.17.3 in c:\\users\\matthew\\appdata\\roaming\\python\\python38\\site-packages (from pandas) (1.19.5)\n",
      "Requirement already satisfied: six>=1.5 in c:\\users\\matthew\\anaconda3\\lib\\site-packages (from python-dateutil>=2.7.3->pandas) (1.15.0)\n"
     ]
    }
   ],
   "source": [
    "# install dependencies\n",
    "!pip install beautifulsoup4\n",
    "!pip install lxml\n",
    "!pip install requests\n",
    "!pip install pandas"
   ]
  },
  {
   "cell_type": "code",
   "execution_count": 6,
   "metadata": {},
   "outputs": [],
   "source": [
    "# import dependencies\n",
    "from bs4 import BeautifulSoup\n",
    "import requests\n",
    "import lxml\n",
    "# import re\n",
    "\n",
    "import pandas as pd\n",
    "import seaborn as sns\n",
    "import matplotlib.pyplot as plt\n",
    "%matplotlib inline"
   ]
  },
  {
   "cell_type": "code",
   "execution_count": 103,
   "metadata": {},
   "outputs": [],
   "source": [
    "# create instance\n",
    "soup = BeautifulSoup()"
   ]
  },
  {
   "cell_type": "code",
   "execution_count": 104,
   "metadata": {},
   "outputs": [],
   "source": [
    "# requesting html text from webpage\n",
    "html_text = requests.get('https://steamcharts.com/top/p.1').text"
   ]
  },
  {
   "cell_type": "code",
   "execution_count": 109,
   "metadata": {},
   "outputs": [
    {
     "data": {
      "text/plain": [
       "'<!DOCTYPE html>\\n<html lang=\"en\">\\n<head>\\n\\n<meta charset=\"utf-8\">\\n<title>Steam Charts - Tracking What\\'s Played</title>\\n<meta name=\"viewport\" content=\"width=device-width, initial-scale=1.0\">\\n<meta name=\"description\" content=\"An ongoing analysis of Steam&#39;s player numbers, seeing what&#39;s been played the most.\">\\n<meta property=\"twitter:account_id\" content=\"4503599630058963\">\\n\\n\\n<script async src=\"https://kumo.network-n.com/dist/app.js\" site=\"steam-charts\"></script>\\n<link href=\"/assets/style-9826'"
      ]
     },
     "execution_count": 109,
     "metadata": {},
     "output_type": "execute_result"
    }
   ],
   "source": [
    "# request code status, 200 is conventional number for request was successful\n",
    "html_text[:500]"
   ]
  },
  {
   "cell_type": "code",
   "execution_count": 106,
   "metadata": {},
   "outputs": [],
   "source": [
    "# create instance\n",
    "soup = BeautifulSoup(html_text, 'lxml')"
   ]
  },
  {
   "cell_type": "code",
   "execution_count": 111,
   "metadata": {},
   "outputs": [],
   "source": [
    "# finding all game names\n",
    "\n",
    "# <td class=\"game-name left\">\n",
    "# \t<a href=\"/app/570\">\n",
    "# \t\tDota 2\n",
    "# \t</a>\n",
    "# </td>\n",
    "names = soup.find_all('td', class_='game-name left')"
   ]
  },
  {
   "cell_type": "code",
   "execution_count": 118,
   "metadata": {},
   "outputs": [
    {
     "data": {
      "text/plain": [
       "'\\n\\n\\t\\t\\t\\t\\t\\tCounter-Strike: Global Offensive\\n\\t\\t\\t\\t\\t\\n'"
      ]
     },
     "execution_count": 118,
     "metadata": {},
     "output_type": "execute_result"
    }
   ],
   "source": [
    "names[0].text"
   ]
  },
  {
   "cell_type": "code",
   "execution_count": 113,
   "metadata": {
    "scrolled": true
   },
   "outputs": [
    {
     "data": {
      "text/plain": [
       "'Counter-Strike: Global Offensive'"
      ]
     },
     "execution_count": 113,
     "metadata": {},
     "output_type": "execute_result"
    }
   ],
   "source": [
    "# removing unwanted characters\n",
    "names[0].text.replace('\\t', '').replace('\\n', '')"
   ]
  },
  {
   "cell_type": "code",
   "execution_count": 114,
   "metadata": {},
   "outputs": [
    {
     "data": {
      "text/plain": [
       "['Counter-Strike: Global Offensive',\n",
       " 'Dota 2',\n",
       " 'PUBG: BATTLEGROUNDS',\n",
       " 'Apex Legends',\n",
       " 'Team Fortress 2']"
      ]
     },
     "execution_count": 114,
     "metadata": {},
     "output_type": "execute_result"
    }
   ],
   "source": [
    "# creating a list of game names\n",
    "game_names = []\n",
    "\n",
    "for name in names:\n",
    "    game_names.append(name.text.replace('\\t', '').replace('\\n', ''))\n",
    "\n",
    "game_names[:5]"
   ]
  },
  {
   "cell_type": "code",
   "execution_count": 116,
   "metadata": {},
   "outputs": [],
   "source": [
    "# searching for numerical data\n",
    "\n",
    "# <td class=\"num\">371,540</td>\n",
    "\n",
    "players = soup.find_all('td', class_='num')"
   ]
  },
  {
   "cell_type": "code",
   "execution_count": 11,
   "metadata": {
    "scrolled": true
   },
   "outputs": [
    {
     "data": {
      "text/plain": [
       "[<td class=\"num\">381546</td>,\n",
       " <td class=\"num period-col peak-concurrent\">864966</td>,\n",
       " <td class=\"num period-col player-hours\">367723140</td>,\n",
       " <td class=\"num\">345928</td>,\n",
       " <td class=\"num period-col peak-concurrent\">752482</td>,\n",
       " <td class=\"num period-col player-hours\">315783023</td>]"
      ]
     },
     "execution_count": 11,
     "metadata": {},
     "output_type": "execute_result"
    }
   ],
   "source": [
    "# return list as [current_players_count, peak_player_count, hours_played]\n",
    "players[:6]"
   ]
  },
  {
   "cell_type": "code",
   "execution_count": 13,
   "metadata": {},
   "outputs": [],
   "source": [
    "# sorting numerical data into respective lists\n",
    "\n",
    "current_players_count = []\n",
    "peak_players_count = []\n",
    "hours_played = []\n",
    "\n",
    "state = 0\n",
    "\n",
    "for i in players:\n",
    "    if state == 0:\n",
    "        current_players_count.append(i.text)\n",
    "        state = 1\n",
    "    elif state == 1:\n",
    "        peak_players_count.append(i.text)\n",
    "        state = 2\n",
    "    elif state == 2:\n",
    "        hours_played.append(i.text)\n",
    "        state = 0"
   ]
  },
  {
   "cell_type": "code",
   "execution_count": 14,
   "metadata": {},
   "outputs": [
    {
     "data": {
      "text/plain": [
       "['381546', '345928', '172929']"
      ]
     },
     "execution_count": 14,
     "metadata": {},
     "output_type": "execute_result"
    }
   ],
   "source": [
    "current_players_count[:3]"
   ]
  },
  {
   "cell_type": "code",
   "execution_count": 15,
   "metadata": {},
   "outputs": [],
   "source": [
    "# creating a dictionary \n",
    "count_dict = {'title': game_names,\n",
    "              'current players': current_players_count,\n",
    "              'peak players': peak_players_count,\n",
    "              'hours played': hours_played}"
   ]
  },
  {
   "cell_type": "code",
   "execution_count": 16,
   "metadata": {},
   "outputs": [],
   "source": [
    "# creating dataframe  \n",
    "df = pd.DataFrame(count_dict)\n",
    "df = df.set_index('title')"
   ]
  },
  {
   "cell_type": "code",
   "execution_count": 17,
   "metadata": {},
   "outputs": [
    {
     "data": {
      "text/html": [
       "<div>\n",
       "<style scoped>\n",
       "    .dataframe tbody tr th:only-of-type {\n",
       "        vertical-align: middle;\n",
       "    }\n",
       "\n",
       "    .dataframe tbody tr th {\n",
       "        vertical-align: top;\n",
       "    }\n",
       "\n",
       "    .dataframe thead th {\n",
       "        text-align: right;\n",
       "    }\n",
       "</style>\n",
       "<table border=\"1\" class=\"dataframe\">\n",
       "  <thead>\n",
       "    <tr style=\"text-align: right;\">\n",
       "      <th></th>\n",
       "      <th>current players</th>\n",
       "      <th>peak players</th>\n",
       "      <th>hours played</th>\n",
       "    </tr>\n",
       "    <tr>\n",
       "      <th>Name</th>\n",
       "      <th></th>\n",
       "      <th></th>\n",
       "      <th></th>\n",
       "    </tr>\n",
       "  </thead>\n",
       "  <tbody>\n",
       "    <tr>\n",
       "      <th>Counter-Strike: Global Offensive</th>\n",
       "      <td>381546</td>\n",
       "      <td>864966</td>\n",
       "      <td>367723140</td>\n",
       "    </tr>\n",
       "    <tr>\n",
       "      <th>Dota 2</th>\n",
       "      <td>345928</td>\n",
       "      <td>752482</td>\n",
       "      <td>315783023</td>\n",
       "    </tr>\n",
       "    <tr>\n",
       "      <th>New World</th>\n",
       "      <td>172929</td>\n",
       "      <td>913027</td>\n",
       "      <td>285678751</td>\n",
       "    </tr>\n",
       "    <tr>\n",
       "      <th>PUBG: BATTLEGROUNDS</th>\n",
       "      <td>162522</td>\n",
       "      <td>393496</td>\n",
       "      <td>114424498</td>\n",
       "    </tr>\n",
       "    <tr>\n",
       "      <th>Apex Legends</th>\n",
       "      <td>113798</td>\n",
       "      <td>246412</td>\n",
       "      <td>92036566</td>\n",
       "    </tr>\n",
       "  </tbody>\n",
       "</table>\n",
       "</div>"
      ],
      "text/plain": [
       "                                 current players peak players hours played\n",
       "Name                                                                      \n",
       "Counter-Strike: Global Offensive          381546       864966    367723140\n",
       "Dota 2                                    345928       752482    315783023\n",
       "New World                                 172929       913027    285678751\n",
       "PUBG: BATTLEGROUNDS                       162522       393496    114424498\n",
       "Apex Legends                              113798       246412     92036566"
      ]
     },
     "execution_count": 17,
     "metadata": {},
     "output_type": "execute_result"
    }
   ],
   "source": [
    "df.head()"
   ]
  },
  {
   "cell_type": "code",
   "execution_count": 91,
   "metadata": {},
   "outputs": [],
   "source": [
    "# https://steamcharts.com/top/p.\n",
    "# how many pages\n",
    "\n",
    "def get_data(url, num_pages=1):\n",
    "\n",
    "    # create instance\n",
    "    soup = BeautifulSoup()\n",
    "\n",
    "    # lists for different variables\n",
    "    game_names = []\n",
    "    current_players_count = []\n",
    "    peak_players_count = []\n",
    "    hours_played = []\n",
    "\n",
    "    for page in range(num_pages + 1):\n",
    "        if page >= 1:\n",
    "            # get html text from web page\n",
    "            html_text = requests.get('{0}{1}'.format(url, page)).text\n",
    "#             print(html_text)\n",
    "            soup = BeautifulSoup(html_text, 'lxml')\n",
    "            # search for game names\n",
    "            names = soup.find_all('td', class_='game-name left')\n",
    "            # remove unwanted characters\n",
    "            # names[0].text.replace('\\t','').replace('\\n','')\n",
    "\n",
    "            # append game names and removed unwanted characters\n",
    "            for name in names:\n",
    "                game_names.append(name.text.replace(\n",
    "                    '\\t', '').replace('\\n', ''))\n",
    "\n",
    "            # filter out all numerical data\n",
    "            players = soup.find_all('td', class_='num')\n",
    "\n",
    "            # numerical data is returns all in one list\n",
    "            # [current_players_count, peak_player_count, hours_played]\n",
    "            # [<td class=\"num\">381546</td>,\n",
    "            #  <td class=\"num period-col peak-concurrent\">864966</td>,\n",
    "            #  <td class=\"num period-col player-hours\">367723140</td>,\n",
    "            #  <td class=\"num\">345928</td>,\n",
    "            #  <td class=\"num period-col peak-concurrent\">752482</td>,\n",
    "            #  <td class=\"num period-col player-hours\">315783023</td>]\n",
    "\n",
    "            # state is to choose which list to add what too\n",
    "            state = 0\n",
    "            # loop through data appending to correct list\n",
    "            for i in players:\n",
    "                if state == 0:\n",
    "                    current_players_count.append(i.text)\n",
    "                    state = 1\n",
    "                elif state == 1:\n",
    "                    peak_players_count.append(i.text)\n",
    "                    state = 2\n",
    "                elif state == 2:\n",
    "                    hours_played.append(i.text)\n",
    "                    state = 0\n",
    "\n",
    "    # dictionary of all the data\n",
    "    data_dict = {'game title': game_names,\n",
    "                 'current players': current_players_count,\n",
    "                 'peak players': peak_players_count,\n",
    "                 'hours played': hours_played}\n",
    "\n",
    "    # create a dataframe\n",
    "    df = pd.DataFrame(data_dict)\n",
    "    df = df.set_index('game title')\n",
    "\n",
    "    return df"
   ]
  },
  {
   "cell_type": "code",
   "execution_count": 92,
   "metadata": {},
   "outputs": [],
   "source": [
    "url = 'https://steamcharts.com/top/p.'\n",
    "df = get_data(url, 4)"
   ]
  },
  {
   "cell_type": "code",
   "execution_count": 93,
   "metadata": {},
   "outputs": [
    {
     "data": {
      "text/html": [
       "<div>\n",
       "<style scoped>\n",
       "    .dataframe tbody tr th:only-of-type {\n",
       "        vertical-align: middle;\n",
       "    }\n",
       "\n",
       "    .dataframe tbody tr th {\n",
       "        vertical-align: top;\n",
       "    }\n",
       "\n",
       "    .dataframe thead th {\n",
       "        text-align: right;\n",
       "    }\n",
       "</style>\n",
       "<table border=\"1\" class=\"dataframe\">\n",
       "  <thead>\n",
       "    <tr style=\"text-align: right;\">\n",
       "      <th></th>\n",
       "      <th>current players</th>\n",
       "      <th>peak players</th>\n",
       "      <th>hours played</th>\n",
       "    </tr>\n",
       "    <tr>\n",
       "      <th>game title</th>\n",
       "      <th></th>\n",
       "      <th></th>\n",
       "      <th></th>\n",
       "    </tr>\n",
       "  </thead>\n",
       "  <tbody>\n",
       "    <tr>\n",
       "      <th>Counter-Strike: Global Offensive</th>\n",
       "      <td>331340</td>\n",
       "      <td>864966</td>\n",
       "      <td>367309270</td>\n",
       "    </tr>\n",
       "    <tr>\n",
       "      <th>Dota 2</th>\n",
       "      <td>328994</td>\n",
       "      <td>752482</td>\n",
       "      <td>317086456</td>\n",
       "    </tr>\n",
       "  </tbody>\n",
       "</table>\n",
       "</div>"
      ],
      "text/plain": [
       "                                 current players peak players hours played\n",
       "game title                                                                \n",
       "Counter-Strike: Global Offensive          331340       864966    367309270\n",
       "Dota 2                                    328994       752482    317086456"
      ]
     },
     "execution_count": 93,
     "metadata": {},
     "output_type": "execute_result"
    }
   ],
   "source": [
    "df.head(2)"
   ]
  },
  {
   "cell_type": "code",
   "execution_count": 94,
   "metadata": {},
   "outputs": [
    {
     "name": "stdout",
     "output_type": "stream",
     "text": [
      "<class 'pandas.core.frame.DataFrame'>\n",
      "Index: 100 entries, Counter-Strike: Global Offensive to Pathfinder: Wrath of the Righteous\n",
      "Data columns (total 3 columns):\n",
      " #   Column           Non-Null Count  Dtype \n",
      "---  ------           --------------  ----- \n",
      " 0   current players  100 non-null    object\n",
      " 1   peak players     100 non-null    object\n",
      " 2   hours played     100 non-null    object\n",
      "dtypes: object(3)\n",
      "memory usage: 3.1+ KB\n"
     ]
    }
   ],
   "source": [
    "df.info()"
   ]
  },
  {
   "cell_type": "markdown",
   "metadata": {},
   "source": [
    "Here we can see that all data types are objects when they should be int's."
   ]
  },
  {
   "cell_type": "code",
   "execution_count": 95,
   "metadata": {},
   "outputs": [],
   "source": [
    "df[\"current players\"] = pd.to_numeric(df[\"current players\"])\n",
    "df[\"peak players\"] = pd.to_numeric(df[\"peak players\"])\n",
    "df[\"hours played\"] = pd.to_numeric(df[\"hours played\"])"
   ]
  },
  {
   "cell_type": "code",
   "execution_count": 96,
   "metadata": {},
   "outputs": [
    {
     "name": "stdout",
     "output_type": "stream",
     "text": [
      "<class 'pandas.core.frame.DataFrame'>\n",
      "Index: 100 entries, Counter-Strike: Global Offensive to Pathfinder: Wrath of the Righteous\n",
      "Data columns (total 3 columns):\n",
      " #   Column           Non-Null Count  Dtype\n",
      "---  ------           --------------  -----\n",
      " 0   current players  100 non-null    int64\n",
      " 1   peak players     100 non-null    int64\n",
      " 2   hours played     100 non-null    int64\n",
      "dtypes: int64(3)\n",
      "memory usage: 3.1+ KB\n"
     ]
    }
   ],
   "source": [
    "df.info()"
   ]
  },
  {
   "cell_type": "code",
   "execution_count": 97,
   "metadata": {},
   "outputs": [
    {
     "data": {
      "text/html": [
       "<div>\n",
       "<style scoped>\n",
       "    .dataframe tbody tr th:only-of-type {\n",
       "        vertical-align: middle;\n",
       "    }\n",
       "\n",
       "    .dataframe tbody tr th {\n",
       "        vertical-align: top;\n",
       "    }\n",
       "\n",
       "    .dataframe thead th {\n",
       "        text-align: right;\n",
       "    }\n",
       "</style>\n",
       "<table border=\"1\" class=\"dataframe\">\n",
       "  <thead>\n",
       "    <tr style=\"text-align: right;\">\n",
       "      <th></th>\n",
       "      <th>current players</th>\n",
       "      <th>peak players</th>\n",
       "      <th>hours played</th>\n",
       "    </tr>\n",
       "  </thead>\n",
       "  <tbody>\n",
       "    <tr>\n",
       "      <th>count</th>\n",
       "      <td>100.000000</td>\n",
       "      <td>100.000000</td>\n",
       "      <td>1.000000e+02</td>\n",
       "    </tr>\n",
       "    <tr>\n",
       "      <th>mean</th>\n",
       "      <td>22700.040000</td>\n",
       "      <td>67195.680000</td>\n",
       "      <td>2.468756e+07</td>\n",
       "    </tr>\n",
       "    <tr>\n",
       "      <th>std</th>\n",
       "      <td>48521.734884</td>\n",
       "      <td>146707.529034</td>\n",
       "      <td>5.600407e+07</td>\n",
       "    </tr>\n",
       "    <tr>\n",
       "      <th>min</th>\n",
       "      <td>4497.000000</td>\n",
       "      <td>5949.000000</td>\n",
       "      <td>1.703666e+06</td>\n",
       "    </tr>\n",
       "    <tr>\n",
       "      <th>25%</th>\n",
       "      <td>6454.250000</td>\n",
       "      <td>19306.000000</td>\n",
       "      <td>6.339647e+06</td>\n",
       "    </tr>\n",
       "    <tr>\n",
       "      <th>50%</th>\n",
       "      <td>9495.500000</td>\n",
       "      <td>27793.500000</td>\n",
       "      <td>1.076644e+07</td>\n",
       "    </tr>\n",
       "    <tr>\n",
       "      <th>75%</th>\n",
       "      <td>16958.750000</td>\n",
       "      <td>51129.750000</td>\n",
       "      <td>1.833588e+07</td>\n",
       "    </tr>\n",
       "    <tr>\n",
       "      <th>max</th>\n",
       "      <td>331340.000000</td>\n",
       "      <td>913027.000000</td>\n",
       "      <td>3.673093e+08</td>\n",
       "    </tr>\n",
       "  </tbody>\n",
       "</table>\n",
       "</div>"
      ],
      "text/plain": [
       "       current players   peak players  hours played\n",
       "count       100.000000     100.000000  1.000000e+02\n",
       "mean      22700.040000   67195.680000  2.468756e+07\n",
       "std       48521.734884  146707.529034  5.600407e+07\n",
       "min        4497.000000    5949.000000  1.703666e+06\n",
       "25%        6454.250000   19306.000000  6.339647e+06\n",
       "50%        9495.500000   27793.500000  1.076644e+07\n",
       "75%       16958.750000   51129.750000  1.833588e+07\n",
       "max      331340.000000  913027.000000  3.673093e+08"
      ]
     },
     "execution_count": 97,
     "metadata": {},
     "output_type": "execute_result"
    }
   ],
   "source": [
    "df.describe()"
   ]
  },
  {
   "cell_type": "markdown",
   "metadata": {},
   "source": [
    "## Most played games"
   ]
  },
  {
   "cell_type": "code",
   "execution_count": 98,
   "metadata": {},
   "outputs": [
    {
     "data": {
      "image/png": "[encoded data removed]",
      "text/plain": [
       "<Figure size 1440x720 with 1 Axes>"
      ]
     },
     "metadata": {
      "needs_background": "light"
     },
     "output_type": "display_data"
    }
   ],
   "source": [
    "# Plotting Data\n",
    "current_players = df.sort_values('current players', ascending=False)[:10]\n",
    "\n",
    "plt.figure(figsize=(20, 10))\n",
    "sns.barplot(data=current_players, x=current_players.index,\n",
    "            y='current players', linewidth=1)\n",
    "\n",
    "plt.title('Top Games by Current Players', size=28, fontweight=\"bold\")\n",
    "plt.show()"
   ]
  },
  {
   "cell_type": "code",
   "execution_count": 99,
   "metadata": {},
   "outputs": [
    {
     "data": {
      "image/png": "[encoded data removed]",
      "text/plain": [
       "<Figure size 1440x720 with 1 Axes>"
      ]
     },
     "metadata": {
      "needs_background": "light"
     },
     "output_type": "display_data"
    }
   ],
   "source": [
    "# Plotting Data\n",
    "peak_players = df.sort_values('peak players', ascending=False)[:10]\n",
    "\n",
    "plt.figure(figsize=(20, 10))\n",
    "sns.barplot(data=peak_players, x=peak_players.index,\n",
    "            y='peak players', linewidth=1)\n",
    "\n",
    "plt.title('Top Games by Peak Players', size=28, fontweight=\"bold\")\n",
    "plt.show()"
   ]
  },
  {
   "cell_type": "code",
   "execution_count": 100,
   "metadata": {},
   "outputs": [
    {
     "data": {
      "image/png": "[encoded data removed]",
      "text/plain": [
       "<Figure size 1440x720 with 1 Axes>"
      ]
     },
     "metadata": {
      "needs_background": "light"
     },
     "output_type": "display_data"
    }
   ],
   "source": [
    "# Plotting Data\n",
    "peak_players = df.sort_values('hours played', ascending=False)[:10]\n",
    "\n",
    "plt.figure(figsize=(20, 10))\n",
    "sns.barplot(data=peak_players, x=peak_players.index,\n",
    "            y='hours played', linewidth=1)\n",
    "\n",
    "plt.title('Top Games by Hours Players', size=28, fontweight=\"bold\")\n",
    "plt.show()"
   ]
  }
 ],
 "metadata": {
  "kernelspec": {
   "display_name": "Python 3",
   "language": "python",
   "name": "python3"
  },
  "language_info": {
   "codemirror_mode": {
    "name": "ipython",
    "version": 3
   },
   "file_extension": ".py",
   "mimetype": "text/x-python",
   "name": "python",
   "nbconvert_exporter": "python",
   "pygments_lexer": "ipython3",
   "version": "3.8.5"
  }
 },
 "nbformat": 4,
 "nbformat_minor": 4
}